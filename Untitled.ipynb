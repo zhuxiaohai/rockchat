{
 "cells": [
  {
   "cell_type": "code",
   "execution_count": 24,
   "id": "b5bba17b-dc6f-48b8-ba4f-0365e9326500",
   "metadata": {},
   "outputs": [],
   "source": [
    "from typing import Annotated, Optional, Literal, Callable\n",
    "from typing_extensions import TypedDict\n",
    "import functools\n",
    "\n",
    "from langchain_core.prompts import ChatPromptTemplate\n",
    "from langchain_core.pydantic_v1 import BaseModel, Field\n",
    "from langchain_core.runnables import Runnable, RunnableConfig, RunnableLambda\n",
    "from langchain_core.messages import ToolMessage, AIMessage, HumanMessage\n",
    "\n",
    "from langchain_openai import AzureChatOpenAI\n",
    "\n",
    "from langgraph.graph.message import AnyMessage, add_messages\n",
    "from langgraph.prebuilt import ToolNode\n",
    "from langgraph.graph import END, StateGraph\n",
    "from langgraph.prebuilt import tools_condition\n",
    "from langgraph.checkpoint.sqlite import SqliteSaver\n",
    "\n",
    "from table_agent import builder as table_agent_builder\n",
    "\n",
    "from qa_agent import builder as qa_agent_builder\n",
    "\n",
    "\n",
    "def handle_tool_error(state) -> dict:\n",
    "    error = state.get(\"error\")\n",
    "    tool_calls = state[\"messages\"][-1].tool_calls\n",
    "    return {\n",
    "        \"messages\": [\n",
    "            ToolMessage(\n",
    "                content=f\"Error: {repr(error)}\\n please fix your mistakes.\",\n",
    "                tool_call_id=tc[\"id\"],\n",
    "            )\n",
    "            for tc in tool_calls\n",
    "        ]\n",
    "    }\n",
    "\n",
    "\n",
    "def create_tool_node_with_fallback(tools: list) -> dict:\n",
    "    return ToolNode(tools).with_fallbacks(\n",
    "        [RunnableLambda(handle_tool_error)], exception_key=\"error\"\n",
    "    )\n",
    "\n",
    "\n",
    "def _print_event(event: dict, _printed: set, max_length=1500):\n",
    "    current_state = event.get(\"dialog_state\")\n",
    "    if current_state:\n",
    "        print(\"Currently in: \", current_state[-1])\n",
    "    message = event.get(\"messages\")\n",
    "    if message:\n",
    "        if isinstance(message, list):\n",
    "            message = message[-1]\n",
    "        if message.id not in _printed:\n",
    "            msg_repr = message.pretty_repr(html=True)\n",
    "            if len(msg_repr) > max_length:\n",
    "                msg_repr = msg_repr[:max_length] + \" ... (truncated)\"\n",
    "            print(msg_repr)\n",
    "            _printed.add(message.id)\n",
    "\n",
    "\n",
    "def update_dialog_stack(left: list[str], right: Optional[str]) -> list[str]:\n",
    "    \"\"\"Push or pop the state.\"\"\"\n",
    "    if right is None:\n",
    "        return left\n",
    "    if right == \"pop\":\n",
    "        return left[:-1]\n",
    "    return left + [right]\n",
    "\n",
    "\n",
    "class State(TypedDict):\n",
    "    messages: Annotated[list[AnyMessage], add_messages]\n",
    "    dialog_state: Annotated[\n",
    "        list[\n",
    "            Literal[\n",
    "                \"PrimaryAssistant\",\n",
    "                \"QATeam\",\n",
    "                \"SearchTableTeam\",\n",
    "            ]\n",
    "        ],\n",
    "        update_dialog_stack,\n",
    "    ]\n",
    "\n",
    "\n",
    "# This node will be shared for exiting all specialized assistants\n",
    "def pop_dialog_state(state: State) -> dict:\n",
    "    \"\"\"Pop the dialog stack and return to the main assistant.\n",
    "\n",
    "    This lets the full graph explicitly track the dialog flow and delegate control\n",
    "    to specific sub-graphs.\n",
    "    \"\"\"\n",
    "    messages = []\n",
    "    return {\n",
    "        \"dialog_state\": \"pop\",\n",
    "        \"messages\": messages,\n",
    "    }\n",
    "\n",
    "\n",
    "def route_primary_assistant(\n",
    "    state: State,\n",
    ") -> Literal[\n",
    "    \"enter_SearchTableTeam\",\n",
    "    \"enter_QATeam\",\n",
    "    \"__end__\",\n",
    "]:\n",
    "    route = tools_condition(state)\n",
    "    if route == END:\n",
    "        return END\n",
    "    tool_calls = state[\"messages\"][-1].tool_calls\n",
    "    if tool_calls:\n",
    "        if tool_calls[0][\"name\"] == ToTableSearchingAssistant.__name__:\n",
    "            return \"enter_SearchTableTeam\"\n",
    "        elif tool_calls[0][\"name\"] == ToQARecordsAssistant.__name__:\n",
    "            return \"enter_QATeam\"\n",
    "    raise ValueError(\"Invalid route\")\n",
    "\n",
    "\n",
    "def route_qa_team(\n",
    "    state: State,\n",
    ") -> Literal[\n",
    "    \"leave_assistant\",\n",
    "    \"leave_assistant_end\",\n",
    "]:\n",
    "    last_message = state[\"messages\"][-1]\n",
    "    if last_message.content == \"搜索结果和问题的匹配度很低，请换个问法\":\n",
    "        status = \"ask_for_human\"\n",
    "    else:\n",
    "        status = \"reset\"\n",
    "    if status == \"ask_for_human\":\n",
    "        return \"leave_assistant\"\n",
    "    else:\n",
    "        return \"leave_assistant_end\"\n",
    "\n",
    "\n",
    "def route_search_table_team(\n",
    "    state: State,\n",
    ") -> Literal[\n",
    "    \"leave_assistant\",\n",
    "    \"leave_assistant_end\",\n",
    "    \"__end__\",\n",
    "]:\n",
    "    last_message = state[\"messages\"][-1]\n",
    "    if last_message.content == \"问题中需要提供型号名称才能完成搜索\":\n",
    "        status = \"retry\"\n",
    "    elif last_message.content == \"搜索结果和问题的匹配度很低，请换个问法\":\n",
    "        status = \"ask_for_human\"\n",
    "    else:\n",
    "        status = \"reset\"\n",
    "    if status == \"retry\":\n",
    "        return \"__end__\"\n",
    "    elif status == \"ask_for_human\":\n",
    "        return \"leave_assistant\"\n",
    "    else:\n",
    "        return \"leave_assistant_end\"\n",
    "\n",
    "\n",
    "def set_entry_point(\n",
    "    state: State,\n",
    ") -> Literal[\n",
    "    \"PrimaryAssistant\",\n",
    "    \"SearchTableTeam\",\n",
    "    \"QATeam\",\n",
    "]:\n",
    "    current_at = state.get(\"dialog_state\", [])\n",
    "    if not current_at:\n",
    "        return \"PrimaryAssistant\"\n",
    "    else:\n",
    "        return current_at[-1]\n",
    "\n",
    "\n",
    "class Assistant:\n",
    "    def __init__(self, runnable: Runnable):\n",
    "        self.runnable = runnable\n",
    "\n",
    "    def __call__(self, state: State, config: RunnableConfig):\n",
    "        while True:\n",
    "            result = self.runnable.invoke(state)\n",
    "            if not result.tool_calls and (\n",
    "                not result.content\n",
    "                or isinstance(result.content, list)\n",
    "                and not result.content[0].get(\"text\")\n",
    "            ):\n",
    "                messages = state[\"messages\"] + [(\"user\", \"Respond with a real output.\")]\n",
    "                state = {**state, \"messages\": messages}\n",
    "                messages = state[\"messages\"] + [(\"user\", \"Respond with a real output.\")]\n",
    "                state = {**state, \"messages\": messages}\n",
    "            else:\n",
    "                break\n",
    "        return {\"messages\": [result]}\n",
    "\n",
    "\n",
    "class ToTableSearchingAssistant(BaseModel):\n",
    "    \"\"\"Transfers work to a specialized assistant capable of searching table about parameter or features\n",
    " of cleaning machines.\"\"\"\n",
    "    query: str = Field(\n",
    "        description=\"Ensure to keep necessary information reflecting on above conversations \"\n",
    "                    \"and keep the language the same as the original.\"\n",
    "    )\n",
    "\n",
    "\n",
    "class ToQARecordsAssistant(BaseModel):\n",
    "    \"\"\"Transfers work to a specialized assistant capable of solving problems or\n",
    " looking up similar historical cases in usage of household cleaning machines.\"\"\"\n",
    "    query: str = Field(\n",
    "        description=\"Ensure to keep necessary information reflecting on above conversations \"\n",
    "                    \"and keep the language the same as the original.\"\n",
    "    )\n",
    "\n",
    "\n",
    "llm = AzureChatOpenAI(\n",
    "    api_version=\"2024-02-15-preview\",\n",
    "    azure_endpoint=\"https://csagent.openai.azure.com/\",\n",
    "    api_key=\"346ac6661e314a9d8b91b6a99202ba42\",\n",
    "    deployment_name=\"gpt-4-8k\",\n",
    ")\n",
    "\n",
    "primary_assistant_prompt = ChatPromptTemplate.from_messages(\n",
    "    [\n",
    "        (\n",
    "            \"system\",\n",
    "            \"You are a helpful customer support assistant for household cleaning machines. \"\n",
    "            \"Reject to answer if a customer queries about something out of this scope. \"\n",
    "            \"When a task takes expertise, delegate it to the appropriate specialized assistant\"\n",
    "            \" by invoking the corresponding tool. \"\n",
    "            \"You have access to the following tools: {tool_names}. \"\n",
    "            'Invoke the tool \"ToTableSearchingAssistant\" and reroute the human problem to it'\n",
    "            ' once you receive a message \"搜索结果和问题的匹配度很低，请换个问法\" from \"QATeam\".',\n",
    "        ),\n",
    "        (\"placeholder\", \"{messages}\"),\n",
    "    ]\n",
    ")\n",
    "primary_assistant_prompt = primary_assistant_prompt.partial(tool_names=\", \".join([\n",
    "    ToQARecordsAssistant.__name__,\n",
    "    ToTableSearchingAssistant.__name__,\n",
    "]))\n",
    "assistant_runnable = primary_assistant_prompt | llm.bind_tools(\n",
    "    [\n",
    "        ToQARecordsAssistant, ToTableSearchingAssistant\n",
    "    ]\n",
    ")\n",
    "\n",
    "\n",
    "def create_entry_node(assistant_name: str) -> Callable:\n",
    "    def entry_node(state: State) -> dict:\n",
    "        tool_call_id = state[\"messages\"][-1].tool_calls[0][\"id\"]\n",
    "        tool_call_name = state[\"messages\"][-1].tool_calls[0][\"name\"]\n",
    "        query = state[\"messages\"][-1].tool_calls[0][\"args\"][\"query\"]\n",
    "        return {\n",
    "            \"messages\": [\n",
    "                ToolMessage(\n",
    "                    content=f\"{assistant_name} is delegated to work as proxy.\"\n",
    "                    f\"\\n\\nquery: {query}\",\n",
    "                    name=tool_call_name,\n",
    "                    tool_call_id=tool_call_id,\n",
    "                ),\n",
    "\n",
    "            ],\n",
    "            \"dialog_state\": assistant_name,\n",
    "        }\n",
    "    return entry_node\n",
    "\n",
    "\n",
    "def get_last_messages(state: State):\n",
    "    last_message = state[\"messages\"][-1]\n",
    "    if isinstance(last_message, ToolMessage) and (last_message.name in [\n",
    "        ToTableSearchingAssistant.__name__,\n",
    "        ToQARecordsAssistant.__name__\n",
    "    ]):\n",
    "        messages = [HumanMessage(content=last_message.content)]\n",
    "    # sender = state.get(\"sender\", None)\n",
    "    # messages = []\n",
    "    # if sender == \"PrimaryAssistant\":\n",
    "    #     for message in state[\"messages\"][::-1]:\n",
    "    #         if isinstance(message, HumanMessage):\n",
    "    #             messages = [HumanMessage(content=message.content)]\n",
    "    #             break\n",
    "    # else:\n",
    "    else:\n",
    "        messages = state[\"messages\"]\n",
    "    return {\"messages\": messages}\n",
    "\n",
    "\n",
    "def join_graph(response: dict, name):\n",
    "    return {\"messages\": [AIMessage(response[\"messages\"][-1].content, name=name)]}\n",
    "\n",
    "\n",
    "# begin of graph\n",
    "builder = StateGraph(State)\n",
    "\n",
    "# search_table subgraph\n",
    "search_table_subgraph = table_agent_builder.compile()\n",
    "# search_table_subgraph = enter_chain | search_table_subgraph\n",
    "search_table_chain = get_last_messages | search_table_subgraph | functools.partial(join_graph, name=\"SearchTableTeam\")\n",
    "builder.add_node(\"SearchTableTeam\", search_table_chain)\n",
    "builder.add_conditional_edges(\n",
    "    \"SearchTableTeam\",\n",
    "    route_search_table_team,\n",
    ")\n",
    "\n",
    "# search_qa_records subgraph\n",
    "qa_agent_subgraph = qa_agent_builder.compile()\n",
    "# qa_agent_subgraph = enter_chain | qa_agent_subgraph\n",
    "qa_agent_chain = get_last_messages | qa_agent_subgraph | functools.partial(join_graph, name=\"QATeam\")\n",
    "builder.add_node(\"QATeam\", qa_agent_chain)\n",
    "builder.add_conditional_edges(\n",
    "    \"QATeam\",\n",
    "    route_qa_team,\n",
    ")\n",
    "\n",
    "# primary_assistant graph\n",
    "# node\n",
    "builder.add_node(\"PrimaryAssistant\", Assistant(assistant_runnable))\n",
    "builder.set_conditional_entry_point(\n",
    "    set_entry_point,\n",
    ")\n",
    "builder.add_node(\n",
    "    \"enter_QATeam\",\n",
    "    create_entry_node(\"QATeam\"),\n",
    ")\n",
    "builder.add_node(\n",
    "    \"enter_SearchTableTeam\",\n",
    "    create_entry_node(\"SearchTableTeam\"),\n",
    ")\n",
    "builder.add_node(\"leave_assistant\", pop_dialog_state)\n",
    "builder.add_node(\"leave_assistant_end\", pop_dialog_state)\n",
    "\n",
    "# edge\n",
    "builder.add_conditional_edges(\n",
    "    \"PrimaryAssistant\",\n",
    "    route_primary_assistant,\n",
    ")\n",
    "builder.add_edge(\"enter_QATeam\", \"QATeam\")\n",
    "builder.add_edge(\"enter_SearchTableTeam\", \"SearchTableTeam\")\n",
    "builder.add_edge(\"leave_assistant\", \"PrimaryAssistant\")\n",
    "builder.add_edge(\"leave_assistant_end\", END)\n",
    "\n",
    "# # Compile graph\n",
    "# memory = SqliteSaver.from_conn_string(\":memory:\")\n",
    "# part_4_graph = builder.compile(\n",
    "#     checkpointer=memory,\n",
    "# )\n"
   ]
  },
  {
   "cell_type": "code",
   "execution_count": 25,
   "id": "15d459cc-149c-42e4-8739-0d7ff8175ab6",
   "metadata": {},
   "outputs": [],
   "source": [
    "# Compile graph\n",
    "memory = SqliteSaver.from_conn_string(\":memory:\")\n",
    "part_4_graph = builder.compile(\n",
    "    checkpointer=memory,\n",
    ")\n"
   ]
  },
  {
   "cell_type": "code",
   "execution_count": 26,
   "id": "be7748db-017d-4aed-b831-2d3a2a8d74bf",
   "metadata": {},
   "outputs": [
    {
     "data": {
      "image/jpeg": "[encoded data removed]",
      "text/plain": [
       "<IPython.core.display.Image object>"
      ]
     },
     "metadata": {},
     "output_type": "display_data"
    }
   ],
   "source": [
    "from IPython.display import Image, display\n",
    "\n",
    "display(Image(part_4_graph.get_graph().draw_mermaid_png()))"
   ]
  },
  {
   "cell_type": "code",
   "execution_count": 4,
   "id": "28cee997-76b8-4c49-95da-43956c507023",
   "metadata": {},
   "outputs": [],
   "source": [
    "import uuid\n",
    "thread_id = str(uuid.uuid4())\n",
    "config = {\n",
    "    \"configurable\": {\n",
    "        # The passenger_id is used in our flight tools to\n",
    "        # fetch the user's flight informatio\n",
    "        # Checkpoints are accessed by thread_id\n",
    "        \"thread_id\": \"198197a5-c74c-463d-8312-ded3f1d94479\",\n",
    "    }\n",
    "}\n",
    "_printed = set()"
   ]
  },
  {
   "cell_type": "code",
   "execution_count": 17,
   "id": "96bb1264-f34a-46ee-946c-1645b11e8d7b",
   "metadata": {},
   "outputs": [
    {
     "name": "stdout",
     "output_type": "stream",
     "text": [
      "================================\u001b[1m Human Message \u001b[0m=================================\n",
      "\n",
      "小楼昨夜又东风\n",
      "==================================\u001b[1m Ai Message \u001b[0m==================================\n",
      "\n",
      "抱歉，我只能回答关于家用清洁机器的问题。对于诗词的查询，您可以尝试使用相关的诗词应用或网站。\n"
     ]
    }
   ],
   "source": [
    "events = part_4_graph.stream(\n",
    "    {\n",
    "        \"messages\": [\n",
    "            # HumanMessage(\n",
    "            #     content=\"G20\"\n",
    "            # )\n",
    "            (\"user\", \"小楼昨夜又东风\")\n",
    "        ],\n",
    "    },\n",
    "    config,\n",
    "    stream_mode=\"values\"\n",
    ")\n",
    "for event in events:\n",
    "    _print_event(event, _printed)"
   ]
  },
  {
   "cell_type": "code",
   "execution_count": null,
   "id": "aaad5aa2-3279-4db7-b2a8-93be3ba91dc8",
   "metadata": {},
   "outputs": [],
   "source": []
  },
  {
   "cell_type": "code",
   "execution_count": 34,
   "id": "cb07ebb9-bdd3-4c78-8fa4-35c50a86b53b",
   "metadata": {},
   "outputs": [],
   "source": [
    "import pandas as pd \n",
    "df = pd.read_csv(\"/root/PycharmProjects/rockchat/data/model_params20240620.csv\")"
   ]
  },
  {
   "cell_type": "code",
   "execution_count": 35,
   "id": "be67847f-7515-40d4-961a-a91289f2b127",
   "metadata": {},
   "outputs": [
    {
     "name": "stdout",
     "output_type": "stream",
     "text": [
      "避障方式\n"
     ]
    }
   ],
   "source": [
    "for col in df.columns:\n",
    "    if col.find(\"障\") >=0:\n",
    "        print(col)"
   ]
  },
  {
   "cell_type": "code",
   "execution_count": 20,
   "id": "b2aed387-d210-4ad9-adc1-9a63ac518839",
   "metadata": {},
   "outputs": [
    {
     "data": {
      "text/plain": [
       "StateSnapshot(values={'messages': [HumanMessage(content='你好', id='5518c999-6ed7-4ae4-adcb-4ae986b10ff6'), AIMessage(content='你好！有什么我可以帮助你的吗？如果你有关于家用清洁机器的问题，我会很乐意帮助你。', response_metadata={'token_usage': {'completion_tokens': 47, 'prompt_tokens': 257, 'total_tokens': 304}, 'model_name': 'gpt-4', 'system_fingerprint': None, 'prompt_filter_results': [{'prompt_index': 0, 'content_filter_results': {'hate': {'filtered': False, 'severity': 'safe'}, 'self_harm': {'filtered': False, 'severity': 'safe'}, 'sexual': {'filtered': False, 'severity': 'safe'}, 'violence': {'filtered': False, 'severity': 'safe'}}}], 'finish_reason': 'stop', 'logprobs': None, 'content_filter_results': {'hate': {'filtered': False, 'severity': 'safe'}, 'self_harm': {'filtered': False, 'severity': 'safe'}, 'sexual': {'filtered': False, 'severity': 'safe'}, 'violence': {'filtered': False, 'severity': 'safe'}}}, id='run-34a19527-073f-4825-9108-127352156d79-0', usage_metadata={'input_tokens': 257, 'output_tokens': 47, 'total_tokens': 304}), HumanMessage(content='扫地机电源线多长', id='741a7e79-e232-43a8-86b9-680f84b9fcba'), AIMessage(content='', additional_kwargs={'tool_calls': [{'id': 'call_UGMCi3luQfOyu8PDH8TlRh2R', 'function': {'arguments': '{\\n  \"query\": \"扫地机电源线多长\"\\n}', 'name': 'ToTableSearchingAssistant'}, 'type': 'function'}]}, response_metadata={'token_usage': {'completion_tokens': 24, 'prompt_tokens': 320, 'total_tokens': 344}, 'model_name': 'gpt-4', 'system_fingerprint': None, 'prompt_filter_results': [{'prompt_index': 0, 'content_filter_results': {'hate': {'filtered': False, 'severity': 'safe'}, 'self_harm': {'filtered': False, 'severity': 'safe'}, 'sexual': {'filtered': False, 'severity': 'safe'}, 'violence': {'filtered': False, 'severity': 'safe'}}}], 'finish_reason': 'tool_calls', 'logprobs': None, 'content_filter_results': {}}, id='run-bdf02056-61b0-4102-acb7-8d9f931e0176-0', tool_calls=[{'name': 'ToTableSearchingAssistant', 'args': {'query': '扫地机电源线多长'}, 'id': 'call_UGMCi3luQfOyu8PDH8TlRh2R'}], usage_metadata={'input_tokens': 320, 'output_tokens': 24, 'total_tokens': 344}), ToolMessage(content='You, SearchTableTeam, begins to work now. Do not mention who you are - just act as the proxy. Use the query below as input to your tools:\\n\\nquery: 扫地机电源线多长', name='ToTableSearchingAssistant', id='2737bc6b-ad8d-4897-ac68-82c773c4db7d', tool_call_id='call_UGMCi3luQfOyu8PDH8TlRh2R'), AIMessage(content='问题中需要提供型号名称才能完成搜索', name='SearchTableTeam', id='3421bfa1-30bc-4016-8a0c-195554067bd9'), HumanMessage(content='G20', id='e18679bd-0fe2-4dd3-af9d-9041e372ea6b'), AIMessage(content='| 商品型号 | 版本 | 电源线长 |\\n| --- | --- | --- |\\n| g20 | 标准版 | 180cm |\\n| g20 | 上下水版 | 180cm |', name='SearchTableTeam', id='8a54390e-36d1-4906-9e49-d00671c6813c'), HumanMessage(content='它功率多大', id='045e9492-4f1d-4367-8d38-d85c878d3db8'), AIMessage(content='', additional_kwargs={'tool_calls': [{'id': 'call_nZloLpMNI52ysfXwcl6Icjv4', 'function': {'arguments': '{\"query\": \"G20功率多大\"}', 'name': 'ToTableSearchingAssistant'}, 'type': 'function'}]}, response_metadata={'token_usage': {'completion_tokens': 18, 'prompt_tokens': 507, 'total_tokens': 525}, 'model_name': 'gpt-4', 'system_fingerprint': None, 'prompt_filter_results': [{'prompt_index': 0, 'content_filter_results': {'hate': {'filtered': False, 'severity': 'safe'}, 'self_harm': {'filtered': False, 'severity': 'safe'}, 'sexual': {'filtered': False, 'severity': 'safe'}, 'violence': {'filtered': False, 'severity': 'safe'}}}], 'finish_reason': 'tool_calls', 'logprobs': None, 'content_filter_results': {}}, id='run-8e5405ef-cf16-45b2-91c6-2f1da76a7fe9-0', tool_calls=[{'name': 'ToTableSearchingAssistant', 'args': {'query': 'G20功率多大'}, 'id': 'call_nZloLpMNI52ysfXwcl6Icjv4'}], usage_metadata={'input_tokens': 507, 'output_tokens': 18, 'total_tokens': 525}), ToolMessage(content='You, SearchTableTeam, begins to work now. Do not mention who you are - just act as the proxy. Use the query below as input to your tools:\\n\\nquery: G20功率多大', name='ToTableSearchingAssistant', id='7996b639-4a92-4267-83e4-c4420fd26406', tool_call_id='call_nZloLpMNI52ysfXwcl6Icjv4'), AIMessage(content='| 商品型号 | 版本 | 主机额定功率 |\\n| --- | --- | --- |\\n| g20 | 标准版 | 69W |\\n| g20 | 上下水版 | 69W |', name='SearchTableTeam', id='f20675ee-b7cf-40c6-9dac-1e27b4e7684a'), HumanMessage(content='谢谢', id='a849709a-e5b2-4c68-bf69-db2c087491dd'), AIMessage(content='不客气！如果你还有其他关于家用清洁机器的问题，随时向我提问。祝你有个愉快的一天！', response_metadata={'token_usage': {'completion_tokens': 44, 'prompt_tokens': 651, 'total_tokens': 695}, 'model_name': 'gpt-4', 'system_fingerprint': None, 'prompt_filter_results': [{'prompt_index': 0, 'content_filter_results': {'hate': {'filtered': False, 'severity': 'safe'}, 'self_harm': {'filtered': False, 'severity': 'safe'}, 'sexual': {'filtered': False, 'severity': 'safe'}, 'violence': {'filtered': False, 'severity': 'safe'}}}], 'finish_reason': 'stop', 'logprobs': None, 'content_filter_results': {'hate': {'filtered': False, 'severity': 'safe'}, 'self_harm': {'filtered': False, 'severity': 'safe'}, 'sexual': {'filtered': False, 'severity': 'safe'}, 'violence': {'filtered': False, 'severity': 'safe'}}}, id='run-38035421-e5a1-4119-bcfc-d35822bb3534-0', usage_metadata={'input_tokens': 651, 'output_tokens': 44, 'total_tokens': 695}), HumanMessage(content='我的G20报错误1怎么办', id='4c2e4e90-8264-4e21-8070-1cf262131273'), AIMessage(content='', additional_kwargs={'tool_calls': [{'id': 'call_1ttdSKKMrkPKww12mADzct0s', 'function': {'arguments': '{\"query\": \"G20\\\\u62a5\\\\u9519\\\\u8bef1\\\\u600e\\\\u4e48\\\\u529e\"}', 'name': 'ToQARecordsAssistant'}, 'type': 'function'}]}, response_metadata={'token_usage': {'completion_tokens': 36, 'prompt_tokens': 713, 'total_tokens': 749}, 'model_name': 'gpt-4', 'system_fingerprint': None, 'prompt_filter_results': [{'prompt_index': 0, 'content_filter_results': {'hate': {'filtered': False, 'severity': 'safe'}, 'self_harm': {'filtered': False, 'severity': 'safe'}, 'sexual': {'filtered': False, 'severity': 'safe'}, 'violence': {'filtered': False, 'severity': 'safe'}}}], 'finish_reason': 'tool_calls', 'logprobs': None, 'content_filter_results': {}}, id='run-797d4a84-f0e3-417a-8b13-22a192cc33e9-0', tool_calls=[{'name': 'ToQARecordsAssistant', 'args': {'query': 'G20报错误1怎么办'}, 'id': 'call_1ttdSKKMrkPKww12mADzct0s'}], usage_metadata={'input_tokens': 713, 'output_tokens': 36, 'total_tokens': 749}), ToolMessage(content='You, QATeam, begins to work now. Do not mention who you are - just act as the proxy. Use the query below as input to your tools:\\n\\nquery: G20报错误1怎么办', name='ToQARecordsAssistant', id='c0c14483-e3a9-4a76-951d-2a2f8eb72a00', tool_call_id='call_1ttdSKKMrkPKww12mADzct0s'), AIMessage(content='搜索结果和问题的匹配度很低，请换个问法', name='QATeam', id='d55bedd2-1631-4a01-ae7a-bff4a2f308ce'), AIMessage(content='', additional_kwargs={'tool_calls': [{'id': 'call_IyEMwSvwlgz99scj3SGSuwjm', 'function': {'arguments': '{\"query\": \"G20\\\\u62a5\\\\u9519\\\\u8bef1\\\\u600e\\\\u4e48\\\\u529e\"}', 'name': 'ToTableSearchingAssistant'}, 'type': 'function'}]}, response_metadata={'token_usage': {'completion_tokens': 35, 'prompt_tokens': 831, 'total_tokens': 866}, 'model_name': 'gpt-4', 'system_fingerprint': None, 'prompt_filter_results': [{'prompt_index': 0, 'content_filter_results': {'hate': {'filtered': False, 'severity': 'safe'}, 'self_harm': {'filtered': False, 'severity': 'safe'}, 'sexual': {'filtered': False, 'severity': 'safe'}, 'violence': {'filtered': False, 'severity': 'safe'}}}], 'finish_reason': 'tool_calls', 'logprobs': None, 'content_filter_results': {}}, id='run-b982b771-b023-48ad-801f-eb1ed7e7bc94-0', tool_calls=[{'name': 'ToTableSearchingAssistant', 'args': {'query': 'G20报错误1怎么办'}, 'id': 'call_IyEMwSvwlgz99scj3SGSuwjm'}], usage_metadata={'input_tokens': 831, 'output_tokens': 35, 'total_tokens': 866}), ToolMessage(content='You, SearchTableTeam, begins to work now. Do not mention who you are - just act as the proxy. Use the query below as input to your tools:\\n\\nquery: G20报错误1怎么办', name='ToTableSearchingAssistant', id='3b535d31-85b3-43b1-a7ea-4a3ebdc25ad9', tool_call_id='call_IyEMwSvwlgz99scj3SGSuwjm'), AIMessage(content='搜索结果和问题的匹配度很低，请换个问法', name='SearchTableTeam', id='57bce081-629d-48ae-9998-6aa515e2e38b'), AIMessage(content='对不起，我现在无法给出您G20报错1应该如何处理的具体方法。我建议您查询一下产品的用户手册，或者联系制造商的客户服务以获取更专业的帮助。', response_metadata={'token_usage': {'completion_tokens': 62, 'prompt_tokens': 948, 'total_tokens': 1010}, 'model_name': 'gpt-4', 'system_fingerprint': None, 'prompt_filter_results': [{'prompt_index': 0, 'content_filter_results': {'hate': {'filtered': False, 'severity': 'safe'}, 'self_harm': {'filtered': False, 'severity': 'safe'}, 'sexual': {'filtered': False, 'severity': 'safe'}, 'violence': {'filtered': False, 'severity': 'safe'}}}], 'finish_reason': 'stop', 'logprobs': None, 'content_filter_results': {'hate': {'filtered': False, 'severity': 'safe'}, 'self_harm': {'filtered': False, 'severity': 'safe'}, 'sexual': {'filtered': False, 'severity': 'safe'}, 'violence': {'filtered': False, 'severity': 'safe'}}}, id='run-39d35a57-1754-416e-8ce3-6815a86735e0-0', usage_metadata={'input_tokens': 948, 'output_tokens': 62, 'total_tokens': 1010})], 'dialog_state': []}, next=(), config={'configurable': {'thread_id': '198197a5-c74c-463d-8312-ded3f1d94479', 'thread_ts': '1ef3a7e9-58f4-68d6-801e-9ecb8e9238ed'}}, metadata={'source': 'loop', 'step': 30, 'writes': {'PrimaryAssistant': {'messages': [AIMessage(content='对不起，我现在无法给出您G20报错1应该如何处理的具体方法。我建议您查询一下产品的用户手册，或者联系制造商的客户服务以获取更专业的帮助。', response_metadata={'token_usage': {'completion_tokens': 62, 'prompt_tokens': 948, 'total_tokens': 1010}, 'model_name': 'gpt-4', 'system_fingerprint': None, 'prompt_filter_results': [{'prompt_index': 0, 'content_filter_results': {'hate': {'filtered': False, 'severity': 'safe'}, 'self_harm': {'filtered': False, 'severity': 'safe'}, 'sexual': {'filtered': False, 'severity': 'safe'}, 'violence': {'filtered': False, 'severity': 'safe'}}}], 'finish_reason': 'stop', 'logprobs': None, 'content_filter_results': {'hate': {'filtered': False, 'severity': 'safe'}, 'self_harm': {'filtered': False, 'severity': 'safe'}, 'sexual': {'filtered': False, 'severity': 'safe'}, 'violence': {'filtered': False, 'severity': 'safe'}}}, id='run-39d35a57-1754-416e-8ce3-6815a86735e0-0', usage_metadata={'input_tokens': 948, 'output_tokens': 62, 'total_tokens': 1010})]}}}, created_at='2024-07-05T03:28:02.125958+00:00', parent_config={'configurable': {'thread_id': '198197a5-c74c-463d-8312-ded3f1d94479', 'thread_ts': '1ef3a7e9-42b0-66a0-801d-28c8678e8f0a'}})"
      ]
     },
     "execution_count": 20,
     "metadata": {},
     "output_type": "execute_result"
    }
   ],
   "source": [
    "part_4_graph.get_state(config)"
   ]
  },
  {
   "cell_type": "code",
   "execution_count": 27,
   "id": "7281d228-2310-4557-be25-1815448fcc04",
   "metadata": {},
   "outputs": [],
   "source": [
    "from langchain.output_parsers.openai_functions import JsonOutputFunctionsParser\n",
    "def create_team_supervisor(llm, system_prompt, members) -> str:\n",
    "    \"\"\"An LLM-based router.\"\"\"\n",
    "    options = members\n",
    "    function_def = {\n",
    "        \"name\": \"route\",\n",
    "        \"description\": \"Select the next role.\",\n",
    "        \"parameters\": {\n",
    "            \"title\": \"routeSchema\",\n",
    "            \"type\": \"object\",\n",
    "            \"properties\": {\n",
    "                \"next\": {\n",
    "                    \"title\": \"Next\",\n",
    "                    \"anyOf\": [\n",
    "                        {\"enum\": options},\n",
    "                    ],\n",
    "                },\n",
    "            },\n",
    "            \"required\": [\"next\"],\n",
    "        },\n",
    "    }\n",
    "    prompt = ChatPromptTemplate.from_messages(\n",
    "        [\n",
    "            (\"system\", system_prompt),\n",
    "            MessagesPlaceholder(variable_name=\"messages\"),\n",
    "        ]\n",
    "    ).partial(options=str(options), team_members=\", \".join(members))\n",
    "    return (\n",
    "        prompt\n",
    "        | llm.bind_functions(functions=[function_def], function_call=\"route\")\n",
    "        | JsonOutputFunctionsParser()\n",
    "    )"
   ]
  },
  {
   "cell_type": "code",
   "execution_count": 28,
   "id": "6268fac7-dbfe-4ef1-a765-3da5680faace",
   "metadata": {},
   "outputs": [],
   "source": [
    "supervisor_agent = create_team_supervisor(\n",
    "    llm,\n",
    "    \"You are a supervisor tasked with managing a conversation between the\"\n",
    "    \" following workers:  Search, WebScraper. Given the following user request,\"\n",
    "    \" if you can decide who should act next, then select. Each worker will perform a\"\n",
    "    \" task and respond with their results and status. Otherwise just chat by yourself.\", \n",
    "    [\"Search\", \"WebScraper\"],\n",
    ")"
   ]
  },
  {
   "cell_type": "code",
   "execution_count": 29,
   "id": "2fc236d0-479d-4f1d-8ba3-3e32950e05b5",
   "metadata": {},
   "outputs": [
    {
     "data": {
      "text/plain": [
       "{'next': 'Search'}"
      ]
     },
     "execution_count": 29,
     "metadata": {},
     "output_type": "execute_result"
    }
   ],
   "source": [
    "supervisor_agent.invoke({\"messages\": [\"你好\"]})"
   ]
  },
  {
   "cell_type": "code",
   "execution_count": null,
   "id": "4f643538-bdc0-42c7-bf44-9ae25bad5b90",
   "metadata": {},
   "outputs": [],
   "source": []
  },
  {
   "cell_type": "code",
   "execution_count": null,
   "id": "3c80647a-d89a-4a4d-b2d4-c3d6fe9e1a2e",
   "metadata": {},
   "outputs": [],
   "source": []
  },
  {
   "cell_type": "code",
   "execution_count": null,
   "id": "d2053e6b-6a91-4654-a699-e9ad3268cdcd",
   "metadata": {},
   "outputs": [],
   "source": []
  },
  {
   "cell_type": "code",
   "execution_count": 592,
   "id": "dc0ca7ea-e4a1-435d-a512-f43a9a5ab924",
   "metadata": {},
   "outputs": [],
   "source": [
    "from typing import Annotated, List\n",
    "\n",
    "from langchain_community.document_loaders import WebBaseLoader\n",
    "from langchain_community.tools.tavily_search import TavilySearchResults\n",
    "from langchain_core.tools import tool\n",
    "\n",
    "tavily_tool = TavilySearchResults(max_results=5)\n"
   ]
  },
  {
   "cell_type": "code",
   "execution_count": 593,
   "id": "28ecc3be-335d-453c-974e-3f4b79cd66ad",
   "metadata": {},
   "outputs": [],
   "source": [
    "from typing import List, Optional\n",
    "\n",
    "from langchain.agents import AgentExecutor, create_openai_functions_agent\n",
    "from langchain.output_parsers.openai_functions import JsonOutputFunctionsParser\n",
    "from langchain_core.prompts import ChatPromptTemplate, MessagesPlaceholder\n",
    "from langchain_openai import ChatOpenAI\n",
    "\n",
    "from langgraph.graph import END, StateGraph, START\n",
    "\n",
    "\n",
    "def create_agent(\n",
    "    llm: ChatOpenAI,\n",
    "    tools: list,\n",
    "    system_prompt: str,\n",
    ") -> str:\n",
    "    \"\"\"Create a function-calling agent and add it to the graph.\"\"\"\n",
    "    system_prompt += \"\\nWork autonomously according to your specialty, using the tools available to you.\"\n",
    "    \" Do not ask for clarification.\"\n",
    "    \" Your other team members (and other teams) will collaborate with you with their own specialties.\"\n",
    "    \" You are chosen for a reason! You are one of the following team members: {team_members}.\"\n",
    "    prompt = ChatPromptTemplate.from_messages(\n",
    "        [\n",
    "            (\n",
    "                \"system\",\n",
    "                system_prompt,\n",
    "            ),\n",
    "            MessagesPlaceholder(variable_name=\"messages\"),\n",
    "            MessagesPlaceholder(variable_name=\"agent_scratchpad\"),\n",
    "        ]\n",
    "    )\n",
    "    agent = create_openai_functions_agent(llm, tools, prompt)\n",
    "    executor = AgentExecutor(agent=agent, tools=tools)\n",
    "    return executor\n",
    "\n",
    "\n",
    "def agent_node(state, agent, name):\n",
    "    result = agent.invoke(state)\n",
    "    return {\"messages\": [HumanMessage(content=result[\"output\"], name=name)]}\n",
    "\n",
    "\n",
    "def create_team_supervisor(llm: ChatOpenAI, system_prompt, members) -> str:\n",
    "    \"\"\"An LLM-based router.\"\"\"\n",
    "    options = [\"FINISH\"] + members\n",
    "    function_def = {\n",
    "        \"name\": \"route\",\n",
    "        \"description\": \"Select the next role.\",\n",
    "        \"parameters\": {\n",
    "            \"title\": \"routeSchema\",\n",
    "            \"type\": \"object\",\n",
    "            \"properties\": {\n",
    "                \"next\": {\n",
    "                    \"title\": \"Next\",\n",
    "                    \"anyOf\": [\n",
    "                        {\"enum\": options},\n",
    "                    ],\n",
    "                },\n",
    "            },\n",
    "            \"required\": [\"next\"],\n",
    "        },\n",
    "    }\n",
    "    prompt = ChatPromptTemplate.from_messages(\n",
    "        [\n",
    "            (\"system\", system_prompt),\n",
    "            MessagesPlaceholder(variable_name=\"messages\"),\n",
    "            (\n",
    "                \"system\",\n",
    "                \"Given the conversation above, who should act next?\"\n",
    "                \" Or should we FINISH? Select one of: {options}\",\n",
    "            ),\n",
    "        ]\n",
    "    ).partial(options=str(options), team_members=\", \".join(members))\n",
    "    return (\n",
    "        prompt\n",
    "        | llm.bind_functions(functions=[function_def], function_call=\"route\")\n",
    "        | JsonOutputFunctionsParser()\n",
    "    )"
   ]
  },
  {
   "cell_type": "code",
   "execution_count": 594,
   "id": "091a4a43-b665-4bfa-aac6-c4c6c950a18e",
   "metadata": {},
   "outputs": [],
   "source": [
    "import functools\n",
    "import operator\n",
    "\n",
    "from langchain_core.messages import BaseMessage, HumanMessage\n",
    "from langchain_openai.chat_models import ChatOpenAI\n",
    "\n",
    "\n",
    "# ResearchTeam graph state\n",
    "class ResearchTeamState(TypedDict):\n",
    "    # A message is added after each team member finishes\n",
    "    messages: Annotated[List[BaseMessage], operator.add]\n",
    "    # The team members are tracked so they are aware of\n",
    "    # the others' skill-sets\n",
    "    team_members: List[str]\n",
    "    # Used to route work. The supervisor calls a function\n",
    "    # that will update this every time it makes a decision\n",
    "    next: str\n",
    "\n",
    "search_agent = create_agent(\n",
    "    llm,\n",
    "    [tavily_tool],\n",
    "    \"You are a research assistant who can search for up-to-date info using the tavily search engine.\",\n",
    ")\n",
    "search_node = functools.partial(agent_node, agent=search_agent, name=\"Search\")\n",
    "\n",
    "supervisor_agent = create_team_supervisor(\n",
    "    llm,\n",
    "    \"You are a supervisor tasked with managing a conversation between the\"\n",
    "    \" following workers:  Search, WebScraper. Given the following user request,\"\n",
    "    \" respond with the worker to act next. Each worker will perform a\"\n",
    "    \" task and respond with their results and status. When finished,\"\n",
    "    \" respond with FINISH.\",\n",
    "    [\"Search\"],\n",
    ")"
   ]
  },
  {
   "cell_type": "code",
   "execution_count": 595,
   "id": "595e7f10-9390-49bb-8f7d-6db33b04c2eb",
   "metadata": {},
   "outputs": [],
   "source": [
    "research_graph = StateGraph(ResearchTeamState)\n",
    "research_graph.add_node(\"Search\", search_node)\n",
    "# research_graph.add_node(\"WebScraper\", research_node)\n",
    "research_graph.add_node(\"supervisor\", supervisor_agent)\n",
    "\n",
    "# Define the control flow\n",
    "research_graph.add_edge(\"Search\", \"supervisor\")\n",
    "# research_graph.add_edge(\"WebScraper\", \"supervisor\")\n",
    "research_graph.add_conditional_edges(\n",
    "    \"supervisor\",\n",
    "    lambda x: x[\"next\"],\n",
    "    {\"Search\": \"Search\", \"FINISH\": END},\n",
    ")\n",
    "\n",
    "research_graph.add_edge(START, \"supervisor\")\n",
    "\n",
    "chain = research_graph.compile()\n",
    "\n",
    "\n",
    "# The following functions interoperate between the top level graph state\n",
    "# and the state of the research sub-graph\n",
    "# this makes it so that the states of each graph don't get intermixed\n",
    "def enter_chain(message: str):\n",
    "    results = {\n",
    "        \"messages\": [HumanMessage(content=message)],\n",
    "    }\n",
    "    return results\n",
    "\n",
    "\n",
    "research_chain = enter_chain | chain"
   ]
  },
  {
   "cell_type": "code",
   "execution_count": 596,
   "id": "dc7dc338-9dc8-438e-81ab-7ec4f0e21a18",
   "metadata": {
    "scrolled": true
   },
   "outputs": [
    {
     "data": {
      "image/jpeg": "[encoded data removed]",
      "text/plain": [
       "<IPython.core.display.Image object>"
      ]
     },
     "metadata": {},
     "output_type": "display_data"
    }
   ],
   "source": [
    "from IPython.display import Image, display\n",
    "\n",
    "display(Image(chain.get_graph(xray=True).draw_mermaid_png()))"
   ]
  },
  {
   "cell_type": "code",
   "execution_count": 597,
   "id": "d7b5aebe-ade7-4d80-bf99-c24b3cdadd46",
   "metadata": {},
   "outputs": [],
   "source": [
    "from langchain_core.messages import BaseMessage\n",
    "from langchain_openai.chat_models import ChatOpenAI\n",
    "\n",
    "llm = AzureChatOpenAI(\n",
    "    api_version=\"2024-02-15-preview\",\n",
    "    azure_endpoint=\"https://csagent.openai.azure.com/\",\n",
    "    api_key=\"346ac6661e314a9d8b91b6a99202ba42\",\n",
    "    deployment_name=\"gpt-4-8k\",\n",
    ")\n",
    "\n",
    "supervisor_node = create_team_supervisor(\n",
    "    llm,\n",
    "    \"You are a supervisor tasked with managing a conversation between the\"\n",
    "    \" following teams: {team_members}. Given the following user request,\"\n",
    "    \" respond with the worker to act next. Each worker will perform a\"\n",
    "    \" task and respond with their results and status. When finished,\"\n",
    "    \" respond with FINISH.\",\n",
    "    [\"ResearchTeam\", \"PaperWritingTeam\"],\n",
    ")"
   ]
  },
  {
   "cell_type": "code",
   "execution_count": 598,
   "id": "8225376b-db77-4655-baef-5165523a777e",
   "metadata": {},
   "outputs": [],
   "source": [
    "# Top-level graph state\n",
    "class State(TypedDict):\n",
    "    messages: Annotated[List[BaseMessage], operator.add]\n",
    "    next: str\n",
    "\n",
    "\n",
    "def get_last_message(state: State) -> str:\n",
    "    return state[\"messages\"][-1].content\n",
    "\n",
    "\n",
    "def join_graph(response: dict):\n",
    "    return {\"messages\": [response[\"messages\"][-1]]}\n",
    "\n",
    "\n",
    "# Define the graph.\n",
    "super_graph = StateGraph(State)\n",
    "# First add the nodes, which will do the work\n",
    "super_graph.add_node(\"ResearchTeam\", get_last_message | research_chain | join_graph)\n",
    "super_graph.add_node(\"supervisor\", supervisor_node)\n",
    "\n",
    "# Define the graph connections, which controls how the logic\n",
    "# propagates through the program\n",
    "super_graph.add_edge(\"ResearchTeam\", \"supervisor\")\n",
    "super_graph.add_conditional_edges(\n",
    "    \"supervisor\",\n",
    "    lambda x: x[\"next\"],\n",
    "    {\n",
    "        \"ResearchTeam\": \"ResearchTeam\",\n",
    "        \"FINISH\": END,\n",
    "    },\n",
    ")\n",
    "super_graph.add_edge(START, \"supervisor\")\n",
    "memory = SqliteSaver.from_conn_string(\":memory:\")\n",
    "super_graph = super_graph.compile(checkpointer=memory)"
   ]
  },
  {
   "cell_type": "code",
   "execution_count": 599,
   "id": "c3541403-7bc7-4a01-b4e3-ae629f4f9546",
   "metadata": {},
   "outputs": [
    {
     "data": {
      "image/jpeg": "[encoded data removed]",
      "text/plain": [
       "<IPython.core.display.Image object>"
      ]
     },
     "metadata": {},
     "output_type": "display_data"
    }
   ],
   "source": [
    "from IPython.display import Image, display\n",
    "\n",
    "display(Image(super_graph.get_graph().draw_mermaid_png()))"
   ]
  },
  {
   "cell_type": "code",
   "execution_count": 600,
   "id": "66bd9e2a-415f-464a-a22a-974ce384fca0",
   "metadata": {},
   "outputs": [
    {
     "data": {
      "text/plain": [
       "{'configurable': {'thread_id': '198197a5-c74c-463d-8312-ded3f1d94479'}}"
      ]
     },
     "execution_count": 600,
     "metadata": {},
     "output_type": "execute_result"
    }
   ],
   "source": [
    "config"
   ]
  },
  {
   "cell_type": "code",
   "execution_count": 98,
   "id": "10c9ba74-b871-4508-8711-dae70704ec05",
   "metadata": {},
   "outputs": [],
   "source": [
    "def _print_event(event: dict, _printed: set, max_length=1500):\n",
    "    current_state = event.get(\"dialog_state\")\n",
    "    if current_state:\n",
    "        print(\"Currently in: \", current_state[-1])\n",
    "    message = event.get(\"messages\")\n",
    "    if message:\n",
    "        if isinstance(message, list):\n",
    "            message = message[-1]\n",
    "        if message.id not in _printed:\n",
    "            msg_repr = message.pretty_repr(html=True)\n",
    "            if len(msg_repr) > max_length:\n",
    "                msg_repr = msg_repr[:max_length] + \" ... (truncated)\"\n",
    "            print(msg_repr)\n",
    "            _printed.add(message.id)"
   ]
  },
  {
   "cell_type": "code",
   "execution_count": 601,
   "id": "a9f8b355-4281-418d-b565-1222bf2e2530",
   "metadata": {},
   "outputs": [
    {
     "name": "stdout",
     "output_type": "stream",
     "text": [
      "{'supervisor': {'next': 'ResearchTeam'}}\n",
      "---\n",
      "{'ResearchTeam': {'messages': [HumanMessage(content='Taylor Swift\\'s next trip is part of her upcoming \"The Eras Tour\". Here are some of the upcoming dates and locations:\\n\\n- March 18: Glendale, AZ, State Farm Stadium\\n- March 25: Las Vegas, NV, Allegiant Stadium\\n- April 1: Arlington, TX, AT&T Stadium\\n- April 2: Arlington, TX, AT&T Stadium\\n- April 15: Tampa, FL, Raymond James Stadium\\n- April 22: Houston, TX, NRG Stadium\\n- April 28: Atlanta, GA, Mercedes-Benz Stadium\\n- April 29: Atlanta, GA, Mercedes-Benz Stadium\\n- May 6: Nashville, TN, Nissan Stadium\\n- May 12: Philadelphia, PA, Lincoln Financial Field\\n- May 13: Philadelphia, PA, Lincoln Financial Field\\n- May 19: Foxborough, MA, Gillette Stadium\\n- May 20: Foxborough, MA, Gillette Stadium\\n- May 26: East Rutherford, NJ, MetLife Stadium\\n- May 27: East Rutherford, NJ, MetLife Stadium\\n- June 2: Chicago, IL, Soldier Field\\n- June 3: Chicago, IL, Soldier Field\\n- June 10: Detroit, MI, Ford Field\\n- June 17: Pittsburgh, PA, Acrisure Stadium\\n- June 24: Minneapolis, MN, U.S. Bank Stadium\\n- July 1: Cincinnati, OH, Paycor Stadium\\n- July 8: Kansas City, MO, GEHA Field at Arrowhead Stadium\\n- July 15: Denver, CO, Empower Field at Mile High\\n- July 22: Seattle, WA, Lumen Field\\n- July 29: Santa Clara, CA, Levi’s® Stadium\\n- August 4: Los Angeles, CA, SoFi Stadium\\n- August 5: Los Angeles, CA, SoFi Stadium\\n\\nPlease note, additional international dates are to be announced. Please check Taylor Swift\\'s official website for the most accurate and up-to-date information.', name='Search')]}}\n",
      "---\n",
      "{'supervisor': {'next': 'FINISH'}}\n",
      "---\n"
     ]
    }
   ],
   "source": [
    "events =  super_graph.stream(\n",
    "    {\n",
    "        \"messages\": [\n",
    "            HumanMessage(\n",
    "                content=\"when is taylor swift's next trip.\"\n",
    "            )\n",
    "        ],\n",
    "    },\n",
    "    config,\n",
    ")\n",
    "for event in events:\n",
    "    _print_event(event, _printed)"
   ]
  },
  {
   "cell_type": "code",
   "execution_count": 602,
   "id": "598fff1c-1753-4e42-a61f-666b6e145608",
   "metadata": {},
   "outputs": [
    {
     "data": {
      "text/plain": [
       "StateSnapshot(values={'messages': [HumanMessage(content=\"when is taylor swift's next trip.\"), HumanMessage(content='Taylor Swift\\'s next trip is part of her upcoming \"The Eras Tour\". Here are some of the upcoming dates and locations:\\n\\n- March 18: Glendale, AZ, State Farm Stadium\\n- March 25: Las Vegas, NV, Allegiant Stadium\\n- April 1: Arlington, TX, AT&T Stadium\\n- April 2: Arlington, TX, AT&T Stadium\\n- April 15: Tampa, FL, Raymond James Stadium\\n- April 22: Houston, TX, NRG Stadium\\n- April 28: Atlanta, GA, Mercedes-Benz Stadium\\n- April 29: Atlanta, GA, Mercedes-Benz Stadium\\n- May 6: Nashville, TN, Nissan Stadium\\n- May 12: Philadelphia, PA, Lincoln Financial Field\\n- May 13: Philadelphia, PA, Lincoln Financial Field\\n- May 19: Foxborough, MA, Gillette Stadium\\n- May 20: Foxborough, MA, Gillette Stadium\\n- May 26: East Rutherford, NJ, MetLife Stadium\\n- May 27: East Rutherford, NJ, MetLife Stadium\\n- June 2: Chicago, IL, Soldier Field\\n- June 3: Chicago, IL, Soldier Field\\n- June 10: Detroit, MI, Ford Field\\n- June 17: Pittsburgh, PA, Acrisure Stadium\\n- June 24: Minneapolis, MN, U.S. Bank Stadium\\n- July 1: Cincinnati, OH, Paycor Stadium\\n- July 8: Kansas City, MO, GEHA Field at Arrowhead Stadium\\n- July 15: Denver, CO, Empower Field at Mile High\\n- July 22: Seattle, WA, Lumen Field\\n- July 29: Santa Clara, CA, Levi’s® Stadium\\n- August 4: Los Angeles, CA, SoFi Stadium\\n- August 5: Los Angeles, CA, SoFi Stadium\\n\\nPlease note, additional international dates are to be announced. Please check Taylor Swift\\'s official website for the most accurate and up-to-date information.', name='Search')], 'next': 'FINISH'}, next=(), config={'configurable': {'thread_id': '198197a5-c74c-463d-8312-ded3f1d94479', 'thread_ts': '1ef39c81-d521-6cff-8003-a3847d4c85e3'}}, metadata={'source': 'loop', 'step': 3, 'writes': {'supervisor': {'next': 'FINISH'}}}, created_at='2024-07-04T05:41:51.993722+00:00', parent_config={'configurable': {'thread_id': '198197a5-c74c-463d-8312-ded3f1d94479', 'thread_ts': '1ef39c81-be32-642b-8002-50b381625ef5'}})"
      ]
     },
     "execution_count": 602,
     "metadata": {},
     "output_type": "execute_result"
    }
   ],
   "source": [
    "super_graph.get_state(config)"
   ]
  },
  {
   "cell_type": "code",
   "execution_count": null,
   "id": "19d0d371-4b1e-4a9c-8c31-cfe6abfe2901",
   "metadata": {},
   "outputs": [],
   "source": []
  },
  {
   "cell_type": "code",
   "execution_count": null,
   "id": "f4969580-493b-49c3-a512-2286404f8d7b",
   "metadata": {},
   "outputs": [],
   "source": []
  },
  {
   "cell_type": "code",
   "execution_count": 530,
   "id": "5b3a74fd-e114-42ee-af3e-7fede0e06d7e",
   "metadata": {},
   "outputs": [],
   "source": [
    "def create_team_supervisor(llm: ChatOpenAI, system_prompt, members) -> str:\n",
    "    \"\"\"An LLM-based router.\"\"\"\n",
    "    options = [\"FINISH\"] + members\n",
    "    function_def = {\n",
    "        \"name\": \"route\",\n",
    "        \"description\": \"Select the next role.\",\n",
    "        \"parameters\": {\n",
    "            \"title\": \"routeSchema\",\n",
    "            \"type\": \"object\",\n",
    "            \"properties\": {\n",
    "                \"next\": {\n",
    "                    \"title\": \"Next\",\n",
    "                    \"anyOf\": [\n",
    "                        {\"enum\": options},\n",
    "                    ],\n",
    "                },\n",
    "            },\n",
    "            \"required\": [\"next\"],\n",
    "        },\n",
    "    }\n",
    "    prompt = ChatPromptTemplate.from_messages(\n",
    "        [\n",
    "            (\"system\", system_prompt),\n",
    "            MessagesPlaceholder(variable_name=\"messages\"),\n",
    "            (\n",
    "                \"system\",\n",
    "                \"Given the conversation above, who should act next?\"\n",
    "                \" Or should we FINISH? Select one of: {options}\",\n",
    "            ),\n",
    "        ]\n",
    "    ).partial(options=str(options), team_members=\", \".join(members))\n",
    "    return (\n",
    "        prompt\n",
    "        | llm.bind_functions(functions=[function_def], function_call=\"route\")\n",
    "        | JsonOutputFunctionsParser()\n",
    "    )"
   ]
  },
  {
   "cell_type": "code",
   "execution_count": null,
   "id": "571575c9-5825-4d5b-aed5-02acacf1c38d",
   "metadata": {},
   "outputs": [],
   "source": [
    "supervisor_agent = create_team_supervisor(\n",
    "    llm,\n",
    "    \"You are a supervisor tasked with managing a conversation between the\"\n",
    "    \" following workers:  Search, WebScraper. Given the following user request,\"\n",
    "    \" respond with the worker to act next. Each worker will perform a\"\n",
    "    \" task and respond with their results and status. When finished,\"\n",
    "    \" respond with FINISH.\",\n",
    "    [\"Search\", \"WebScraper\"],\n",
    ")"
   ]
  },
  {
   "cell_type": "code",
   "execution_count": null,
   "id": "dad1c8ac-ba0d-4237-89c8-44851d32d70e",
   "metadata": {},
   "outputs": [],
   "source": []
  },
  {
   "cell_type": "code",
   "execution_count": null,
   "id": "c0b1921d-e252-45ad-bfe2-1f4c30222d81",
   "metadata": {},
   "outputs": [],
   "source": []
  },
  {
   "cell_type": "code",
   "execution_count": null,
   "id": "e7ab3a8d-9a56-4d12-a3f3-d6771f6c0670",
   "metadata": {},
   "outputs": [],
   "source": []
  },
  {
   "cell_type": "code",
   "execution_count": null,
   "id": "230188b9-58dc-4e50-ba90-5dcb7b623191",
   "metadata": {},
   "outputs": [],
   "source": []
  },
  {
   "cell_type": "code",
   "execution_count": 3,
   "id": "f7d88f0e-0ec0-4e56-b451-fd1308e9f473",
   "metadata": {},
   "outputs": [],
   "source": [
    "from langchain_core.messages import (\n",
    "    BaseMessage,\n",
    "    HumanMessage,\n",
    "    ToolMessage,\n",
    ")\n",
    "from langchain_core.prompts import ChatPromptTemplate, MessagesPlaceholder\n",
    "\n",
    "from langgraph.graph import END, StateGraph, START\n",
    "\n",
    "\n",
    "def create_agent(llm, tools, system_message):\n",
    "    \"\"\"Create an agent.\"\"\"\n",
    "    prompt = ChatPromptTemplate.from_messages(\n",
    "        [\n",
    "            (\n",
    "                \"system\", \n",
    "                 \"You are a helpful AI assistant, collaborating with other assistants.\"\n",
    "                \" Use the provided tools to progress towards answering the question.\"\n",
    "                \" If you are unable to fully answer, that's OK, another assistant with different tools \"\n",
    "                \" will help where you left off. Execute what you can to make progress.\"\n",
    "                \" If you or any of the other assistants have the final answer or deliverable,\"\n",
    "                \" prefix your response with FINAL ANSWER so the team knows to stop.\"\n",
    "                \" You have access to the following tools: {tool_names}.\\n{system_message}\",\n",
    "            ),\n",
    "            MessagesPlaceholder(variable_name=\"messages\"),\n",
    "        ]\n",
    "    )\n",
    "    prompt = prompt.partial(system_message=system_message)\n",
    "    prompt = prompt.partial(tool_names=\", \".join([tool.name for tool in tools]))\n",
    "    return prompt | llm.bind_tools(tools)"
   ]
  },
  {
   "cell_type": "code",
   "execution_count": 4,
   "id": "f0effd3a-b76f-4648-a2be-4fdea977ea84",
   "metadata": {},
   "outputs": [],
   "source": [
    "import operator\n",
    "from typing import Annotated, Sequence, TypedDict\n",
    "\n",
    "\n",
    "\n",
    "# This defines the object that is passed between each node\n",
    "# in the graph. We will create different nodes for each agent and tool\n",
    "class AgentState(TypedDict):\n",
    "    # messages: Annotated[Sequence[BaseMessage], operator.add]\n",
    "    messages: Annotated[Sequence[BaseMessage], operator.add]\n",
    "    sender: str"
   ]
  },
  {
   "cell_type": "code",
   "execution_count": 20,
   "id": "cd32f57f-56e5-46a9-86a5-835af733215d",
   "metadata": {},
   "outputs": [],
   "source": [
    "import functools\n",
    "\n",
    "from langchain_core.messages import AIMessage\n",
    "\n",
    "\n",
    "# Helper function to create a node for a given agent\n",
    "def agent_node(state, agent, name):\n",
    "    # last_message = state[\"messages\"][-1]\n",
    "    # if isinstance(last_message, ToolMessage) and (last_message.name == \"search_table\"):\n",
    "    #     result = AIMessage(content=last_message.content, name=name)\n",
    "    #     return {\n",
    "    #     \"messages\": result,\n",
    "    #     # Since we have a strict workflow, we can\n",
    "    #     # track the sender so we know who to pass to next.\n",
    "    #     \"sender\": name,\n",
    "    # }\n",
    "    \n",
    "    result = agent.invoke(state)\n",
    "    # We convert the agent output into a format that is suitable to append to the global state\n",
    "    # if isinstance(result, ToolMessage):\n",
    "    #     pass\n",
    "    # else:\n",
    "    #     result = AIMessage(**result.dict(exclude={\"type\", \"name\"}), name=name)\n",
    "    return {\n",
    "        \"messages\": [result],\n",
    "        # Since we have a strict workflow, we can\n",
    "        # track the sender so we know who to pass to next.\n",
    "        \"sender\": name,\n",
    "    }\n",
    "\n",
    "\n",
    "llm = AzureChatOpenAI(\n",
    "    api_version=\"2024-02-15-preview\",\n",
    "    azure_endpoint=\"https://csagent.openai.azure.com/\",\n",
    "    api_key=\"346ac6661e314a9d8b91b6a99202ba42\",\n",
    "    deployment_name=\"gpt-4-8k\",\n",
    ")\n",
    "\n",
    "# Research agent and node\n",
    "system = \"\"\"\"\"\"\n",
    "table_searching_runnable = create_agent(\n",
    "    llm,\n",
    "    [search_table],\n",
    "    system_message=system,\n",
    ")\n",
    "search_table_assistant = functools.partial(agent_node, agent=table_searching_runnable, name=\"search_table_assistant\")"
   ]
  },
  {
   "cell_type": "code",
   "execution_count": 21,
   "id": "c98d9a9e-7a7b-4638-873c-76c335660c1e",
   "metadata": {},
   "outputs": [],
   "source": [
    "def create_tool_node_with_fallback(tools: list) -> dict:\n",
    "    return ToolNode(tools)"
   ]
  },
  {
   "cell_type": "code",
   "execution_count": 22,
   "id": "3966b70d-8288-4047-847a-b8eca7e716ba",
   "metadata": {},
   "outputs": [],
   "source": [
    "from langgraph.prebuilt import ToolNode\n",
    "\n",
    "tools = [search_table]\n",
    "search_table_tools = create_tool_node_with_fallback(tools)"
   ]
  },
  {
   "cell_type": "code",
   "execution_count": 23,
   "id": "951c9bd9-6a95-4c07-9f2f-380ba223a661",
   "metadata": {},
   "outputs": [],
   "source": [
    "# Either agent can decide to end\n",
    "from typing import Literal\n",
    "\n",
    "\n",
    "# edge\n",
    "def route_search_table(\n",
    "    state: State,\n",
    ") -> Literal[\n",
    "    \"call_tools\",\n",
    "    \"__end__\",\n",
    "]:\n",
    "    route = tools_condition(state)\n",
    "    if route == END:\n",
    "        return END\n",
    "    return \"call_tools\""
   ]
  },
  {
   "cell_type": "code",
   "execution_count": 24,
   "id": "7903453d-667d-40e9-aef0-f3ac796d7de7",
   "metadata": {},
   "outputs": [],
   "source": [
    "from langgraph.checkpoint.sqlite import SqliteSaver"
   ]
  },
  {
   "cell_type": "code",
   "execution_count": 25,
   "id": "a3f79ef0-5a36-4810-9be6-c697e8c01266",
   "metadata": {},
   "outputs": [],
   "source": [
    "workflow = StateGraph(AgentState)\n",
    "\n",
    "workflow.add_node(\"search_table_assistant\", search_table_assistant)\n",
    "workflow.add_node(\"call_tools\", search_table_tools)\n",
    "\n",
    "workflow.add_conditional_edges(\n",
    "    \"search_table_assistant\",\n",
    "    route_search_table,\n",
    "    {\"call_tools\": \"call_tools\", \"__end__\": END},\n",
    ")\n",
    "\n",
    "# workflow.add_conditional_edges(\n",
    "#     \"call_tool\",\n",
    "#     # Each agent node updates the 'sender' field\n",
    "#     # the tool calling node does not, meaning\n",
    "#     # this edge will route back to the original agent\n",
    "#     # who invoked the tool\n",
    "#     lambda x: x[\"sender\"],\n",
    "#     {\n",
    "#         \"Researcher\": \"Researcher\",\n",
    "#     },\n",
    "# )\n",
    "workflow.add_edge(\"call_tools\", \"search_table_assistant\")\n",
    "workflow.set_entry_point(\"search_table_assistant\")\n",
    "memory = SqliteSaver.from_conn_string(\":memory:\")\n",
    "graph = workflow.compile(checkpointer=memory,)"
   ]
  },
  {
   "cell_type": "code",
   "execution_count": 26,
   "id": "b977198b-d590-4eb9-9516-541c941db9f9",
   "metadata": {},
   "outputs": [
    {
     "data": {
      "image/jpeg": "[encoded data removed]",
      "text/plain": [
       "<IPython.core.display.Image object>"
      ]
     },
     "metadata": {},
     "output_type": "display_data"
    }
   ],
   "source": [
    "from IPython.display import Image, display\n",
    "\n",
    "try:\n",
    "    display(Image(graph.get_graph(xray=True).draw_mermaid_png()))\n",
    "except Exception:\n",
    "    # This requires some extra dependencies and is optional\n",
    "    pass"
   ]
  },
  {
   "cell_type": "code",
   "execution_count": 27,
   "id": "d117872a-8f4e-4852-afe1-7f8cee6b57c8",
   "metadata": {},
   "outputs": [],
   "source": [
    "import uuid\n",
    "thread_id = str(uuid.uuid4())\n",
    "config = {\n",
    "    \"configurable\": {\n",
    "        # The passenger_id is used in our flight tools to\n",
    "        # fetch the user's flight informatio\n",
    "        # Checkpoints are accessed by thread_id\n",
    "        \"thread_id\": \"198197a5-c74c-463d-8312-ded3f1d94479\",\n",
    "    }\n",
    "}\n",
    "_printed = set()"
   ]
  },
  {
   "cell_type": "code",
   "execution_count": 28,
   "id": "4f77a44f-25fb-434c-9759-ea062bb6efd9",
   "metadata": {},
   "outputs": [],
   "source": [
    "def _print_event(event: dict, _printed: set, max_length=1500):\n",
    "    current_state = event.get(\"dialog_state\")\n",
    "    if current_state:\n",
    "        print(\"Currently in: \", current_state[-1])\n",
    "    message = event.get(\"messages\")\n",
    "    if message:\n",
    "        if isinstance(message, list):\n",
    "            message = message[-1]\n",
    "        msg_repr = message.pretty_repr(html=True)\n",
    "        if len(msg_repr) > max_length:\n",
    "            msg_repr = msg_repr[:max_length] + \" ... (truncated)\"\n",
    "        print(msg_repr)\n",
    "        # _printed.add(message.id)"
   ]
  },
  {
   "cell_type": "code",
   "execution_count": 30,
   "id": "c204bdf7-3518-43d8-ae37-8388e150080a",
   "metadata": {},
   "outputs": [
    {
     "name": "stdout",
     "output_type": "stream",
     "text": [
      "================================\u001b[1m Human Message \u001b[0m=================================\n",
      "\n",
      "G20\n",
      "==================================\u001b[1m Ai Message \u001b[0m==================================\n",
      "Tool Calls:\n",
      "  search_table (call_i9ho0rTLPadxWV7aKCiHuzwF)\n",
      " Call ID: call_i9ho0rTLPadxWV7aKCiHuzwF\n",
      "  Args:\n",
      "    question: G20扫地机电源线多长\n",
      "raw [{'entity': {'word': '扫地机电源线', 'start': 3, 'end': 9}, 'page_content': '电源线长', 'metadata': {'content': '电源线长', 'mopping': False, 'sweeping': True, 'washing': False}, 'score': 0.9223047196865082}]\n",
      "filter [{'entity': {'word': '扫地机电源线', 'start': 3, 'end': 9}, 'page_content': '电源线长', 'metadata': {'content': '电源线长', 'mopping': False, 'sweeping': True, 'washing': False}, 'score': 0.9223047196865082}]\n",
      "=================================\u001b[1m Tool Message \u001b[0m=================================\n",
      "Name: search_table\n",
      "\n",
      "| 商品型号 | 版本 | 电源线长 |\n",
      "| --- | --- | --- |\n",
      "| g20 | 标准版 | 180cm |\n",
      "| g20 | 上下水版 | 180cm |\n",
      "==================================\u001b[1m Ai Message \u001b[0m==================================\n",
      "\n",
      "G20扫地机的电源线长度为180cm。\n"
     ]
    }
   ],
   "source": [
    "events = graph.stream(\n",
    "    {\n",
    "        \"messages\": [\n",
    "            HumanMessage(content=\"G20\")\n",
    "        ],\n",
    "\n",
    "    },\n",
    "    config,\n",
    "    stream_mode=\"values\"\n",
    ")\n",
    "for event in events:\n",
    "    _print_event(event, _printed)"
   ]
  },
  {
   "cell_type": "code",
   "execution_count": 17,
   "id": "eec88cd8-e1bf-4f9a-b84d-15c78a7fe05a",
   "metadata": {},
   "outputs": [
    {
     "data": {
      "text/plain": [
       "StateSnapshot(values={'messages': [HumanMessage(content='扫地机电源线多长'), AIMessage(content='', additional_kwargs={'tool_calls': [{'id': 'call_1ttdSKKMrkPKww12mADzct0s', 'function': {'arguments': '{\\n  \"question\": \"扫地机电源线多长\"\\n}', 'name': 'search_table'}, 'type': 'function'}]}, response_metadata={'token_usage': {'completion_tokens': 23, 'prompt_tokens': 165, 'total_tokens': 188}, 'model_name': 'gpt-4', 'system_fingerprint': None, 'prompt_filter_results': [{'prompt_index': 0, 'content_filter_results': {'hate': {'filtered': False, 'severity': 'safe'}, 'self_harm': {'filtered': False, 'severity': 'safe'}, 'sexual': {'filtered': False, 'severity': 'safe'}, 'violence': {'filtered': False, 'severity': 'safe'}}}], 'finish_reason': 'tool_calls', 'logprobs': None, 'content_filter_results': {}}, name='search_table_assistant', id='run-03855bf8-15ec-42a0-9f11-293ab094bf9e-0', tool_calls=[{'name': 'search_table', 'args': {'question': '扫地机电源线多长'}, 'id': 'call_1ttdSKKMrkPKww12mADzct0s'}], usage_metadata={'input_tokens': 165, 'output_tokens': 23, 'total_tokens': 188}), ToolMessage(content='问题中需要提供型号名称才能完成搜索', name='search_table', tool_call_id='call_1ttdSKKMrkPKww12mADzct0s'), AIMessage(content=\"I'm sorry, but I need the model of the sweeping machine to find the length of the power cord. Could you please provide it?\", response_metadata={'token_usage': {'completion_tokens': 29, 'prompt_tokens': 228, 'total_tokens': 257}, 'model_name': 'gpt-4', 'system_fingerprint': None, 'prompt_filter_results': [{'prompt_index': 0, 'content_filter_results': {'hate': {'filtered': False, 'severity': 'safe'}, 'self_harm': {'filtered': False, 'severity': 'safe'}, 'sexual': {'filtered': False, 'severity': 'safe'}, 'violence': {'filtered': False, 'severity': 'safe'}}}], 'finish_reason': 'stop', 'logprobs': None, 'content_filter_results': {'hate': {'filtered': False, 'severity': 'safe'}, 'self_harm': {'filtered': False, 'severity': 'safe'}, 'sexual': {'filtered': False, 'severity': 'safe'}, 'violence': {'filtered': False, 'severity': 'safe'}}}, name='search_table_assistant', id='run-3284fd52-321e-407e-a244-2eb5c78b3467-0', usage_metadata={'input_tokens': 228, 'output_tokens': 29, 'total_tokens': 257})], 'sender': 'search_table_assistant'}, next=(), config={'configurable': {'thread_id': '198197a5-c74c-463d-8312-ded3f1d94479', 'thread_ts': '1ef39cef-fb3c-6f98-8003-1f62aca2ec61'}}, metadata={'source': 'loop', 'step': 3, 'writes': {'search_table_assistant': {'messages': [AIMessage(content=\"I'm sorry, but I need the model of the sweeping machine to find the length of the power cord. Could you please provide it?\", response_metadata={'token_usage': {'completion_tokens': 29, 'prompt_tokens': 228, 'total_tokens': 257}, 'model_name': 'gpt-4', 'system_fingerprint': None, 'prompt_filter_results': [{'prompt_index': 0, 'content_filter_results': {'hate': {'filtered': False, 'severity': 'safe'}, 'self_harm': {'filtered': False, 'severity': 'safe'}, 'sexual': {'filtered': False, 'severity': 'safe'}, 'violence': {'filtered': False, 'severity': 'safe'}}}], 'finish_reason': 'stop', 'logprobs': None, 'content_filter_results': {'hate': {'filtered': False, 'severity': 'safe'}, 'self_harm': {'filtered': False, 'severity': 'safe'}, 'sexual': {'filtered': False, 'severity': 'safe'}, 'violence': {'filtered': False, 'severity': 'safe'}}}, name='search_table_assistant', id='run-3284fd52-321e-407e-a244-2eb5c78b3467-0', usage_metadata={'input_tokens': 228, 'output_tokens': 29, 'total_tokens': 257})], 'sender': 'search_table_assistant'}}}, created_at='2024-07-04T06:31:08.779453+00:00', parent_config={'configurable': {'thread_id': '198197a5-c74c-463d-8312-ded3f1d94479', 'thread_ts': '1ef39cef-e937-6a13-8002-ead80fc18986'}})"
      ]
     },
     "execution_count": 17,
     "metadata": {},
     "output_type": "execute_result"
    }
   ],
   "source": [
    "graph.get_state(config)"
   ]
  },
  {
   "cell_type": "code",
   "execution_count": null,
   "id": "46d75876-78c1-4ca7-a56b-31b582f2b856",
   "metadata": {},
   "outputs": [],
   "source": []
  },
  {
   "cell_type": "code",
   "execution_count": null,
   "id": "b210eb69-3479-4e24-8b77-d43f354fca85",
   "metadata": {},
   "outputs": [],
   "source": []
  },
  {
   "cell_type": "code",
   "execution_count": 1,
   "id": "ac14419f-c66f-406f-9c1d-9d9a8a510628",
   "metadata": {},
   "outputs": [],
   "source": [
    "from typing import Annotated, Literal\n",
    "from typing_extensions import TypedDict\n",
    "\n",
    "from find_keywords import LabellerByRulesWithPos\n",
    "from vector_db import ChromaDB\n",
    "from search_engine import QAVectorDBSearchEngine\n",
    "from recall import RecallBySearchEngine\n",
    "from nl2sql import SimpleLookup\n",
    "\n",
    "from langchain_core.tools import tool\n",
    "from langchain_core.prompts import ChatPromptTemplate\n",
    "from langchain_core.runnables import Runnable, RunnableConfig, RunnableLambda\n",
    "from langchain_core.messages import ToolMessage, AIMessage\n",
    "from langchain_core.pydantic_v1 import BaseModel, Field\n",
    "\n",
    "from langchain_openai import AzureChatOpenAI\n",
    "\n",
    "from langgraph.prebuilt import ToolNode\n",
    "from langgraph.graph import END, StateGraph\n",
    "from langgraph.graph.message import AnyMessage, add_messages\n",
    "from langgraph.prebuilt import tools_condition\n",
    "\n",
    "\n",
    "\n",
    "def handle_tool_error(state) -> dict:\n",
    "    error = state.get(\"error\")\n",
    "    tool_calls = state[\"messages\"][-1].tool_calls\n",
    "    return {\n",
    "        \"messages\": [\n",
    "            ToolMessage(\n",
    "                content=f\"Error: {repr(error)}\\n please fix your mistakes.\",\n",
    "                tool_call_id=tc[\"id\"],\n",
    "            )\n",
    "            for tc in tool_calls\n",
    "        ]\n",
    "    }\n",
    "\n",
    "\n",
    "def create_tool_node_with_fallback(tools: list) -> dict:\n",
    "    return ToolNode(tools).with_fallbacks(\n",
    "        [RunnableLambda(handle_tool_error)], exception_key=\"error\"\n",
    "    )\n",
    "\n",
    "\n",
    "def _print_event(event: dict, _printed: set, max_length=1500):\n",
    "    current_state = event.get(\"dialog_state\")\n",
    "    if current_state:\n",
    "        print(\"Currently in: \", current_state[-1])\n",
    "    message = event.get(\"messages\")\n",
    "    if message:\n",
    "        if isinstance(message, list):\n",
    "            message = message[-1]\n",
    "        if message.id not in _printed:\n",
    "            msg_repr = message.pretty_repr(html=True)\n",
    "            if len(msg_repr) > max_length:\n",
    "                msg_repr = msg_repr[:max_length] + \" ... (truncated)\"\n",
    "            print(msg_repr)\n",
    "            _printed.add(message.id)\n",
    "\n",
    "\n",
    "router_config = {\n",
    "    \"class\": LabellerByRulesWithPos,\n",
    "    \"config\": {\n",
    "        \"dim_df_path\": \"data/dim_df20240619.csv\",\n",
    "        \"model_col\": (\"model\", \"model\"),\n",
    "        \"cat_col\": (\"cat_cn\", \"cat\"),\n",
    "        \"error_col\": (\"error\", \"error\"),\n",
    "        \"ner_model_path\": \"/workspace/data/private/zhuxiaohai/models/bert_finetuned_ner_augmented/\"\n",
    "    }\n",
    "}\n",
    "\n",
    "recall_config = {\n",
    "    \"class\": RecallBySearchEngine,\n",
    "    \"config\": {\n",
    "        \"search_engine\": {\n",
    "            \"class\": QAVectorDBSearchEngine,\n",
    "            \"docs_path\": \"data/table_entity.csv\",\n",
    "            \"docs_col\": \"entity_name\",\n",
    "            \"ids_col\": \"ids\",\n",
    "            \"metadata_cols\": [\"sweeping\", \"washing\", \"mopping\", \"content\"],\n",
    "            \"collection_name\": \"table_entity\",\n",
    "            \"reset\": False,\n",
    "            \"encoder_path\": \"/workspace/data/private/zhuxiaohai/models/bge_finetuned_emb_ner_link\",\n",
    "            \"vector_db\": {\n",
    "                \"class\": ChromaDB,\n",
    "                \"host\": \"/data/dataset/kefu/chroma\",\n",
    "            },\n",
    "        },\n",
    "    },\n",
    "    \"top_n\": 1,\n",
    "}\n",
    "\n",
    "nl2sql_config = {\n",
    "    \"class\": SimpleLookup,\n",
    "    \"config\": {\n",
    "        \"db_absolute_path\": \"/root/PycharmProjects/rockchat/data/model_params.db\",\n",
    "        \"reset\": False,\n",
    "        \"df_path\": \"/root/PycharmProjects/rockchat/data/model_params20240620.csv\",\n",
    "        \"table_name\": \"model_params20240620\",\n",
    "        \"output_type\": \"markdown\"\n",
    "    }\n",
    "}\n",
    "\n",
    "extractor = router_config[\"class\"](router_config[\"config\"])\n",
    "recall = recall_config[\"class\"](recall_config[\"config\"])\n",
    "nl2sql = nl2sql_config[\"class\"](nl2sql_config[\"config\"])\n",
    "\n",
    "\n",
    "class GradeDocuments(BaseModel):\n",
    "    \"\"\"Binary score for relevance check on retrieved documents.\"\"\"\n",
    "    binary_score: str = Field(\n",
    "        description=\"Documents are relevant to the question, 'yes' or 'no'\"\n",
    "    )\n",
    "\n",
    "\n",
    "# LLM with function call\n",
    "llm_grader = AzureChatOpenAI(\n",
    "    api_version=\"2024-02-15-preview\",\n",
    "    azure_endpoint=\"https://csagent.openai.azure.com/\",\n",
    "    api_key=\"346ac6661e314a9d8b91b6a99202ba42\",\n",
    "    deployment_name=\"gpt-4-8k\",\n",
    ")\n",
    "\n",
    "structured_llm_grader = llm_grader.with_structured_output(GradeDocuments)\n",
    "\n",
    "# Prompt\n",
    "system_grader = \"\"\"You are a grader assessing relevance of a retrieved document to a user question. \\n \n",
    "    If the document contains keyword(s) or semantic meaning related to the user question, grade it as relevant. \\n\n",
    "    It does not need to be a stringent test. The goal is to filter out erroneous retrievals. \\n\n",
    "    Give a binary score 'yes' or 'no' score to indicate whether the document is relevant to the question.\"\"\"\n",
    "\n",
    "grade_prompt = ChatPromptTemplate.from_messages(\n",
    "    [\n",
    "        (\"system\", system_grader),\n",
    "        (\"human\", \"Retrieved document: \\n\\n {document} \\n\\n User question: {question}\"),\n",
    "    ]\n",
    ")\n",
    "\n",
    "retrieval_grader = grade_prompt | structured_llm_grader\n",
    "\n",
    "\n",
    "@tool\n",
    "def search_table(question):\n",
    "    \"\"\"Consult a table about parameters of household cleaning machines according to the question,\n",
    "    and return the results.\"\"\"\n",
    "    query_body = extractor.extract_keywords(question)\n",
    "    if not query_body[\"labels\"][\"model\"]:\n",
    "        return \"问题中需要提供型号名称才能完成搜索\"\n",
    "    query_body.update({\"top_n\": recall_config[\"top_n\"]})\n",
    "    recalled_cols = recall.query_recalls(query_body)\n",
    "    print(\"raw\", recalled_cols)\n",
    "    pairs = [{\"question\": question, \"document\": d['page_content']} for d in recalled_cols]\n",
    "    scores = retrieval_grader.batch(pairs)\n",
    "    filtered_docs = [recalled_cols[i] for i in range(len(scores)) if scores[i].binary_score == \"yes\"]\n",
    "    print(\"filter\", filtered_docs)\n",
    "    if not filtered_docs:\n",
    "        return \"搜索结果和问题的匹配度很低，请换个问法\"\n",
    "    else:\n",
    "        tabler_results = nl2sql.predict(query_body, filtered_docs)\n",
    "        return tabler_results\n",
    "\n",
    "\n",
    "class State(TypedDict):\n",
    "    messages: Annotated[list[AnyMessage], add_messages]\n",
    "    # status: str\n",
    "\n",
    "\n",
    "class Assistant:\n",
    "    def __init__(self, runnable: Runnable):\n",
    "        self.runnable = runnable\n",
    "\n",
    "    def __call__(self, state: State, config: RunnableConfig):\n",
    "        # print(\"state:\", state)\n",
    "        last_message = state[\"messages\"][-1]\n",
    "        if isinstance(last_message, ToolMessage) and (last_message.name == \"search_table\"):\n",
    "            result = AIMessage(content=last_message.content, name=\"search_table_assistant\")\n",
    "            # if last_message.content == \"问题中需要提供型号名称才能完成搜索\":\n",
    "            #     status = \"retry\"\n",
    "            # elif last_message.content == \"搜索结果和问题的匹配度很低，请换个问法\":\n",
    "            #     status = \"ask_for_human\"\n",
    "            # else:\n",
    "            #     status = \"reset\"\n",
    "            # return {\"messages\": result, \"status\": status}\n",
    "            return {\"messages\": result}\n",
    "\n",
    "        # status = state.get(\"status\", \"reset\")\n",
    "        while True:\n",
    "            # if status == \"reset\":\n",
    "            #     suffix = \" Directly use the query as input to your tools, and do not make any language translations or rephrases\"\n",
    "            # else:\n",
    "            #     suffix = \"\"\n",
    "            # input_dict = {\"messages\": state[\"messages\"], \"suffix\": suffix}\n",
    "            # result = self.runnable.invoke(input_dict)\n",
    "            result = self.runnable.invoke(state)\n",
    "            if isinstance(result, ToolMessage):\n",
    "                pass\n",
    "            else:\n",
    "                result = AIMessage(**result.dict(exclude={\"type\", \"name\"}), name=\"search_table_assistant\")\n",
    "            if not result.tool_calls and (\n",
    "                not result.content\n",
    "                or isinstance(result.content, list)\n",
    "                and not result.content[0].get(\"text\")\n",
    "            ):\n",
    "                messages = state[\"messages\"] + [(\"user\", \"Respond with a real output.\")]\n",
    "                state = {**state, \"messages\": messages}\n",
    "                messages = state[\"messages\"] + [(\"user\", \"Respond with a real output.\")]\n",
    "                state = {**state, \"messages\": messages}\n",
    "            else:\n",
    "                break\n",
    "        # return {\"messages\": result, \"status\": status}\n",
    "        return {\"messages\": result}\n",
    "\n",
    "\n",
    "# system = \"\"\"You are a specialized assistant for searching table about parameters \\\n",
    "# of cleaning machines. If the query is appropriate for your specialty, invoke your tools to \\\n",
    "# help with that, otherwise just reject to answer.{suffix} Use the language the same as the query to answer.\"\"\"\n",
    "# system = \"\"\"You are a specialized assistant for searching table about parameters \\\n",
    "# of cleaning machines. If the query is appropriate for your specialty, invoke your tools to \\\n",
    "# help with that, otherwise just reject to answer. Use the language the same as the query to answer.\"\"\"\n",
    "system = \"\"\"invoke your tools to answer any question. Use the language the same as the query to answer.\"\"\"\n",
    "\n",
    "# Table Searching Assistant\n",
    "table_searching_prompt = ChatPromptTemplate.from_messages(\n",
    "    [\n",
    "        (\"system\", system),\n",
    "        (\"placeholder\", \"{messages}\"),\n",
    "    ]\n",
    ")\n",
    "\n",
    "llm = AzureChatOpenAI(\n",
    "    api_version=\"2024-02-15-preview\",\n",
    "    azure_endpoint=\"https://csagent.openai.azure.com/\",\n",
    "    api_key=\"346ac6661e314a9d8b91b6a99202ba42\",\n",
    "    deployment_name=\"gpt-4-8k\",\n",
    ")\n",
    "\n",
    "table_searching_runnable = table_searching_prompt | llm.bind_tools(\n",
    "     [search_table]\n",
    ")\n",
    "\n",
    "\n",
    "# begin of graph\n",
    "builder = StateGraph(State)\n",
    "\n",
    "# node\n",
    "builder.add_node(\"search_table_assistant\", Assistant(table_searching_runnable))\n",
    "builder.set_entry_point(\"search_table_assistant\")\n",
    "builder.add_node(\n",
    "    \"search_table_tools\",\n",
    "    create_tool_node_with_fallback([search_table]),\n",
    ")\n",
    "\n",
    "\n",
    "# edge\n",
    "def route_search_table(\n",
    "    state: State,\n",
    ") -> Literal[\n",
    "    \"search_table_tools\",\n",
    "    \"__end__\",\n",
    "]:\n",
    "    route = tools_condition(state)\n",
    "    if route == END:\n",
    "        return END\n",
    "    return \"search_table_tools\"\n",
    "\n",
    "\n",
    "builder.add_edge(\"search_table_tools\", \"search_table_assistant\")\n",
    "builder.add_conditional_edges(\"search_table_assistant\", route_search_table)"
   ]
  },
  {
   "cell_type": "code",
   "execution_count": 464,
   "id": "52d41ad9-9f7a-4997-aa33-a38449651664",
   "metadata": {},
   "outputs": [],
   "source": [
    "# Compile graph\n",
    "memory = SqliteSaver.from_conn_string(\":memory:\")\n",
    "part_4_graph = builder.compile(\n",
    "    checkpointer=memory,\n",
    ")\n"
   ]
  },
  {
   "cell_type": "code",
   "execution_count": 465,
   "id": "7ca97c8a-8c69-444a-82fc-5c51c91a4c36",
   "metadata": {},
   "outputs": [
    {
     "data": {
      "image/jpeg": "[encoded data removed]",
      "text/plain": [
       "<IPython.core.display.Image object>"
      ]
     },
     "metadata": {},
     "output_type": "display_data"
    }
   ],
   "source": [
    "from IPython.display import Image, display\n",
    "\n",
    "display(Image(part_4_graph.get_graph(xray=True).draw_mermaid_png()))"
   ]
  },
  {
   "cell_type": "code",
   "execution_count": 466,
   "id": "d76a4b76-0d31-4810-8648-b1874e1e029a",
   "metadata": {},
   "outputs": [],
   "source": [
    "import uuid\n",
    "thread_id = str(uuid.uuid4())\n",
    "config = {\n",
    "    \"configurable\": {\n",
    "        # The passenger_id is used in our flight tools to\n",
    "        # fetch the user's flight informatio\n",
    "        # Checkpoints are accessed by thread_id\n",
    "        \"thread_id\": \"198197a5-c74c-463d-8312-ded3f1d94479\",\n",
    "    }\n",
    "}\n",
    "_printed = set()"
   ]
  },
  {
   "cell_type": "code",
   "execution_count": 470,
   "id": "ed544e4c-0068-4e83-9101-134f4d445b85",
   "metadata": {},
   "outputs": [],
   "source": [
    "question = \"G20\"\n",
    "events = part_4_graph.stream(\n",
    "    {\"messages\": (\"user\", question)}, config, stream_mode=\"values\"\n",
    ")"
   ]
  },
  {
   "cell_type": "code",
   "execution_count": 471,
   "id": "67ef1622-d927-4520-8b7c-709b24aae81a",
   "metadata": {},
   "outputs": [
    {
     "name": "stdout",
     "output_type": "stream",
     "text": [
      "================================\u001b[1m Human Message \u001b[0m=================================\n",
      "\n",
      "G20\n"
     ]
    },
    {
     "ename": "KeyboardInterrupt",
     "evalue": "",
     "output_type": "error",
     "traceback": [
      "\u001b[0;31m---------------------------------------------------------------------------\u001b[0m",
      "\u001b[0;31mKeyboardInterrupt\u001b[0m                         Traceback (most recent call last)",
      "File \u001b[0;32m~/mambaforge/envs/python310_chatbot/lib/python3.10/site-packages/langchain_core/runnables/config.py:510\u001b[0m, in \u001b[0;36mget_executor_for_config\u001b[0;34m(config)\u001b[0m\n\u001b[1;32m    507\u001b[0m \u001b[38;5;28;01mwith\u001b[39;00m ContextThreadPoolExecutor(\n\u001b[1;32m    508\u001b[0m     max_workers\u001b[38;5;241m=\u001b[39mconfig\u001b[38;5;241m.\u001b[39mget(\u001b[38;5;124m\"\u001b[39m\u001b[38;5;124mmax_concurrency\u001b[39m\u001b[38;5;124m\"\u001b[39m)\n\u001b[1;32m    509\u001b[0m ) \u001b[38;5;28;01mas\u001b[39;00m executor:\n\u001b[0;32m--> 510\u001b[0m     \u001b[38;5;28;01myield\u001b[39;00m executor\n",
      "File \u001b[0;32m~/mambaforge/envs/python310_chatbot/lib/python3.10/site-packages/langgraph/pregel/__init__.py:952\u001b[0m, in \u001b[0;36mPregel.stream\u001b[0;34m(self, input, config, stream_mode, output_keys, input_keys, interrupt_before, interrupt_after, debug)\u001b[0m\n\u001b[1;32m    951\u001b[0m \u001b[38;5;28;01mwhile\u001b[39;00m futures:\n\u001b[0;32m--> 952\u001b[0m     done, inflight \u001b[38;5;241m=\u001b[39m \u001b[43mconcurrent\u001b[49m\u001b[38;5;241;43m.\u001b[39;49m\u001b[43mfutures\u001b[49m\u001b[38;5;241;43m.\u001b[39;49m\u001b[43mwait\u001b[49m\u001b[43m(\u001b[49m\n\u001b[1;32m    953\u001b[0m \u001b[43m        \u001b[49m\u001b[43mfutures\u001b[49m\u001b[43m,\u001b[49m\n\u001b[1;32m    954\u001b[0m \u001b[43m        \u001b[49m\u001b[43mreturn_when\u001b[49m\u001b[38;5;241;43m=\u001b[39;49m\u001b[43mconcurrent\u001b[49m\u001b[38;5;241;43m.\u001b[39;49m\u001b[43mfutures\u001b[49m\u001b[38;5;241;43m.\u001b[39;49m\u001b[43mFIRST_COMPLETED\u001b[49m\u001b[43m,\u001b[49m\n\u001b[1;32m    955\u001b[0m \u001b[43m        \u001b[49m\u001b[43mtimeout\u001b[49m\u001b[38;5;241;43m=\u001b[39;49m\u001b[38;5;28;43mmax\u001b[39;49m\u001b[43m(\u001b[49m\u001b[38;5;241;43m0\u001b[39;49m\u001b[43m,\u001b[49m\u001b[43m \u001b[49m\u001b[43mend_time\u001b[49m\u001b[43m \u001b[49m\u001b[38;5;241;43m-\u001b[39;49m\u001b[43m \u001b[49m\u001b[43mtime\u001b[49m\u001b[38;5;241;43m.\u001b[39;49m\u001b[43mmonotonic\u001b[49m\u001b[43m(\u001b[49m\u001b[43m)\u001b[49m\u001b[43m)\u001b[49m\n\u001b[1;32m    956\u001b[0m \u001b[43m        \u001b[49m\u001b[38;5;28;43;01mif\u001b[39;49;00m\u001b[43m \u001b[49m\u001b[43mend_time\u001b[49m\n\u001b[1;32m    957\u001b[0m \u001b[43m        \u001b[49m\u001b[38;5;28;43;01melse\u001b[39;49;00m\u001b[43m \u001b[49m\u001b[38;5;28;43;01mNone\u001b[39;49;00m\u001b[43m,\u001b[49m\n\u001b[1;32m    958\u001b[0m \u001b[43m    \u001b[49m\u001b[43m)\u001b[49m\n\u001b[1;32m    959\u001b[0m     \u001b[38;5;28;01mfor\u001b[39;00m fut \u001b[38;5;129;01min\u001b[39;00m done:\n",
      "File \u001b[0;32m~/mambaforge/envs/python310_chatbot/lib/python3.10/concurrent/futures/_base.py:307\u001b[0m, in \u001b[0;36mwait\u001b[0;34m(fs, timeout, return_when)\u001b[0m\n\u001b[1;32m    305\u001b[0m     waiter \u001b[38;5;241m=\u001b[39m _create_and_install_waiters(fs, return_when)\n\u001b[0;32m--> 307\u001b[0m \u001b[43mwaiter\u001b[49m\u001b[38;5;241;43m.\u001b[39;49m\u001b[43mevent\u001b[49m\u001b[38;5;241;43m.\u001b[39;49m\u001b[43mwait\u001b[49m\u001b[43m(\u001b[49m\u001b[43mtimeout\u001b[49m\u001b[43m)\u001b[49m\n\u001b[1;32m    308\u001b[0m \u001b[38;5;28;01mfor\u001b[39;00m f \u001b[38;5;129;01min\u001b[39;00m fs:\n",
      "File \u001b[0;32m~/mambaforge/envs/python310_chatbot/lib/python3.10/threading.py:607\u001b[0m, in \u001b[0;36mEvent.wait\u001b[0;34m(self, timeout)\u001b[0m\n\u001b[1;32m    606\u001b[0m \u001b[38;5;28;01mif\u001b[39;00m \u001b[38;5;129;01mnot\u001b[39;00m signaled:\n\u001b[0;32m--> 607\u001b[0m     signaled \u001b[38;5;241m=\u001b[39m \u001b[38;5;28;43mself\u001b[39;49m\u001b[38;5;241;43m.\u001b[39;49m\u001b[43m_cond\u001b[49m\u001b[38;5;241;43m.\u001b[39;49m\u001b[43mwait\u001b[49m\u001b[43m(\u001b[49m\u001b[43mtimeout\u001b[49m\u001b[43m)\u001b[49m\n\u001b[1;32m    608\u001b[0m \u001b[38;5;28;01mreturn\u001b[39;00m signaled\n",
      "File \u001b[0;32m~/mambaforge/envs/python310_chatbot/lib/python3.10/threading.py:320\u001b[0m, in \u001b[0;36mCondition.wait\u001b[0;34m(self, timeout)\u001b[0m\n\u001b[1;32m    319\u001b[0m \u001b[38;5;28;01mif\u001b[39;00m timeout \u001b[38;5;129;01mis\u001b[39;00m \u001b[38;5;28;01mNone\u001b[39;00m:\n\u001b[0;32m--> 320\u001b[0m     \u001b[43mwaiter\u001b[49m\u001b[38;5;241;43m.\u001b[39;49m\u001b[43macquire\u001b[49m\u001b[43m(\u001b[49m\u001b[43m)\u001b[49m\n\u001b[1;32m    321\u001b[0m     gotit \u001b[38;5;241m=\u001b[39m \u001b[38;5;28;01mTrue\u001b[39;00m\n",
      "\u001b[0;31mKeyboardInterrupt\u001b[0m: ",
      "\nDuring handling of the above exception, another exception occurred:\n",
      "\u001b[0;31mKeyboardInterrupt\u001b[0m                         Traceback (most recent call last)",
      "Cell \u001b[0;32mIn[471], line 1\u001b[0m\n\u001b[0;32m----> 1\u001b[0m \u001b[38;5;28;01mfor\u001b[39;00m event \u001b[38;5;129;01min\u001b[39;00m events:\n\u001b[1;32m      2\u001b[0m     _print_event(event, _printed)\n",
      "File \u001b[0;32m~/mambaforge/envs/python310_chatbot/lib/python3.10/site-packages/langgraph/pregel/__init__.py:795\u001b[0m, in \u001b[0;36mPregel.stream\u001b[0;34m(self, input, config, stream_mode, output_keys, input_keys, interrupt_before, interrupt_after, debug)\u001b[0m\n\u001b[1;32m    793\u001b[0m start \u001b[38;5;241m=\u001b[39m saved\u001b[38;5;241m.\u001b[39mmetadata\u001b[38;5;241m.\u001b[39mget(\u001b[38;5;124m\"\u001b[39m\u001b[38;5;124mstep\u001b[39m\u001b[38;5;124m\"\u001b[39m, \u001b[38;5;241m-\u001b[39m\u001b[38;5;241m2\u001b[39m) \u001b[38;5;241m+\u001b[39m \u001b[38;5;241m1\u001b[39m \u001b[38;5;28;01mif\u001b[39;00m saved \u001b[38;5;28;01melse\u001b[39;00m \u001b[38;5;241m-\u001b[39m\u001b[38;5;241m1\u001b[39m\n\u001b[1;32m    794\u001b[0m \u001b[38;5;66;03m# create channels from checkpoint\u001b[39;00m\n\u001b[0;32m--> 795\u001b[0m \u001b[38;5;28;01mwith\u001b[39;00m ChannelsManager(\n\u001b[1;32m    796\u001b[0m     \u001b[38;5;28mself\u001b[39m\u001b[38;5;241m.\u001b[39mchannels, checkpoint, config\n\u001b[1;32m    797\u001b[0m ) \u001b[38;5;28;01mas\u001b[39;00m channels, get_executor_for_config(\n\u001b[1;32m    798\u001b[0m     config\n\u001b[1;32m    799\u001b[0m ) \u001b[38;5;28;01mas\u001b[39;00m executor, ManagedValuesManager(\n\u001b[1;32m    800\u001b[0m     \u001b[38;5;28mself\u001b[39m\u001b[38;5;241m.\u001b[39mmanaged_values_dict, config, \u001b[38;5;28mself\u001b[39m\n\u001b[1;32m    801\u001b[0m ) \u001b[38;5;28;01mas\u001b[39;00m managed:\n\u001b[1;32m    803\u001b[0m     \u001b[38;5;28;01mdef\u001b[39;00m \u001b[38;5;21mput_checkpoint\u001b[39m(metadata: CheckpointMetadata) \u001b[38;5;241m-\u001b[39m\u001b[38;5;241m>\u001b[39m Iterator[Any]:\n\u001b[1;32m    804\u001b[0m         \u001b[38;5;28;01mnonlocal\u001b[39;00m checkpoint, checkpoint_config, channels\n",
      "File \u001b[0;32m~/mambaforge/envs/python310_chatbot/lib/python3.10/contextlib.py:153\u001b[0m, in \u001b[0;36m_GeneratorContextManager.__exit__\u001b[0;34m(self, typ, value, traceback)\u001b[0m\n\u001b[1;32m    151\u001b[0m     value \u001b[38;5;241m=\u001b[39m typ()\n\u001b[1;32m    152\u001b[0m \u001b[38;5;28;01mtry\u001b[39;00m:\n\u001b[0;32m--> 153\u001b[0m     \u001b[38;5;28;43mself\u001b[39;49m\u001b[38;5;241;43m.\u001b[39;49m\u001b[43mgen\u001b[49m\u001b[38;5;241;43m.\u001b[39;49m\u001b[43mthrow\u001b[49m\u001b[43m(\u001b[49m\u001b[43mtyp\u001b[49m\u001b[43m,\u001b[49m\u001b[43m \u001b[49m\u001b[43mvalue\u001b[49m\u001b[43m,\u001b[49m\u001b[43m \u001b[49m\u001b[43mtraceback\u001b[49m\u001b[43m)\u001b[49m\n\u001b[1;32m    154\u001b[0m \u001b[38;5;28;01mexcept\u001b[39;00m \u001b[38;5;167;01mStopIteration\u001b[39;00m \u001b[38;5;28;01mas\u001b[39;00m exc:\n\u001b[1;32m    155\u001b[0m     \u001b[38;5;66;03m# Suppress StopIteration *unless* it's the same exception that\u001b[39;00m\n\u001b[1;32m    156\u001b[0m     \u001b[38;5;66;03m# was passed to throw().  This prevents a StopIteration\u001b[39;00m\n\u001b[1;32m    157\u001b[0m     \u001b[38;5;66;03m# raised inside the \"with\" statement from being suppressed.\u001b[39;00m\n\u001b[1;32m    158\u001b[0m     \u001b[38;5;28;01mreturn\u001b[39;00m exc \u001b[38;5;129;01mis\u001b[39;00m \u001b[38;5;129;01mnot\u001b[39;00m value\n",
      "File \u001b[0;32m~/mambaforge/envs/python310_chatbot/lib/python3.10/site-packages/langchain_core/runnables/config.py:507\u001b[0m, in \u001b[0;36mget_executor_for_config\u001b[0;34m(config)\u001b[0m\n\u001b[1;32m    498\u001b[0m \u001b[38;5;250m\u001b[39m\u001b[38;5;124;03m\"\"\"Get an executor for a config.\u001b[39;00m\n\u001b[1;32m    499\u001b[0m \n\u001b[1;32m    500\u001b[0m \u001b[38;5;124;03mArgs:\u001b[39;00m\n\u001b[0;32m   (...)\u001b[0m\n\u001b[1;32m    504\u001b[0m \u001b[38;5;124;03m    Generator[Executor, None, None]: The executor.\u001b[39;00m\n\u001b[1;32m    505\u001b[0m \u001b[38;5;124;03m\"\"\"\u001b[39;00m\n\u001b[1;32m    506\u001b[0m config \u001b[38;5;241m=\u001b[39m config \u001b[38;5;129;01mor\u001b[39;00m {}\n\u001b[0;32m--> 507\u001b[0m \u001b[38;5;28;01mwith\u001b[39;00m ContextThreadPoolExecutor(\n\u001b[1;32m    508\u001b[0m     max_workers\u001b[38;5;241m=\u001b[39mconfig\u001b[38;5;241m.\u001b[39mget(\u001b[38;5;124m\"\u001b[39m\u001b[38;5;124mmax_concurrency\u001b[39m\u001b[38;5;124m\"\u001b[39m)\n\u001b[1;32m    509\u001b[0m ) \u001b[38;5;28;01mas\u001b[39;00m executor:\n\u001b[1;32m    510\u001b[0m     \u001b[38;5;28;01myield\u001b[39;00m executor\n",
      "File \u001b[0;32m~/mambaforge/envs/python310_chatbot/lib/python3.10/concurrent/futures/_base.py:649\u001b[0m, in \u001b[0;36mExecutor.__exit__\u001b[0;34m(self, exc_type, exc_val, exc_tb)\u001b[0m\n\u001b[1;32m    648\u001b[0m \u001b[38;5;28;01mdef\u001b[39;00m \u001b[38;5;21m__exit__\u001b[39m(\u001b[38;5;28mself\u001b[39m, exc_type, exc_val, exc_tb):\n\u001b[0;32m--> 649\u001b[0m     \u001b[38;5;28;43mself\u001b[39;49m\u001b[38;5;241;43m.\u001b[39;49m\u001b[43mshutdown\u001b[49m\u001b[43m(\u001b[49m\u001b[43mwait\u001b[49m\u001b[38;5;241;43m=\u001b[39;49m\u001b[38;5;28;43;01mTrue\u001b[39;49;00m\u001b[43m)\u001b[49m\n\u001b[1;32m    650\u001b[0m     \u001b[38;5;28;01mreturn\u001b[39;00m \u001b[38;5;28;01mFalse\u001b[39;00m\n",
      "File \u001b[0;32m~/mambaforge/envs/python310_chatbot/lib/python3.10/concurrent/futures/thread.py:235\u001b[0m, in \u001b[0;36mThreadPoolExecutor.shutdown\u001b[0;34m(self, wait, cancel_futures)\u001b[0m\n\u001b[1;32m    233\u001b[0m \u001b[38;5;28;01mif\u001b[39;00m wait:\n\u001b[1;32m    234\u001b[0m     \u001b[38;5;28;01mfor\u001b[39;00m t \u001b[38;5;129;01min\u001b[39;00m \u001b[38;5;28mself\u001b[39m\u001b[38;5;241m.\u001b[39m_threads:\n\u001b[0;32m--> 235\u001b[0m         \u001b[43mt\u001b[49m\u001b[38;5;241;43m.\u001b[39;49m\u001b[43mjoin\u001b[49m\u001b[43m(\u001b[49m\u001b[43m)\u001b[49m\n",
      "File \u001b[0;32m~/mambaforge/envs/python310_chatbot/lib/python3.10/threading.py:1096\u001b[0m, in \u001b[0;36mThread.join\u001b[0;34m(self, timeout)\u001b[0m\n\u001b[1;32m   1093\u001b[0m     \u001b[38;5;28;01mraise\u001b[39;00m \u001b[38;5;167;01mRuntimeError\u001b[39;00m(\u001b[38;5;124m\"\u001b[39m\u001b[38;5;124mcannot join current thread\u001b[39m\u001b[38;5;124m\"\u001b[39m)\n\u001b[1;32m   1095\u001b[0m \u001b[38;5;28;01mif\u001b[39;00m timeout \u001b[38;5;129;01mis\u001b[39;00m \u001b[38;5;28;01mNone\u001b[39;00m:\n\u001b[0;32m-> 1096\u001b[0m     \u001b[38;5;28;43mself\u001b[39;49m\u001b[38;5;241;43m.\u001b[39;49m\u001b[43m_wait_for_tstate_lock\u001b[49m\u001b[43m(\u001b[49m\u001b[43m)\u001b[49m\n\u001b[1;32m   1097\u001b[0m \u001b[38;5;28;01melse\u001b[39;00m:\n\u001b[1;32m   1098\u001b[0m     \u001b[38;5;66;03m# the behavior of a negative timeout isn't documented, but\u001b[39;00m\n\u001b[1;32m   1099\u001b[0m     \u001b[38;5;66;03m# historically .join(timeout=x) for x<0 has acted as if timeout=0\u001b[39;00m\n\u001b[1;32m   1100\u001b[0m     \u001b[38;5;28mself\u001b[39m\u001b[38;5;241m.\u001b[39m_wait_for_tstate_lock(timeout\u001b[38;5;241m=\u001b[39m\u001b[38;5;28mmax\u001b[39m(timeout, \u001b[38;5;241m0\u001b[39m))\n",
      "File \u001b[0;32m~/mambaforge/envs/python310_chatbot/lib/python3.10/threading.py:1116\u001b[0m, in \u001b[0;36mThread._wait_for_tstate_lock\u001b[0;34m(self, block, timeout)\u001b[0m\n\u001b[1;32m   1113\u001b[0m     \u001b[38;5;28;01mreturn\u001b[39;00m\n\u001b[1;32m   1115\u001b[0m \u001b[38;5;28;01mtry\u001b[39;00m:\n\u001b[0;32m-> 1116\u001b[0m     \u001b[38;5;28;01mif\u001b[39;00m \u001b[43mlock\u001b[49m\u001b[38;5;241;43m.\u001b[39;49m\u001b[43macquire\u001b[49m\u001b[43m(\u001b[49m\u001b[43mblock\u001b[49m\u001b[43m,\u001b[49m\u001b[43m \u001b[49m\u001b[43mtimeout\u001b[49m\u001b[43m)\u001b[49m:\n\u001b[1;32m   1117\u001b[0m         lock\u001b[38;5;241m.\u001b[39mrelease()\n\u001b[1;32m   1118\u001b[0m         \u001b[38;5;28mself\u001b[39m\u001b[38;5;241m.\u001b[39m_stop()\n",
      "\u001b[0;31mKeyboardInterrupt\u001b[0m: "
     ]
    }
   ],
   "source": [
    "for event in events:\n",
    "    _print_event(event, _printed)"
   ]
  },
  {
   "cell_type": "code",
   "execution_count": 469,
   "id": "20483ca7-b990-4a35-98e7-f6b45764689a",
   "metadata": {},
   "outputs": [
    {
     "data": {
      "text/plain": [
       "StateSnapshot(values={'messages': [HumanMessage(content='扫地机电源线多长', id='4284e44b-4c6d-48fd-a8e9-d36f0e2ed4e9'), AIMessage(content='', additional_kwargs={'tool_calls': [{'id': 'call_cHwaHy4KGZdFrWbmGAAXPxHU', 'function': {'arguments': '{\\n  \"question\": \"扫地机电源线多长\"\\n}', 'name': 'search_table'}, 'type': 'function'}]}, response_metadata={'token_usage': {'completion_tokens': 23, 'prompt_tokens': 87, 'total_tokens': 110}, 'model_name': 'gpt-4', 'system_fingerprint': None, 'prompt_filter_results': [{'prompt_index': 0, 'content_filter_results': {'hate': {'filtered': False, 'severity': 'safe'}, 'self_harm': {'filtered': False, 'severity': 'safe'}, 'sexual': {'filtered': False, 'severity': 'safe'}, 'violence': {'filtered': False, 'severity': 'safe'}}}], 'finish_reason': 'tool_calls', 'logprobs': None, 'content_filter_results': {}}, name='search_table_assistant', id='run-0e502cae-9dd0-4aa4-a4c8-2f8bb659690a-0', tool_calls=[{'name': 'search_table', 'args': {'question': '扫地机电源线多长'}, 'id': 'call_cHwaHy4KGZdFrWbmGAAXPxHU'}], usage_metadata={'input_tokens': 87, 'output_tokens': 23, 'total_tokens': 110}), ToolMessage(content='问题中需要提供型号名称才能完成搜索', name='search_table', id='2de94a36-5def-4dc5-8e1d-8327977a61b1', tool_call_id='call_cHwaHy4KGZdFrWbmGAAXPxHU'), AIMessage(content='问题中需要提供型号名称才能完成搜索', name='search_table_assistant', id='6bab9c17-d2ef-486f-8de0-cffd24a26995')]}, next=(), config={'configurable': {'thread_id': '198197a5-c74c-463d-8312-ded3f1d94479', 'thread_ts': '1ef39b35-bfd2-6d3b-8003-48a2b5081e62'}}, metadata={'source': 'loop', 'step': 3, 'writes': {'search_table_assistant': {'messages': AIMessage(content='问题中需要提供型号名称才能完成搜索', name='search_table_assistant', id='6bab9c17-d2ef-486f-8de0-cffd24a26995')}}}, created_at='2024-07-04T03:13:17.702249+00:00', parent_config={'configurable': {'thread_id': '198197a5-c74c-463d-8312-ded3f1d94479', 'thread_ts': '1ef39b35-bfc8-6629-8002-5ab3a83d4f9d'}})"
      ]
     },
     "execution_count": 469,
     "metadata": {},
     "output_type": "execute_result"
    }
   ],
   "source": [
    "part_4_graph.get_state(config)"
   ]
  },
  {
   "cell_type": "code",
   "execution_count": 461,
   "id": "dc86b4ee-8c83-46d2-8c3b-6d18e6608145",
   "metadata": {},
   "outputs": [
    {
     "data": {
      "text/plain": [
       "StateSnapshot(values={'messages': [HumanMessage(content='你好', id='d2aaca13-0672-487d-a998-6a39d6fc96f5'), AIMessage(content='你好，有什么可以帮助您的吗？', response_metadata={'token_usage': {'completion_tokens': 18, 'prompt_tokens': 80, 'total_tokens': 98}, 'model_name': 'gpt-4', 'system_fingerprint': None, 'prompt_filter_results': [{'prompt_index': 0, 'content_filter_results': {'hate': {'filtered': False, 'severity': 'safe'}, 'self_harm': {'filtered': False, 'severity': 'safe'}, 'sexual': {'filtered': False, 'severity': 'safe'}, 'violence': {'filtered': False, 'severity': 'safe'}}}], 'finish_reason': 'stop', 'logprobs': None, 'content_filter_results': {'hate': {'filtered': False, 'severity': 'safe'}, 'self_harm': {'filtered': False, 'severity': 'safe'}, 'sexual': {'filtered': False, 'severity': 'safe'}, 'violence': {'filtered': False, 'severity': 'safe'}}}, id='run-9bacfc6e-27cf-4175-add7-304ac95a0e00-0', usage_metadata={'input_tokens': 80, 'output_tokens': 18, 'total_tokens': 98}), HumanMessage(content='扫地机电源线多长', id='5cca9a71-34d1-4aff-a9a8-6f954b765343'), AIMessage(content='', additional_kwargs={'tool_calls': [{'id': 'call_5anG6K4PwyBDh4eQXVFDN0F4', 'function': {'arguments': '{\\n  \"question\": \"扫地机电源线多长\"\\n}', 'name': 'search_table'}, 'type': 'function'}]}, response_metadata={'token_usage': {'completion_tokens': 23, 'prompt_tokens': 114, 'total_tokens': 137}, 'model_name': 'gpt-4', 'system_fingerprint': None, 'prompt_filter_results': [{'prompt_index': 0, 'content_filter_results': {'hate': {'filtered': False, 'severity': 'safe'}, 'self_harm': {'filtered': False, 'severity': 'safe'}, 'sexual': {'filtered': False, 'severity': 'safe'}, 'violence': {'filtered': False, 'severity': 'safe'}}}], 'finish_reason': 'tool_calls', 'logprobs': None, 'content_filter_results': {}}, id='run-80fc323d-5aa0-4c92-b35f-cd1a43a6cee8-0', tool_calls=[{'name': 'search_table', 'args': {'question': '扫地机电源线多长'}, 'id': 'call_5anG6K4PwyBDh4eQXVFDN0F4'}], usage_metadata={'input_tokens': 114, 'output_tokens': 23, 'total_tokens': 137}), ToolMessage(content='问题中需要提供型号名称才能完成搜索', name='search_table', id='30f47e67-7c05-4d62-b856-cc13f7d49df1', tool_call_id='call_5anG6K4PwyBDh4eQXVFDN0F4'), AIMessage(content='问题中需要提供型号名称才能完成搜索', id='5aaadc6c-96b0-4316-a3ff-130eb9d86437')]}, next=(), config={'configurable': {'thread_id': '198197a5-c74c-463d-8312-ded3f1d94479', 'thread_ts': '1ef39b2f-3497-63e0-8006-7e19ed068e96'}}, metadata={'source': 'loop', 'step': 6, 'writes': {'search_table_assistant': {'messages': AIMessage(content='问题中需要提供型号名称才能完成搜索', id='5aaadc6c-96b0-4316-a3ff-130eb9d86437')}}}, created_at='2024-07-04T03:10:22.041364+00:00', parent_config={'configurable': {'thread_id': '198197a5-c74c-463d-8312-ded3f1d94479', 'thread_ts': '1ef39b2f-348c-6b4a-8005-5f4e7972b057'}})"
      ]
     },
     "execution_count": 461,
     "metadata": {},
     "output_type": "execute_result"
    }
   ],
   "source": [
    "part_4_graph.get_state(config)"
   ]
  },
  {
   "cell_type": "code",
   "execution_count": null,
   "id": "53685c52-d7a1-4cc5-bdd5-7867d5a03238",
   "metadata": {},
   "outputs": [],
   "source": []
  },
  {
   "cell_type": "code",
   "execution_count": 125,
   "id": "005fae71-a227-4e1b-99a1-c1416c77d0ca",
   "metadata": {},
   "outputs": [],
   "source": [
    "result = table_searching_runnable.invoke({\"messages\": [\"你好\"]})"
   ]
  },
  {
   "cell_type": "code",
   "execution_count": 126,
   "id": "be79bad4-f99d-4aaa-b488-225750144e3b",
   "metadata": {},
   "outputs": [
    {
     "data": {
      "text/plain": [
       "AIMessage(content='你好，有什么可以帮助你的吗？', response_metadata={'token_usage': {'completion_tokens': 18, 'prompt_tokens': 109, 'total_tokens': 127}, 'model_name': 'gpt-4', 'system_fingerprint': None, 'prompt_filter_results': [{'prompt_index': 0, 'content_filter_results': {'hate': {'filtered': False, 'severity': 'safe'}, 'self_harm': {'filtered': False, 'severity': 'safe'}, 'sexual': {'filtered': False, 'severity': 'safe'}, 'violence': {'filtered': False, 'severity': 'safe'}}}], 'finish_reason': 'stop', 'logprobs': None, 'content_filter_results': {'hate': {'filtered': False, 'severity': 'safe'}, 'self_harm': {'filtered': False, 'severity': 'safe'}, 'sexual': {'filtered': False, 'severity': 'safe'}, 'violence': {'filtered': False, 'severity': 'safe'}}}, id='run-1bf6ec82-65fa-433a-9893-1eee8a65189f-0', usage_metadata={'input_tokens': 109, 'output_tokens': 18, 'total_tokens': 127})"
      ]
     },
     "execution_count": 126,
     "metadata": {},
     "output_type": "execute_result"
    }
   ],
   "source": [
    "result"
   ]
  },
  {
   "cell_type": "code",
   "execution_count": 128,
   "id": "e875c768-aa32-43c0-94bd-c23ed45ab90e",
   "metadata": {},
   "outputs": [
    {
     "data": {
      "text/plain": [
       "AIMessage(content='你好，有什么可以帮助你的吗？', response_metadata={'token_usage': {'completion_tokens': 18, 'prompt_tokens': 109, 'total_tokens': 127}, 'model_name': 'gpt-4', 'system_fingerprint': None, 'prompt_filter_results': [{'prompt_index': 0, 'content_filter_results': {'hate': {'filtered': False, 'severity': 'safe'}, 'self_harm': {'filtered': False, 'severity': 'safe'}, 'sexual': {'filtered': False, 'severity': 'safe'}, 'violence': {'filtered': False, 'severity': 'safe'}}}], 'finish_reason': 'stop', 'logprobs': None, 'content_filter_results': {'hate': {'filtered': False, 'severity': 'safe'}, 'self_harm': {'filtered': False, 'severity': 'safe'}, 'sexual': {'filtered': False, 'severity': 'safe'}, 'violence': {'filtered': False, 'severity': 'safe'}}}, name='ddd', id='run-1bf6ec82-65fa-433a-9893-1eee8a65189f-0', usage_metadata={'input_tokens': 109, 'output_tokens': 18, 'total_tokens': 127})"
      ]
     },
     "execution_count": 128,
     "metadata": {},
     "output_type": "execute_result"
    }
   ],
   "source": [
    "AIMessage(**result.dict(exclude={\"type\", \"name\"}), name=\"ddd\")"
   ]
  },
  {
   "cell_type": "code",
   "execution_count": null,
   "id": "f28d63fc-67b0-49e1-bc50-b98e36582b6e",
   "metadata": {},
   "outputs": [],
   "source": []
  },
  {
   "cell_type": "code",
   "execution_count": null,
   "id": "4004efc5-4452-46d0-bb0b-009174755f27",
   "metadata": {},
   "outputs": [],
   "source": []
  },
  {
   "cell_type": "code",
   "execution_count": 81,
   "id": "ba5691ec-8e01-4bfd-b337-08778fd59f63",
   "metadata": {},
   "outputs": [
    {
     "data": {
      "image/jpeg": "[encoded data removed]",
      "text/plain": [
       "<IPython.core.display.Image object>"
      ]
     },
     "metadata": {},
     "output_type": "display_data"
    }
   ],
   "source": [
    "import getpass\n",
    "import os\n",
    "from find_keywords import LabellerByRulesWithPos\n",
    "from pipeline import NL2SQLPineline\n",
    "from vector_db import ChromaDB\n",
    "from search_engine import QAVectorDBSearchEngine\n",
    "from recall import RecallBySearchEngine\n",
    "from nl2sql import SimpleLookup\n",
    "from langchain_core.tools import tool\n",
    "from typing import Annotated, Optional\n",
    "from typing_extensions import TypedDict\n",
    "from langgraph.graph.message import AnyMessage, add_messages\n",
    "from langchain_core.prompts import ChatPromptTemplate\n",
    "from langchain_core.pydantic_v1 import BaseModel, Field\n",
    "from langchain_core.runnables import Runnable, RunnableConfig\n",
    "from langchain_openai import AzureChatOpenAI\n",
    "from typing import Callable\n",
    "from typing import Literal\n",
    "from langchain_core.messages import ToolMessage\n",
    "from langchain_core.runnables import RunnableLambda\n",
    "from langgraph.prebuilt import ToolNode\n",
    "from langgraph.graph import END, StateGraph\n",
    "from langgraph.prebuilt import tools_condition\n",
    "from langgraph.checkpoint.sqlite import SqliteSaver\n",
    "#%%\n",
    "def handle_tool_error(state) -> dict:\n",
    "    error = state.get(\"error\")\n",
    "    tool_calls = state[\"messages\"][-1].tool_calls\n",
    "    return {\n",
    "        \"messages\": [\n",
    "            ToolMessage(\n",
    "                content=f\"Error: {repr(error)}\\n please fix your mistakes.\",\n",
    "                tool_call_id=tc[\"id\"],\n",
    "            )\n",
    "            for tc in tool_calls\n",
    "        ]\n",
    "    }\n",
    "\n",
    "\n",
    "def create_tool_node_with_fallback(tools: list) -> dict:\n",
    "    return ToolNode(tools).with_fallbacks(\n",
    "        [RunnableLambda(handle_tool_error)], exception_key=\"error\"\n",
    "    )\n",
    "\n",
    "\n",
    "def _print_event(event: dict, _printed: set, max_length=1500):\n",
    "    current_state = event.get(\"dialog_state\")\n",
    "    if current_state:\n",
    "        print(\"Currently in: \", current_state[-1])\n",
    "    message = event.get(\"messages\")\n",
    "    if message:\n",
    "        if isinstance(message, list):\n",
    "            message = message[-1]\n",
    "        if message.id not in _printed:\n",
    "            msg_repr = message.pretty_repr(html=True)\n",
    "            if len(msg_repr) > max_length:\n",
    "                msg_repr = msg_repr[:max_length] + \" ... (truncated)\"\n",
    "            print(msg_repr)\n",
    "            _printed.add(message.id)\n",
    "\n",
    "#%%\n",
    "router_config = {\n",
    "    \"class\": LabellerByRulesWithPos,\n",
    "    \"config\": {\n",
    "        \"dim_df_path\": \"data/dim_df20240619.csv\",\n",
    "        \"model_col\": (\"model\", \"model\"),\n",
    "        \"cat_col\": (\"cat_cn\", \"cat\"),\n",
    "        \"error_col\": (\"error\", \"error\"),\n",
    "        \"ner_model_path\": \"/workspace/data/private/zhuxiaohai/models/bert_finetuned_ner_augmented/\"\n",
    "    }\n",
    "}\n",
    "\n",
    "recall_config = {\n",
    "    \"class\": RecallBySearchEngine,\n",
    "    \"config\": {\n",
    "        \"search_engine\": {\n",
    "            \"class\": QAVectorDBSearchEngine,\n",
    "            \"docs_path\": \"data/table_entity.csv\",\n",
    "            \"docs_col\": \"entity_name\",\n",
    "            \"ids_col\": \"ids\",\n",
    "            \"metadata_cols\": [\"sweeping\", \"washing\", \"mopping\", \"content\"],\n",
    "            \"collection_name\": \"table_entity\",\n",
    "            \"reset\": False,\n",
    "            \"encoder_path\": \"/workspace/data/private/zhuxiaohai/models/bge_finetuned_emb_ner_link\",\n",
    "            \"vector_db\": {\n",
    "                \"class\": ChromaDB,\n",
    "                \"host\": \"/data/dataset/kefu/chroma\",\n",
    "            },\n",
    "        },\n",
    "    },\n",
    "    \"top_n\": 1,\n",
    "}\n",
    "\n",
    "nl2sql_config = {\n",
    "    \"class\": SimpleLookup,\n",
    "    \"config\": {\n",
    "        \"db_absolute_path\": \"/root/PycharmProjects/rockchat/data/model_params.db\",\n",
    "        \"reset\": False,\n",
    "        \"df_path\": \"/root/PycharmProjects/rockchat/data/model_params20240620.csv\",\n",
    "        \"table_name\": \"model_params20240620\",\n",
    "        \"output_type\": \"markdown\"\n",
    "    }\n",
    "}\n",
    "\n",
    "pipeline_config = {\n",
    "    \"router\": router_config,\n",
    "    \"recall\": recall_config,\n",
    "    \"nl2sql\": nl2sql_config,\n",
    "}\n",
    "\n",
    "nl2sql_pipeline = NL2SQLPineline(pipeline_config)\n",
    "#%%\n",
    "@tool\n",
    "def fetch_table(request: str) -> str:\n",
    "    \"\"\"Consult a table about robot model parameters according to the query,\n",
    "    and return the results.\"\"\"\n",
    "    results = nl2sql_pipeline.run(request)\n",
    "    return results\n",
    "\n",
    "\n",
    "def update_dialog_stack(left: list[str], right: Optional[str]) -> list[str]:\n",
    "    \"\"\"Push or pop the state.\"\"\"\n",
    "    if right is None:\n",
    "        return left\n",
    "    if right == \"pop\":\n",
    "        return left[:-1]\n",
    "    return left + [right]\n",
    "\n",
    "\n",
    "class State(TypedDict):\n",
    "    messages: Annotated[list[AnyMessage], add_messages]\n",
    "    dialog_state: Annotated[\n",
    "        list[\n",
    "            Literal[\n",
    "                \"assistant\",\n",
    "                \"fetch_table\",\n",
    "            ]\n",
    "        ],\n",
    "        update_dialog_stack,\n",
    "    ]\n",
    "\n",
    "class Assistant:\n",
    "    def __init__(self, runnable: Runnable):\n",
    "        self.runnable = runnable\n",
    "\n",
    "    def __call__(self, state: State, config: RunnableConfig):\n",
    "        while True:\n",
    "            result = self.runnable.invoke(state)\n",
    "            if not result.tool_calls and (\n",
    "                not result.content\n",
    "                or isinstance(result.content, list)\n",
    "                and not result.content[0].get(\"text\")\n",
    "            ):\n",
    "                messages = state[\"messages\"] + [(\"user\", \"Respond with a real output.\")]\n",
    "                state = {**state, \"messages\": messages}\n",
    "                messages = state[\"messages\"] + [(\"user\", \"Respond with a real output.\")]\n",
    "                state = {**state, \"messages\": messages}\n",
    "            else:\n",
    "                break\n",
    "        return {\"messages\": result}\n",
    "\n",
    "\n",
    "class CompleteOrEscalate(BaseModel):\n",
    "    \"\"\"A tool to mark the current task as completed and/or to escalate control of the dialog to the main assistant,\n",
    "    who can re-route the dialog based on the user's needs.\"\"\"\n",
    "    class Config:\n",
    "        schema_extra = {\n",
    "            \"example 1\": {\n",
    "                \"cancel\": True,\n",
    "                \"reason\": \"I have fully completed the task.\",\n",
    "            },\n",
    "            \"example 2\": {\n",
    "                \"cancel\": False,\n",
    "                \"reason\": \"I need to get more information about robot model names.\",\n",
    "            },\n",
    "        }\n",
    "    cancel: bool = Field(description=\"If the current task should be canceled.\")\n",
    "    reason: str = Field(description=\"reason for cancelling or not\")\n",
    "#%%\n",
    "# Table Searching Assistant\n",
    "table_searching_prompt = ChatPromptTemplate.from_messages(\n",
    "    [\n",
    "        (\n",
    "            \"system\",\n",
    "            \"You are a specialized assistant for searching table about robot model parameters.\"\n",
    "            \"The primary assistant delegates work to you whenever the user needs to know parameters about robot models.\"\n",
    "            \"The query must have robot model names such as A10, G20, H1 and so on to complete the search, and\"\n",
    "            ' if it does not have that information, use the tool \"CompleteOrEscalate\" to escalate the task back to the main assistant, '\n",
    "            \" but remember to set cancel = False.\"\n",
    "            'If you have successfully used the \"fetch_table\" tool, please use \"CompleteOrEscalate\" tool to escalate the task back to the main assistant.'\n",
    "            \"\\n\\nIf none of your tools are appropriate, then use the tool \"\n",
    "            ' \"CompleteOrEscalate\" to send the dialog back to the host assistant. Do not waste the user\\'s time. Do not make up invalid tools or functions.'\n",
    "            \"directly use the user query as input to your tools, and don't make any translations or rephrases.\",\n",
    "        ),\n",
    "        (\"placeholder\", \"{messages}\"),\n",
    "    ]\n",
    ")\n",
    "llm = AzureChatOpenAI(\n",
    "    api_version=\"2024-02-15-preview\",\n",
    "    azure_endpoint=\"https://csagent.openai.azure.com/\",\n",
    "    api_key=\"346ac6661e314a9d8b91b6a99202ba42\",\n",
    "    deployment_name=\"gpt-4-8k\",\n",
    ")\n",
    "table_searching_runnable = table_searching_prompt | llm.bind_tools(\n",
    "     [CompleteOrEscalate, fetch_table]\n",
    ")\n",
    "#%%\n",
    "# Primary Assistant\n",
    "class ToTableSearchingAssistant(BaseModel):\n",
    "    \"\"\"Transfers work to a specialized assistant to search table for robot model parameters.\"\"\"\n",
    "    request: str = Field(\n",
    "        description=\"directly use the user query as input to the specialized assistant, and don't make any translations or rephrases.\"\n",
    "    )\n",
    "llm_p = AzureChatOpenAI(\n",
    "    api_version=\"2024-02-15-preview\",\n",
    "    azure_endpoint=\"https://csagent.openai.azure.com/\",\n",
    "    api_key=\"346ac6661e314a9d8b91b6a99202ba42\",\n",
    "    deployment_name=\"gpt-4-8k\",\n",
    ")\n",
    "primary_assistant_prompt = ChatPromptTemplate.from_messages(\n",
    "    [\n",
    "        (\n",
    "            \"system\",\n",
    "            \"You are a helpful customer support assistant for home cleaning robot. \"\n",
    "            \"Your primary role is to answer customer queries about the home cleaning robot. \"\n",
    "            \"If a customer requests you to answer some questions outof the scope just reject to answer.\"\n",
    "            \"If a customer requests to know some parameter of a robot, \"\n",
    "            \"delegate the task to the appropriate specialized assistant by invoking the corresponding tool. You are not able to make these types of changes yourself.\"\n",
    "            \" Only the specialized assistants are given permission to do this for the user.\"\n",
    "            \"The user is not aware of the different specialized assistants, so do not mention them; just quietly delegate through function calls. \"\n",
    "            \" When searching, be persistent. Expand your query bounds if the first search returns no results. \"\n",
    "            \" If a search comes up empty, expand your search before giving up.\"\n",
    "        ),\n",
    "        (\"placeholder\", \"{messages}\"),\n",
    "    ]\n",
    ")\n",
    "assistant_runnable = primary_assistant_prompt | llm_p.bind_tools(\n",
    "    [\n",
    "        ToTableSearchingAssistant\n",
    "    ]\n",
    ")\n",
    "\n",
    "\n",
    "def create_entry_node(assistant_name: str, new_dialog_state: str) -> Callable:\n",
    "    def entry_node(state: State) -> dict:\n",
    "        tool_call_id = state[\"messages\"][-1].tool_calls[0][\"id\"]\n",
    "        request = state[\"messages\"][-1].tool_calls[0][\"args\"][\"request\"]\n",
    "        return {\n",
    "            \"messages\": [\n",
    "                ToolMessage(\n",
    "                    content=f\"The assistant is now the {assistant_name}. Reflect on the above conversation between the host assistant and the user.\"\n",
    "                    f\" The user's intent is unsatisfied. Use the provided tools to assist the user. Remember, you are {assistant_name},\"\n",
    "                    \" and the task is not complete until after you have successfully invoked the appropriate tool.\"       \n",
    "                    \" If the you needs more information to complete the task, call the CompleteOrEscalate function to let the primary host assistant take control.\"\n",
    "                    \"If you successfullyt complete the task, call the CompleteOrEscalate function to let the primary host assistant take control.\"\n",
    "                    \" Do not mention who you are - just act as the proxy for the assistant.\"\n",
    "                    \"Directly use the request below as input to your tools and don't translate into English or rephase.\"\n",
    "                    f\"\\n\\nrequest: {request}\",\n",
    "                    tool_call_id=tool_call_id,\n",
    "                )\n",
    "            ],\n",
    "            \"dialog_state\": new_dialog_state,\n",
    "        }\n",
    "    return entry_node\n",
    "#%%\n",
    "builder = StateGraph(State)\n",
    "#%%\n",
    "# fetch table assistant\n",
    "builder.add_node(\n",
    "    \"enter_search_table\",\n",
    "    create_entry_node(\"Assistant of Searching Robot Model Parameters\", \"fetch_table\"),\n",
    ")\n",
    "builder.add_node(\"fetch_table\", Assistant(table_searching_runnable))\n",
    "builder.add_edge(\"enter_search_table\", \"fetch_table\")\n",
    "builder.add_node(\n",
    "    \"fetch_table_tools\",\n",
    "    create_tool_node_with_fallback([fetch_table]),\n",
    ")\n",
    "\n",
    "\n",
    "def route_fetch_table(\n",
    "    state: State,\n",
    ") -> Literal[\n",
    "    \"fetch_table_tools\",\n",
    "    \"leave_skill\",\n",
    "    \"__end__\",\n",
    "]:\n",
    "    route = tools_condition(state)\n",
    "    if route == END:\n",
    "        return END\n",
    "    tool_calls = state[\"messages\"][-1].tool_calls\n",
    "    did_cancel = any(tc[\"name\"] == CompleteOrEscalate.__name__ for tc in tool_calls)\n",
    "    if did_cancel:\n",
    "        return \"leave_skill\"\n",
    "    return \"fetch_table_tools\"\n",
    "\n",
    "\n",
    "builder.add_edge(\"fetch_table_tools\", \"fetch_table\")\n",
    "builder.add_conditional_edges(\"fetch_table\", route_fetch_table)\n",
    "#%%\n",
    "# This node will be shared for exiting all specialized assistants\n",
    "def pop_dialog_state(state: State) -> dict:\n",
    "    \"\"\"Pop the dialog stack and return to the main assistant.\n",
    "\n",
    "    This lets the full graph explicitly track the dialog flow and delegate control\n",
    "    to specific sub-graphs.\n",
    "    \"\"\"\n",
    "    messages = []\n",
    "    if state[\"messages\"][-1].tool_calls:\n",
    "        # Note: Doesn't currently handle the edge case where the llm performs parallel tool calls\n",
    "        messages.append(\n",
    "            ToolMessage(\n",
    "                content=\"Resuming dialog with the host assistant. Please reflect on the past conversation and assist the user as needed.\",\n",
    "                tool_call_id=state[\"messages\"][-1].tool_calls[0][\"id\"],\n",
    "            )\n",
    "        )\n",
    "    return {\n",
    "        \"dialog_state\": \"pop\",\n",
    "        \"messages\": messages,\n",
    "    }\n",
    "\n",
    "\n",
    "builder.add_node(\"leave_skill\", pop_dialog_state)\n",
    "builder.add_edge(\"leave_skill\", \"primary_assistant\")\n",
    "#%%\n",
    "# Primary assistant\n",
    "builder.add_node(\"primary_assistant\", Assistant(assistant_runnable))\n",
    "builder.set_entry_point(\"primary_assistant\")\n",
    "\n",
    "def route_primary_assistant(\n",
    "    state: State,\n",
    ") -> Literal[\n",
    "    \"enter_search_table\",\n",
    "    \"__end__\",\n",
    "]:\n",
    "    route = tools_condition(state)\n",
    "    if route == END:\n",
    "        return END\n",
    "    tool_calls = state[\"messages\"][-1].tool_calls\n",
    "    if tool_calls:\n",
    "        if tool_calls[0][\"name\"] == ToTableSearchingAssistant.__name__:\n",
    "            return \"enter_search_table\"\n",
    "    raise ValueError(\"Invalid route\")\n",
    "\n",
    "\n",
    "# The assistant can route to one of the delegated assistants,\n",
    "# directly use a tool, or directly respond to the user\n",
    "builder.add_conditional_edges(\n",
    "    \"primary_assistant\",\n",
    "    route_primary_assistant,\n",
    "    {\n",
    "        \"enter_search_table\": \"enter_search_table\",\n",
    "        END: END,\n",
    "    },\n",
    ")\n",
    "# # Each delegated workflow can directly respond to the user\n",
    "# # When the user responds, we want to return to the currently active workflow\n",
    "# def route_to_workflow(\n",
    "#     state: State,\n",
    "# ) -> Literal[\n",
    "#     \"fetch_table\",\n",
    "# ]:\n",
    "#     \"\"\"If we are in a delegated state, route directly to the appropriate assistant.\"\"\"\n",
    "#     dialog_state = state.get(\"dialog_state\")\n",
    "#     if not dialog_state:\n",
    "#         return \"primary_assistant\"\n",
    "#     return dialog_state[-1]\n",
    "\n",
    "\n",
    "# builder.add_conditional_edges(\"primary_assistant\", route_to_workflow)\n",
    "#%%\n",
    "# Compile graph\n",
    "memory = SqliteSaver.from_conn_string(\":memory:\")\n",
    "part_4_graph = builder.compile(\n",
    "    checkpointer=memory,\n",
    ")\n",
    "#%%\n",
    "from IPython.display import Image, display\n",
    "\n",
    "try:\n",
    "    display(Image(part_4_graph.get_graph(xray=True).draw_mermaid_png()))\n",
    "except Exception:\n",
    "    # This requires some extra dependencies and is optional\n",
    "    pass\n"
   ]
  },
  {
   "cell_type": "code",
   "execution_count": null,
   "id": "0385835f-bdc9-41a6-a978-62849ef571dd",
   "metadata": {},
   "outputs": [],
   "source": []
  },
  {
   "cell_type": "code",
   "execution_count": 82,
   "id": "61ec8c4b-2cda-4d09-b1ed-027de3deaa96",
   "metadata": {},
   "outputs": [],
   "source": [
    "\n",
    "import uuid\n",
    "thread_id = str(uuid.uuid4())\n",
    "config = {\n",
    "    \"configurable\": {\n",
    "        # The passenger_id is used in our flight tools to\n",
    "        # fetch the user's flight informatio\n",
    "        # Checkpoints are accessed by thread_id\n",
    "        \"thread_id\": \"198197a5-c74c-463d-8312-ded3f1d94479\",\n",
    "    }\n",
    "}"
   ]
  },
  {
   "cell_type": "code",
   "execution_count": 83,
   "id": "e4b5bb21-320c-426f-9ca4-86b6e10bc492",
   "metadata": {},
   "outputs": [],
   "source": [
    "_printed = set()"
   ]
  },
  {
   "cell_type": "code",
   "execution_count": 84,
   "id": "edb5abea-4df8-403a-a45e-255f3b0ec07a",
   "metadata": {},
   "outputs": [],
   "source": [
    "\n",
    "question = \"G20电源线多长\"\n",
    "events = part_4_graph.stream(\n",
    "    {\"messages\": (\"user\", question)}, config\n",
    ")"
   ]
  },
  {
   "cell_type": "code",
   "execution_count": 85,
   "id": "1f077750-d665-46cd-93ca-7c6590e32d17",
   "metadata": {},
   "outputs": [
    {
     "data": {
      "text/plain": [
       "[{'primary_assistant': {'messages': AIMessage(content='', additional_kwargs={'tool_calls': [{'id': 'call_YQxnkj5JDjLYS1SVZWWErLTq', 'function': {'arguments': '{\\n  \"request\": \"G20电源线多长\"\\n}', 'name': 'ToTableSearchingAssistant'}, 'type': 'function'}]}, response_metadata={'token_usage': {'completion_tokens': 22, 'prompt_tokens': 239, 'total_tokens': 261}, 'model_name': 'gpt-4', 'system_fingerprint': None, 'prompt_filter_results': [{'prompt_index': 0, 'content_filter_results': {'hate': {'filtered': False, 'severity': 'safe'}, 'self_harm': {'filtered': False, 'severity': 'safe'}, 'sexual': {'filtered': False, 'severity': 'safe'}, 'violence': {'filtered': False, 'severity': 'safe'}}}], 'finish_reason': 'tool_calls', 'logprobs': None, 'content_filter_results': {}}, id='run-22cafa32-1740-41fa-a87e-ba77a555167f-0', tool_calls=[{'name': 'ToTableSearchingAssistant', 'args': {'request': 'G20电源线多长'}, 'id': 'call_YQxnkj5JDjLYS1SVZWWErLTq'}], usage_metadata={'input_tokens': 239, 'output_tokens': 22, 'total_tokens': 261})}},\n",
       " {'enter_search_table': {'messages': [ToolMessage(content=\"The assistant is now the Assistant of Searching Robot Model Parameters. Reflect on the above conversation between the host assistant and the user. The user's intent is unsatisfied. Use the provided tools to assist the user. Remember, you are Assistant of Searching Robot Model Parameters, and the task is not complete until after you have successfully invoked the appropriate tool. If the you needs more information to complete the task, call the CompleteOrEscalate function to let the primary host assistant take control.If you successfullyt complete the task, call the CompleteOrEscalate function to let the primary host assistant take control. Do not mention who you are - just act as the proxy for the assistant.Directly use the request below as input to your tools and don't translate into English or rephase.\\n\\nrequest: G20电源线多长\", id='c6c134f6-6e0b-46d7-a106-c8b590b4c7a4', tool_call_id='call_YQxnkj5JDjLYS1SVZWWErLTq')],\n",
       "   'dialog_state': 'fetch_table'}},\n",
       " {'fetch_table': {'messages': AIMessage(content='', additional_kwargs={'tool_calls': [{'id': 'call_5jz3fDBEp6t3LKU6ttuI1BQT', 'function': {'arguments': '{\\n  \"request\": \"G20电源线多长\"\\n}', 'name': 'fetch_table'}, 'type': 'function'}]}, response_metadata={'token_usage': {'completion_tokens': 21, 'prompt_tokens': 538, 'total_tokens': 559}, 'model_name': 'gpt-4', 'system_fingerprint': None, 'prompt_filter_results': [{'prompt_index': 0, 'content_filter_results': {'hate': {'filtered': False, 'severity': 'safe'}, 'self_harm': {'filtered': False, 'severity': 'safe'}, 'sexual': {'filtered': False, 'severity': 'safe'}, 'violence': {'filtered': False, 'severity': 'safe'}}}], 'finish_reason': 'tool_calls', 'logprobs': None, 'content_filter_results': {}}, id='run-45104220-55d6-4c22-b73b-af1f22cd22b0-0', tool_calls=[{'name': 'fetch_table', 'args': {'request': 'G20电源线多长'}, 'id': 'call_5jz3fDBEp6t3LKU6ttuI1BQT'}], usage_metadata={'input_tokens': 538, 'output_tokens': 21, 'total_tokens': 559})}},\n",
       " {'fetch_table_tools': {'messages': [ToolMessage(content='| 商品型号 | 版本 | 电源线长 |\\n| --- | --- | --- |\\n| g20 | 标准版 | 180cm |\\n| g20 | 上下水版 | 180cm |', name='fetch_table', id='a1f6d800-7cae-4ab7-82d5-6d36dca0e2ac', tool_call_id='call_5jz3fDBEp6t3LKU6ttuI1BQT')]}},\n",
       " {'fetch_table': {'messages': AIMessage(content='', additional_kwargs={'tool_calls': [{'id': 'call_Lvs3oZX5McwfztM7P0OLqPr3', 'function': {'arguments': '{\\n\"cancel\": false,\\n\"reason\": \"Successfully fetched the table for robot model parameters\"\\n}', 'name': 'CompleteOrEscalate'}, 'type': 'function'}]}, response_metadata={'token_usage': {'completion_tokens': 29, 'prompt_tokens': 625, 'total_tokens': 654}, 'model_name': 'gpt-4', 'system_fingerprint': None, 'prompt_filter_results': [{'prompt_index': 0, 'content_filter_results': {'hate': {'filtered': False, 'severity': 'safe'}, 'self_harm': {'filtered': False, 'severity': 'safe'}, 'sexual': {'filtered': False, 'severity': 'safe'}, 'violence': {'filtered': False, 'severity': 'safe'}}}], 'finish_reason': 'tool_calls', 'logprobs': None, 'content_filter_results': {}}, id='run-fd03621d-5bd7-4589-8be6-3c4e0f024c3e-0', tool_calls=[{'name': 'CompleteOrEscalate', 'args': {'cancel': False, 'reason': 'Successfully fetched the table for robot model parameters'}, 'id': 'call_Lvs3oZX5McwfztM7P0OLqPr3'}], usage_metadata={'input_tokens': 625, 'output_tokens': 29, 'total_tokens': 654})}},\n",
       " {'leave_skill': {'messages': [ToolMessage(content='Resuming dialog with the host assistant. Please reflect on the past conversation and assist the user as needed.', id='449cee8d-f08e-4e8c-a35d-b490d62c5edd', tool_call_id='call_Lvs3oZX5McwfztM7P0OLqPr3')],\n",
       "   'dialog_state': 'pop'}},\n",
       " {'primary_assistant': {'messages': AIMessage(content='G20型家用清洁机器人的电源线长度为180厘米。无论是标准版还是上下水版，电源线长度都是一样的。', response_metadata={'token_usage': {'completion_tokens': 47, 'prompt_tokens': 592, 'total_tokens': 639}, 'model_name': 'gpt-4', 'system_fingerprint': None, 'prompt_filter_results': [{'prompt_index': 0, 'content_filter_results': {'hate': {'filtered': False, 'severity': 'safe'}, 'self_harm': {'filtered': False, 'severity': 'safe'}, 'sexual': {'filtered': False, 'severity': 'safe'}, 'violence': {'filtered': False, 'severity': 'safe'}}}], 'finish_reason': 'stop', 'logprobs': None, 'content_filter_results': {'hate': {'filtered': False, 'severity': 'safe'}, 'self_harm': {'filtered': False, 'severity': 'safe'}, 'sexual': {'filtered': False, 'severity': 'safe'}, 'violence': {'filtered': False, 'severity': 'safe'}}}, id='run-e78756bd-0077-4d80-a97b-4b9a84c4b2d7-0', usage_metadata={'input_tokens': 592, 'output_tokens': 47, 'total_tokens': 639})}}]"
      ]
     },
     "execution_count": 85,
     "metadata": {},
     "output_type": "execute_result"
    }
   ],
   "source": [
    "list(events)"
   ]
  },
  {
   "cell_type": "code",
   "execution_count": 42,
   "id": "45b06bf0-184e-4eb9-a58e-a23ad25f772c",
   "metadata": {},
   "outputs": [
    {
     "name": "stdout",
     "output_type": "stream",
     "text": [
      "================================\u001b[1m Human Message \u001b[0m=================================\n",
      "\n",
      "G20\n",
      "==================================\u001b[1m Ai Message \u001b[0m==================================\n",
      "Tool Calls:\n",
      "  ToTableSearchingAssistant (call_V57rSxH592l6MFm2kVnvtqSP)\n",
      " Call ID: call_V57rSxH592l6MFm2kVnvtqSP\n",
      "  Args:\n",
      "    request: G20 扫地机电源线多长\n",
      "Currently in:  fetch_table\n",
      "=================================\u001b[1m Tool Message \u001b[0m=================================\n",
      "\n",
      "The assistant is now the Assistant of Searching Robot Model Parameters. Reflect on the above conversation between the host assistant and the user. The user's intent is unsatisfied. Use the provided tools to assist the user. Remember, you are Assistant of Searching Robot Model Parameters, and the task is not complete until after you have successfully invoked the appropriate tool. If the you needs more information to complete the task, call the CompleteOrEscalate function to let the primary host assistant take control.If you successfullyt complete the task, call the CompleteOrEscalate function to let the primary host assistant take control. Do not mention who you are - just act as the proxy for the assistant.Directly use the request below as input to your tools and don't translate into English or rephase.\n",
      "\n",
      "request: G20 扫地机电源线多长\n",
      "Currently in:  fetch_table\n",
      "==================================\u001b[1m Ai Message \u001b[0m==================================\n",
      "Tool Calls:\n",
      "  fetch_table (call_d7Totv5lPupge2VgFeXMml94)\n",
      " Call ID: call_d7Totv5lPupge2VgFeXMml94\n",
      "  Args:\n",
      "    request: G20 扫地机电源线多长\n",
      "Currently in:  fetch_table\n",
      "=================================\u001b[1m Tool Message \u001b[0m=================================\n",
      "Name: fetch_table\n",
      "\n",
      "| 商品型号 | 版本 | 电源线长 |\n",
      "| --- | --- | --- |\n",
      "| g20 | 标准版 | 180cm |\n",
      "| g20 | 上下水版 | 180cm |\n",
      "Currently in:  fetch_table\n",
      "==================================\u001b[1m Ai Message \u001b[0m==================================\n",
      "Tool Calls:\n",
      "  CompleteOrEscalate (call_V57rSxH592l6MFm2kVnvtqSP)\n",
      " Call ID: call_V57rSxH592l6MFm2kVnvtqSP\n",
      "  Args:\n",
      "    cancel: False\n",
      "    reason: Fetched the table successfully\n",
      "=================================\u001b[1m Tool Message \u001b[0m=================================\n",
      "\n",
      "Resuming dialog with the host assistant. Please reflect on the past conversation and assist the user as needed.\n",
      "==================================\u001b[1m Ai Message \u001b[0m==================================\n",
      "\n",
      "您的G20型号扫地机器人的电源线长为180厘米。\n"
     ]
    }
   ],
   "source": [
    "for event in events:\n",
    "    _print_event(event, _printed)"
   ]
  },
  {
   "cell_type": "code",
   "execution_count": null,
   "id": "f159b457-36ee-4ffa-8ad5-920cf1dd36d9",
   "metadata": {},
   "outputs": [],
   "source": []
  },
  {
   "cell_type": "code",
   "execution_count": null,
   "id": "47a11a9a-fc99-4ff4-a0a1-694ca282a487",
   "metadata": {},
   "outputs": [],
   "source": []
  },
  {
   "cell_type": "code",
   "execution_count": null,
   "id": "f4059423-2835-4786-9ce6-22961672d5d6",
   "metadata": {},
   "outputs": [],
   "source": []
  },
  {
   "cell_type": "code",
   "execution_count": null,
   "id": "b22a84eb-d535-4be7-ae2e-11eaad85bf23",
   "metadata": {},
   "outputs": [],
   "source": []
  },
  {
   "cell_type": "code",
   "execution_count": 4,
   "id": "ce8c790e-1b01-49ac-b9af-738ab600e9e3",
   "metadata": {},
   "outputs": [],
   "source": [
    "from typing import Annotated, Literal\n",
    "from typing_extensions import TypedDict\n",
    "from langgraph.checkpoint.sqlite import SqliteSaver\n",
    "\n",
    "from find_keywords import LabellerByRulesWithPos\n",
    "from vector_db import ChromaDB\n",
    "from search_engine import QAVectorDBSearchEngine\n",
    "from recall import RecallBySearchEngine\n",
    "from nl2sql import SimpleLookup\n",
    "\n",
    "from langchain_core.tools import tool\n",
    "from langchain_core.prompts import ChatPromptTemplate\n",
    "from langchain_core.runnables import Runnable, RunnableConfig, RunnableLambda\n",
    "from langchain_core.messages import ToolMessage, AIMessage\n",
    "from langchain_core.pydantic_v1 import BaseModel, Field\n",
    "\n",
    "from langchain_openai import AzureChatOpenAI\n",
    "\n",
    "from langgraph.prebuilt import ToolNode\n",
    "from langgraph.graph import END, StateGraph\n",
    "from langgraph.graph.message import AnyMessage, add_messages\n",
    "from langgraph.prebuilt import tools_condition\n",
    "\n",
    "\n",
    "\n",
    "def handle_tool_error(state) -> dict:\n",
    "    error = state.get(\"error\")\n",
    "    tool_calls = state[\"messages\"][-1].tool_calls\n",
    "    return {\n",
    "        \"messages\": [\n",
    "            ToolMessage(\n",
    "                content=f\"Error: {repr(error)}\\n please fix your mistakes.\",\n",
    "                tool_call_id=tc[\"id\"],\n",
    "            )\n",
    "            for tc in tool_calls\n",
    "        ]\n",
    "    }\n",
    "\n",
    "\n",
    "def create_tool_node_with_fallback(tools: list) -> dict:\n",
    "    return ToolNode(tools).with_fallbacks(\n",
    "        [RunnableLambda(handle_tool_error)], exception_key=\"error\"\n",
    "    )\n",
    "\n",
    "\n",
    "def _print_event(event: dict, _printed: set, max_length=1500):\n",
    "    current_state = event.get(\"dialog_state\")\n",
    "    if current_state:\n",
    "        print(\"Currently in: \", current_state[-1])\n",
    "    message = event.get(\"messages\")\n",
    "    if message:\n",
    "        if isinstance(message, list):\n",
    "            message = message[-1]\n",
    "        if message.id not in _printed:\n",
    "            msg_repr = message.pretty_repr(html=True)\n",
    "            if len(msg_repr) > max_length:\n",
    "                msg_repr = msg_repr[:max_length] + \" ... (truncated)\"\n",
    "            print(msg_repr)\n",
    "            _printed.add(message.id)\n",
    "\n",
    "\n",
    "router_config = {\n",
    "    \"class\": LabellerByRulesWithPos,\n",
    "    \"config\": {\n",
    "        \"dim_df_path\": \"data/dim_df20240619.csv\",\n",
    "        \"model_col\": (\"model\", \"model\"),\n",
    "        \"cat_col\": (\"cat_cn\", \"cat\"),\n",
    "        \"error_col\": (\"error\", \"error\"),\n",
    "        \"ner_model_path\": \"/workspace/data/private/zhuxiaohai/models/bert_finetuned_ner_augmented/\"\n",
    "    }\n",
    "}\n",
    "\n",
    "recall_config = {\n",
    "    \"class\": RecallBySearchEngine,\n",
    "    \"config\": {\n",
    "        \"search_engine\": {\n",
    "            \"class\": QAVectorDBSearchEngine,\n",
    "            \"docs_path\": \"data/table_entity.csv\",\n",
    "            \"docs_col\": \"entity_name\",\n",
    "            \"ids_col\": \"ids\",\n",
    "            \"metadata_cols\": [\"sweeping\", \"washing\", \"mopping\", \"content\"],\n",
    "            \"collection_name\": \"table_entity\",\n",
    "            \"reset\": False,\n",
    "            \"encoder_path\": \"/workspace/data/private/zhuxiaohai/models/bge_finetuned_emb_ner_link\",\n",
    "            \"vector_db\": {\n",
    "                \"class\": ChromaDB,\n",
    "                \"host\": \"/data/dataset/kefu/chroma\",\n",
    "            },\n",
    "        },\n",
    "    },\n",
    "    \"top_n\": 1,\n",
    "}\n",
    "\n",
    "nl2sql_config = {\n",
    "    \"class\": SimpleLookup,\n",
    "    \"config\": {\n",
    "        \"db_absolute_path\": \"/root/PycharmProjects/rockchat/data/model_params.db\",\n",
    "        \"reset\": False,\n",
    "        \"df_path\": \"/root/PycharmProjects/rockchat/data/model_params20240620.csv\",\n",
    "        \"table_name\": \"model_params20240620\",\n",
    "        \"output_type\": \"markdown\"\n",
    "    }\n",
    "}\n",
    "\n",
    "extractor = router_config[\"class\"](router_config[\"config\"])\n",
    "recall = recall_config[\"class\"](recall_config[\"config\"])\n",
    "nl2sql = nl2sql_config[\"class\"](nl2sql_config[\"config\"])\n",
    "\n",
    "\n",
    "class GradeDocuments(BaseModel):\n",
    "    \"\"\"Binary score for relevance check on retrieved documents.\"\"\"\n",
    "    binary_score: str = Field(\n",
    "        description=\"Documents are relevant to the question, 'yes' or 'no'\"\n",
    "    )\n",
    "\n",
    "\n",
    "# LLM with function call\n",
    "llm_grader = AzureChatOpenAI(\n",
    "    api_version=\"2024-02-15-preview\",\n",
    "    azure_endpoint=\"https://csagent.openai.azure.com/\",\n",
    "    api_key=\"346ac6661e314a9d8b91b6a99202ba42\",\n",
    "    deployment_name=\"gpt-4-8k\",\n",
    ")\n",
    "\n",
    "structured_llm_grader = llm_grader.with_structured_output(GradeDocuments)\n",
    "\n",
    "# Prompt\n",
    "system_grader = \"\"\"You are a grader assessing relevance of a retrieved document to a user question. \\n \n",
    "    If the document contains keyword(s) or semantic meaning related to the user question, grade it as relevant. \\n\n",
    "    It does not need to be a stringent test. The goal is to filter out erroneous retrievals. \\n\n",
    "    Give a binary score 'yes' or 'no' score to indicate whether the document is relevant to the question.\"\"\"\n",
    "\n",
    "grade_prompt = ChatPromptTemplate.from_messages(\n",
    "    [\n",
    "        (\"system\", system_grader),\n",
    "        (\"human\", \"Retrieved document: \\n\\n {document} \\n\\n User question: {question}\"),\n",
    "    ]\n",
    ")\n",
    "\n",
    "retrieval_grader = grade_prompt | structured_llm_grader\n",
    "\n",
    "\n",
    "@tool\n",
    "def search_table(question):\n",
    "    \"\"\"Consult a table about parameters of household cleaning machines according to the question,\n",
    "    and return the results.\"\"\"\n",
    "    query_body = extractor.extract_keywords(question)\n",
    "    if not query_body[\"labels\"][\"model\"]:\n",
    "        return \"问题中需要提供型号名称才能完成搜索\"\n",
    "    query_body.update({\"top_n\": recall_config[\"top_n\"]})\n",
    "    recalled_cols = recall.query_recalls(query_body)\n",
    "    pairs = [{\"question\": question, \"document\": d['page_content']} for d in recalled_cols]\n",
    "    scores = retrieval_grader.batch(pairs)\n",
    "    filtered_docs = [recalled_cols[i] for i in range(len(scores)) if scores[i].binary_score == \"yes\"]\n",
    "    if not filtered_docs:\n",
    "        return \"搜索结果和问题的匹配度很低，请换个问法\"\n",
    "    else:\n",
    "        tabler_results = nl2sql.predict(query_body, filtered_docs)\n",
    "        return tabler_results\n",
    "\n",
    "\n",
    "class State(TypedDict):\n",
    "    messages: Annotated[list[AnyMessage], add_messages]\n",
    "    # status: str\n",
    "\n",
    "\n",
    "class Assistant:\n",
    "    def __init__(self, runnable: Runnable):\n",
    "        self.runnable = runnable\n",
    "\n",
    "    def __call__(self, state: State, config: RunnableConfig):\n",
    "        last_message = state[\"messages\"][-1]\n",
    "        if isinstance(last_message, ToolMessage) and (last_message.name == \"search_table\"):\n",
    "            result = AIMessage(content=last_message.content)\n",
    "            # if last_message.content == \"问题中需要提供型号名称才能完成搜索\":\n",
    "            #     status = \"retry\"\n",
    "            # elif last_message.content == \"搜索结果和问题的匹配度很低，请换个问法\":\n",
    "            #     status = \"ask_for_human\"\n",
    "            # else:\n",
    "            #     status = \"reset\"\n",
    "            # return {\"messages\": result, \"status\": status}\n",
    "            return {\"messages\": result}\n",
    "\n",
    "        # status = state.get(\"status\", \"reset\")\n",
    "        while True:\n",
    "            # if status == \"reset\":\n",
    "            #     suffix = \" Directly use the query as input to your tools, and do not make any language translations or rephrases\"\n",
    "            # else:\n",
    "            #     suffix = \"\"\n",
    "            # input_dict = {\"messages\": state[\"messages\"], \"suffix\": suffix}\n",
    "            # result = self.runnable.invoke(input_dict)\n",
    "            result = self.runnable.invoke(state)\n",
    "            if not result.tool_calls and (\n",
    "                not result.content\n",
    "                or isinstance(result.content, list)\n",
    "                and not result.content[0].get(\"text\")\n",
    "            ):\n",
    "                messages = state[\"messages\"] + [(\"user\", \"Respond with a real output.\")]\n",
    "                state = {**state, \"messages\": messages}\n",
    "                messages = state[\"messages\"] + [(\"user\", \"Respond with a real output.\")]\n",
    "                state = {**state, \"messages\": messages}\n",
    "            else:\n",
    "                break\n",
    "        # return {\"messages\": result, \"status\": status}\n",
    "        return {\"messages\": result}\n",
    "\n",
    "\n",
    "# system = \"\"\"You are a specialized assistant for searching table about parameters \\\n",
    "# of cleaning machines. If the query is appropriate for your specialty, invoke your tools to \\\n",
    "# help with that, otherwise just reject to answer.{suffix} Use the language the same as the query to answer.\"\"\"\n",
    "system = \"\"\"You are a specialized assistant for searching table about parameters \\\n",
    "of cleaning machines. If the query is appropriate for your specialty, invoke your tools to \\\n",
    "help with that, otherwise just reject to answer. Use the language the same as the query to answer.\"\"\"\n",
    "\n",
    "# Table Searching Assistant\n",
    "table_searching_prompt = ChatPromptTemplate.from_messages(\n",
    "    [\n",
    "        (\"system\", system),\n",
    "        (\"placeholder\", \"{messages}\"),\n",
    "    ]\n",
    ")\n",
    "\n",
    "llm = AzureChatOpenAI(\n",
    "    api_version=\"2024-02-15-preview\",\n",
    "    azure_endpoint=\"https://csagent.openai.azure.com/\",\n",
    "    api_key=\"346ac6661e314a9d8b91b6a99202ba42\",\n",
    "    deployment_name=\"gpt-4-8k\",\n",
    ")\n",
    "\n",
    "table_searching_runnable = table_searching_prompt | llm.bind_tools(\n",
    "     [search_table]\n",
    ")\n",
    "\n",
    "\n",
    "# begin of graph\n",
    "builder = StateGraph(State)\n",
    "\n",
    "# node\n",
    "builder.add_node(\"search_table_assistant\", Assistant(table_searching_runnable))\n",
    "builder.set_entry_point(\"search_table_assistant\")\n",
    "builder.add_node(\n",
    "    \"search_table_tools\",\n",
    "    create_tool_node_with_fallback([search_table]),\n",
    ")\n",
    "\n",
    "\n",
    "# edge\n",
    "def route_search_table(\n",
    "    state: State,\n",
    ") -> Literal[\n",
    "    \"search_table_tools\",\n",
    "    \"__end__\",\n",
    "]:\n",
    "    route = tools_condition(state)\n",
    "    if route == END:\n",
    "        return END\n",
    "    return \"search_table_tools\"\n",
    "\n",
    "\n",
    "builder.add_edge(\"search_table_tools\", \"search_table_assistant\")\n",
    "builder.add_conditional_edges(\"search_table_assistant\", route_search_table)"
   ]
  },
  {
   "cell_type": "code",
   "execution_count": 5,
   "id": "97345a8b-ea70-4f35-b3a9-59f37a881af6",
   "metadata": {},
   "outputs": [],
   "source": [
    "# Compile graph\n",
    "memory = SqliteSaver.from_conn_string(\":memory:\")\n",
    "part_4_graph = builder.compile(\n",
    "    checkpointer=memory,\n",
    ")"
   ]
  },
  {
   "cell_type": "code",
   "execution_count": 6,
   "id": "68839581-52c5-41ce-8427-2062c8538a67",
   "metadata": {},
   "outputs": [
    {
     "data": {
      "image/jpeg": "[encoded data removed]",
      "text/plain": [
       "<IPython.core.display.Image object>"
      ]
     },
     "metadata": {},
     "output_type": "display_data"
    }
   ],
   "source": [
    "from IPython.display import Image, display\n",
    "\n",
    "try:\n",
    "    display(Image(part_4_graph.get_graph(xray=True).draw_mermaid_png()))\n",
    "except Exception:\n",
    "    # This requires some extra dependencies and is optional\n",
    "    pass"
   ]
  },
  {
   "cell_type": "code",
   "execution_count": 7,
   "id": "3f7ed52b-16f8-4af8-a8bc-d4267214e0b3",
   "metadata": {},
   "outputs": [],
   "source": [
    "import uuid\n",
    "thread_id = str(uuid.uuid4())\n",
    "config = {\n",
    "    \"configurable\": {\n",
    "        \"thread_id\": \"198197a5-c74c-463d-8312-ded3f1d94479\",\n",
    "    }\n",
    "}\n",
    "_printed = set()"
   ]
  },
  {
   "cell_type": "code",
   "execution_count": 18,
   "id": "e3947fcc-0cb1-4ed9-a7fd-552d0a1b0f8c",
   "metadata": {},
   "outputs": [],
   "source": [
    "question = \"谢谢\"\n",
    "events = part_4_graph.stream(\n",
    "    {\"messages\": (\"user\", question)}, config, stream_mode=\"values\"\n",
    ")"
   ]
  },
  {
   "cell_type": "code",
   "execution_count": 19,
   "id": "062337e8-52de-46b5-9d68-338a5ec5a141",
   "metadata": {},
   "outputs": [
    {
     "name": "stdout",
     "output_type": "stream",
     "text": [
      "================================\u001b[1m Human Message \u001b[0m=================================\n",
      "\n",
      "谢谢\n",
      "==================================\u001b[1m Ai Message \u001b[0m==================================\n",
      "\n",
      "不客气，有需要再告诉我。\n"
     ]
    }
   ],
   "source": [
    "for event in events:\n",
    "    _print_event(event, _printed)"
   ]
  },
  {
   "cell_type": "code",
   "execution_count": 2,
   "id": "c23c3332-9548-4879-a084-6ebd6f4e3481",
   "metadata": {},
   "outputs": [
    {
     "data": {
      "text/plain": [
       "1"
      ]
     },
     "execution_count": 2,
     "metadata": {},
     "output_type": "execute_result"
    }
   ],
   "source": [
    "1"
   ]
  },
  {
   "cell_type": "code",
   "execution_count": null,
   "id": "6d023093-f106-4e43-852b-f360d5d25b7e",
   "metadata": {},
   "outputs": [],
   "source": []
  },
  {
   "cell_type": "code",
   "execution_count": null,
   "id": "d15e925f-8042-426e-b3ee-8a05fb23fda3",
   "metadata": {},
   "outputs": [],
   "source": []
  },
  {
   "cell_type": "code",
   "execution_count": 268,
   "id": "074c8159-c1f9-4b45-9cf3-469edb399c82",
   "metadata": {
    "scrolled": true
   },
   "outputs": [],
   "source": [
    "from typing import Annotated, Literal\n",
    "from typing_extensions import TypedDict\n",
    "\n",
    "from find_keywords import LabellerByRulesWithPos\n",
    "from vector_db import ChromaDB\n",
    "from search_engine import QAVectorDBSearchEngine\n",
    "from recall import RecallBySearchEngine\n",
    "from nl2sql import SimpleLookup\n",
    "\n",
    "from langchain_core.tools import tool\n",
    "from langchain_core.prompts import ChatPromptTemplate\n",
    "from langchain_core.runnables import Runnable, RunnableConfig, RunnableLambda\n",
    "from langchain_core.messages import ToolMessage, AIMessage\n",
    "from langchain_core.pydantic_v1 import BaseModel, Field\n",
    "\n",
    "from langchain_openai import AzureChatOpenAI\n",
    "\n",
    "from langgraph.prebuilt import ToolNode\n",
    "from langgraph.graph import END, StateGraph\n",
    "from langgraph.graph.message import AnyMessage, add_messages\n",
    "from langgraph.prebuilt import tools_condition\n",
    "\n",
    "\n",
    "\n",
    "def handle_tool_error(state) -> dict:\n",
    "    error = state.get(\"error\")\n",
    "    tool_calls = state[\"messages\"][-1].tool_calls\n",
    "    return {\n",
    "        \"messages\": [\n",
    "            ToolMessage(\n",
    "                content=f\"Error: {repr(error)}\\n please fix your mistakes.\",\n",
    "                tool_call_id=tc[\"id\"],\n",
    "            )\n",
    "            for tc in tool_calls\n",
    "        ]\n",
    "    }\n",
    "\n",
    "\n",
    "def create_tool_node_with_fallback(tools: list) -> dict:\n",
    "    return ToolNode(tools).with_fallbacks(\n",
    "        [RunnableLambda(handle_tool_error)], exception_key=\"error\"\n",
    "    )\n",
    "\n",
    "\n",
    "def _print_event(event: dict, _printed: set, max_length=1500):\n",
    "    current_state = event.get(\"dialog_state\")\n",
    "    if current_state:\n",
    "        print(\"Currently in: \", current_state[-1])\n",
    "    message = event.get(\"messages\")\n",
    "    if message:\n",
    "        if isinstance(message, list):\n",
    "            message = message[-1]\n",
    "        if message.id not in _printed:\n",
    "            msg_repr = message.pretty_repr(html=True)\n",
    "            if len(msg_repr) > max_length:\n",
    "                msg_repr = msg_repr[:max_length] + \" ... (truncated)\"\n",
    "            print(msg_repr)\n",
    "            _printed.add(message.id)\n",
    "\n",
    "\n",
    "router_config = {\n",
    "    \"class\": LabellerByRulesWithPos,\n",
    "    \"config\": {\n",
    "        \"dim_df_path\": \"data/dim_df20240619.csv\",\n",
    "        \"model_col\": (\"model\", \"model\"),\n",
    "        \"cat_col\": (\"cat_cn\", \"cat\"),\n",
    "        \"error_col\": (\"error\", \"error\"),\n",
    "        \"ner_model_path\": \"/workspace/data/private/zhuxiaohai/models/bert_finetuned_ner_augmented/\"\n",
    "    }\n",
    "}\n",
    "\n",
    "recall_config = {\n",
    "    \"class\": RecallBySearchEngine,\n",
    "    \"config\": {\n",
    "        \"search_engine\": {\n",
    "            \"class\": QAVectorDBSearchEngine,\n",
    "            \"docs_path\": \"data/table_entity.csv\",\n",
    "            \"docs_col\": \"entity_name\",\n",
    "            \"ids_col\": \"ids\",\n",
    "            \"metadata_cols\": [\"sweeping\", \"washing\", \"mopping\", \"content\"],\n",
    "            \"collection_name\": \"table_entity\",\n",
    "            \"reset\": False,\n",
    "            \"encoder_path\": \"/workspace/data/private/zhuxiaohai/models/bge_finetuned_emb_ner_link\",\n",
    "            \"vector_db\": {\n",
    "                \"class\": ChromaDB,\n",
    "                \"host\": \"/data/dataset/kefu/chroma\",\n",
    "            },\n",
    "        },\n",
    "    },\n",
    "    \"top_n\": 1,\n",
    "}\n",
    "\n",
    "nl2sql_config = {\n",
    "    \"class\": SimpleLookup,\n",
    "    \"config\": {\n",
    "        \"db_absolute_path\": \"/root/PycharmProjects/rockchat/data/model_params.db\",\n",
    "        \"reset\": False,\n",
    "        \"df_path\": \"/root/PycharmProjects/rockchat/data/model_params20240620.csv\",\n",
    "        \"table_name\": \"model_params20240620\",\n",
    "        \"output_type\": \"markdown\"\n",
    "    }\n",
    "}\n",
    "\n",
    "extractor = router_config[\"class\"](router_config[\"config\"])\n",
    "recall = recall_config[\"class\"](recall_config[\"config\"])\n",
    "nl2sql = nl2sql_config[\"class\"](nl2sql_config[\"config\"])\n",
    "\n",
    "\n",
    "class GradeDocuments(BaseModel):\n",
    "    \"\"\"Binary score for relevance check on retrieved documents.\"\"\"\n",
    "    binary_score: str = Field(\n",
    "        description=\"Documents are relevant to the question, 'yes' or 'no'\"\n",
    "    )\n",
    "\n",
    "\n",
    "# LLM with function call\n",
    "llm_grader = AzureChatOpenAI(\n",
    "    api_version=\"2024-02-15-preview\",\n",
    "    azure_endpoint=\"https://csagent.openai.azure.com/\",\n",
    "    api_key=\"346ac6661e314a9d8b91b6a99202ba42\",\n",
    "    deployment_name=\"gpt-4-8k\",\n",
    ")\n",
    "\n",
    "structured_llm_grader = llm_grader.with_structured_output(GradeDocuments)\n",
    "\n",
    "# Prompt\n",
    "system = \"\"\"You are a grader assessing relevance of a retrieved document to a user question. \\n \n",
    "    If the document contains keyword(s) or semantic meaning related to the user question, grade it as relevant. \\n\n",
    "    It does not need to be a stringent test. The goal is to filter out erroneous retrievals. \\n\n",
    "    Give a binary score 'yes' or 'no' score to indicate whether the document is relevant to the question.\"\"\"\n",
    "\n",
    "grade_prompt = ChatPromptTemplate.from_messages(\n",
    "    [\n",
    "        (\"system\", system),\n",
    "        (\"human\", \"Retrieved document: \\n\\n {document} \\n\\n User question: {question}\"),\n",
    "    ]\n",
    ")\n",
    "\n",
    "retrieval_grader = grade_prompt | structured_llm_grader\n",
    "\n",
    "\n",
    "@tool\n",
    "def search_table(question):\n",
    "    \"\"\"Consult a table about parameters of household cleaning machines according to the question,\n",
    "    and return the results.\"\"\"\n",
    "    query_body = extractor.extract_keywords(question)\n",
    "    if not query_body[\"labels\"][\"model\"]:\n",
    "        return \"问题中需要提供型号名称才能完成搜索\"\n",
    "    query_body.update({\"top_n\": recall_config[\"top_n\"]})\n",
    "    recalled_cols = recall.query_recalls(query_body)\n",
    "    pairs = [{\"question\": question, \"document\": d['page_content']} for d in recalled_cols]\n",
    "    scores = retrieval_grader.batch(pairs)\n",
    "    filtered_docs = [recalled_cols[i] for i in range(len(scores)) if scores[i].binary_score == \"yes\"]\n",
    "    if not filtered_docs:\n",
    "        return \"搜索结果和问题的匹配度很低，请换个问法\"\n",
    "    else:\n",
    "        tabler_results = nl2sql.predict(query_body, filtered_docs)\n",
    "        return tabler_results\n",
    "\n",
    "\n",
    "class State(TypedDict):\n",
    "    messages: Annotated[list[AnyMessage], add_messages]\n",
    "    status: str\n",
    "\n",
    "\n",
    "class Assistant:\n",
    "    def __init__(self, runnable: Runnable):\n",
    "        self.runnable = runnable\n",
    "\n",
    "    def __call__(self, state: State, config: RunnableConfig):\n",
    "        last_message = state[\"messages\"][-1]\n",
    "        if isinstance(last_message, ToolMessage) and (last_message.name == \"search_table\"):\n",
    "            result = AIMessage(content=last_message.content)\n",
    "            if last_message.content == \"问题中需要提供型号名称才能完成搜索\":\n",
    "                status = \"retry\"\n",
    "            elif last_message.content == \"搜索结果和问题的匹配度很低，请换个问法\":\n",
    "                status = \"ask_for_human\"\n",
    "            else:\n",
    "                status = \"reset\"\n",
    "            return {\"messages\": result, \"status\": status}\n",
    "\n",
    "        status = state.get(\"status\", \"reset\")\n",
    "        while True:\n",
    "            if status == \"reset\":\n",
    "                suffix = \" Directly use the query as input to your tools, and do not make any language translations or rephrases\"\n",
    "            else:\n",
    "                suffix = \"\"\n",
    "            input_dict = {\"messages\": state[\"messages\"], \"suffix\": suffix}\n",
    "            result = self.runnable.invoke(input_dict)\n",
    "            if not result.tool_calls and (\n",
    "                not result.content\n",
    "                or isinstance(result.content, list)\n",
    "                and not result.content[0].get(\"text\")\n",
    "            ):\n",
    "                messages = state[\"messages\"] + [(\"user\", \"Respond with a real output.\")]\n",
    "                state = {**state, \"messages\": messages}\n",
    "                messages = state[\"messages\"] + [(\"user\", \"Respond with a real output.\")]\n",
    "                state = {**state, \"messages\": messages}\n",
    "            else:\n",
    "                break\n",
    "        return {\"messages\": result, \"status\": status}\n",
    "\n",
    "\n",
    "system = \"\"\"You are a specialized assistant for searching table about parameters \\\n",
    "of cleaning machines. If the query is appropriate for your specialty, invoke your tools to \\\n",
    "help with that, otherwise just reject to answer.{suffix} Use the language the same as the query to answer.\"\"\"\n",
    "\n",
    "# Table Searching Assistant\n",
    "table_searching_prompt = ChatPromptTemplate.from_messages(\n",
    "    [\n",
    "        (\"system\", system),\n",
    "        (\"placeholder\", \"{messages}\"),\n",
    "    ]\n",
    ")\n",
    "\n",
    "llm = AzureChatOpenAI(\n",
    "    api_version=\"2024-02-15-preview\",\n",
    "    azure_endpoint=\"https://csagent.openai.azure.com/\",\n",
    "    api_key=\"346ac6661e314a9d8b91b6a99202ba42\",\n",
    "    deployment_name=\"gpt-4-8k\",\n",
    ")\n",
    "\n",
    "table_searching_runnable = table_searching_prompt | llm.bind_tools(\n",
    "     [search_table]\n",
    ")\n",
    "\n",
    "\n",
    "# begin of graph\n",
    "builder = StateGraph(State)\n",
    "\n",
    "# node\n",
    "builder.add_node(\"search_table_assistant\", Assistant(table_searching_runnable))\n",
    "builder.set_entry_point(\"search_table_assistant\")\n",
    "builder.add_node(\n",
    "    \"search_table_tools\",\n",
    "    create_tool_node_with_fallback([search_table]),\n",
    ")\n",
    "\n",
    "\n",
    "# edge\n",
    "def route_search_table(\n",
    "    state: State,\n",
    ") -> Literal[\n",
    "    \"search_table_tools\",\n",
    "    \"__end__\",\n",
    "]:\n",
    "    route = tools_condition(state)\n",
    "    if route == END:\n",
    "        return END\n",
    "    return \"search_table_tools\"\n",
    "\n",
    "\n",
    "builder.add_edge(\"search_table_tools\", \"search_table_assistant\")\n",
    "builder.add_conditional_edges(\"search_table_assistant\", route_search_table)\n",
    "\n",
    "# Compile graph\n",
    "memory = SqliteSaver.from_conn_string(\":memory:\")\n",
    "part_4_graph = builder.compile(\n",
    "    checkpointer=memory,\n",
    ")"
   ]
  },
  {
   "cell_type": "code",
   "execution_count": 269,
   "id": "392ccd06-81cf-4f18-8a15-8f6887e419d2",
   "metadata": {},
   "outputs": [
    {
     "data": {
      "image/jpeg": "[encoded data removed]",
      "text/plain": [
       "<IPython.core.display.Image object>"
      ]
     },
     "metadata": {},
     "output_type": "display_data"
    }
   ],
   "source": [
    "from IPython.display import Image, display\n",
    "\n",
    "try:\n",
    "    display(Image(part_4_graph.get_graph(xray=True).draw_mermaid_png()))\n",
    "except Exception:\n",
    "    # This requires some extra dependencies and is optional\n",
    "    pass"
   ]
  },
  {
   "cell_type": "code",
   "execution_count": 270,
   "id": "99de3aee-4e97-444f-b503-cdc916e1445f",
   "metadata": {},
   "outputs": [],
   "source": [
    "import uuid\n",
    "thread_id = str(uuid.uuid4())\n",
    "config = {\n",
    "    \"configurable\": {\n",
    "        \"thread_id\": \"198197a5-c74c-463d-8312-ded3f1d94479\",\n",
    "    }\n",
    "}"
   ]
  },
  {
   "cell_type": "code",
   "execution_count": 279,
   "id": "4418b1ca-aae5-4acc-b853-77a0958c3763",
   "metadata": {},
   "outputs": [],
   "source": [
    "question = \"谢谢你\"\n",
    "events = part_4_graph.stream(\n",
    "    {\"messages\": (\"user\", question)}, config, stream_mode=\"values\"\n",
    ")"
   ]
  },
  {
   "cell_type": "code",
   "execution_count": 280,
   "id": "0168d83c-76ae-4e23-adac-10c2be998b5c",
   "metadata": {},
   "outputs": [
    {
     "name": "stdout",
     "output_type": "stream",
     "text": [
      "================================\u001b[1m Human Message \u001b[0m=================================\n",
      "\n",
      "谢谢你\n",
      "==================================\u001b[1m Ai Message \u001b[0m==================================\n",
      "\n",
      "不客气，有其他问题欢迎随时向我提问。\n"
     ]
    }
   ],
   "source": [
    "_printed = set()\n",
    "for event in events:\n",
    "    _print_event(event, _printed)"
   ]
  },
  {
   "cell_type": "code",
   "execution_count": 281,
   "id": "a348a6ee-4f2b-4919-a4ec-7ab1c8ce4c51",
   "metadata": {},
   "outputs": [
    {
     "data": {
      "text/plain": [
       "StateSnapshot(values={'messages': [HumanMessage(content='你好', id='cf113f05-d9e8-4c69-9b92-ad9d2a31037e'), AIMessage(content='你好，有什么我可以帮助你的吗？', response_metadata={'token_usage': {'completion_tokens': 19, 'prompt_tokens': 109, 'total_tokens': 128}, 'model_name': 'gpt-4', 'system_fingerprint': None, 'prompt_filter_results': [{'prompt_index': 0, 'content_filter_results': {'hate': {'filtered': False, 'severity': 'safe'}, 'self_harm': {'filtered': False, 'severity': 'safe'}, 'sexual': {'filtered': False, 'severity': 'safe'}, 'violence': {'filtered': False, 'severity': 'safe'}}}], 'finish_reason': 'stop', 'logprobs': None, 'content_filter_results': {'hate': {'filtered': False, 'severity': 'safe'}, 'self_harm': {'filtered': False, 'severity': 'safe'}, 'sexual': {'filtered': False, 'severity': 'safe'}, 'violence': {'filtered': False, 'severity': 'safe'}}}, id='run-24536ee3-873c-4f8b-8585-bce6f5fb11b8-0', usage_metadata={'input_tokens': 109, 'output_tokens': 19, 'total_tokens': 128}), HumanMessage(content='机器人电源线多长', id='5462dbfb-7882-4a4c-9c35-dfbfb2e73ff2'), AIMessage(content='', additional_kwargs={'tool_calls': [{'id': 'call_QfUt6VwiREtMQaNWOjflZ7dL', 'function': {'arguments': '{\\n  \"question\": \"机器人电源线多长\"\\n}', 'name': 'search_table'}, 'type': 'function'}]}, response_metadata={'token_usage': {'completion_tokens': 22, 'prompt_tokens': 143, 'total_tokens': 165}, 'model_name': 'gpt-4', 'system_fingerprint': None, 'prompt_filter_results': [{'prompt_index': 0, 'content_filter_results': {'hate': {'filtered': False, 'severity': 'safe'}, 'self_harm': {'filtered': False, 'severity': 'safe'}, 'sexual': {'filtered': False, 'severity': 'safe'}, 'violence': {'filtered': False, 'severity': 'safe'}}}], 'finish_reason': 'tool_calls', 'logprobs': None, 'content_filter_results': {}}, id='run-a48632d6-c027-4ae4-a986-30dda2b53832-0', tool_calls=[{'name': 'search_table', 'args': {'question': '机器人电源线多长'}, 'id': 'call_QfUt6VwiREtMQaNWOjflZ7dL'}], usage_metadata={'input_tokens': 143, 'output_tokens': 22, 'total_tokens': 165}), ToolMessage(content='问题中需要提供型号名称才能完成搜索', name='search_table', id='77671a1c-f6f0-4245-9bfb-15f140db06eb', tool_call_id='call_QfUt6VwiREtMQaNWOjflZ7dL'), AIMessage(content='问题中需要提供型号名称才能完成搜索', id='c6d47290-0226-4ea9-9ce4-38145f614741'), HumanMessage(content='G20', id='05f2fdde-bc89-4bbd-84e7-a884613c7908'), AIMessage(content='', additional_kwargs={'tool_calls': [{'id': 'call_QfUt6VwiREtMQaNWOjflZ7dL', 'function': {'arguments': '{\"question\": \"G20机器人电源线多长\"}', 'name': 'search_table'}, 'type': 'function'}]}, response_metadata={'token_usage': {'completion_tokens': 21, 'prompt_tokens': 224, 'total_tokens': 245}, 'model_name': 'gpt-4', 'system_fingerprint': None, 'prompt_filter_results': [{'prompt_index': 0, 'content_filter_results': {'hate': {'filtered': False, 'severity': 'safe'}, 'self_harm': {'filtered': False, 'severity': 'safe'}, 'sexual': {'filtered': False, 'severity': 'safe'}, 'violence': {'filtered': False, 'severity': 'safe'}}}], 'finish_reason': 'tool_calls', 'logprobs': None, 'content_filter_results': {}}, id='run-0062be34-b805-4212-b964-54444eb015a4-0', tool_calls=[{'name': 'search_table', 'args': {'question': 'G20机器人电源线多长'}, 'id': 'call_QfUt6VwiREtMQaNWOjflZ7dL'}], usage_metadata={'input_tokens': 224, 'output_tokens': 21, 'total_tokens': 245}), ToolMessage(content='| 商品型号 | 版本 | 电源线长 |\\n| --- | --- | --- |\\n| g20 | 标准版 | 180cm |\\n| g20 | 上下水版 | 180cm |', name='search_table', id='660b9307-5ffd-4a8f-af8f-ebf472fe5a92', tool_call_id='call_QfUt6VwiREtMQaNWOjflZ7dL'), AIMessage(content='| 商品型号 | 版本 | 电源线长 |\\n| --- | --- | --- |\\n| g20 | 标准版 | 180cm |\\n| g20 | 上下水版 | 180cm |', id='f83cd20b-eea3-4c4f-8587-81271c9d4168'), HumanMessage(content='它功率多大', id='24f3d3a2-e37c-4090-b387-e186b375c913'), AIMessage(content='', additional_kwargs={'tool_calls': [{'id': 'call_IyEMwSvwlgz99scj3SGSuwjm', 'function': {'arguments': '{\"question\": \"G20\\\\u673a\\\\u5668\\\\u4eba\\\\u529f\\\\u7387\\\\u591a\\\\u5927\"}', 'name': 'search_table'}, 'type': 'function'}]}, response_metadata={'token_usage': {'completion_tokens': 34, 'prompt_tokens': 405, 'total_tokens': 439}, 'model_name': 'gpt-4', 'system_fingerprint': None, 'prompt_filter_results': [{'prompt_index': 0, 'content_filter_results': {'hate': {'filtered': False, 'severity': 'safe'}, 'self_harm': {'filtered': False, 'severity': 'safe'}, 'sexual': {'filtered': False, 'severity': 'safe'}, 'violence': {'filtered': False, 'severity': 'safe'}}}], 'finish_reason': 'tool_calls', 'logprobs': None, 'content_filter_results': {}}, id='run-2dd2bfcf-7852-4a17-80ee-d8fa24101ac5-0', tool_calls=[{'name': 'search_table', 'args': {'question': 'G20机器人功率多大'}, 'id': 'call_IyEMwSvwlgz99scj3SGSuwjm'}], usage_metadata={'input_tokens': 405, 'output_tokens': 34, 'total_tokens': 439}), ToolMessage(content='| 商品型号 | 版本 | 主机额定功率 |\\n| --- | --- | --- |\\n| g20 | 标准版 | 69W |\\n| g20 | 上下水版 | 69W |', name='search_table', id='0ed80c16-c732-44ef-8a63-d8b0eadd255c', tool_call_id='call_IyEMwSvwlgz99scj3SGSuwjm'), AIMessage(content='| 商品型号 | 版本 | 主机额定功率 |\\n| --- | --- | --- |\\n| g20 | 标准版 | 69W |\\n| g20 | 上下水版 | 69W |', id='e21a74f2-567e-442c-877a-ff2e54b4b92e'), HumanMessage(content='谢谢你', id='ac4c6f72-ba50-4afa-a0fa-7cdef9bb2cf9'), AIMessage(content='不客气，有其他问题欢迎随时向我提问。', response_metadata={'token_usage': {'completion_tokens': 21, 'prompt_tokens': 560, 'total_tokens': 581}, 'model_name': 'gpt-4', 'system_fingerprint': None, 'prompt_filter_results': [{'prompt_index': 0, 'content_filter_results': {'hate': {'filtered': False, 'severity': 'safe'}, 'self_harm': {'filtered': False, 'severity': 'safe'}, 'sexual': {'filtered': False, 'severity': 'safe'}, 'violence': {'filtered': False, 'severity': 'safe'}}}], 'finish_reason': 'stop', 'logprobs': None, 'content_filter_results': {'hate': {'filtered': False, 'severity': 'safe'}, 'self_harm': {'filtered': False, 'severity': 'safe'}, 'sexual': {'filtered': False, 'severity': 'safe'}, 'violence': {'filtered': False, 'severity': 'safe'}}}, id='run-0d5c15c1-cc1c-4779-81ab-21bd8c970975-0', usage_metadata={'input_tokens': 560, 'output_tokens': 21, 'total_tokens': 581})], 'status': 'reset'}, next=(), config={'configurable': {'thread_id': '198197a5-c74c-463d-8312-ded3f1d94479', 'thread_ts': '1ef37a80-efe7-63d1-8013-68414bbe8811'}}, metadata={'source': 'loop', 'step': 19, 'writes': {'search_table_assistant': {'messages': AIMessage(content='不客气，有其他问题欢迎随时向我提问。', response_metadata={'token_usage': {'completion_tokens': 21, 'prompt_tokens': 560, 'total_tokens': 581}, 'model_name': 'gpt-4', 'system_fingerprint': None, 'prompt_filter_results': [{'prompt_index': 0, 'content_filter_results': {'hate': {'filtered': False, 'severity': 'safe'}, 'self_harm': {'filtered': False, 'severity': 'safe'}, 'sexual': {'filtered': False, 'severity': 'safe'}, 'violence': {'filtered': False, 'severity': 'safe'}}}], 'finish_reason': 'stop', 'logprobs': None, 'content_filter_results': {'hate': {'filtered': False, 'severity': 'safe'}, 'self_harm': {'filtered': False, 'severity': 'safe'}, 'sexual': {'filtered': False, 'severity': 'safe'}, 'violence': {'filtered': False, 'severity': 'safe'}}}, id='run-0d5c15c1-cc1c-4779-81ab-21bd8c970975-0', usage_metadata={'input_tokens': 560, 'output_tokens': 21, 'total_tokens': 581}), 'status': 'reset'}}}, created_at='2024-07-01T12:47:21.736440+00:00', parent_config={'configurable': {'thread_id': '198197a5-c74c-463d-8312-ded3f1d94479', 'thread_ts': '1ef37a80-da06-6bc6-8012-fbbbec8f74d0'}})"
      ]
     },
     "execution_count": 281,
     "metadata": {},
     "output_type": "execute_result"
    }
   ],
   "source": [
    "part_4_graph.get_state(config)"
   ]
  },
  {
   "cell_type": "code",
   "execution_count": 230,
   "id": "3a843ebb-110d-4dad-b232-f405a67b38bd",
   "metadata": {},
   "outputs": [
    {
     "name": "stdout",
     "output_type": "stream",
     "text": [
      "================================\u001b[1m Human Message \u001b[0m=================================\n",
      "\n",
      "G20电源线多长\n",
      "==================================\u001b[1m Ai Message \u001b[0m==================================\n",
      "Tool Calls:\n",
      "  search_table (call_POixWLXoZibFqPJSq8MaPx3b)\n",
      " Call ID: call_POixWLXoZibFqPJSq8MaPx3b\n",
      "  Args:\n",
      "    question: G20 电源线多长\n",
      "=================================\u001b[1m Tool Message \u001b[0m=================================\n",
      "Name: search_table\n",
      "\n",
      "| 商品型号 | 版本 | 电源线长 |\n",
      "| --- | --- | --- |\n",
      "| g20 | 标准版 | 180cm |\n",
      "| g20 | 上下水版 | 180cm |\n",
      "==================================\u001b[1m Ai Message \u001b[0m==================================\n",
      "\n",
      "The power cord of the standard and water versions of the G20 robot vacuum cleaner is 180cm long.\n"
     ]
    }
   ],
   "source": [
    "_printed = set()\n",
    "question = \"G20电源线多长\"\n",
    "events = part_4_graph.stream(\n",
    "    {\"messages\": (\"user\", question)}, config, stream_mode=\"values\"\n",
    ")\n",
    "for event in events:\n",
    "    _print_event(event, _printed)"
   ]
  },
  {
   "cell_type": "code",
   "execution_count": 60,
   "id": "0c225a1d-db2c-44d3-a3f3-c43a13f3c209",
   "metadata": {},
   "outputs": [
    {
     "data": {
      "text/plain": [
       "StateSnapshot(values={'messages': [HumanMessage(content='你好', id='4e44ec7c-63f9-4cc6-897f-2d13af4fe067'), AIMessage(content='对不起，我无法回答这个问题。我专门帮助寻找关于清洁机器参数的表格信息。如果您有这方面的需求，请提问。', response_metadata={'token_usage': {'completion_tokens': 51, 'prompt_tokens': 98, 'total_tokens': 149}, 'model_name': 'gpt-4', 'system_fingerprint': None, 'prompt_filter_results': [{'prompt_index': 0, 'content_filter_results': {'hate': {'filtered': False, 'severity': 'safe'}, 'self_harm': {'filtered': False, 'severity': 'safe'}, 'sexual': {'filtered': False, 'severity': 'safe'}, 'violence': {'filtered': False, 'severity': 'safe'}}}], 'finish_reason': 'stop', 'logprobs': None, 'content_filter_results': {'hate': {'filtered': False, 'severity': 'safe'}, 'self_harm': {'filtered': False, 'severity': 'safe'}, 'sexual': {'filtered': False, 'severity': 'safe'}, 'violence': {'filtered': False, 'severity': 'safe'}}}, id='run-cfec7297-5a55-49d2-a48f-7455a960d0f0-0', usage_metadata={'input_tokens': 98, 'output_tokens': 51, 'total_tokens': 149})]}, next=(), config={'configurable': {'thread_id': '198197a5-c74c-463d-8312-ded3f1d94479', 'thread_ts': '1ef3764c-c36c-6157-8001-1cde80512200'}}, metadata={'source': 'loop', 'step': 1, 'writes': {'search_table_assistant': {'messages': AIMessage(content='对不起，我无法回答这个问题。我专门帮助寻找关于清洁机器参数的表格信息。如果您有这方面的需求，请提问。', response_metadata={'token_usage': {'completion_tokens': 51, 'prompt_tokens': 98, 'total_tokens': 149}, 'model_name': 'gpt-4', 'system_fingerprint': None, 'prompt_filter_results': [{'prompt_index': 0, 'content_filter_results': {'hate': {'filtered': False, 'severity': 'safe'}, 'self_harm': {'filtered': False, 'severity': 'safe'}, 'sexual': {'filtered': False, 'severity': 'safe'}, 'violence': {'filtered': False, 'severity': 'safe'}}}], 'finish_reason': 'stop', 'logprobs': None, 'content_filter_results': {'hate': {'filtered': False, 'severity': 'safe'}, 'self_harm': {'filtered': False, 'severity': 'safe'}, 'sexual': {'filtered': False, 'severity': 'safe'}, 'violence': {'filtered': False, 'severity': 'safe'}}}, id='run-cfec7297-5a55-49d2-a48f-7455a960d0f0-0', usage_metadata={'input_tokens': 98, 'output_tokens': 51, 'total_tokens': 149})}}}, created_at='2024-07-01T04:45:53.417195+00:00', parent_config={'configurable': {'thread_id': '198197a5-c74c-463d-8312-ded3f1d94479', 'thread_ts': '1ef3764c-9c81-6703-8000-507c297dbd2b'}})"
      ]
     },
     "execution_count": 60,
     "metadata": {},
     "output_type": "execute_result"
    }
   ],
   "source": [
    "part_4_graph.get_state(config)"
   ]
  },
  {
   "cell_type": "code",
   "execution_count": 53,
   "id": "cc82d8e5-0f62-45f5-85b4-9db7b08b217d",
   "metadata": {},
   "outputs": [
    {
     "name": "stdout",
     "output_type": "stream",
     "text": [
      "================================\u001b[1m Human Message \u001b[0m=================================\n",
      "\n",
      "G20\n",
      "==================================\u001b[1m Ai Message \u001b[0m==================================\n",
      "Tool Calls:\n",
      "  search_table (call_I761kdzrMk1ZF35URKJsxo3p)\n",
      " Call ID: call_I761kdzrMk1ZF35URKJsxo3p\n",
      "  Args:\n",
      "    question: G20电源线多长\n",
      "电源线长\n",
      "=================================\u001b[1m Tool Message \u001b[0m=================================\n",
      "Name: search_table\n",
      "\n",
      "| 商品型号 | 版本 | 电源线长 |\n",
      "| --- | --- | --- |\n",
      "| g20 | 标准版 | 180cm |\n",
      "| g20 | 上下水版 | 180cm |\n",
      "==================================\u001b[1m Ai Message \u001b[0m==================================\n",
      "\n",
      "G20型清洁机的电源线长度为180厘米，无论是标准版还是上下水版。\n"
     ]
    }
   ],
   "source": [
    "question = \"G20\"\n",
    "events = part_4_graph.stream(\n",
    "    {\"messages\": (\"user\", question)}, config, stream_mode=\"values\"\n",
    ")\n",
    "for event in events:\n",
    "    _print_event(event, _printed)"
   ]
  },
  {
   "cell_type": "code",
   "execution_count": null,
   "id": "39f734e6-0003-4c88-a039-a9bf9277add2",
   "metadata": {},
   "outputs": [],
   "source": []
  },
  {
   "cell_type": "code",
   "execution_count": null,
   "id": "6e573360-09e8-40b2-b2eb-5b77c7b50a27",
   "metadata": {},
   "outputs": [],
   "source": []
  },
  {
   "cell_type": "code",
   "execution_count": null,
   "id": "7ce3601f-d070-4f6f-ae49-179d2017c6ac",
   "metadata": {},
   "outputs": [],
   "source": [
    "\n",
    "\n",
    "\n",
    "tutorial_questions = [\n",
    "    \"你好\",\n",
    "    \"G20电源线多长.\",\n",
    "    \"和1米比哪个长\",\n",
    "    \"帮我查询下天气好吗\",\n",
    "]\n",
    "\n",
    "\n",
    "_printed = set()\n",
    "for question in tutorial_questions:\n",
    "    events = part_4_graph.stream(\n",
    "        {\"messages\": (\"user\", question)}, config, stream_mode=\"values\"\n",
    "    )\n",
    "    for event in events:\n",
    "        _print_event(event, _printed)"
   ]
  },
  {
   "cell_type": "code",
   "execution_count": null,
   "id": "0f5bf635-817e-4cd3-a2e4-a2702319ca6b",
   "metadata": {},
   "outputs": [],
   "source": []
  },
  {
   "cell_type": "code",
   "execution_count": null,
   "id": "06d8fe60-9bf9-448c-86ae-7643b5179c7e",
   "metadata": {},
   "outputs": [],
   "source": []
  },
  {
   "cell_type": "code",
   "execution_count": null,
   "id": "09f91015-2959-4cf7-a097-f9fbc11b7970",
   "metadata": {},
   "outputs": [],
   "source": []
  },
  {
   "cell_type": "code",
   "execution_count": null,
   "id": "cc7eb4ec-38ba-43d3-9718-55948401b74e",
   "metadata": {},
   "outputs": [],
   "source": []
  },
  {
   "cell_type": "code",
   "execution_count": null,
   "id": "9d6fda4a-7046-43c5-9a2e-3e5379980653",
   "metadata": {},
   "outputs": [],
   "source": []
  },
  {
   "cell_type": "code",
   "execution_count": 22,
   "id": "c020d2ef-5584-4c5e-8e72-2ecba48b66af",
   "metadata": {},
   "outputs": [
    {
     "data": {
      "image/jpeg": "[encoded data removed]",
      "text/plain": [
       "<IPython.core.display.Image object>"
      ]
     },
     "metadata": {},
     "output_type": "display_data"
    }
   ],
   "source": [
    "import getpass\n",
    "import os\n",
    "from find_keywords import LabellerByRulesWithPos\n",
    "from pipeline import NL2SQLPineline\n",
    "from vector_db import ChromaDB\n",
    "from search_engine import QAVectorDBSearchEngine\n",
    "from recall import RecallBySearchEngine\n",
    "from nl2sql import SimpleLookup\n",
    "from langchain_core.tools import tool\n",
    "from typing import Annotated, Optional\n",
    "from typing_extensions import TypedDict\n",
    "from langgraph.graph.message import AnyMessage, add_messages\n",
    "from langchain_core.prompts import ChatPromptTemplate\n",
    "from langchain_core.pydantic_v1 import BaseModel, Field\n",
    "from langchain_core.runnables import Runnable, RunnableConfig\n",
    "from langchain_openai import AzureChatOpenAI\n",
    "from typing import Callable\n",
    "from typing import Literal\n",
    "from langchain_core.messages import ToolMessage\n",
    "from langchain_core.runnables import RunnableLambda\n",
    "from langgraph.prebuilt import ToolNode\n",
    "from langgraph.graph import END, StateGraph\n",
    "from langgraph.prebuilt import tools_condition\n",
    "from langgraph.checkpoint.sqlite import SqliteSaver\n",
    "#%%\n",
    "def handle_tool_error(state) -> dict:\n",
    "    error = state.get(\"error\")\n",
    "    tool_calls = state[\"messages\"][-1].tool_calls\n",
    "    return {\n",
    "        \"messages\": [\n",
    "            ToolMessage(\n",
    "                content=f\"Error: {repr(error)}\\n please fix your mistakes.\",\n",
    "                tool_call_id=tc[\"id\"],\n",
    "            )\n",
    "            for tc in tool_calls\n",
    "        ]\n",
    "    }\n",
    "\n",
    "\n",
    "def create_tool_node_with_fallback(tools: list) -> dict:\n",
    "    return ToolNode(tools).with_fallbacks(\n",
    "        [RunnableLambda(handle_tool_error)], exception_key=\"error\"\n",
    "    )\n",
    "\n",
    "\n",
    "def _print_event(event: dict, _printed: set, max_length=1500):\n",
    "    current_state = event.get(\"dialog_state\")\n",
    "    if current_state:\n",
    "        print(\"Currently in: \", current_state[-1])\n",
    "    message = event.get(\"messages\")\n",
    "    if message:\n",
    "        if isinstance(message, list):\n",
    "            message = message[-1]\n",
    "        if message.id not in _printed:\n",
    "            msg_repr = message.pretty_repr(html=True)\n",
    "            if len(msg_repr) > max_length:\n",
    "                msg_repr = msg_repr[:max_length] + \" ... (truncated)\"\n",
    "            print(msg_repr)\n",
    "            _printed.add(message.id)\n",
    "\n",
    "#%%\n",
    "router_config = {\n",
    "    \"class\": LabellerByRulesWithPos,\n",
    "    \"config\": {\n",
    "        \"dim_df_path\": \"data/dim_df20240619.csv\",\n",
    "        \"model_col\": (\"model\", \"model\"),\n",
    "        \"cat_col\": (\"cat_cn\", \"cat\"),\n",
    "        \"error_col\": (\"error\", \"error\"),\n",
    "        \"ner_model_path\": \"/workspace/data/private/zhuxiaohai/models/bert_finetuned_ner_augmented/\"\n",
    "    }\n",
    "}\n",
    "\n",
    "recall_config = {\n",
    "    \"class\": RecallBySearchEngine,\n",
    "    \"config\": {\n",
    "        \"search_engine\": {\n",
    "            \"class\": QAVectorDBSearchEngine,\n",
    "            \"docs_path\": \"data/table_entity.csv\",\n",
    "            \"docs_col\": \"entity_name\",\n",
    "            \"ids_col\": \"ids\",\n",
    "            \"metadata_cols\": [\"sweeping\", \"washing\", \"mopping\", \"content\"],\n",
    "            \"collection_name\": \"table_entity\",\n",
    "            \"reset\": False,\n",
    "            \"encoder_path\": \"/workspace/data/private/zhuxiaohai/models/bge_finetuned_emb_ner_link\",\n",
    "            \"vector_db\": {\n",
    "                \"class\": ChromaDB,\n",
    "                \"host\": \"/data/dataset/kefu/chroma\",\n",
    "            },\n",
    "        },\n",
    "    },\n",
    "    \"top_n\": 1,\n",
    "}\n",
    "\n",
    "nl2sql_config = {\n",
    "    \"class\": SimpleLookup,\n",
    "    \"config\": {\n",
    "        \"db_absolute_path\": \"/root/PycharmProjects/rockchat/data/model_params.db\",\n",
    "        \"reset\": False,\n",
    "        \"df_path\": \"/root/PycharmProjects/rockchat/data/model_params20240620.csv\",\n",
    "        \"table_name\": \"model_params20240620\",\n",
    "        \"output_type\": \"markdown\"\n",
    "    }\n",
    "}\n",
    "\n",
    "pipeline_config = {\n",
    "    \"router\": router_config,\n",
    "    \"recall\": recall_config,\n",
    "    \"nl2sql\": nl2sql_config,\n",
    "}\n",
    "\n",
    "nl2sql_pipeline = NL2SQLPineline(pipeline_config)\n",
    "#%%\n",
    "@tool\n",
    "def fetch_table(request: str) -> str:\n",
    "    \"\"\"Consult a table about robot model parameters according to the query,\n",
    "    and return the results.\"\"\"\n",
    "    results = nl2sql_pipeline.run(request)\n",
    "    return results\n",
    "\n",
    "\n",
    "def update_dialog_stack(left: list[str], right: Optional[str]) -> list[str]:\n",
    "    \"\"\"Push or pop the state.\"\"\"\n",
    "    if right is None:\n",
    "        return left\n",
    "    if right == \"pop\":\n",
    "        return left[:-1]\n",
    "    return left + [right]\n",
    "\n",
    "\n",
    "class State(TypedDict):\n",
    "    messages: Annotated[list[AnyMessage], add_messages]\n",
    "    dialog_state: Annotated[\n",
    "        list[\n",
    "            Literal[\n",
    "                \"assistant\",\n",
    "                \"fetch_table\",\n",
    "            ]\n",
    "        ],\n",
    "        update_dialog_stack,\n",
    "    ]\n",
    "\n",
    "class Assistant:\n",
    "    def __init__(self, runnable: Runnable):\n",
    "        self.runnable = runnable\n",
    "\n",
    "    def __call__(self, state: State, config: RunnableConfig):\n",
    "        while True:\n",
    "            result = self.runnable.invoke(state)\n",
    "            if not result.tool_calls and (\n",
    "                not result.content\n",
    "                or isinstance(result.content, list)\n",
    "                and not result.content[0].get(\"text\")\n",
    "            ):\n",
    "                messages = state[\"messages\"] + [(\"user\", \"Respond with a real output.\")]\n",
    "                state = {**state, \"messages\": messages}\n",
    "                messages = state[\"messages\"] + [(\"user\", \"Respond with a real output.\")]\n",
    "                state = {**state, \"messages\": messages}\n",
    "            else:\n",
    "                break\n",
    "        return {\"messages\": result}\n",
    "\n",
    "\n",
    "class CompleteOrEscalate(BaseModel):\n",
    "    \"\"\"A tool to mark the current task as completed and/or to escalate control of the dialog to the main assistant,\n",
    "    who can re-route the dialog based on the user's needs.\"\"\"\n",
    "    class Config:\n",
    "        schema_extra = {\n",
    "            \"example 1\": {\n",
    "                \"cancel\": True,\n",
    "                \"reason\": \"I have fully completed the task.\",\n",
    "            },\n",
    "            \"example 2\": {\n",
    "                \"cancel\": False,\n",
    "                \"reason\": \"I need to get more information about robot model names.\",\n",
    "            },\n",
    "        }\n",
    "    cancel: bool = Field(description=\"If the current task should be canceled.\")\n",
    "    reason: str = Field(description=\"reason for cancelling or not\")\n",
    "#%%\n",
    "# Table Searching Assistant\n",
    "table_searching_prompt = ChatPromptTemplate.from_messages(\n",
    "    [\n",
    "        (\n",
    "            \"system\",\n",
    "            \"You are a specialized assistant for searching table about robot model parameters.\"\n",
    "            \"The primary assistant delegates work to you whenever the user needs to know parameters about robot models.\"\n",
    "            \"The query must have robot model names such as A10, G20, H1 and so on to complete the search, and\"\n",
    "            ' if it does not have that information, use the tool \"CompleteOrEscalate\" to escalate the task back to the main assistant, '\n",
    "            \" but remember to set cancel = False.\"\n",
    "            'If you have successfully used the \"fetch_table\" tool, please use \"CompleteOrEscalate\" tool to escalate the task back to the main assistant.'\n",
    "            \"\\n\\nIf none of your tools are appropriate, then use the tool \"\n",
    "            ' \"CompleteOrEscalate\" to send the dialog back to the host assistant. Do not waste the user\\'s time. Do not make up invalid tools or functions.'\n",
    "            \"directly use the user query as input to your tools, and don't make any translations or rephrases.\",\n",
    "        ),\n",
    "        (\"placeholder\", \"{messages}\"),\n",
    "    ]\n",
    ")\n",
    "llm = AzureChatOpenAI(\n",
    "    api_version=\"2024-02-15-preview\",\n",
    "    azure_endpoint=\"https://csagent.openai.azure.com/\",\n",
    "    api_key=\"346ac6661e314a9d8b91b6a99202ba42\",\n",
    "    deployment_name=\"gpt-4-8k\",\n",
    ")\n",
    "table_searching_runnable = table_searching_prompt | llm.bind_tools(\n",
    "     [CompleteOrEscalate, fetch_table]\n",
    ")\n",
    "#%%\n",
    "# Primary Assistant\n",
    "class ToTableSearchingAssistant(BaseModel):\n",
    "    \"\"\"Transfers work to a specialized assistant to search table for robot model parameters.\"\"\"\n",
    "    request: str = Field(\n",
    "        description=\"directly use the user query as input to the specialized assistant, and don't make any translations or rephrases.\"\n",
    "    )\n",
    "llm_p = AzureChatOpenAI(\n",
    "    api_version=\"2024-02-15-preview\",\n",
    "    azure_endpoint=\"https://csagent.openai.azure.com/\",\n",
    "    api_key=\"346ac6661e314a9d8b91b6a99202ba42\",\n",
    "    deployment_name=\"gpt-4-8k\",\n",
    ")\n",
    "primary_assistant_prompt = ChatPromptTemplate.from_messages(\n",
    "    [\n",
    "        (\n",
    "            \"system\",\n",
    "            \"You are a helpful customer support assistant for home cleaning robot. \"\n",
    "            \"Your primary role is to answer customer queries about the home cleaning robot. \"\n",
    "            \"If a customer requests you to answer some questions outof the scope just reject to answer.\"\n",
    "            \"If a customer requests to know some parameter of a robot, \"\n",
    "            \"delegate the task to the appropriate specialized assistant by invoking the corresponding tool. You are not able to make these types of changes yourself.\"\n",
    "            \" Only the specialized assistants are given permission to do this for the user.\"\n",
    "            \"The user is not aware of the different specialized assistants, so do not mention them; just quietly delegate through function calls. \"\n",
    "            \" When searching, be persistent. Expand your query bounds if the first search returns no results. \"\n",
    "            \" If a search comes up empty, expand your search before giving up.\"\n",
    "        ),\n",
    "        (\"placeholder\", \"{messages}\"),\n",
    "    ]\n",
    ")\n",
    "assistant_runnable = primary_assistant_prompt | llm_p.bind_tools(\n",
    "    [\n",
    "        ToTableSearchingAssistant\n",
    "    ]\n",
    ")\n",
    "\n",
    "\n",
    "def create_entry_node(assistant_name: str, new_dialog_state: str) -> Callable:\n",
    "    def entry_node(state: State) -> dict:\n",
    "        tool_call_id = state[\"messages\"][-1].tool_calls[0][\"id\"]\n",
    "        request = state[\"messages\"][-1].tool_calls[0][\"args\"][\"request\"]\n",
    "        return {\n",
    "            \"messages\": [\n",
    "                ToolMessage(\n",
    "                    content=f\"The assistant is now the {assistant_name}. Reflect on the above conversation between the host assistant and the user.\"\n",
    "                    f\" The user's intent is unsatisfied. Use the provided tools to assist the user. Remember, you are {assistant_name},\"\n",
    "                    \" and the task is not complete until after you have successfully invoked the appropriate tool.\"       \n",
    "                    \" If the you needs more information to complete the task, call the CompleteOrEscalate function to let the primary host assistant take control.\"\n",
    "                    \"If you successfullyt complete the task, call the CompleteOrEscalate function to let the primary host assistant take control.\"\n",
    "                    \" Do not mention who you are - just act as the proxy for the assistant.\"\n",
    "                    \"Directly use the request below as input to your tools and don't translate into English or rephase.\"\n",
    "                    f\"\\n\\nrequest: {request}\",\n",
    "                    tool_call_id=tool_call_id,\n",
    "                )\n",
    "            ],\n",
    "            \"dialog_state\": new_dialog_state,\n",
    "        }\n",
    "    return entry_node\n",
    "#%%\n",
    "builder = StateGraph(State)\n",
    "#%%\n",
    "# fetch table assistant\n",
    "builder.add_node(\n",
    "    \"enter_search_table\",\n",
    "    create_entry_node(\"Assistant of Searching Robot Model Parameters\", \"fetch_table\"),\n",
    ")\n",
    "builder.add_node(\"fetch_table\", Assistant(table_searching_runnable))\n",
    "builder.add_edge(\"enter_search_table\", \"fetch_table\")\n",
    "builder.add_node(\n",
    "    \"fetch_table_tools\",\n",
    "    create_tool_node_with_fallback([fetch_table]),\n",
    ")\n",
    "\n",
    "\n",
    "def route_fetch_table(\n",
    "    state: State,\n",
    ") -> Literal[\n",
    "    \"fetch_table_tools\",\n",
    "    \"leave_skill\",\n",
    "    \"__end__\",\n",
    "]:\n",
    "    route = tools_condition(state)\n",
    "    if route == END:\n",
    "        return END\n",
    "    tool_calls = state[\"messages\"][-1].tool_calls\n",
    "    did_cancel = any(tc[\"name\"] == CompleteOrEscalate.__name__ for tc in tool_calls)\n",
    "    if did_cancel:\n",
    "        return \"leave_skill\"\n",
    "    return \"fetch_table_tools\"\n",
    "\n",
    "\n",
    "builder.add_edge(\"fetch_table_tools\", \"fetch_table\")\n",
    "builder.add_conditional_edges(\"fetch_table\", route_fetch_table)\n",
    "#%%\n",
    "# This node will be shared for exiting all specialized assistants\n",
    "def pop_dialog_state(state: State) -> dict:\n",
    "    \"\"\"Pop the dialog stack and return to the main assistant.\n",
    "\n",
    "    This lets the full graph explicitly track the dialog flow and delegate control\n",
    "    to specific sub-graphs.\n",
    "    \"\"\"\n",
    "    messages = []\n",
    "    if state[\"messages\"][-1].tool_calls:\n",
    "        # Note: Doesn't currently handle the edge case where the llm performs parallel tool calls\n",
    "        messages.append(\n",
    "            ToolMessage(\n",
    "                content=\"Resuming dialog with the host assistant. Please reflect on the past conversation and assist the user as needed.\",\n",
    "                tool_call_id=state[\"messages\"][-1].tool_calls[0][\"id\"],\n",
    "            )\n",
    "        )\n",
    "    return {\n",
    "        \"dialog_state\": \"pop\",\n",
    "        \"messages\": messages,\n",
    "    }\n",
    "\n",
    "\n",
    "builder.add_node(\"leave_skill\", pop_dialog_state)\n",
    "builder.add_edge(\"leave_skill\", \"primary_assistant\")\n",
    "#%%\n",
    "# Primary assistant\n",
    "builder.add_node(\"primary_assistant\", Assistant(assistant_runnable))\n",
    "builder.set_entry_point(\"primary_assistant\")\n",
    "\n",
    "def route_primary_assistant(\n",
    "    state: State,\n",
    ") -> Literal[\n",
    "    \"enter_search_table\",\n",
    "    \"__end__\",\n",
    "]:\n",
    "    route = tools_condition(state)\n",
    "    if route == END:\n",
    "        return END\n",
    "    tool_calls = state[\"messages\"][-1].tool_calls\n",
    "    if tool_calls:\n",
    "        if tool_calls[0][\"name\"] == ToTableSearchingAssistant.__name__:\n",
    "            return \"enter_search_table\"\n",
    "    raise ValueError(\"Invalid route\")\n",
    "\n",
    "\n",
    "# The assistant can route to one of the delegated assistants,\n",
    "# directly use a tool, or directly respond to the user\n",
    "builder.add_conditional_edges(\n",
    "    \"primary_assistant\",\n",
    "    route_primary_assistant,\n",
    "    {\n",
    "        \"enter_search_table\": \"enter_search_table\",\n",
    "        END: END,\n",
    "    },\n",
    ")\n",
    "# # Each delegated workflow can directly respond to the user\n",
    "# # When the user responds, we want to return to the currently active workflow\n",
    "# def route_to_workflow(\n",
    "#     state: State,\n",
    "# ) -> Literal[\n",
    "#     \"fetch_table\",\n",
    "# ]:\n",
    "#     \"\"\"If we are in a delegated state, route directly to the appropriate assistant.\"\"\"\n",
    "#     dialog_state = state.get(\"dialog_state\")\n",
    "#     if not dialog_state:\n",
    "#         return \"primary_assistant\"\n",
    "#     return dialog_state[-1]\n",
    "\n",
    "\n",
    "# builder.add_conditional_edges(\"primary_assistant\", route_to_workflow)\n",
    "#%%\n",
    "# Compile graph\n",
    "memory = SqliteSaver.from_conn_string(\":memory:\")\n",
    "part_4_graph = builder.compile(\n",
    "    checkpointer=memory,\n",
    ")\n",
    "#%%\n",
    "from IPython.display import Image, display\n",
    "\n",
    "try:\n",
    "    display(Image(part_4_graph.get_graph(xray=True).draw_mermaid_png()))\n",
    "except Exception:\n",
    "    # This requires some extra dependencies and is optional\n",
    "    pass\n",
    "\n",
    "\n",
    "import uuid\n",
    "thread_id = str(uuid.uuid4())\n",
    "config = {\n",
    "    \"configurable\": {\n",
    "        # The passenger_id is used in our flight tools to\n",
    "        # fetch the user's flight informatio\n",
    "        # Checkpoints are accessed by thread_id\n",
    "        \"thread_id\": \"198197a5-c74c-463d-8312-ded3f1d94479\",\n",
    "    }\n",
    "}"
   ]
  },
  {
   "cell_type": "code",
   "execution_count": 23,
   "id": "28a3ab87-f4f6-46bc-95fc-6bfebc46b049",
   "metadata": {},
   "outputs": [],
   "source": [
    "question = \"今天天气如何\"\n",
    "events = part_4_graph.stream(\n",
    "    {\"messages\": (\"user\", question)}, config\n",
    ")"
   ]
  },
  {
   "cell_type": "code",
   "execution_count": 24,
   "id": "7ae9801e-c0a5-451c-9567-672035cd5925",
   "metadata": {},
   "outputs": [
    {
     "data": {
      "text/plain": [
       "[{'primary_assistant': {'messages': AIMessage(content='对不起，我无法回答关于天气的问题，我主要是回答与家庭清洁机器人相关的问题。如果您有关于家庭清洁机器人的问题，我会很乐意帮助您。', response_metadata={'token_usage': {'completion_tokens': 70, 'prompt_tokens': 239, 'total_tokens': 309}, 'model_name': 'gpt-4', 'system_fingerprint': None, 'prompt_filter_results': [{'prompt_index': 0, 'content_filter_results': {'hate': {'filtered': False, 'severity': 'safe'}, 'self_harm': {'filtered': False, 'severity': 'safe'}, 'sexual': {'filtered': False, 'severity': 'safe'}, 'violence': {'filtered': False, 'severity': 'safe'}}}], 'finish_reason': 'stop', 'logprobs': None, 'content_filter_results': {'hate': {'filtered': False, 'severity': 'safe'}, 'self_harm': {'filtered': False, 'severity': 'safe'}, 'sexual': {'filtered': False, 'severity': 'safe'}, 'violence': {'filtered': False, 'severity': 'safe'}}}, id='run-a1ef2236-d5c2-4347-9cce-10e270e15b2f-0', usage_metadata={'input_tokens': 239, 'output_tokens': 70, 'total_tokens': 309})}}]"
      ]
     },
     "execution_count": 24,
     "metadata": {},
     "output_type": "execute_result"
    }
   ],
   "source": [
    "list(events)"
   ]
  },
  {
   "cell_type": "code",
   "execution_count": 10,
   "id": "e9d5ae98-87ee-4583-b196-36bd75ec2b26",
   "metadata": {},
   "outputs": [
    {
     "name": "stdout",
     "output_type": "stream",
     "text": [
      "================================\u001b[1m Human Message \u001b[0m=================================\n",
      "\n",
      "我机器人的功率多大\n",
      "==================================\u001b[1m Ai Message \u001b[0m==================================\n",
      "Tool Calls:\n",
      "  ToTableSearchingAssistant (call_mgZ8ky8NfR2kMAGmVZEupXAA)\n",
      " Call ID: call_mgZ8ky8NfR2kMAGmVZEupXAA\n",
      "  Args:\n",
      "    request: 我机器人的功率多大\n",
      "Currently in:  fetch_table\n",
      "=================================\u001b[1m Tool Message \u001b[0m=================================\n",
      "\n",
      "The assistant is now the Assistant of Searching Robot Model Parameters. Reflect on the above conversation between the host assistant and the user. The user's intent is unsatisfied. Use the provided tools to assist the user. Remember, you are Assistant of Searching Robot Model Parameters, and the task is not complete until after you have successfully invoked the appropriate tool. If the you needs more information to complete the task, call the CompleteOrEscalate function to let the primary host assistant take control.If you successfullyt complete the task, call the CompleteOrEscalate function to let the primary host assistant take control. Do not mention who you are - just act as the proxy for the assistant.Directly use the request below as input to your tools and don't translate into English or rephase.\n",
      "\n",
      "request: 我机器人的功率多大\n",
      "Currently in:  fetch_table\n",
      "==================================\u001b[1m Ai Message \u001b[0m==================================\n",
      "Tool Calls:\n",
      "  CompleteOrEscalate (call_5anG6K4PwyBDh4eQXVFDN0F4)\n",
      " Call ID: call_5anG6K4PwyBDh4eQXVFDN0F4\n",
      "  Args:\n",
      "    cancel: True\n",
      "    reason: The user query lacks specific robot model name. Escalating to the main assistant for further clarification.\n",
      "=================================\u001b[1m Tool Message \u001b[0m=================================\n",
      "\n",
      "Resuming dialog with the host assistant. Please reflect on the past conversation and assist the user as needed.\n",
      "==================================\u001b[1m Ai Message \u001b[0m==================================\n",
      "\n",
      "对不起，为了能准确地为您查找，我需要知道您的机器人型号是什么？\n"
     ]
    }
   ],
   "source": [
    "question = \"我机器人的功率多大\"\n",
    "events = part_4_graph.stream(\n",
    "    {\"messages\": (\"user\", question)}, config, stream_mode=\"values\"\n",
    ")\n",
    "for event in events:\n",
    "    _print_event(event, _printed)"
   ]
  },
  {
   "cell_type": "code",
   "execution_count": 436,
   "id": "e0d34490-c24f-439e-a885-4973c67b59f8",
   "metadata": {},
   "outputs": [
    {
     "data": {
      "text/plain": [
       "1"
      ]
     },
     "execution_count": 436,
     "metadata": {},
     "output_type": "execute_result"
    }
   ],
   "source": [
    "#%%\n",
    "tutorial_questions = [\n",
    "    \"你好\",\n",
    "    \"G20电源线多长.\",\n",
    "    \"和1米比哪个长\",\n",
    "    \"帮我查询下天气好吗\",\n",
    "]\n",
    "#%%\n",
    "_printed = set()\n",
    "for question in tutorial_questions:\n",
    "    events = part_4_graph.stream(\n",
    "        {\"messages\": (\"user\", question)}, config, stream_mode=\"values\"\n",
    "    )\n",
    "    for event in events:\n",
    "        _print_event(event, _printed)"
   ]
  },
  {
   "cell_type": "code",
   "execution_count": 460,
   "id": "f02af9a2-028a-4573-b33e-2a177d6c7966",
   "metadata": {},
   "outputs": [
    {
     "name": "stdout",
     "output_type": "stream",
     "text": [
      "================================\u001b[1m Human Message \u001b[0m=================================\n",
      "\n",
      "你好\n",
      "==================================\u001b[1m Ai Message \u001b[0m==================================\n",
      "\n",
      "您好！请问需要什么帮助？\n"
     ]
    }
   ],
   "source": [
    "events = part_4_graph.stream(\n",
    "    {\"messages\": (\"user\", \"你好\")}, config, stream_mode=\"values\"\n",
    ")\n",
    "for event in events:\n",
    "    _print_event(event, _printed)"
   ]
  },
  {
   "cell_type": "code",
   "execution_count": 462,
   "id": "8a685acf-a205-43a7-a526-677b6eb193a3",
   "metadata": {},
   "outputs": [
    {
     "data": {
      "text/plain": [
       "[{'primary_assistant': {'messages': AIMessage(content='', additional_kwargs={'tool_calls': [{'id': 'call_d7Totv5lPupge2VgFeXMml94', 'function': {'arguments': '{\\n\"request\": \"G20电源线长度\"\\n}', 'name': 'ToTableSearchingAssistant'}, 'type': 'function'}]}, response_metadata={'token_usage': {'completion_tokens': 20, 'prompt_tokens': 883, 'total_tokens': 903}, 'model_name': 'gpt-4', 'system_fingerprint': None, 'prompt_filter_results': [{'prompt_index': 0, 'content_filter_results': {'hate': {'filtered': False, 'severity': 'safe'}, 'self_harm': {'filtered': False, 'severity': 'safe'}, 'sexual': {'filtered': False, 'severity': 'safe'}, 'violence': {'filtered': False, 'severity': 'safe'}}}], 'finish_reason': 'tool_calls', 'logprobs': None, 'content_filter_results': {}}, id='run-a7dff181-d75c-44ec-9e78-8fdcd25db445-0', tool_calls=[{'name': 'ToTableSearchingAssistant', 'args': {'request': 'G20电源线长度'}, 'id': 'call_d7Totv5lPupge2VgFeXMml94'}], usage_metadata={'input_tokens': 883, 'output_tokens': 20, 'total_tokens': 903})}},\n",
       " {'enter_search_table': {'messages': [ToolMessage(content=\"The assistant is now the Assistant of Searching Robot Model Parameters. Reflect on the above conversation between the host assistant and the user. The user's intent is unsatisfied. Use the provided tools to assist the user. Remember, you are Assistant of Searching Robot Model Parameters, and the task is not complete until after you have successfully invoked the appropriate tool. If the you needs more information to complete the task, call the CompleteOrEscalate function to let the primary host assistant take control.If you successfullyt complete the task, call the CompleteOrEscalate function to let the primary host assistant take control. Do not mention who you are - just act as the proxy for the assistant.Directly use the request below as input to your tools and don't translate into English or rephase.\\n\\nrequest: G20电源线长度\", id='dfb1d96f-736d-4372-be6f-2c56c6b10114', tool_call_id='call_d7Totv5lPupge2VgFeXMml94')],\n",
       "   'dialog_state': 'fetch_table'}},\n",
       " {'fetch_table': {'messages': AIMessage(content='', additional_kwargs={'tool_calls': [{'id': 'call_d7Totv5lPupge2VgFeXMml94', 'function': {'arguments': '{\"request\": \"G20\\\\u7535\\\\u6e90\\\\u7ebf\\\\u957f\\\\u5ea6\"}', 'name': 'fetch_table'}, 'type': 'function'}]}, response_metadata={'token_usage': {'completion_tokens': 31, 'prompt_tokens': 1182, 'total_tokens': 1213}, 'model_name': 'gpt-4', 'system_fingerprint': None, 'prompt_filter_results': [{'prompt_index': 0, 'content_filter_results': {'hate': {'filtered': False, 'severity': 'safe'}, 'self_harm': {'filtered': False, 'severity': 'safe'}, 'sexual': {'filtered': False, 'severity': 'safe'}, 'violence': {'filtered': False, 'severity': 'safe'}}}], 'finish_reason': 'tool_calls', 'logprobs': None, 'content_filter_results': {}}, id='run-2bacd9ce-1545-4030-a2ec-380d930b0ef2-0', tool_calls=[{'name': 'fetch_table', 'args': {'request': 'G20电源线长度'}, 'id': 'call_d7Totv5lPupge2VgFeXMml94'}], usage_metadata={'input_tokens': 1182, 'output_tokens': 31, 'total_tokens': 1213})}},\n",
       " {'fetch_table_tools': {'messages': [ToolMessage(content='| 商品型号 | 版本 | 电源线长 |\\n| --- | --- | --- |\\n| g20 | 标准版 | 180cm |\\n| g20 | 上下水版 | 180cm |', name='fetch_table', id='d1a4cff1-cc33-48f6-aefe-defc6115431a', tool_call_id='call_d7Totv5lPupge2VgFeXMml94')]}},\n",
       " {'fetch_table': {'messages': AIMessage(content='', additional_kwargs={'tool_calls': [{'id': 'call_6lTbJyosxUKp6HDoi3gTgluc', 'function': {'arguments': '{\"cancel\": false, \"reason\": \"Success\"}', 'name': 'CompleteOrEscalate'}, 'type': 'function'}]}, response_metadata={'token_usage': {'completion_tokens': 20, 'prompt_tokens': 1270, 'total_tokens': 1290}, 'model_name': 'gpt-4', 'system_fingerprint': None, 'prompt_filter_results': [{'prompt_index': 0, 'content_filter_results': {'hate': {'filtered': False, 'severity': 'safe'}, 'self_harm': {'filtered': False, 'severity': 'safe'}, 'sexual': {'filtered': False, 'severity': 'safe'}, 'violence': {'filtered': False, 'severity': 'safe'}}}], 'finish_reason': 'tool_calls', 'logprobs': None, 'content_filter_results': {}}, id='run-76fa13d7-f4c8-4d39-b183-7796b9d01f68-0', tool_calls=[{'name': 'CompleteOrEscalate', 'args': {'cancel': False, 'reason': 'Success'}, 'id': 'call_6lTbJyosxUKp6HDoi3gTgluc'}], usage_metadata={'input_tokens': 1270, 'output_tokens': 20, 'total_tokens': 1290})}},\n",
       " {'leave_skill': {'messages': [ToolMessage(content='Resuming dialog with the host assistant. Please reflect on the past conversation and assist the user as needed.', id='bd746d2e-59eb-4291-b764-bd40e6be5f51', tool_call_id='call_6lTbJyosxUKp6HDoi3gTgluc')],\n",
       "   'dialog_state': 'pop'}},\n",
       " {'primary_assistant': {'messages': AIMessage(content='您的G20型清洁机器人的电源线长度是180cm。', response_metadata={'token_usage': {'completion_tokens': 21, 'prompt_tokens': 1230, 'total_tokens': 1251}, 'model_name': 'gpt-4', 'system_fingerprint': None, 'prompt_filter_results': [{'prompt_index': 0, 'content_filter_results': {'hate': {'filtered': False, 'severity': 'safe'}, 'self_harm': {'filtered': False, 'severity': 'safe'}, 'sexual': {'filtered': False, 'severity': 'safe'}, 'violence': {'filtered': False, 'severity': 'safe'}}}], 'finish_reason': 'stop', 'logprobs': None, 'content_filter_results': {'hate': {'filtered': False, 'severity': 'safe'}, 'self_harm': {'filtered': False, 'severity': 'safe'}, 'sexual': {'filtered': False, 'severity': 'safe'}, 'violence': {'filtered': False, 'severity': 'safe'}}}, id='run-3938da2f-6681-428a-9915-0c8ab4dc62da-0', usage_metadata={'input_tokens': 1230, 'output_tokens': 21, 'total_tokens': 1251})}}]"
      ]
     },
     "execution_count": 462,
     "metadata": {},
     "output_type": "execute_result"
    }
   ],
   "source": [
    "list(part_4_graph.stream(\n",
    "        {\"messages\": (\"user\", \"G20电源线多长\")}, config\n",
    "    ))"
   ]
  },
  {
   "cell_type": "code",
   "execution_count": 465,
   "id": "e9c8b7a9-aec3-4d99-89b4-59c8524d7618",
   "metadata": {},
   "outputs": [],
   "source": [
    "a = list(part_4_graph.stream(\n",
    "        {\"messages\": (\"user\", \"G20电源线多长\")}, config, stream_mode=\"values\"\n",
    "    ))"
   ]
  },
  {
   "cell_type": "code",
   "execution_count": 475,
   "id": "1708935b-abfb-4677-9263-837756e2d00c",
   "metadata": {},
   "outputs": [
    {
     "ename": "IndexError",
     "evalue": "list index out of range",
     "output_type": "error",
     "traceback": [
      "\u001b[0;31m---------------------------------------------------------------------------\u001b[0m",
      "\u001b[0;31mIndexError\u001b[0m                                Traceback (most recent call last)",
      "Cell \u001b[0;32mIn[475], line 1\u001b[0m\n\u001b[0;32m----> 1\u001b[0m \u001b[43ma\u001b[49m\u001b[43m[\u001b[49m\u001b[38;5;241;43m8\u001b[39;49m\u001b[43m]\u001b[49m\n",
      "\u001b[0;31mIndexError\u001b[0m: list index out of range"
     ]
    }
   ],
   "source": [
    "a[8]"
   ]
  },
  {
   "cell_type": "code",
   "execution_count": 450,
   "id": "72afb934-ad21-4e99-9c9b-ec457f2ec858",
   "metadata": {},
   "outputs": [],
   "source": [
    "events = part_4_graph.stream(\n",
    "    {\"messages\": (\"user\", \"你好\")}, config, stream_mode=\"values\"\n",
    ")\n",
    "# for event in events:\n",
    "#     _print_event(event, _printed)"
   ]
  },
  {
   "cell_type": "code",
   "execution_count": 451,
   "id": "fa0150ca-444b-46f2-9f8f-5f5447fe878b",
   "metadata": {},
   "outputs": [],
   "source": [
    "a = list(events)"
   ]
  },
  {
   "cell_type": "code",
   "execution_count": 453,
   "id": "10187428-bf10-493d-9d22-3d25e51b0bca",
   "metadata": {},
   "outputs": [
    {
     "data": {
      "text/plain": [
       "{'messages': [HumanMessage(content='你好', id='63692bbe-b5da-4010-b8b5-4885fe475f5d'),\n",
       "  AIMessage(content='您好！请问有什么我可以帮助您的？', response_metadata={'token_usage': {'completion_tokens': 19, 'prompt_tokens': 234, 'total_tokens': 253}, 'model_name': 'gpt-4', 'system_fingerprint': None, 'prompt_filter_results': [{'prompt_index': 0, 'content_filter_results': {'hate': {'filtered': False, 'severity': 'safe'}, 'self_harm': {'filtered': False, 'severity': 'safe'}, 'sexual': {'filtered': False, 'severity': 'safe'}, 'violence': {'filtered': False, 'severity': 'safe'}}}], 'finish_reason': 'stop', 'logprobs': None, 'content_filter_results': {'hate': {'filtered': False, 'severity': 'safe'}, 'self_harm': {'filtered': False, 'severity': 'safe'}, 'sexual': {'filtered': False, 'severity': 'safe'}, 'violence': {'filtered': False, 'severity': 'safe'}}}, id='run-9c2bfb87-abe0-4175-a1ca-9dafa68b9c0d-0', usage_metadata={'input_tokens': 234, 'output_tokens': 19, 'total_tokens': 253}),\n",
       "  HumanMessage(content='G20电源线多长', id='02bfdf4b-5a8f-4546-8fae-f3e490e1a73d'),\n",
       "  AIMessage(content='', additional_kwargs={'tool_calls': [{'id': 'call_9u2JgQfoHHmk6UaKS5s3nTiB', 'function': {'arguments': '{\\n  \"request\": \"G20电源线长度\"\\n}', 'name': 'ToTableSearchingAssistant'}, 'type': 'function'}]}, response_metadata={'token_usage': {'completion_tokens': 21, 'prompt_tokens': 267, 'total_tokens': 288}, 'model_name': 'gpt-4', 'system_fingerprint': None, 'prompt_filter_results': [{'prompt_index': 0, 'content_filter_results': {'hate': {'filtered': False, 'severity': 'safe'}, 'self_harm': {'filtered': False, 'severity': 'safe'}, 'sexual': {'filtered': False, 'severity': 'safe'}, 'violence': {'filtered': False, 'severity': 'safe'}}}], 'finish_reason': 'tool_calls', 'logprobs': None, 'content_filter_results': {}}, id='run-9fb6559c-0ff3-4960-8633-cdd1108a42a2-0', tool_calls=[{'name': 'ToTableSearchingAssistant', 'args': {'request': 'G20电源线长度'}, 'id': 'call_9u2JgQfoHHmk6UaKS5s3nTiB'}], usage_metadata={'input_tokens': 267, 'output_tokens': 21, 'total_tokens': 288}),\n",
       "  ToolMessage(content=\"The assistant is now the Assistant of Searching Robot Model Parameters. Reflect on the above conversation between the host assistant and the user. The user's intent is unsatisfied. Use the provided tools to assist the user. Remember, you are Assistant of Searching Robot Model Parameters, and the task is not complete until after you have successfully invoked the appropriate tool. If the you needs more information to complete the task, call the CompleteOrEscalate function to let the primary host assistant take control.If you successfullyt complete the task, call the CompleteOrEscalate function to let the primary host assistant take control. Do not mention who you are - just act as the proxy for the assistant.Directly use the request below as input to your tools and don't translate into English or rephase.\\n\\nrequest: G20电源线长度\", id='2c1d0e34-698f-424b-b53e-4e62559e16ab', tool_call_id='call_9u2JgQfoHHmk6UaKS5s3nTiB'),\n",
       "  AIMessage(content='', additional_kwargs={'tool_calls': [{'id': 'call_nZloLpMNI52ysfXwcl6Icjv4', 'function': {'arguments': '{\\n\"request\": \"G20电源线长度\"\\n}', 'name': 'fetch_table'}, 'type': 'function'}]}, response_metadata={'token_usage': {'completion_tokens': 19, 'prompt_tokens': 566, 'total_tokens': 585}, 'model_name': 'gpt-4', 'system_fingerprint': None, 'prompt_filter_results': [{'prompt_index': 0, 'content_filter_results': {'hate': {'filtered': False, 'severity': 'safe'}, 'self_harm': {'filtered': False, 'severity': 'safe'}, 'sexual': {'filtered': False, 'severity': 'safe'}, 'violence': {'filtered': False, 'severity': 'safe'}}}], 'finish_reason': 'tool_calls', 'logprobs': None, 'content_filter_results': {}}, id='run-ec666f5a-5333-423f-9576-86cf755dcdd9-0', tool_calls=[{'name': 'fetch_table', 'args': {'request': 'G20电源线长度'}, 'id': 'call_nZloLpMNI52ysfXwcl6Icjv4'}], usage_metadata={'input_tokens': 566, 'output_tokens': 19, 'total_tokens': 585}),\n",
       "  ToolMessage(content='| 商品型号 | 版本 | 电源线长 |\\n| --- | --- | --- |\\n| g20 | 标准版 | 180cm |\\n| g20 | 上下水版 | 180cm |', name='fetch_table', id='9112dd42-2077-49aa-952d-ca727f86b14c', tool_call_id='call_nZloLpMNI52ysfXwcl6Icjv4'),\n",
       "  AIMessage(content='', additional_kwargs={'tool_calls': [{'id': 'call_m22E4CbfvF4JSS8vOw4IgaiR', 'function': {'arguments': '{\\n\"cancel\": false,\\n\"reason\": \"Success\"\\n}', 'name': 'CompleteOrEscalate'}, 'type': 'function'}]}, response_metadata={'token_usage': {'completion_tokens': 22, 'prompt_tokens': 654, 'total_tokens': 676}, 'model_name': 'gpt-4', 'system_fingerprint': None, 'prompt_filter_results': [{'prompt_index': 0, 'content_filter_results': {'hate': {'filtered': False, 'severity': 'safe'}, 'self_harm': {'filtered': False, 'severity': 'safe'}, 'sexual': {'filtered': False, 'severity': 'safe'}, 'violence': {'filtered': False, 'severity': 'safe'}}}], 'finish_reason': 'tool_calls', 'logprobs': None, 'content_filter_results': {}}, id='run-c41d5ea6-6b8b-4e9c-9e2c-4a1d9a14a01c-0', tool_calls=[{'name': 'CompleteOrEscalate', 'args': {'cancel': False, 'reason': 'Success'}, 'id': 'call_m22E4CbfvF4JSS8vOw4IgaiR'}], usage_metadata={'input_tokens': 654, 'output_tokens': 22, 'total_tokens': 676}),\n",
       "  ToolMessage(content='Resuming dialog with the host assistant. Please reflect on the past conversation and assist the user as needed.', id='c1981b58-2673-4155-b326-6ae8a5e85b5e', tool_call_id='call_m22E4CbfvF4JSS8vOw4IgaiR'),\n",
       "  AIMessage(content='您的G20型清洁机器人的电源线长度是180cm。', response_metadata={'token_usage': {'completion_tokens': 21, 'prompt_tokens': 614, 'total_tokens': 635}, 'model_name': 'gpt-4', 'system_fingerprint': None, 'prompt_filter_results': [{'prompt_index': 0, 'content_filter_results': {'hate': {'filtered': False, 'severity': 'safe'}, 'self_harm': {'filtered': False, 'severity': 'safe'}, 'sexual': {'filtered': False, 'severity': 'safe'}, 'violence': {'filtered': False, 'severity': 'safe'}}}], 'finish_reason': 'stop', 'logprobs': None, 'content_filter_results': {'hate': {'filtered': False, 'severity': 'safe'}, 'self_harm': {'filtered': False, 'severity': 'safe'}, 'sexual': {'filtered': False, 'severity': 'safe'}, 'violence': {'filtered': False, 'severity': 'safe'}}}, id='run-bb7c68f6-6acf-4b98-b247-264259fb2440-0', usage_metadata={'input_tokens': 614, 'output_tokens': 21, 'total_tokens': 635}),\n",
       "  HumanMessage(content='你好', id='fe957d09-ffab-40c5-b6fc-7b20063b5fdb'),\n",
       "  AIMessage(content='您好！请问有什么我可以帮助您的？', response_metadata={'token_usage': {'completion_tokens': 19, 'prompt_tokens': 644, 'total_tokens': 663}, 'model_name': 'gpt-4', 'system_fingerprint': None, 'prompt_filter_results': [{'prompt_index': 0, 'content_filter_results': {'hate': {'filtered': False, 'severity': 'safe'}, 'self_harm': {'filtered': False, 'severity': 'safe'}, 'sexual': {'filtered': False, 'severity': 'safe'}, 'violence': {'filtered': False, 'severity': 'safe'}}}], 'finish_reason': 'stop', 'logprobs': None, 'content_filter_results': {'hate': {'filtered': False, 'severity': 'safe'}, 'self_harm': {'filtered': False, 'severity': 'safe'}, 'sexual': {'filtered': False, 'severity': 'safe'}, 'violence': {'filtered': False, 'severity': 'safe'}}}, id='run-cf6df8c2-08b3-40d4-9124-6ae27665acd4-0', usage_metadata={'input_tokens': 644, 'output_tokens': 19, 'total_tokens': 663}),\n",
       "  HumanMessage(content='你好', id='448ebb00-2c65-4763-bc54-7e043c5893a1'),\n",
       "  AIMessage(content='您好！有什么我可以帮您的吗？', response_metadata={'token_usage': {'completion_tokens': 17, 'prompt_tokens': 672, 'total_tokens': 689}, 'model_name': 'gpt-4', 'system_fingerprint': None, 'prompt_filter_results': [{'prompt_index': 0, 'content_filter_results': {'hate': {'filtered': False, 'severity': 'safe'}, 'self_harm': {'filtered': False, 'severity': 'safe'}, 'sexual': {'filtered': False, 'severity': 'safe'}, 'violence': {'filtered': False, 'severity': 'safe'}}}], 'finish_reason': 'stop', 'logprobs': None, 'content_filter_results': {'hate': {'filtered': False, 'severity': 'safe'}, 'self_harm': {'filtered': False, 'severity': 'safe'}, 'sexual': {'filtered': False, 'severity': 'safe'}, 'violence': {'filtered': False, 'severity': 'safe'}}}, id='run-db1c7251-7023-4622-9e1c-4ef19d447d1f-0', usage_metadata={'input_tokens': 672, 'output_tokens': 17, 'total_tokens': 689}),\n",
       "  HumanMessage(content='你好', id='e743b22c-c737-4eef-8a96-75218c3e9ee9'),\n",
       "  AIMessage(content='您好！有什么我可以为您服务的吗？', response_metadata={'token_usage': {'completion_tokens': 17, 'prompt_tokens': 698, 'total_tokens': 715}, 'model_name': 'gpt-4', 'system_fingerprint': None, 'prompt_filter_results': [{'prompt_index': 0, 'content_filter_results': {'hate': {'filtered': False, 'severity': 'safe'}, 'self_harm': {'filtered': False, 'severity': 'safe'}, 'sexual': {'filtered': False, 'severity': 'safe'}, 'violence': {'filtered': False, 'severity': 'safe'}}}], 'finish_reason': 'stop', 'logprobs': None, 'content_filter_results': {'hate': {'filtered': False, 'severity': 'safe'}, 'self_harm': {'filtered': False, 'severity': 'safe'}, 'sexual': {'filtered': False, 'severity': 'safe'}, 'violence': {'filtered': False, 'severity': 'safe'}}}, id='run-f5ffca9b-ff3a-4c4c-b139-73350f729d97-0', usage_metadata={'input_tokens': 698, 'output_tokens': 17, 'total_tokens': 715}),\n",
       "  HumanMessage(content='你好', id='6fa94362-aaa3-4131-9886-3d9d505f569a')],\n",
       " 'dialog_state': []}"
      ]
     },
     "execution_count": 453,
     "metadata": {},
     "output_type": "execute_result"
    }
   ],
   "source": [
    "a[0]"
   ]
  },
  {
   "cell_type": "code",
   "execution_count": null,
   "id": "24174985-677d-489a-af65-d6f1e205d02c",
   "metadata": {},
   "outputs": [],
   "source": []
  },
  {
   "cell_type": "code",
   "execution_count": null,
   "id": "6095624c-ef3f-4f4f-a905-1131b037a908",
   "metadata": {},
   "outputs": [],
   "source": []
  },
  {
   "cell_type": "code",
   "execution_count": null,
   "id": "5fcc2250-4827-4d0a-a2d6-362f0ec64edf",
   "metadata": {},
   "outputs": [],
   "source": []
  },
  {
   "cell_type": "code",
   "execution_count": 401,
   "id": "f44195e7-7c18-4058-8a18-e27792cb2271",
   "metadata": {},
   "outputs": [],
   "source": [
    "import getpass\n",
    "import os\n",
    "from find_keywords import LabellerByRulesWithPos\n",
    "from pipeline import NL2SQLPineline\n",
    "from vector_db import ChromaDB\n",
    "from search_engine import QAVectorDBSearchEngine\n",
    "from recall import RecallBySearchEngine\n",
    "from nl2sql import SimpleLookup\n",
    "from langchain_core.tools import tool\n",
    "from typing import Annotated, Optional\n",
    "from typing_extensions import TypedDict\n",
    "from langgraph.graph.message import AnyMessage, add_messages\n",
    "from langchain_core.prompts import ChatPromptTemplate\n",
    "from langchain_core.pydantic_v1 import BaseModel, Field\n",
    "from langchain_core.runnables import Runnable, RunnableConfig\n",
    "from langchain_openai import AzureChatOpenAI\n",
    "from typing import Callable\n",
    "from typing import Literal\n",
    "from langchain_core.messages import ToolMessage\n",
    "from langchain_core.runnables import RunnableLambda\n",
    "from langgraph.prebuilt import ToolNode\n",
    "from langgraph.graph import END, StateGraph\n",
    "from langgraph.prebuilt import tools_condition\n",
    "from langgraph.checkpoint.sqlite import SqliteSaver\n",
    "#%%\n",
    "def handle_tool_error(state) -> dict:\n",
    "    error = state.get(\"error\")\n",
    "    tool_calls = state[\"messages\"][-1].tool_calls\n",
    "    return {\n",
    "        \"messages\": [\n",
    "            ToolMessage(\n",
    "                content=f\"Error: {repr(error)}\\n please fix your mistakes.\",\n",
    "                tool_call_id=tc[\"id\"],\n",
    "            )\n",
    "            for tc in tool_calls\n",
    "        ]\n",
    "    }\n",
    "\n",
    "\n",
    "def create_tool_node_with_fallback(tools: list) -> dict:\n",
    "    return ToolNode(tools).with_fallbacks(\n",
    "        [RunnableLambda(handle_tool_error)], exception_key=\"error\"\n",
    "    )\n",
    "\n",
    "\n",
    "def _print_event(event: dict, _printed: set, max_length=1500):\n",
    "    current_state = event.get(\"dialog_state\")\n",
    "    if current_state:\n",
    "        print(\"Currently in: \", current_state[-1])\n",
    "    message = event.get(\"messages\")\n",
    "    if message:\n",
    "        if isinstance(message, list):\n",
    "            message = message[-1]\n",
    "        if message.id not in _printed:\n",
    "            msg_repr = message.pretty_repr(html=True)\n",
    "            if len(msg_repr) > max_length:\n",
    "                msg_repr = msg_repr[:max_length] + \" ... (truncated)\"\n",
    "            print(msg_repr)\n",
    "            _printed.add(message.id)\n",
    "\n",
    "#%%\n",
    "router_config = {\n",
    "    \"class\": LabellerByRulesWithPos,\n",
    "    \"config\": {\n",
    "        \"dim_df_path\": \"data/dim_df20240619.csv\",\n",
    "        \"model_col\": (\"model\", \"model\"),\n",
    "        \"cat_col\": (\"cat_cn\", \"cat\"),\n",
    "        \"error_col\": (\"error\", \"error\"),\n",
    "        \"ner_model_path\": \"/workspace/data/private/zhuxiaohai/models/bert_finetuned_ner_augmented/\"\n",
    "    }\n",
    "}\n",
    "\n",
    "recall_config = {\n",
    "    \"class\": RecallBySearchEngine,\n",
    "    \"config\": {\n",
    "        \"search_engine\": {\n",
    "            \"class\": QAVectorDBSearchEngine,\n",
    "            \"docs_path\": \"data/table_entity.csv\",\n",
    "            \"docs_col\": \"entity_name\",\n",
    "            \"ids_col\": \"ids\",\n",
    "            \"metadata_cols\": [\"sweeping\", \"washing\", \"mopping\", \"content\"],\n",
    "            \"collection_name\": \"table_entity\",\n",
    "            \"reset\": False,\n",
    "            \"encoder_path\": \"/workspace/data/private/zhuxiaohai/models/bge_finetuned_emb_ner_link\",\n",
    "            \"vector_db\": {\n",
    "                \"class\": ChromaDB,\n",
    "                \"host\": \"/data/dataset/kefu/chroma\",\n",
    "            },\n",
    "        },\n",
    "    },\n",
    "    \"top_n\": 1,\n",
    "}\n",
    "\n",
    "nl2sql_config = {\n",
    "    \"class\": SimpleLookup,\n",
    "    \"config\": {\n",
    "        \"db_absolute_path\": \"/root/PycharmProjects/rockchat/data/model_params.db\",\n",
    "        \"reset\": False,\n",
    "        \"df_path\": \"/root/PycharmProjects/rockchat/data/model_params20240620.csv\",\n",
    "        \"table_name\": \"model_params20240620\",\n",
    "        \"output_type\": \"markdown\"\n",
    "    }\n",
    "}\n",
    "\n",
    "pipeline_config = {\n",
    "    \"router\": router_config,\n",
    "    \"recall\": recall_config,\n",
    "    \"nl2sql\": nl2sql_config,\n",
    "}\n",
    "\n",
    "nl2sql_pipeline = NL2SQLPineline(pipeline_config)\n",
    "#%%\n",
    "@tool\n",
    "def fetch_table(request: str) -> str:\n",
    "    \"\"\"Consult a table about robot model parameters according to the query,\n",
    "    and return the results.\"\"\"\n",
    "    results = nl2sql_pipeline.run(request)\n",
    "    return results\n",
    "\n",
    "\n",
    "def update_dialog_stack(left: list[str], right: Optional[str]) -> list[str]:\n",
    "    \"\"\"Push or pop the state.\"\"\"\n",
    "    if right is None:\n",
    "        return left\n",
    "    if right == \"pop\":\n",
    "        return left[:-1]\n",
    "    return left + [right]\n",
    "\n",
    "\n",
    "class State(TypedDict):\n",
    "    messages: Annotated[list[AnyMessage], add_messages]\n",
    "    dialog_state: Annotated[\n",
    "        list[\n",
    "            Literal[\n",
    "                \"assistant\",\n",
    "                \"tools\",\n",
    "            ]\n",
    "        ],\n",
    "        update_dialog_stack,\n",
    "    ]\n",
    "\n",
    "class Assistant:\n",
    "    def __init__(self, runnable: Runnable):\n",
    "        self.runnable = runnable\n",
    "\n",
    "    def __call__(self, state: State, config: RunnableConfig):\n",
    "        while True:\n",
    "            result = self.runnable.invoke(state)\n",
    "            if not result.tool_calls and (\n",
    "                not result.content\n",
    "                or isinstance(result.content, list)\n",
    "                and not result.content[0].get(\"text\")\n",
    "            ):\n",
    "                messages = state[\"messages\"] + [(\"user\", \"Respond with a real output.\")]\n",
    "                state = {**state, \"messages\": messages}\n",
    "                messages = state[\"messages\"] + [(\"user\", \"Respond with a real output.\")]\n",
    "                state = {**state, \"messages\": messages}\n",
    "            else:\n",
    "                break\n",
    "        return {\"messages\": [result]}\n",
    "\n",
    "# @tool\n",
    "class CompleteOrEscalate(BaseModel):\n",
    "    \"\"\"A tool to mark the current task as completed and/or to escalate control of the dialog to the main assistant,\n",
    "    who can re-route the dialog based on the user's needs.\"\"\"\n",
    "    class Config:\n",
    "        schema_extra = {\n",
    "            \"example 1\": {\n",
    "                \"cancel\": True,\n",
    "                \"reason\": \"I have fully completed the task.\",\n",
    "            },\n",
    "            \"example 2\": {\n",
    "                \"cancel\": False,\n",
    "                \"reason\": \"I need to get more information about robot model names.\",\n",
    "            },\n",
    "        }\n",
    "    cancel: bool = Field(description=\"If the current task should be canceled.\")\n",
    "    reason: str = Field(description=\"reason for cancelling or not\")\n",
    "#%%\n",
    "# Table Searching Assistant\n",
    "table_searching_prompt = ChatPromptTemplate.from_messages(\n",
    "    [\n",
    "        (\n",
    "            \"system\",\n",
    "            \"You are a specialized assistant for searching table about robot model parameters.\"\n",
    "            \"The primary assistant delegates work to you whenever the user needs to know parameters about robot models.\"\n",
    "            \"The query must have robot model names such as A10, G20, H1 and so on to complete the search, and\"\n",
    "            ' if it does not have that information, use the tool \"CompleteOrEscalate\" to escalate the task back to the main assistant, '\n",
    "            \" but remember to set cancel = False.\"\n",
    "            'If you have successfully used the \"fetch_table\" tool, please use \"CompleteOrEscalate\" tool to escalate the task back to the main assistant.'\n",
    "            \"\\n\\nIf none of your tools are appropriate, then use the tool \"\n",
    "            ' \"CompleteOrEscalate\" to send the dialog back to the host assistant. Do not waste the user\\'s time. Do not make up invalid tools or functions.'\n",
    "            \"directly use the user query as input to your tools, and don't make any translations or rephrases.\",\n",
    "        ),\n",
    "        (\"placeholder\", \"{messages}\"),\n",
    "    ]\n",
    ")\n",
    "llm = AzureChatOpenAI(\n",
    "    api_version=\"2024-02-15-preview\",\n",
    "    azure_endpoint=\"https://csagent.openai.azure.com/\",\n",
    "    api_key=\"346ac6661e314a9d8b91b6a99202ba42\",\n",
    "    deployment_name=\"gpt-4-8k\",\n",
    ")\n",
    "table_searching_runnable = table_searching_prompt | llm.bind_tools(\n",
    "     [CompleteOrEscalate, fetch_table]\n",
    ")"
   ]
  },
  {
   "cell_type": "code",
   "execution_count": 419,
   "id": "144d7138-ea94-4544-a3e6-a5aad755180d",
   "metadata": {},
   "outputs": [],
   "source": [
    "from typing import Annotated\n",
    "\n",
    "# from langchain_anthropic import ChatAnthropic\n",
    "from typing_extensions import TypedDict\n",
    "\n",
    "from langgraph.graph import StateGraph\n",
    "from langgraph.graph.message import add_messages\n",
    "\n",
    "\n",
    "# class State(TypedDict):\n",
    "#     messages: Annotated[list, add_messages]\n",
    "\n",
    "\n",
    "graph_builder = StateGraph(State)\n",
    "\n",
    "\n",
    "def chatbot(state: State):\n",
    "    return {\"messages\": [table_searching_runnable.invoke(state)]}\n",
    "\n",
    "\n",
    "graph_builder.add_node(\"chatbot\", chatbot)"
   ]
  },
  {
   "cell_type": "code",
   "execution_count": 420,
   "id": "4ebc954e-ff84-4b7f-83c2-acb2d57c32ac",
   "metadata": {},
   "outputs": [],
   "source": [
    "import json\n",
    "\n",
    "from langchain_core.messages import ToolMessage\n",
    "\n",
    "\n",
    "def create_tool_node_with_fallback(tools: list) -> dict:\n",
    "    return ToolNode(tools).with_fallbacks(\n",
    "        [RunnableLambda(handle_tool_error)], exception_key=\"error\"\n",
    "    )\n",
    "# tool_node = BasicToolNode(tools=[CompleteOrEscalate, fetch_table])\n",
    "graph_builder.add_node(\"tools\", create_tool_node_with_fallback([fetch_table]))"
   ]
  },
  {
   "cell_type": "code",
   "execution_count": 421,
   "id": "8463aadd-e95d-4a74-a104-cfc755ef0ded",
   "metadata": {},
   "outputs": [],
   "source": [
    "# This node will be shared for exiting all specialized assistants\n",
    "def pop_dialog_state(state: State) -> dict:\n",
    "    \"\"\"Pop the dialog stack and return to the main assistant.\n",
    "\n",
    "    This lets the full graph explicitly track the dialog flow and delegate control\n",
    "    to specific sub-graphs.\n",
    "    \"\"\"\n",
    "    messages = []\n",
    "    if state[\"messages\"][-1].tool_calls:\n",
    "        # Note: Doesn't currently handle the edge case where the llm performs parallel tool calls\n",
    "        messages.append(\n",
    "            ToolMessage(\n",
    "                content=\"Resuming dialog with the host assistant. Please reflect on the past conversation and assist the user as needed.\",\n",
    "                tool_call_id=state[\"messages\"][-1].tool_calls[0][\"id\"],\n",
    "            )\n",
    "        )\n",
    "    return {\n",
    "        \"dialog_state\": \"pop\",\n",
    "        \"messages\": messages,\n",
    "    }"
   ]
  },
  {
   "cell_type": "code",
   "execution_count": 422,
   "id": "e58cbdfe-82cb-4909-9eae-47902cf7834b",
   "metadata": {},
   "outputs": [],
   "source": [
    "from typing import Literal\n",
    "\n",
    "\n",
    "# def route_tools(\n",
    "#     state: State,\n",
    "# ) -> Literal[\"tools\", \"__end__\"]:\n",
    "#     \"\"\"\n",
    "#     Use in the conditional_edge to route to the ToolNode if the last message\n",
    "#     has tool calls. Otherwise, route to the end.\n",
    "#     \"\"\"\n",
    "#     # if isinstance(state, list):\n",
    "#     #     ai_message = state[-1]\n",
    "#     if messages := state.get(\"messages\", []):\n",
    "#         ai_message = messages[-1]\n",
    "#     else:\n",
    "#         raise ValueError(f\"No messages found in input state to tool_edge: {state}\")\n",
    "#     if hasattr(ai_message, \"tool_calls\") and len(ai_message.tool_calls) > 0:\n",
    "#         return \"tools\"\n",
    "#     return \"__end__\"\n",
    "\n",
    "\n",
    "\n",
    "def route_tools(\n",
    "    state: State,\n",
    ") -> Literal[\"tools\", \"__end__\"]:\n",
    "    \"\"\"\n",
    "    Use in the conditional_edge to route to the ToolNode if the last message\n",
    "    has tool calls. Otherwise, route to the end.\n",
    "    \"\"\"\n",
    "    # if isinstance(state, list):\n",
    "    #     ai_message = state[-1]\n",
    "    route = tools_condition(state)\n",
    "    if route == END:\n",
    "        return END\n",
    "    tool_calls = state[\"messages\"][-1].tool_calls\n",
    "    did_cancel = any(tc[\"name\"] == CompleteOrEscalate.__name__ for tc in tool_calls)\n",
    "    if did_cancel:\n",
    "        return \"leave_skill\"\n",
    "    return \"tools\"\n",
    "        \n",
    "    # if messages := state.get(\"messages\", []):\n",
    "    #     ai_message = messages[-1]\n",
    "    # else:\n",
    "    #     raise ValueError(f\"No messages found in input state to tool_edge: {state}\")\n",
    "    # if hasattr(ai_message, \"tool_calls\") and len(ai_message.tool_calls) > 0:\n",
    "    #     return \"tools\"\n",
    "    # return \"__end__\"\n",
    "\n",
    "graph_builder.add_conditional_edges(\n",
    "    \"chatbot\",\n",
    "    route_tools,\n",
    "    # The following dictionary lets you tell the graph to interpret the condition's outputs as a specific node\n",
    "    # It defaults to the identity function, but if you\n",
    "    # want to use a node named something else apart from \"tools\",\n",
    "    # You can update the value of the dictionary to something else\n",
    "    # e.g., \"tools\": \"my_tools\"\n",
    "    {\"tools\": \"tools\", \"__end__\": \"__end__\", \"leave_skill\": \"leave_skill\"},\n",
    ")\n",
    "# Any time a tool is called, we return to the chatbot to decide the next step\n",
    "graph_builder.add_edge(\"tools\", \"chatbot\")\n",
    "graph_builder.set_entry_point(\"chatbot\")\n",
    "graph_builder.add_node(\"leave_skill\", pop_dialog_state)\n",
    "graph = graph_builder.compile()"
   ]
  },
  {
   "cell_type": "code",
   "execution_count": 423,
   "id": "00dc30c8-5dea-4175-9aeb-0caff0df20e9",
   "metadata": {},
   "outputs": [
    {
     "data": {
      "image/jpeg": "[encoded data removed]",
      "text/plain": [
       "<IPython.core.display.Image object>"
      ]
     },
     "metadata": {},
     "output_type": "display_data"
    }
   ],
   "source": [
    "from IPython.display import Image, display\n",
    "\n",
    "try:\n",
    "    display(Image(graph.get_graph().draw_mermaid_png()))\n",
    "except Exception:\n",
    "    # This requires some extra dependencies and is optional\n",
    "    pass"
   ]
  },
  {
   "cell_type": "code",
   "execution_count": 424,
   "id": "34b9dd9b-dae3-44f1-b902-ac8baca63d4e",
   "metadata": {},
   "outputs": [
    {
     "data": {
      "text/plain": [
       "[{'chatbot': {'messages': [AIMessage(content='{\"functions.CompleteOrEscalate\": {\"cancel\": false, \"reason\": \"The user query does not contain the name of a robot model. Escalating to main assistant.\"}}\\n{\"functions.CompleteOrEscalate\": {\"cancel\": false, \"reason\": \"The user query does not contain the name of a robot model. Escalating to main assistant.\"}}', response_metadata={'token_usage': {'completion_tokens': 78, 'prompt_tokens': 326, 'total_tokens': 404}, 'model_name': 'gpt-4', 'system_fingerprint': None, 'prompt_filter_results': [{'prompt_index': 0, 'content_filter_results': {'hate': {'filtered': False, 'severity': 'safe'}, 'self_harm': {'filtered': False, 'severity': 'safe'}, 'sexual': {'filtered': False, 'severity': 'safe'}, 'violence': {'filtered': False, 'severity': 'safe'}}}], 'finish_reason': 'stop', 'logprobs': None, 'content_filter_results': {'hate': {'filtered': False, 'severity': 'safe'}, 'self_harm': {'filtered': False, 'severity': 'safe'}, 'sexual': {'filtered': False, 'severity': 'safe'}, 'violence': {'filtered': False, 'severity': 'safe'}}}, id='run-bf18e73e-f606-4ebc-a6b9-10aa39f54d58-0', usage_metadata={'input_tokens': 326, 'output_tokens': 78, 'total_tokens': 404})]}}]"
      ]
     },
     "execution_count": 424,
     "metadata": {},
     "output_type": "execute_result"
    }
   ],
   "source": [
    "user_input = \"你好\"\n",
    "list(graph.stream({\"messages\": [user_input]}))"
   ]
  },
  {
   "cell_type": "code",
   "execution_count": 425,
   "id": "27af2203-1e26-49c4-aae0-94c7ad3dbfae",
   "metadata": {},
   "outputs": [
    {
     "data": {
      "text/plain": [
       "[{'chatbot': {'messages': [AIMessage(content='', additional_kwargs={'tool_calls': [{'id': 'call_5anG6K4PwyBDh4eQXVFDN0F4', 'function': {'arguments': '{\\n  \"cancel\": false,\\n  \"reason\": \"The query does not contain any specific robot model name\"\\n}', 'name': 'CompleteOrEscalate'}, 'type': 'function'}]}, response_metadata={'token_usage': {'completion_tokens': 33, 'prompt_tokens': 329, 'total_tokens': 362}, 'model_name': 'gpt-4', 'system_fingerprint': None, 'prompt_filter_results': [{'prompt_index': 0, 'content_filter_results': {'hate': {'filtered': False, 'severity': 'safe'}, 'self_harm': {'filtered': False, 'severity': 'safe'}, 'sexual': {'filtered': False, 'severity': 'safe'}, 'violence': {'filtered': False, 'severity': 'safe'}}}], 'finish_reason': 'tool_calls', 'logprobs': None, 'content_filter_results': {}}, id='run-7a2dd9aa-3a92-4b99-a753-cad2638e1fe2-0', tool_calls=[{'name': 'CompleteOrEscalate', 'args': {'cancel': False, 'reason': 'The query does not contain any specific robot model name'}, 'id': 'call_5anG6K4PwyBDh4eQXVFDN0F4'}], usage_metadata={'input_tokens': 329, 'output_tokens': 33, 'total_tokens': 362})]}},\n",
       " {'leave_skill': {'messages': [ToolMessage(content='Resuming dialog with the host assistant. Please reflect on the past conversation and assist the user as needed.', id='0d94c885-0c5a-4a94-a64c-ddbe30e08129', tool_call_id='call_5anG6K4PwyBDh4eQXVFDN0F4')],\n",
       "   'dialog_state': 'pop'}}]"
      ]
     },
     "execution_count": 425,
     "metadata": {},
     "output_type": "execute_result"
    }
   ],
   "source": [
    "user_input = \"G20电源线多长\"\n",
    "list(graph.stream({\"messages\": [user_input]}))"
   ]
  },
  {
   "cell_type": "code",
   "execution_count": 427,
   "id": "8b735e20-df11-4c84-a80c-0106bdb3f002",
   "metadata": {},
   "outputs": [
    {
     "data": {
      "text/plain": [
       "[{'chatbot': {'messages': [AIMessage(content='', additional_kwargs={'tool_calls': [{'id': 'call_N49MGrfsRfhmpLStVHZOmznl', 'function': {'arguments': '{\\n\"request\": \"G20电源线多长\"\\n}', 'name': 'fetch_table'}, 'type': 'function'}]}, response_metadata={'token_usage': {'completion_tokens': 20, 'prompt_tokens': 331, 'total_tokens': 351}, 'model_name': 'gpt-4', 'system_fingerprint': None, 'prompt_filter_results': [{'prompt_index': 0, 'content_filter_results': {'hate': {'filtered': False, 'severity': 'safe'}, 'self_harm': {'filtered': False, 'severity': 'safe'}, 'sexual': {'filtered': False, 'severity': 'safe'}, 'violence': {'filtered': False, 'severity': 'safe'}}}], 'finish_reason': 'tool_calls', 'logprobs': None, 'content_filter_results': {}}, id='run-bc0e2ecc-e375-460c-831a-f263d207657e-0', tool_calls=[{'name': 'fetch_table', 'args': {'request': 'G20电源线多长'}, 'id': 'call_N49MGrfsRfhmpLStVHZOmznl'}], usage_metadata={'input_tokens': 331, 'output_tokens': 20, 'total_tokens': 351})]}},\n",
       " {'tools': {'messages': [ToolMessage(content='| 商品型号 | 版本 | 电源线长 |\\n| --- | --- | --- |\\n| g20 | 标准版 | 180cm |\\n| g20 | 上下水版 | 180cm |', name='fetch_table', id='e9c73ef8-8eb0-4b26-85fd-4d1eb2bdbeb7', tool_call_id='call_N49MGrfsRfhmpLStVHZOmznl')]}},\n",
       " {'chatbot': {'messages': [AIMessage(content='', additional_kwargs={'tool_calls': [{'id': 'call_4cEwik69mqApT2ZG0EqhxcuH', 'function': {'arguments': '{\\n\"cancel\": false,\\n\"reason\": \"Completed searching table about G20 robot model parameters\"\\n}', 'name': 'CompleteOrEscalate'}, 'type': 'function'}]}, response_metadata={'token_usage': {'completion_tokens': 30, 'prompt_tokens': 418, 'total_tokens': 448}, 'model_name': 'gpt-4', 'system_fingerprint': None, 'prompt_filter_results': [{'prompt_index': 0, 'content_filter_results': {'hate': {'filtered': False, 'severity': 'safe'}, 'self_harm': {'filtered': False, 'severity': 'safe'}, 'sexual': {'filtered': False, 'severity': 'safe'}, 'violence': {'filtered': False, 'severity': 'safe'}}}], 'finish_reason': 'tool_calls', 'logprobs': None, 'content_filter_results': {}}, id='run-ae618cc4-579a-4660-afc1-d356ae446256-0', tool_calls=[{'name': 'CompleteOrEscalate', 'args': {'cancel': False, 'reason': 'Completed searching table about G20 robot model parameters'}, 'id': 'call_4cEwik69mqApT2ZG0EqhxcuH'}], usage_metadata={'input_tokens': 418, 'output_tokens': 30, 'total_tokens': 448})]}},\n",
       " {'leave_skill': {'messages': [ToolMessage(content='Resuming dialog with the host assistant. Please reflect on the past conversation and assist the user as needed.', id='130c029f-9eb5-45e0-97e5-2e026907b6c9', tool_call_id='call_4cEwik69mqApT2ZG0EqhxcuH')],\n",
       "   'dialog_state': 'pop'}}]"
      ]
     },
     "execution_count": 427,
     "metadata": {},
     "output_type": "execute_result"
    }
   ],
   "source": [
    "user_input = \"G20电源线多长\"\n",
    "list(graph.stream({\"messages\": [user_input]}))"
   ]
  },
  {
   "cell_type": "code",
   "execution_count": 430,
   "id": "7a1b0f90-e9f0-4d34-9689-01632d4a616f",
   "metadata": {},
   "outputs": [],
   "source": [
    "def _print_event(event: dict, _printed: set, max_length=1500):\n",
    "    current_state = event.get(\"dialog_state\")\n",
    "    if current_state:\n",
    "        print(\"Currently in: \", current_state[-1])\n",
    "    message = event.get(\"messages\")\n",
    "    if message:\n",
    "        if isinstance(message, list):\n",
    "            message = message[-1]\n",
    "        if message.id not in _printed:\n",
    "            msg_repr = message.pretty_repr(html=True)\n",
    "            if len(msg_repr) > max_length:\n",
    "                msg_repr = msg_repr[:max_length] + \" ... (truncated)\"\n",
    "            print(msg_repr)\n",
    "            _printed.add(message.id)"
   ]
  },
  {
   "cell_type": "code",
   "execution_count": 432,
   "id": "33fae226-0ae5-43f3-a14f-e860a992bbe2",
   "metadata": {},
   "outputs": [],
   "source": [
    "_printed = set()"
   ]
  },
  {
   "cell_type": "code",
   "execution_count": 433,
   "id": "c5e9676d-0bec-49da-9963-77979623db50",
   "metadata": {},
   "outputs": [],
   "source": [
    "user_input = \"G20电源线多长\"\n",
    "events = graph.stream(\n",
    "    {\"messages\": (\"user\", user_input)}\n",
    ")\n",
    "for event in events:\n",
    "    _print_event(event, _printed)"
   ]
  },
  {
   "cell_type": "code",
   "execution_count": 431,
   "id": "35feff43-3e51-47fe-bf02-86618432b2b4",
   "metadata": {},
   "outputs": [
    {
     "name": "stdout",
     "output_type": "stream",
     "text": [
      "Assistant: \n",
      "Assistant: | 商品型号 | 版本 | 电源线长 |\n",
      "| --- | --- | --- |\n",
      "| g20 | 标准版 | 180cm |\n",
      "| g20 | 上下水版 | 180cm |\n",
      "Assistant: \n",
      "Assistant: Resuming dialog with the host assistant. Please reflect on the past conversation and assist the user as needed.\n"
     ]
    }
   ],
   "source": [
    "from langchain_core.messages import BaseMessage\n",
    "\n",
    "for event in graph.stream({\"messages\": (\"user\", user_input)}):\n",
    "    for value in event.values():\n",
    "        if isinstance(value[\"messages\"][-1], BaseMessage):\n",
    "            print(\"Assistant:\", value[\"messages\"][-1].content)"
   ]
  },
  {
   "cell_type": "code",
   "execution_count": null,
   "id": "2aa93097-a002-428a-8e32-03c34ad8ca14",
   "metadata": {},
   "outputs": [],
   "source": []
  },
  {
   "cell_type": "code",
   "execution_count": null,
   "id": "fcc691d9-a934-477f-9ff1-3a4dcef93013",
   "metadata": {},
   "outputs": [],
   "source": []
  },
  {
   "cell_type": "code",
   "execution_count": null,
   "id": "06ccf66c-5576-4de4-a1e4-66f2146e8ca4",
   "metadata": {},
   "outputs": [],
   "source": []
  },
  {
   "cell_type": "code",
   "execution_count": 381,
   "id": "ab3e27eb-2566-4b4f-b690-be32782215d9",
   "metadata": {},
   "outputs": [
    {
     "ename": "NameError",
     "evalue": "name 'BaseMessage' is not defined",
     "output_type": "error",
     "traceback": [
      "\u001b[0;31m---------------------------------------------------------------------------\u001b[0m",
      "\u001b[0;31mNameError\u001b[0m                                 Traceback (most recent call last)",
      "Cell \u001b[0;32mIn[381], line 4\u001b[0m\n\u001b[1;32m      2\u001b[0m \u001b[38;5;28;01mfor\u001b[39;00m event \u001b[38;5;129;01min\u001b[39;00m graph\u001b[38;5;241m.\u001b[39mstream({\u001b[38;5;124m\"\u001b[39m\u001b[38;5;124mmessages\u001b[39m\u001b[38;5;124m\"\u001b[39m: [user_input]}):\n\u001b[1;32m      3\u001b[0m     \u001b[38;5;28;01mfor\u001b[39;00m value \u001b[38;5;129;01min\u001b[39;00m event\u001b[38;5;241m.\u001b[39mvalues():\n\u001b[0;32m----> 4\u001b[0m         \u001b[38;5;28;01mif\u001b[39;00m \u001b[38;5;28misinstance\u001b[39m(value[\u001b[38;5;124m\"\u001b[39m\u001b[38;5;124mmessages\u001b[39m\u001b[38;5;124m\"\u001b[39m][\u001b[38;5;241m-\u001b[39m\u001b[38;5;241m1\u001b[39m], \u001b[43mBaseMessage\u001b[49m):\n\u001b[1;32m      5\u001b[0m             \u001b[38;5;28mprint\u001b[39m(\u001b[38;5;124m\"\u001b[39m\u001b[38;5;124mAssistant:\u001b[39m\u001b[38;5;124m\"\u001b[39m, value[\u001b[38;5;124m\"\u001b[39m\u001b[38;5;124mmessages\u001b[39m\u001b[38;5;124m\"\u001b[39m][\u001b[38;5;241m-\u001b[39m\u001b[38;5;241m1\u001b[39m]\u001b[38;5;241m.\u001b[39mcontent)\n",
      "\u001b[0;31mNameError\u001b[0m: name 'BaseMessage' is not defined"
     ]
    }
   ],
   "source": [
    "user_input = \"你好\"\n",
    "for event in graph.stream({\"messages\": [user_input]}):\n",
    "    for value in event.values():\n",
    "        if isinstance(value[\"messages\"][-1], BaseMessage):\n",
    "            print(\"Assistant:\", value[\"messages\"][-1].content)"
   ]
  },
  {
   "cell_type": "code",
   "execution_count": 376,
   "id": "eb58aad4-b779-4a72-baa7-427645dbf8b8",
   "metadata": {},
   "outputs": [
    {
     "data": {
      "text/plain": [
       "{'messages': AIMessage(content='{ \"functions.CompleteOrEscalate\": { \"cancel\": false, \"reason\": \"The query does not contain a robot model name for me to search for.\" } }', response_metadata={'token_usage': {'completion_tokens': 37, 'prompt_tokens': 310, 'total_tokens': 347}, 'model_name': 'gpt-4', 'system_fingerprint': None, 'prompt_filter_results': [{'prompt_index': 0, 'content_filter_results': {'hate': {'filtered': False, 'severity': 'safe'}, 'self_harm': {'filtered': False, 'severity': 'safe'}, 'sexual': {'filtered': False, 'severity': 'safe'}, 'violence': {'filtered': False, 'severity': 'safe'}}}], 'finish_reason': 'stop', 'logprobs': None, 'content_filter_results': {'hate': {'filtered': False, 'severity': 'safe'}, 'self_harm': {'filtered': False, 'severity': 'safe'}, 'sexual': {'filtered': False, 'severity': 'safe'}, 'violence': {'filtered': False, 'severity': 'safe'}}}, id='run-545e47f2-8762-4e5d-bbae-d98d94a03bb2-0', usage_metadata={'input_tokens': 310, 'output_tokens': 37, 'total_tokens': 347})}"
      ]
     },
     "execution_count": 376,
     "metadata": {},
     "output_type": "execute_result"
    }
   ],
   "source": [
    "value"
   ]
  },
  {
   "cell_type": "code",
   "execution_count": null,
   "id": "ead827a4-c666-4f52-8962-408d56a6c37f",
   "metadata": {},
   "outputs": [],
   "source": []
  },
  {
   "cell_type": "code",
   "execution_count": null,
   "id": "2d7d41c3-01bc-4be8-a801-cd352550cdf2",
   "metadata": {},
   "outputs": [],
   "source": []
  },
  {
   "cell_type": "code",
   "execution_count": null,
   "id": "cfd79534-0b88-483c-b227-76198bbf8164",
   "metadata": {},
   "outputs": [],
   "source": []
  },
  {
   "cell_type": "code",
   "execution_count": 300,
   "id": "f7e9260b-9ecc-4398-88f5-3831c452e18b",
   "metadata": {},
   "outputs": [],
   "source": [
    "from typing import Literal, List, Annotated\n",
    "from typing_extensions import TypedDict\n",
    "\n",
    "from langchain_core.prompts import ChatPromptTemplate\n",
    "from langchain_core.pydantic_v1 import BaseModel, Field\n",
    "from langchain_core.messages import AIMessage\n",
    "from langchain_openai import AzureChatOpenAI\n",
    "from langgraph.graph import END, StateGraph\n",
    "from langgraph.graph.message import add_messages\n",
    "\n",
    "from find_keywords import LabellerByRulesWithPos\n",
    "from vector_db import ChromaDB\n",
    "from search_engine import QAVectorDBSearchEngine\n",
    "from recall import RecallBySearchEngine\n",
    "from nl2sql import SimpleLookup\n",
    "\n",
    "\n",
    "router_config = {\n",
    "    \"class\": LabellerByRulesWithPos,\n",
    "    \"config\": {\n",
    "        \"dim_df_path\": \"data/dim_df20240619.csv\",\n",
    "        \"model_col\": (\"model\", \"model\"),\n",
    "        \"cat_col\": (\"cat_cn\", \"cat\"),\n",
    "        \"error_col\": (\"error\", \"error\"),\n",
    "        \"ner_model_path\": \"/workspace/data/private/zhuxiaohai/models/bert_finetuned_ner_augmented/\"\n",
    "    }\n",
    "}\n",
    "\n",
    "recall_config = {\n",
    "    \"class\": RecallBySearchEngine,\n",
    "    \"config\": {\n",
    "        \"search_engine\": {\n",
    "            \"class\": QAVectorDBSearchEngine,\n",
    "            \"docs_path\": \"data/table_entity.csv\",\n",
    "            \"docs_col\": \"entity_name\",\n",
    "            \"ids_col\": \"ids\",\n",
    "            \"metadata_cols\": [\"sweeping\", \"washing\", \"mopping\", \"content\"],\n",
    "            \"collection_name\": \"table_entity\",\n",
    "            \"reset\": False,\n",
    "            \"encoder_path\": \"/workspace/data/private/zhuxiaohai/models/bge_finetuned_emb_ner_link\",\n",
    "            \"vector_db\": {\n",
    "                \"class\": ChromaDB,\n",
    "                \"host\": \"/data/dataset/kefu/chroma\",\n",
    "            },\n",
    "        },\n",
    "    },\n",
    "    \"top_n\": 1,\n",
    "}\n",
    "\n",
    "nl2sql_config = {\n",
    "    \"class\": SimpleLookup,\n",
    "    \"config\": {\n",
    "        \"db_absolute_path\": \"/root/PycharmProjects/rockchat/data/model_params.db\",\n",
    "        \"reset\": False,\n",
    "        \"df_path\": \"/root/PycharmProjects/rockchat/data/model_params20240620.csv\",\n",
    "        \"table_name\": \"model_params20240620\",\n",
    "        \"output_type\": \"markdown\"\n",
    "    }\n",
    "}\n",
    "\n",
    "extractor = router_config[\"class\"](router_config[\"config\"])\n",
    "recall = recall_config[\"class\"](recall_config[\"config\"])\n",
    "nl2sql = nl2sql_config[\"class\"](nl2sql_config[\"config\"])\n",
    "\n",
    "\n",
    "# Node: Get keywords\n",
    "def get_keywords(state):\n",
    "    question = state[\"messages\"][-1].content\n",
    "    query_body = extractor.extract_keywords(question)\n",
    "    return {\"query_body\": query_body}\n",
    "\n",
    "\n",
    "# Node: Retrieve\n",
    "def retrieve_documents(state):\n",
    "    query_body = state[\"query_body\"]\n",
    "    query_body.update({\"top_n\": recall_config[\"top_n\"]})\n",
    "    recalled_cols = recall.query_recalls(query_body)\n",
    "    return {\"columns\": recalled_cols}\n",
    "\n",
    "\n",
    "# Node: Generate\n",
    "def generate(state):\n",
    "    query_body = state[\"query_body\"]\n",
    "    recalled_cols = state[\"columns\"]\n",
    "    tabler_results = nl2sql.predict(query_body, recalled_cols)\n",
    "    return {\"messages\": [AIMessage(content=tabler_results)]}\n",
    "\n",
    "\n",
    "# Node: Grade\n",
    "class GradeDocuments(BaseModel):\n",
    "    \"\"\"Binary score for relevance check on retrieved documents.\"\"\"\n",
    "    binary_score: str = Field(\n",
    "        description=\"Documents are relevant to the question, 'yes' or 'no'\"\n",
    "    )\n",
    "# LLM with function call\n",
    "llm = AzureChatOpenAI(\n",
    "    api_version=\"2024-02-15-preview\",\n",
    "    azure_endpoint=\"https://csagent.openai.azure.com/\",\n",
    "    api_key=\"346ac6661e314a9d8b91b6a99202ba42\",\n",
    "    deployment_name=\"gpt-4-8k\",\n",
    ")\n",
    "structured_llm_grader = llm.with_structured_output(GradeDocuments)\n",
    "# Prompt\n",
    "system = \"\"\"You are a grader assessing relevance of a retrieved document to a user question. \\n \n",
    "    If the document contains keyword(s) or semantic meaning related to the user question, grade it as relevant. \\n\n",
    "    It does not need to be a stringent test. The goal is to filter out erroneous retrievals. \\n\n",
    "    Give a binary score 'yes' or 'no' score to indicate whether the document is relevant to the question.\"\"\"\n",
    "grade_prompt = ChatPromptTemplate.from_messages(\n",
    "    [\n",
    "        (\"system\", system),\n",
    "        (\"human\", \"Retrieved document: \\n\\n {document} \\n\\n User question: {question}\"),\n",
    "    ]\n",
    ")\n",
    "retrieval_grader = grade_prompt | structured_llm_grader\n",
    "def grade_documents(state):\n",
    "    question = state[\"query_body\"][\"query\"]\n",
    "    documents = state[\"columns\"]\n",
    "    filtered_docs = []\n",
    "    for d in documents:\n",
    "        score = retrieval_grader.invoke(\n",
    "            {\"question\": question, \"document\": d['page_content']}\n",
    "        )\n",
    "        grade = score.binary_score\n",
    "        if grade == \"yes\":\n",
    "            filtered_docs.append(d)\n",
    "        else:\n",
    "            continue\n",
    "    return {\"columns\": filtered_docs}\n",
    "\n",
    "\n",
    "#\n",
    "# @tool\n",
    "# class CompleteOrEscalate(BaseModel):\n",
    "#     \"\"\"A tool to mark the current task as completed and/or to escalate control of the dialog back to the main assistant,\n",
    "#     who can re-route the dialog based on the user's needs.\"\"\"\n",
    "#     class Config:\n",
    "#         schema_extra = {\n",
    "#             \"example 1\": {\n",
    "#                 \"cancel\": True,\n",
    "#                 \"reason\": \"I have fully completed the task.\",\n",
    "#             },\n",
    "#             \"example 2\": {\n",
    "#                 \"cancel\": False,\n",
    "#                 \"reason\": \"I need to get model names of cleaning machines to complete the task.\",\n",
    "#             },\n",
    "#         }\n",
    "#     cancel: bool = Field(description=\"If the current task should be canceled.\")\n",
    "#     reason: str = Field(description=\"reason for cancelling or not\")\n",
    "#\n",
    "#\n",
    "# # Table Searching Assistant\n",
    "# table_searching_prompt = ChatPromptTemplate.from_messages(\n",
    "#     [\n",
    "#         (\n",
    "#             \"system\",\n",
    "#             \"You are a specialized assistant for searching table with the fetch_table tool about parameters \\\n",
    "#             of cleaning machines. \"\n",
    "#             \"To use the fetch_table tool, directly send user query as input to it, and don't make any language \\\n",
    "#             translations or rephrases. \"\n",
    "#             \"To use the fetch_table tool, check out if the query contains model names of the cleaning machines \\\n",
    "#             (with pattern: alphabet followed by digits such as a10, G2, H1, m3, P10 and so on), otherwise\"\n",
    "#             ' use the tool \"CompleteOrEscalate\" to mark that you need that information. '\n",
    "#             'Whenever you have completed using fetch_table tool, please then use \"CompleteOrEscalate\" tool \\\n",
    "#             to mark that fetch has been completed. '\n",
    "#             \"If fetch_table tool is not appropriate for the query, then use the tool \"\n",
    "#             ' \"CompleteOrEscalate\" to send the dialog back. '\n",
    "#             'Do not waste the user\\'s time. Do not make up invalid tools or functions.',\n",
    "#         ),\n",
    "#         (\"placeholder\", \"{messages}\"),\n",
    "#     ]\n",
    "# )\n",
    "# llm = AzureChatOpenAI(\n",
    "#     api_version=\"2024-02-15-preview\",\n",
    "#     azure_endpoint=\"https://csagent.openai.azure.com/\",\n",
    "#     api_key=\"346ac6661e314a9d8b91b6a99202ba42\",\n",
    "#     deployment_name=\"gpt-4-8k\",\n",
    "# )\n",
    "# table_searching_runnable = table_searching_prompt | llm.bind_tools(\n",
    "#      [CompleteOrEscalate, fetch_table]\n",
    "# )\n",
    "\n",
    "\n",
    "# Edge: Route question\n",
    "class RouteQuery(BaseModel):\n",
    "    \"\"\"Route a user query to search_table or else.\"\"\"\n",
    "    datasource: Literal[\"search_table\", \"else\"] = Field(\n",
    "        ...,\n",
    "        description=\"Given a user question choose to route it to search_table or else.\",\n",
    "    )\n",
    "# LLM with function call\n",
    "llm_router = AzureChatOpenAI(\n",
    "    api_version=\"2024-02-15-preview\",\n",
    "    azure_endpoint=\"https://csagent.openai.azure.com/\",\n",
    "    api_key=\"346ac6661e314a9d8b91b6a99202ba42\",\n",
    "    deployment_name=\"gpt-4-8k\",\n",
    ")\n",
    "structured_llm_router = llm_router.with_structured_output(RouteQuery)\n",
    "# Prompt\n",
    "system = \"\"\"You are a specialized assistant for searching table about parameters \\\n",
    "of cleaning machines. If the query is appropriate for your specialty, route it to \\\n",
    "search_table, otherwise choose else.\"\"\"\n",
    "route_prompt = ChatPromptTemplate.from_messages(\n",
    "    [\n",
    "        (\"system\", system),\n",
    "        (\"human\", \"{question}\"),\n",
    "    ]\n",
    ")\n",
    "question_router = route_prompt | structured_llm_router\n",
    "def route_question(state):\n",
    "    question = state[\"messages\"][-1].content\n",
    "    source = question_router.invoke({\"question\": question})\n",
    "    if source.datasource == \"search_table\":\n",
    "        print(\"relevant\")\n",
    "        return \"search_table\"\n",
    "    else:\n",
    "        print(\"irrelevant\")\n",
    "        return END\n",
    "\n",
    "\n",
    "# Edge: Decide to generate\n",
    "def decide_to_generate(state):\n",
    "    filtered_documents = state[\"columns\"]\n",
    "    if not filtered_documents:\n",
    "        return END\n",
    "    else:\n",
    "        return \"generate\"\n",
    "\n",
    "\n",
    "# Begin of Graph\n",
    "class GraphState(TypedDict):\n",
    "    messages: Annotated[list, add_messages]\n",
    "    query_body: dict\n",
    "    columns: List[dict]\n",
    "\n",
    "\n",
    "workflow = StateGraph(GraphState)\n",
    "\n",
    "# Define the nodes\n",
    "workflow.add_node(\"get_keywords\", get_keywords)  # web search\n",
    "workflow.add_node(\"retrieve_documents\", retrieve_documents)  # retrieve\n",
    "workflow.add_node(\"grade_documents\", grade_documents)  # grade documents\n",
    "workflow.add_node(\"generate\", generate)  # generate\n",
    "\n",
    "# Build graph\n",
    "workflow.set_conditional_entry_point(\n",
    "    route_question,\n",
    "    {\n",
    "        \"search_table\": \"get_keywords\",\n",
    "        END: END,\n",
    "    },\n",
    ")\n",
    "workflow.add_edge(\"get_keywords\", \"retrieve_documents\")\n",
    "workflow.add_edge(\"retrieve_documents\", \"grade_documents\")\n",
    "workflow.add_conditional_edges(\n",
    "    \"grade_documents\",\n",
    "    decide_to_generate,\n",
    "    {\n",
    "        \"generate\": \"generate\",\n",
    "        END: END\n",
    "    },\n",
    ")\n",
    "\n",
    "# # Compile\n",
    "# table_agent = workflow.compile()\n"
   ]
  },
  {
   "cell_type": "code",
   "execution_count": 301,
   "id": "6195b766-098b-41b2-85f0-45256d4195ea",
   "metadata": {},
   "outputs": [],
   "source": [
    "from langgraph.checkpoint.sqlite import SqliteSaver\n",
    "memory = SqliteSaver.from_conn_string(\":memory:\")\n",
    "# Compile\n",
    "table_agent = workflow.compile(checkpointer=memory)"
   ]
  },
  {
   "cell_type": "code",
   "execution_count": 302,
   "id": "e8b850b0-23e0-4e03-ba39-fa4f5226242f",
   "metadata": {},
   "outputs": [
    {
     "data": {
      "image/jpeg": "[encoded data removed]",
      "text/plain": [
       "<IPython.core.display.Image object>"
      ]
     },
     "metadata": {},
     "output_type": "display_data"
    }
   ],
   "source": [
    "from IPython.display import Image, display\n",
    "\n",
    "try:\n",
    "    display(Image(table_agent.get_graph().draw_mermaid_png()))\n",
    "except Exception:\n",
    "    # This requires some extra dependencies and is optional\n",
    "    pass"
   ]
  },
  {
   "cell_type": "code",
   "execution_count": 303,
   "id": "1f710bd2-ee57-408b-ba84-74e391f7c705",
   "metadata": {},
   "outputs": [],
   "source": [
    "config = {\"configurable\": {\"thread_id\": \"1\"}}"
   ]
  },
  {
   "cell_type": "code",
   "execution_count": 250,
   "id": "ab5c77c0-8fe5-431d-a9c8-87f45aa54c99",
   "metadata": {},
   "outputs": [
    {
     "ename": "KeyError",
     "evalue": "'messages'",
     "output_type": "error",
     "traceback": [
      "\u001b[0;31m---------------------------------------------------------------------------\u001b[0m",
      "\u001b[0;31mKeyError\u001b[0m                                  Traceback (most recent call last)",
      "Cell \u001b[0;32mIn[250], line 4\u001b[0m\n\u001b[1;32m      2\u001b[0m \u001b[38;5;28;01mfor\u001b[39;00m event \u001b[38;5;129;01min\u001b[39;00m table_agent\u001b[38;5;241m.\u001b[39mstream({\u001b[38;5;124m\"\u001b[39m\u001b[38;5;124mmessages\u001b[39m\u001b[38;5;124m\"\u001b[39m: [user_input], \u001b[38;5;124m\"\u001b[39m\u001b[38;5;124mquery_body\u001b[39m\u001b[38;5;124m\"\u001b[39m: {\u001b[38;5;124m\"\u001b[39m\u001b[38;5;124mquery\u001b[39m\u001b[38;5;124m\"\u001b[39m: user_input}}, config):\n\u001b[1;32m      3\u001b[0m     \u001b[38;5;28;01mfor\u001b[39;00m value \u001b[38;5;129;01min\u001b[39;00m event\u001b[38;5;241m.\u001b[39mvalues():\n\u001b[0;32m----> 4\u001b[0m         \u001b[38;5;28mprint\u001b[39m(\u001b[38;5;124m\"\u001b[39m\u001b[38;5;124mAssistant:\u001b[39m\u001b[38;5;124m\"\u001b[39m, \u001b[43mvalue\u001b[49m\u001b[43m[\u001b[49m\u001b[38;5;124;43m\"\u001b[39;49m\u001b[38;5;124;43mmessages\u001b[39;49m\u001b[38;5;124;43m\"\u001b[39;49m\u001b[43m]\u001b[49m[\u001b[38;5;241m-\u001b[39m\u001b[38;5;241m1\u001b[39m]\u001b[38;5;241m.\u001b[39mcontent)\n",
      "\u001b[0;31mKeyError\u001b[0m: 'messages'"
     ]
    }
   ],
   "source": [
    "user_input = \"G20电源线多长\"\n",
    "for event in table_agent.stream({\"messages\": [user_input], \"query_body\": {\"query\": user_input}}, config):\n",
    "    for value in event.values():\n",
    "        print(\"Assistant:\", value[\"messages\"][-1].content)"
   ]
  },
  {
   "cell_type": "code",
   "execution_count": 304,
   "id": "50f103dd-693d-46a9-b3c7-32262c25ff9a",
   "metadata": {},
   "outputs": [
    {
     "name": "stdout",
     "output_type": "stream",
     "text": [
      "irrelevant\n"
     ]
    },
    {
     "data": {
      "text/plain": [
       "[]"
      ]
     },
     "execution_count": 304,
     "metadata": {},
     "output_type": "execute_result"
    }
   ],
   "source": [
    "user_input = \"你好\"\n",
    "list(table_agent.stream({\"messages\": [user_input]}, config))"
   ]
  },
  {
   "cell_type": "code",
   "execution_count": 299,
   "id": "570b692f-bf91-45a7-83e3-fe121eca897e",
   "metadata": {},
   "outputs": [
    {
     "data": {
      "text/plain": [
       "StateSnapshot(values={'messages': [HumanMessage(content='G20电源线多长', id='d48eae5b-3f08-4017-a257-ae9c24a286ea'), AIMessage(content='| 商品型号 | 版本 | 电源线长 |\\n| --- | --- | --- |\\n| g20 | 标准版 | 180cm |\\n| g20 | 上下水版 | 180cm |', id='b1d64c6a-0e38-4132-aee6-117d85c355b6'), HumanMessage(content='你好', id='e83d2873-49fe-47f6-87a3-80f0ac0c0ad6')], 'query_body': {'query_cleaned': '电源线多长', 'query': 'G20电源线多长', 'labels': {'model': [{'word': 'g20', 'start': 0, 'end': 3}], 'cat': [{'word': 'sweeping', 'start': 0, 'end': 3}], 'error': [], 'entities': [{'word': '电源线', 'start': 3, 'end': 6}, {'word': '长', 'start': 7, 'end': 8}]}, 'top_n': 1}, 'columns': [{'entity': {'word': '电源线', 'start': 3, 'end': 6}, 'page_content': '电源线长', 'metadata': {'content': '电源线长', 'mopping': False, 'sweeping': True, 'washing': False}, 'score': 0.9701595902442932}]}, next=(), config={'configurable': {'thread_id': '1', 'thread_ts': '1ef36b39-e4a7-6f82-8006-dabda3d66cc6'}}, metadata={'source': 'loop', 'step': 6, 'writes': None}, created_at='2024-06-30T07:37:35.450232+00:00', parent_config={'configurable': {'thread_id': '1', 'thread_ts': '1ef36b39-d214-631f-8005-4152482c5ca5'}})"
      ]
     },
     "execution_count": 299,
     "metadata": {},
     "output_type": "execute_result"
    }
   ],
   "source": [
    "table_agent.get_state(config)"
   ]
  },
  {
   "cell_type": "code",
   "execution_count": 272,
   "id": "0f7643c0-864c-4f2b-8d19-f5814144131e",
   "metadata": {},
   "outputs": [],
   "source": [
    "from typing import Annotated\n",
    "\n",
    "from typing_extensions import TypedDict\n",
    "\n",
    "from langgraph.graph import StateGraph\n",
    "from langgraph.graph.message import add_messages\n",
    "\n",
    "class State(TypedDict):\n",
    "    # Messages have the type \"list\". The `add_messages` function\n",
    "    # in the annotation defines how this state key should be updated\n",
    "    # (in this case, it appends messages to the list, rather than overwriting them)\n",
    "    messages: Annotated[list, add_messages]\n",
    "    dd: dict\n",
    "    cc: dict\n",
    "\n",
    "graph_builder = StateGraph(State)"
   ]
  },
  {
   "cell_type": "code",
   "execution_count": 273,
   "id": "67ac1bcc-075c-4ace-8a5a-da410b95f0d1",
   "metadata": {},
   "outputs": [],
   "source": [
    "from langchain_openai import AzureChatOpenAI\n",
    "\n",
    "llm = AzureChatOpenAI(\n",
    "    api_version=\"2024-02-15-preview\",\n",
    "    azure_endpoint=\"https://csagent.openai.azure.com/\",\n",
    "    api_key=\"346ac6661e314a9d8b91b6a99202ba42\",\n",
    "    deployment_name=\"gpt-4-8k\",\n",
    ")\n",
    "i = 0\n",
    "def add_fun(x, c):\n",
    "    if not x:\n",
    "        return {\"query\": 1}\n",
    "    else:\n",
    "        x[c] = 1\n",
    "        return x\n",
    "\n",
    "def chatbot(state: State):\n",
    "    global i\n",
    "    i += 1\n",
    "    dd = state[\"dd\"]\n",
    "    cc = state[\"cc\"]\n",
    "    if i < 3:\n",
    "        return {\"messages\": [llm.invoke(state[\"messages\"])], \"dd\": add_fun(dd, i), \"cc\": add_fun(cc, i)}\n",
    "    else:\n",
    "        return {\"messages\": [llm.invoke(state[\"messages\"])], \"dd\": add_fun(dd, i)}\n",
    "\n",
    "\n",
    "# The first argument is the unique node name\n",
    "# The second argument is the function or object that will be called whenever\n",
    "# the node is used.\n",
    "graph_builder.add_node(\"chatbot\", chatbot)"
   ]
  },
  {
   "cell_type": "code",
   "execution_count": 274,
   "id": "ccda61a9-b208-466d-a0eb-3891c5c3124d",
   "metadata": {},
   "outputs": [],
   "source": [
    "graph_builder.set_entry_point(\"chatbot\")\n",
    "graph_builder.set_finish_point(\"chatbot\")"
   ]
  },
  {
   "cell_type": "code",
   "execution_count": 275,
   "id": "3dc4983e-601c-4526-9682-d81a98f3eb41",
   "metadata": {},
   "outputs": [],
   "source": [
    "from langgraph.checkpoint.sqlite import SqliteSaver\n",
    "memory = SqliteSaver.from_conn_string(\":memory:\")"
   ]
  },
  {
   "cell_type": "code",
   "execution_count": 276,
   "id": "e144b03c-ea10-47aa-b8a2-a922368986c1",
   "metadata": {},
   "outputs": [],
   "source": [
    "graph = graph_builder.compile(checkpointer=memory)"
   ]
  },
  {
   "cell_type": "code",
   "execution_count": 277,
   "id": "caeffab8-c723-4978-834b-5aca479ce8a9",
   "metadata": {},
   "outputs": [
    {
     "data": {
      "image/jpeg": "[encoded data removed]",
      "text/plain": [
       "<IPython.core.display.Image object>"
      ]
     },
     "metadata": {},
     "output_type": "display_data"
    }
   ],
   "source": [
    "from IPython.display import Image, display\n",
    "\n",
    "try:\n",
    "    display(Image(graph.get_graph().draw_mermaid_png()))\n",
    "except Exception:\n",
    "    # This requires some extra dependencies and is optional\n",
    "    pass"
   ]
  },
  {
   "cell_type": "code",
   "execution_count": 278,
   "id": "fae52bf4-2bcb-4cb5-90db-7186c881c7d2",
   "metadata": {},
   "outputs": [],
   "source": [
    "config = {\"configurable\": {\"thread_id\": \"1\"}}\n"
   ]
  },
  {
   "cell_type": "code",
   "execution_count": 279,
   "id": "1b4e7383-66ea-48a2-8a84-2732688ac071",
   "metadata": {},
   "outputs": [
    {
     "data": {
      "text/plain": [
       "[{'chatbot': {'messages': [AIMessage(content='你好！有什么我可以帮助你的吗？', response_metadata={'token_usage': {'completion_tokens': 18, 'prompt_tokens': 9, 'total_tokens': 27}, 'model_name': 'gpt-4', 'system_fingerprint': None, 'prompt_filter_results': [{'prompt_index': 0, 'content_filter_results': {'hate': {'filtered': False, 'severity': 'safe'}, 'self_harm': {'filtered': False, 'severity': 'safe'}, 'sexual': {'filtered': False, 'severity': 'safe'}, 'violence': {'filtered': False, 'severity': 'safe'}}}], 'finish_reason': 'stop', 'logprobs': None, 'content_filter_results': {'hate': {'filtered': False, 'severity': 'safe'}, 'self_harm': {'filtered': False, 'severity': 'safe'}, 'sexual': {'filtered': False, 'severity': 'safe'}, 'violence': {'filtered': False, 'severity': 'safe'}}}, id='run-1b6c94bc-e961-4dfd-b3d0-885062e8c663-0', usage_metadata={'input_tokens': 9, 'output_tokens': 18, 'total_tokens': 27})],\n",
       "   'dd': {'query': 1},\n",
       "   'cc': {'query': 1}}}]"
      ]
     },
     "execution_count": 279,
     "metadata": {},
     "output_type": "execute_result"
    }
   ],
   "source": [
    "user_input = \"你好\"\n",
    "list(graph.stream({\"messages\": (\"user\", user_input)}, config))"
   ]
  },
  {
   "cell_type": "code",
   "execution_count": 174,
   "id": "8b3c9623-7856-4a57-a36a-2ebb3b1e60dc",
   "metadata": {
    "scrolled": true
   },
   "outputs": [
    {
     "name": "stdout",
     "output_type": "stream",
     "text": [
      "Assistant: 好的，如果你有任何问题，随时向我提问。祝你有个愉快的一天！\n"
     ]
    }
   ],
   "source": [
    "user_input = \"暂时没事了\"\n",
    "for event in graph.stream({\"messages\": (\"user\", user_input)}, config):\n",
    "    for value in event.values():\n",
    "        print(\"Assistant:\", value[\"messages\"][-1].content)"
   ]
  },
  {
   "cell_type": "code",
   "execution_count": 280,
   "id": "a5a9c9da-2643-4e6b-957a-15d74db632b0",
   "metadata": {},
   "outputs": [
    {
     "data": {
      "text/plain": [
       "StateSnapshot(values={'messages': [HumanMessage(content='你好', id='5e9091e6-9f14-4d3a-9f45-2c1b477c022d'), AIMessage(content='你好！有什么我可以帮助你的吗？', response_metadata={'token_usage': {'completion_tokens': 18, 'prompt_tokens': 9, 'total_tokens': 27}, 'model_name': 'gpt-4', 'system_fingerprint': None, 'prompt_filter_results': [{'prompt_index': 0, 'content_filter_results': {'hate': {'filtered': False, 'severity': 'safe'}, 'self_harm': {'filtered': False, 'severity': 'safe'}, 'sexual': {'filtered': False, 'severity': 'safe'}, 'violence': {'filtered': False, 'severity': 'safe'}}}], 'finish_reason': 'stop', 'logprobs': None, 'content_filter_results': {'hate': {'filtered': False, 'severity': 'safe'}, 'self_harm': {'filtered': False, 'severity': 'safe'}, 'sexual': {'filtered': False, 'severity': 'safe'}, 'violence': {'filtered': False, 'severity': 'safe'}}}, id='run-1b6c94bc-e961-4dfd-b3d0-885062e8c663-0', usage_metadata={'input_tokens': 9, 'output_tokens': 18, 'total_tokens': 27})], 'dd': {'query': 1}, 'cc': {'query': 1}}, next=(), config={'configurable': {'thread_id': '1', 'thread_ts': '1ef36afe-a559-6c99-8001-68983f9e1054'}}, metadata={'source': 'loop', 'step': 1, 'writes': {'chatbot': {'messages': [AIMessage(content='你好！有什么我可以帮助你的吗？', response_metadata={'token_usage': {'completion_tokens': 18, 'prompt_tokens': 9, 'total_tokens': 27}, 'model_name': 'gpt-4', 'system_fingerprint': None, 'prompt_filter_results': [{'prompt_index': 0, 'content_filter_results': {'hate': {'filtered': False, 'severity': 'safe'}, 'self_harm': {'filtered': False, 'severity': 'safe'}, 'sexual': {'filtered': False, 'severity': 'safe'}, 'violence': {'filtered': False, 'severity': 'safe'}}}], 'finish_reason': 'stop', 'logprobs': None, 'content_filter_results': {'hate': {'filtered': False, 'severity': 'safe'}, 'self_harm': {'filtered': False, 'severity': 'safe'}, 'sexual': {'filtered': False, 'severity': 'safe'}, 'violence': {'filtered': False, 'severity': 'safe'}}}, id='run-1b6c94bc-e961-4dfd-b3d0-885062e8c663-0', usage_metadata={'input_tokens': 9, 'output_tokens': 18, 'total_tokens': 27})], 'dd': {'query': 1}, 'cc': {'query': 1}}}}, created_at='2024-06-30T07:11:05.043009+00:00', parent_config={'configurable': {'thread_id': '1', 'thread_ts': '1ef36afe-92b2-637d-8000-3d226e21815e'}})"
      ]
     },
     "execution_count": 280,
     "metadata": {},
     "output_type": "execute_result"
    }
   ],
   "source": [
    "graph.get_state(config)"
   ]
  },
  {
   "cell_type": "code",
   "execution_count": 176,
   "id": "b18a348f-7609-495b-8e19-a44132324571",
   "metadata": {},
   "outputs": [
    {
     "data": {
      "text/plain": [
       "{'messages': [HumanMessage(content='你好', id='b8d13a29-862c-4208-ad0d-6c808b0427ff'),\n",
       "  AIMessage(content='你好！有什么我可以帮助你的吗？', response_metadata={'token_usage': {'completion_tokens': 18, 'prompt_tokens': 9, 'total_tokens': 27}, 'model_name': 'gpt-4', 'system_fingerprint': None, 'prompt_filter_results': [{'prompt_index': 0, 'content_filter_results': {'hate': {'filtered': False, 'severity': 'safe'}, 'self_harm': {'filtered': False, 'severity': 'safe'}, 'sexual': {'filtered': False, 'severity': 'safe'}, 'violence': {'filtered': False, 'severity': 'safe'}}}], 'finish_reason': 'stop', 'logprobs': None, 'content_filter_results': {'hate': {'filtered': False, 'severity': 'safe'}, 'self_harm': {'filtered': False, 'severity': 'safe'}, 'sexual': {'filtered': False, 'severity': 'safe'}, 'violence': {'filtered': False, 'severity': 'safe'}}}, id='run-0fd4b6fc-2e3b-4a1a-9450-37b0d170a057-0', usage_metadata={'input_tokens': 9, 'output_tokens': 18, 'total_tokens': 27}),\n",
       "  HumanMessage(content='我说了什么', id='59cf5639-4016-4b42-9abc-58ca8be722fb'),\n",
       "  AIMessage(content='你问我：“我说了什么”。之前你跟我打招呼说了“你好”。', response_metadata={'token_usage': {'completion_tokens': 28, 'prompt_tokens': 41, 'total_tokens': 69}, 'model_name': 'gpt-4', 'system_fingerprint': None, 'prompt_filter_results': [{'prompt_index': 0, 'content_filter_results': {'hate': {'filtered': False, 'severity': 'safe'}, 'self_harm': {'filtered': False, 'severity': 'safe'}, 'sexual': {'filtered': False, 'severity': 'safe'}, 'violence': {'filtered': False, 'severity': 'safe'}}}], 'finish_reason': 'stop', 'logprobs': None, 'content_filter_results': {'hate': {'filtered': False, 'severity': 'safe'}, 'self_harm': {'filtered': False, 'severity': 'safe'}, 'sexual': {'filtered': False, 'severity': 'safe'}, 'violence': {'filtered': False, 'severity': 'safe'}}}, id='run-bd592ef5-fe91-4980-b9ce-29623c39568b-0', usage_metadata={'input_tokens': 41, 'output_tokens': 28, 'total_tokens': 69}),\n",
       "  HumanMessage(content='好的', id='02643dde-b926-42ce-9beb-4f93d22c5265'),\n",
       "  AIMessage(content='好的，如果你有任何其他问题，随时向我提问。', response_metadata={'token_usage': {'completion_tokens': 19, 'prompt_tokens': 79, 'total_tokens': 98}, 'model_name': 'gpt-4', 'system_fingerprint': None, 'prompt_filter_results': [{'prompt_index': 0, 'content_filter_results': {'hate': {'filtered': False, 'severity': 'safe'}, 'self_harm': {'filtered': False, 'severity': 'safe'}, 'sexual': {'filtered': False, 'severity': 'safe'}, 'violence': {'filtered': False, 'severity': 'safe'}}}], 'finish_reason': 'stop', 'logprobs': None, 'content_filter_results': {'hate': {'filtered': False, 'severity': 'safe'}, 'self_harm': {'filtered': False, 'severity': 'safe'}, 'sexual': {'filtered': False, 'severity': 'safe'}, 'violence': {'filtered': False, 'severity': 'safe'}}}, id='run-654c3434-acd8-425c-9845-cfbb7bd4609e-0', usage_metadata={'input_tokens': 79, 'output_tokens': 19, 'total_tokens': 98}),\n",
       "  HumanMessage(content='暂时没事了', id='e3c9ecd5-f2a1-4521-9fbc-69787cf6d84e'),\n",
       "  AIMessage(content='好的，如果你有任何问题，随时向我提问。祝你有个愉快的一天！', response_metadata={'token_usage': {'completion_tokens': 31, 'prompt_tokens': 112, 'total_tokens': 143}, 'model_name': 'gpt-4', 'system_fingerprint': None, 'prompt_filter_results': [{'prompt_index': 0, 'content_filter_results': {'hate': {'filtered': False, 'severity': 'safe'}, 'self_harm': {'filtered': False, 'severity': 'safe'}, 'sexual': {'filtered': False, 'severity': 'safe'}, 'violence': {'filtered': False, 'severity': 'safe'}}}], 'finish_reason': 'stop', 'logprobs': None, 'content_filter_results': {'hate': {'filtered': False, 'severity': 'safe'}, 'self_harm': {'filtered': False, 'severity': 'safe'}, 'sexual': {'filtered': False, 'severity': 'safe'}, 'violence': {'filtered': False, 'severity': 'safe'}}}, id='run-b832f843-211d-41ea-9310-31b5f1c55af8-0', usage_metadata={'input_tokens': 112, 'output_tokens': 31, 'total_tokens': 143})],\n",
       " 'dd': {'query': 1, '2': 1, '3': 1, '4': 1},\n",
       " 'cc': {'query': 1, '2': 1}}"
      ]
     },
     "execution_count": 176,
     "metadata": {},
     "output_type": "execute_result"
    }
   ],
   "source": [
    "snapshot.values"
   ]
  },
  {
   "cell_type": "code",
   "execution_count": 156,
   "id": "6157b5f8-4385-4003-8971-401793438544",
   "metadata": {},
   "outputs": [
    {
     "data": {
      "text/plain": [
       "3"
      ]
     },
     "execution_count": 156,
     "metadata": {},
     "output_type": "execute_result"
    }
   ],
   "source": [
    "i "
   ]
  },
  {
   "cell_type": "code",
   "execution_count": null,
   "id": "0188ed8e-cfb1-41c5-afa1-5af58a220a5e",
   "metadata": {},
   "outputs": [],
   "source": []
  },
  {
   "cell_type": "code",
   "execution_count": 60,
   "id": "a80a7228-9bfa-47c6-bb97-77933db89ba6",
   "metadata": {},
   "outputs": [],
   "source": [
    "from langchain_core.tools import tool\n",
    "from langchain_core.prompts import ChatPromptTemplate, MessagesPlaceholder\n",
    "from langchain_core.pydantic_v1 import BaseModel, Field\n",
    "from langchain_openai import AzureChatOpenAI\n",
    "from langchain.agents import AgentExecutor\n",
    "from langchain.agents import AgentExecutor, create_tool_calling_agent\n",
    "\n",
    "\n",
    "\n",
    "@tool\n",
    "def fetch_table(request: str) -> str:\n",
    "    \"\"\"Consult a table about parameters of clearning machines according to the query,\n",
    "    and return the results.\"\"\"\n",
    "    return \"\"\n",
    "\n",
    "@tool\n",
    "class CompleteOrEscalate(BaseModel):\n",
    "    \"\"\"A tool to mark the current task as completed and/or to escalate control of the dialog back to the main assistant,\n",
    "    who can re-route the dialog based on the user's needs.\"\"\"\n",
    "    class Config:\n",
    "        schema_extra = {\n",
    "            \"example 1\": {\n",
    "                \"cancel\": True,\n",
    "                \"reason\": \"I have fully completed the task.\",\n",
    "            },\n",
    "            \"example 2\": {\n",
    "                \"cancel\": False,\n",
    "                \"reason\": \"I need to get model names of cleaning machines to complete the task.\",\n",
    "            },\n",
    "        }\n",
    "    cancel: bool = Field(description=\"If the current task should be canceled.\")\n",
    "    reason: str = Field(description=\"reason for cancelling or not\")\n",
    "\n",
    "\n",
    "# Table Searching Assistant\n",
    "table_searching_prompt = ChatPromptTemplate.from_messages(\n",
    "    [\n",
    "        (\n",
    "            \"system\",\n",
    "            \"You are a specialized assistant for searching table with the fetch_table tool about parameters \\\n",
    "            of cleaning machines. \"\n",
    "            \"To use the fetch_table tool, directly send user query as input to it, and don't make any language \\\n",
    "            translations or rephrases. \"\n",
    "            \"To use the fetch_table tool, check out if the query contains model names of the cleaning machines \\\n",
    "            (with pattern: alphabet followed by digits such as a10, G2, H1, m3, P10 and so on), otherwise\"\n",
    "            ' use the tool \"CompleteOrEscalate\" to mark that you need that information. '\n",
    "            'Whenever you have completed using fetch_table tool, please then use \"CompleteOrEscalate\" tool \\\n",
    "            to mark that fetch has been completed. '\n",
    "            \"If fetch_table tool is not appropriate for the query, then use the tool \"\n",
    "            ' \"CompleteOrEscalate\" to send the dialog back. '\n",
    "            'Do not waste the user\\'s time. Do not make up invalid tools or functions.',\n",
    "        ),\n",
    "        MessagesPlaceholder(variable_name=\"messages\"),\n",
    "        MessagesPlaceholder(variable_name=\"agent_scratchpad\"),\n",
    "    ]\n",
    ")\n",
    "llm = AzureChatOpenAI(\n",
    "    api_version=\"2024-02-15-preview\",\n",
    "    azure_endpoint=\"https://csagent.openai.azure.com/\",\n",
    "    api_key=\"346ac6661e314a9d8b91b6a99202ba42\",\n",
    "    deployment_name=\"gpt-4-8k\",\n",
    ")\n",
    "table_searching_runnable = create_tool_calling_agent(llm, [CompleteOrEscalate, fetch_table], table_searching_prompt)\n"
   ]
  },
  {
   "cell_type": "code",
   "execution_count": 61,
   "id": "b8acbceb-aa8b-4843-b8da-627b4d3bda25",
   "metadata": {},
   "outputs": [],
   "source": [
    "agent_executor = AgentExecutor(agent=table_searching_runnable, tools=[CompleteOrEscalate, fetch_table], verbose=True)"
   ]
  },
  {
   "cell_type": "code",
   "execution_count": 67,
   "id": "f5e4165c-7d52-4ca9-aace-1232575f780b",
   "metadata": {},
   "outputs": [
    {
     "name": "stdout",
     "output_type": "stream",
     "text": [
      "\n",
      "\n",
      "\u001b[1m> Entering new AgentExecutor chain...\u001b[0m\n",
      "\u001b[32;1m\u001b[1;3m\n",
      "Invoking: `CompleteOrEscalate` with `{'cancel': True, 'reason': \"The input doesn't contain a valid query related to cleaning machine parameters or model names. The language used is also not English.\"}`\n",
      "\n",
      "\n",
      "\u001b[0m\u001b[36;1m\u001b[1;3mcancel=True reason=\"The input doesn't contain a valid query related to cleaning machine parameters or model names. The language used is also not English.\"\u001b[0m\u001b[32;1m\u001b[1;3mI'm sorry, but I can only assist with queries related to cleaning machine parameters. Could you please provide the model name or other specific details about the cleaning machine?\u001b[0m\n",
      "\n",
      "\u001b[1m> Finished chain.\u001b[0m\n"
     ]
    },
    {
     "data": {
      "text/plain": [
       "{'messages': ['春眠不觉晓'],\n",
       " 'output': \"I'm sorry, but I can only assist with queries related to cleaning machine parameters. Could you please provide the model name or other specific details about the cleaning machine?\"}"
      ]
     },
     "execution_count": 67,
     "metadata": {},
     "output_type": "execute_result"
    }
   ],
   "source": [
    "agent_executor.invoke({\"messages\": [\"春眠不觉晓\"]})"
   ]
  },
  {
   "cell_type": "code",
   "execution_count": null,
   "id": "7fe1e515-48d2-405f-bee0-6d34c891cfd1",
   "metadata": {},
   "outputs": [],
   "source": []
  },
  {
   "cell_type": "code",
   "execution_count": 19,
   "id": "3abd9985-4e7e-4739-aa94-f761c8267546",
   "metadata": {},
   "outputs": [],
   "source": [
    "from langchain_openai import AzureChatOpenAI\n",
    "llm = AzureChatOpenAI(\n",
    "api_version=\"2024-02-15-preview\",\n",
    "azure_endpoint=\"https://csagent.openai.azure.com/\",\n",
    "api_key=\"346ac6661e314a9d8b91b6a99202ba42\",\n",
    "deployment_name=\"gpt-4-8k\",\n",
    ")"
   ]
  },
  {
   "cell_type": "code",
   "execution_count": 18,
   "id": "c6f295a1-82e0-4db5-b187-a1714440c131",
   "metadata": {},
   "outputs": [],
   "source": [
    "from typing import List, Optional\n",
    "\n",
    "from langchain.agents import AgentExecutor, create_openai_functions_agent\n",
    "from langchain.output_parsers.openai_functions import JsonOutputFunctionsParser\n",
    "from langchain_core.prompts import ChatPromptTemplate, MessagesPlaceholder\n",
    "from langchain_openai import ChatOpenAI\n",
    "\n",
    "from langgraph.graph import END, StateGraph\n",
    "\n",
    "\n",
    "def create_agent(\n",
    "    llm: ChatOpenAI,\n",
    "    tools: list,\n",
    "    system_prompt: str,\n",
    ") -> str:\n",
    "    \"\"\"Create a function-calling agent and add it to the graph.\"\"\"\n",
    "    system_prompt += \"\\nWork autonomously according to your specialty, using the tools available to you.\"\n",
    "    \" Do not ask for clarification.\"\n",
    "    \" Your other team members (and other teams) will collaborate with you with their own specialties.\"\n",
    "    \" You are chosen for a reason! You are one of the following team members: {team_members}.\"\n",
    "    prompt = ChatPromptTemplate.from_messages(\n",
    "        [\n",
    "            (\n",
    "                \"system\",\n",
    "                system_prompt,\n",
    "            ),\n",
    "            MessagesPlaceholder(variable_name=\"messages\"),\n",
    "            MessagesPlaceholder(variable_name=\"agent_scratchpad\"),\n",
    "        ]\n",
    "    )\n",
    "    agent = create_openai_functions_agent(llm, tools, prompt)\n",
    "    executor = AgentExecutor(agent=agent, tools=tools)\n",
    "    return executor\n",
    "\n",
    "\n",
    "def agent_node(state, agent, name):\n",
    "    result = agent.invoke(state)\n",
    "    return {\"messages\": [HumanMessage(content=result[\"output\"], name=name)]}\n",
    "\n",
    "\n",
    "def create_team_supervisor(llm: ChatOpenAI, system_prompt, members) -> str:\n",
    "    \"\"\"An LLM-based router.\"\"\"\n",
    "    options = [\"FINISH\"] + members\n",
    "    function_def = {\n",
    "        \"name\": \"route\",\n",
    "        \"description\": \"Select the next role.\",\n",
    "        \"parameters\": {\n",
    "            \"title\": \"routeSchema\",\n",
    "            \"type\": \"object\",\n",
    "            \"properties\": {\n",
    "                \"next\": {\n",
    "                    \"title\": \"Next\",\n",
    "                    \"anyOf\": [\n",
    "                        {\"enum\": options},\n",
    "                    ],\n",
    "                },\n",
    "            },\n",
    "            \"required\": [\"next\"],\n",
    "        },\n",
    "    }\n",
    "    prompt = ChatPromptTemplate.from_messages(\n",
    "        [\n",
    "            (\"system\", system_prompt),\n",
    "            MessagesPlaceholder(variable_name=\"messages\"),\n",
    "            (\n",
    "                \"system\",\n",
    "                \"Given the conversation above, who should act next?\"\n",
    "                \" Or should we FINISH? Select one of: {options}\",\n",
    "            ),\n",
    "        ]\n",
    "    ).partial(options=str(options), team_members=\", \".join(members))\n",
    "    return (\n",
    "        prompt\n",
    "        | llm.bind_functions(functions=[function_def], function_call=\"route\")\n",
    "        | JsonOutputFunctionsParser()\n",
    "    )"
   ]
  },
  {
   "cell_type": "code",
   "execution_count": 20,
   "id": "1dd74764-4e94-4c2f-b98f-142fdc560b09",
   "metadata": {},
   "outputs": [],
   "source": [
    "supervisor_agent = create_team_supervisor(\n",
    "    llm,\n",
    "    \"You are a supervisor tasked with managing a conversation between the\"\n",
    "    \" following workers:  Search, WebScraper. Given the following user request,\"\n",
    "    \" respond with the worker to act next. Each worker will perform a\"\n",
    "    \" task and respond with their results and status. When finished,\"\n",
    "    \" respond with FINISH.\",\n",
    "    [\"Search\", \"WebScraper\"],\n",
    ")"
   ]
  },
  {
   "cell_type": "code",
   "execution_count": 22,
   "id": "a0286d16-c1f2-4cc3-a28e-3a55d7f81ffa",
   "metadata": {},
   "outputs": [
    {
     "data": {
      "text/plain": [
       "{'next': 'Search'}"
      ]
     },
     "execution_count": 22,
     "metadata": {},
     "output_type": "execute_result"
    }
   ],
   "source": [
    "supervisor_agent.invoke({\"messages\": [\"when is Taylor Swift's next tour?\"]})"
   ]
  },
  {
   "cell_type": "code",
   "execution_count": null,
   "id": "5f312856-de8d-475d-96a3-3b5da64cfba5",
   "metadata": {},
   "outputs": [],
   "source": []
  },
  {
   "cell_type": "code",
   "execution_count": 1,
   "id": "dbe13070-5a03-4b14-a587-1e814d1e13fa",
   "metadata": {},
   "outputs": [],
   "source": [
    "from langchain.embeddings.huggingface import HuggingFaceBgeEmbeddings, HuggingFaceEmbeddings\n",
    "from langchain.schema import Document\n",
    "encoder = HuggingFaceEmbeddings(model_name=\"/workspace/data/private/zhuxiaohai/models/bge_finetuned_emb_ner_link\", \n",
    "                                   encode_kwargs = {'normalize_embeddings': True},\n",
    "                                   model_kwargs={'device': 'cuda:0'})"
   ]
  },
  {
   "cell_type": "code",
   "execution_count": 2,
   "id": "318b3d60-f0a8-41b2-ae13-bb5f1357c03e",
   "metadata": {},
   "outputs": [],
   "source": [
    "from langchain_community.vectorstores import Chroma\n",
    "schema_set = [\"你好\", \"你好啊\", \"你太好了\"]\n",
    "doc_splits = [Document(page_content=line, metadata={\"id\": id}) for id, line in enumerate(schema_set)]\n",
    "\n",
    "# Add to vectorDB\n",
    "vectorstore = Chroma.from_documents(\n",
    "    documents=doc_splits,\n",
    "    collection_name=\"rag-chroma1\",\n",
    "    embedding=encoder,\n",
    ")\n",
    "retriever = vectorstore.as_retriever()"
   ]
  },
  {
   "cell_type": "code",
   "execution_count": 3,
   "id": "76b25e3a-527f-494e-8f11-0c0f203bddd5",
   "metadata": {},
   "outputs": [],
   "source": [
    "from langchain.tools.retriever import create_retriever_tool\n",
    "\n",
    "retriever_tool = create_retriever_tool(\n",
    "    retriever,\n",
    "    \"retriever\",\n",
    "    'If the question has \"哼哼\", search and return relevant key words',\n",
    ")\n",
    "\n",
    "tools = [retriever_tool]"
   ]
  },
  {
   "cell_type": "code",
   "execution_count": 4,
   "id": "1d28d316-34a6-4728-9aa2-918f004d308f",
   "metadata": {},
   "outputs": [],
   "source": [
    "from typing import Annotated, Sequence, TypedDict\n",
    "\n",
    "from langchain_core.messages import BaseMessage\n",
    "\n",
    "from langgraph.graph.message import add_messages\n",
    "\n",
    "\n",
    "class AgentState(TypedDict):\n",
    "    # The add_messages function defines how an update should be processed\n",
    "    # Default is to replace. add_messages says \"append\"\n",
    "    messages: Annotated[Sequence[BaseMessage], add_messages]"
   ]
  },
  {
   "cell_type": "code",
   "execution_count": 5,
   "id": "3300a2e3-006b-45fc-83a3-710c6ac91f84",
   "metadata": {},
   "outputs": [],
   "source": [
    "from typing import Annotated, Literal, Sequence, TypedDict\n",
    "\n",
    "from langchain import hub\n",
    "from langchain_core.messages import BaseMessage, HumanMessage\n",
    "from langchain_core.output_parsers import StrOutputParser\n",
    "from langchain_core.prompts import PromptTemplate\n",
    "from langchain_core.pydantic_v1 import BaseModel, Field\n",
    "from langchain_openai import AzureChatOpenAI\n",
    "\n",
    "from langgraph.prebuilt import tools_condition\n",
    "\n",
    "### Edges\n",
    "\n",
    "\n",
    "def grade_documents(state) -> Literal[\"generate\", \"rewrite\"]:\n",
    "    \"\"\"\n",
    "    Determines whether the retrieved documents are relevant to the question.\n",
    "\n",
    "    Args:\n",
    "        state (messages): The current state\n",
    "\n",
    "    Returns:\n",
    "        str: A decision for whether the documents are relevant or not\n",
    "    \"\"\"\n",
    "\n",
    "    print(\"---CHECK RELEVANCE---\")\n",
    "\n",
    "    # Data model\n",
    "    class grade(BaseModel):\n",
    "        \"\"\"Binary score for relevance check.\"\"\"\n",
    "\n",
    "        binary_score: str = Field(description=\"Relevance score 'yes' or 'no'\")\n",
    "\n",
    "    # LLM\n",
    "    model = AzureChatOpenAI(\n",
    "    api_version=\"2024-02-15-preview\",\n",
    "    azure_endpoint=\"https://csagent.openai.azure.com/\",\n",
    "    api_key=\"346ac6661e314a9d8b91b6a99202ba42\",\n",
    "    deployment_name=\"gpt-4-8k\",\n",
    "    )\n",
    "\n",
    "    # LLM with tool and validation\n",
    "    llm_with_tool = model.with_structured_output(grade)\n",
    "\n",
    "    # Prompt\n",
    "    prompt = PromptTemplate(\n",
    "        template=\"\"\"You are a grader assessing relevance of a retrieved document to a user question. \\n \n",
    "        Here is the retrieved document: \\n\\n {context} \\n\\n\n",
    "        Here is the user question: {question} \\n\n",
    "        If the document contains keyword(s) or semantic meaning related to the user question, grade it as relevant. \\n\n",
    "        Give a binary score 'yes' or 'no' score to indicate whether the document is relevant to the question.\"\"\",\n",
    "        input_variables=[\"context\", \"question\"],\n",
    "    )\n",
    "\n",
    "    # Chain\n",
    "    chain = prompt | llm_with_tool\n",
    "\n",
    "    messages = state[\"messages\"]\n",
    "    last_message = messages[-1]\n",
    "\n",
    "    question = messages[0].content\n",
    "    docs = last_message.content\n",
    "\n",
    "    scored_result = chain.invoke({\"question\": question, \"context\": docs})\n",
    "\n",
    "    score = scored_result.binary_score\n",
    "\n",
    "    if score == \"yes\":\n",
    "        print(\"---DECISION: DOCS RELEVANT---\")\n",
    "        return \"generate\"\n",
    "\n",
    "    else:\n",
    "        print(\"---DECISION: DOCS NOT RELEVANT---\")\n",
    "        print(score)\n",
    "        return \"rewrite\"\n",
    "\n",
    "\n",
    "### Nodes\n",
    "\n",
    "\n",
    "def agent(state):\n",
    "    \"\"\"\n",
    "    Invokes the agent model to generate a response based on the current state. Given\n",
    "    the question, it will decide to retrieve using the retriever tool, or simply end.\n",
    "\n",
    "    Args:\n",
    "        state (messages): The current state\n",
    "\n",
    "    Returns:\n",
    "        dict: The updated state with the agent response appended to messages\n",
    "    \"\"\"\n",
    "    print(\"---CALL AGENT---\")\n",
    "    messages = state[\"messages\"]\n",
    "    model = AzureChatOpenAI(\n",
    "    api_version=\"2024-02-15-preview\",\n",
    "    azure_endpoint=\"https://csagent.openai.azure.com/\",\n",
    "    api_key=\"346ac6661e314a9d8b91b6a99202ba42\",\n",
    "    deployment_name=\"gpt-4-8k\",\n",
    "    )\n",
    "    model = model.bind_tools(tools)\n",
    "    response = model.invoke(messages)\n",
    "    # We return a list, because this will get added to the existing list\n",
    "    return {\"messages\": [response]}\n",
    "\n",
    "\n",
    "def rewrite(state):\n",
    "    \"\"\"\n",
    "    Transform the query to produce a better question.\n",
    "\n",
    "    Args:\n",
    "        state (messages): The current state\n",
    "\n",
    "    Returns:\n",
    "        dict: The updated state with re-phrased question\n",
    "    \"\"\"\n",
    "\n",
    "    print(\"---TRANSFORM QUERY---\")\n",
    "    messages = state[\"messages\"]\n",
    "    question = messages[0].content\n",
    "\n",
    "    msg = [\n",
    "        HumanMessage(\n",
    "            content=f\"\"\" \\n \n",
    "    Look at the input and try to reason about the underlying semantic intent / meaning. \\n \n",
    "    Here is the initial question:\n",
    "    \\n ------- \\n\n",
    "    {question} \n",
    "    \\n ------- \\n\n",
    "    Formulate an improved question: \"\"\",\n",
    "        )\n",
    "    ]\n",
    "\n",
    "    # Grader\n",
    "    model = AzureChatOpenAI(\n",
    "    api_version=\"2024-02-15-preview\",\n",
    "    azure_endpoint=\"https://csagent.openai.azure.com/\",\n",
    "    api_key=\"346ac6661e314a9d8b91b6a99202ba42\",\n",
    "    deployment_name=\"gpt-4-8k\",\n",
    "    )\n",
    "    response = model.invoke(msg)\n",
    "    return {\"messages\": [response]}\n",
    "\n",
    "\n",
    "def generate(state):\n",
    "    \"\"\"\n",
    "    Generate answer\n",
    "\n",
    "    Args:\n",
    "        state (messages): The current state\n",
    "\n",
    "    Returns:\n",
    "         dict: The updated state with re-phrased question\n",
    "    \"\"\"\n",
    "    print(\"---GENERATE---\")\n",
    "    messages = state[\"messages\"]\n",
    "    question = messages[0].content\n",
    "    last_message = messages[-1]\n",
    "\n",
    "    question = messages[0].content\n",
    "    docs = last_message.content\n",
    "\n",
    "    # Prompt\n",
    "    prompt = hub.pull(\"rlm/rag-prompt\")\n",
    "\n",
    "    # LLM\n",
    "    llm = AzureChatOpenAI(\n",
    "    api_version=\"2024-02-15-preview\",\n",
    "    azure_endpoint=\"https://csagent.openai.azure.com/\",\n",
    "    api_key=\"346ac6661e314a9d8b91b6a99202ba42\",\n",
    "    deployment_name=\"gpt-4-8k\",\n",
    "    )\n",
    "\n",
    "    # Post-processing\n",
    "    def format_docs(docs):\n",
    "        return \"\\n\\n\".join(doc.page_content for doc in docs)\n",
    "\n",
    "    # Chain\n",
    "    rag_chain = prompt | llm | StrOutputParser()\n",
    "\n",
    "    # Run\n",
    "    response = rag_chain.invoke({\"context\": docs, \"question\": question})\n",
    "    return {\"messages\": [response]}\n"
   ]
  },
  {
   "cell_type": "code",
   "execution_count": 7,
   "id": "a1d23995-81ed-40fe-a307-4690c5b69e75",
   "metadata": {},
   "outputs": [],
   "source": [
    "from langgraph.graph import END, StateGraph\n",
    "from langgraph.prebuilt import ToolNode\n",
    "from langgraph.checkpoint.sqlite import SqliteSaver\n",
    "\n",
    "# Define a new graph\n",
    "workflow = StateGraph(AgentState)\n",
    "\n",
    "# Define the nodes we will cycle between\n",
    "workflow.add_node(\"agent\", agent)  # agent\n",
    "retrieve = ToolNode([retriever_tool])\n",
    "workflow.add_node(\"retrieve\", retrieve)  # retrieval\n",
    "workflow.set_entry_point(\"agent\")\n",
    "\n",
    "# Decide whether to retrieve\n",
    "workflow.add_conditional_edges(\n",
    "    \"agent\",\n",
    "    # Assess agent decision\n",
    "    tools_condition,\n",
    "    {\n",
    "        # Translate the condition outputs to nodes in our graph\n",
    "        \"tools\": \"retrieve\",\n",
    "        END: END,\n",
    "    },\n",
    ")\n",
    "# Compile graph\n",
    "memory = SqliteSaver.from_conn_string(\":memory:\")\n",
    "# Compile\n",
    "graph = workflow.compile(checkpointer=memory,)"
   ]
  },
  {
   "cell_type": "code",
   "execution_count": 8,
   "id": "b37fbae1-30f4-4967-b0aa-c2716b348470",
   "metadata": {},
   "outputs": [
    {
     "data": {
      "image/jpeg": "[encoded data removed]",
      "text/plain": [
       "<IPython.core.display.Image object>"
      ]
     },
     "metadata": {},
     "output_type": "display_data"
    }
   ],
   "source": [
    "from IPython.display import Image, display\n",
    "\n",
    "try:\n",
    "    display(Image(graph.get_graph(xray=True).draw_mermaid_png()))\n",
    "except Exception:\n",
    "    # This requires some extra dependencies and is optional\n",
    "    pass"
   ]
  },
  {
   "cell_type": "code",
   "execution_count": 11,
   "id": "b3b0a409-a447-4c07-9e73-b1f5693f5238",
   "metadata": {},
   "outputs": [],
   "source": [
    "import uuid\n",
    "thread_id = str(uuid.uuid4())\n",
    "config = {\n",
    "    \"configurable\": {\n",
    "        # The passenger_id is used in our flight tools to\n",
    "        # fetch the user's flight informatio\n",
    "        # Checkpoints are accessed by thread_id\n",
    "        \"thread_id\": \"198197a5-c74c-463d-8312-ded3f1d94479\",\n",
    "    }\n",
    "}"
   ]
  },
  {
   "cell_type": "code",
   "execution_count": 16,
   "id": "dd9b8a21-5255-4204-86ed-e3234f066517",
   "metadata": {},
   "outputs": [],
   "source": [
    "inputs = {\n",
    "    \"messages\": [\n",
    "        (\"user\", \"哼哼\"),\n",
    "    ]\n",
    "}"
   ]
  },
  {
   "cell_type": "code",
   "execution_count": 17,
   "id": "d20b01a3-b774-4dab-9391-5b397ab7eb42",
   "metadata": {},
   "outputs": [
    {
     "name": "stdout",
     "output_type": "stream",
     "text": [
      "---CALL AGENT---\n"
     ]
    },
    {
     "name": "stderr",
     "output_type": "stream",
     "text": [
      "Number of requested results 4 is greater than number of elements in index 3, updating n_results = 3\n"
     ]
    },
    {
     "name": "stdout",
     "output_type": "stream",
     "text": [
      "\"Output from node 'agent':\"\n",
      "'---'\n",
      "{ 'messages': [ AIMessage(content='', additional_kwargs={'tool_calls': [{'id': 'call_YQxnkj5JDjLYS1SVZWWErLTq', 'function': {'arguments': '{\\n  \"query\": \"哼哼\"\\n}', 'name': 'retriever'}, 'type': 'function'}]}, response_metadata={'token_usage': {'completion_tokens': 19, 'prompt_tokens': 126, 'total_tokens': 145}, 'model_name': 'gpt-4', 'system_fingerprint': None, 'prompt_filter_results': [{'prompt_index': 0, 'content_filter_results': {'hate': {'filtered': False, 'severity': 'safe'}, 'self_harm': {'filtered': False, 'severity': 'safe'}, 'sexual': {'filtered': False, 'severity': 'safe'}, 'violence': {'filtered': False, 'severity': 'safe'}}}], 'finish_reason': 'tool_calls', 'logprobs': None, 'content_filter_results': {}}, id='run-4c55d57c-d26d-4900-9492-762be96080c7-0', tool_calls=[{'name': 'retriever', 'args': {'query': '哼哼'}, 'id': 'call_YQxnkj5JDjLYS1SVZWWErLTq'}], usage_metadata={'input_tokens': 126, 'output_tokens': 19, 'total_tokens': 145})]}\n",
      "'\\n---\\n'\n",
      "\"Output from node 'retrieve':\"\n",
      "'---'\n",
      "{ 'messages': [ ToolMessage(content='你好啊\\n\\n你好\\n\\n你太好了', name='retriever', tool_call_id='call_YQxnkj5JDjLYS1SVZWWErLTq')]}\n",
      "'\\n---\\n'\n"
     ]
    }
   ],
   "source": [
    "import pprint\n",
    "\n",
    "for output in graph.stream(inputs, config):\n",
    "    for key, value in output.items():\n",
    "        pprint.pprint(f\"Output from node '{key}':\")\n",
    "        pprint.pprint(\"---\")\n",
    "        pprint.pprint(value, indent=2, width=80, depth=None)\n",
    "    pprint.pprint(\"\\n---\\n\")"
   ]
  },
  {
   "cell_type": "code",
   "execution_count": 27,
   "id": "da330126-4022-4314-b366-0f5b1509476b",
   "metadata": {},
   "outputs": [
    {
     "data": {
      "text/plain": [
       "'你好'"
      ]
     },
     "execution_count": 27,
     "metadata": {},
     "output_type": "execute_result"
    }
   ],
   "source": [
    "state[\"messages\"][0].content"
   ]
  },
  {
   "cell_type": "code",
   "execution_count": 29,
   "id": "f479c684-97fc-437a-b9ec-74949f588160",
   "metadata": {},
   "outputs": [
    {
     "data": {
      "text/plain": [
       "AIMessage(content='', additional_kwargs={'tool_calls': [{'id': 'call_AOzz4Kuq316jmitDaKx3UZR8', 'function': {'arguments': '{\\n  \"query\": \"你好\"\\n}', 'name': 'retriever'}, 'type': 'function'}]}, response_metadata={'token_usage': {'completion_tokens': 17, 'prompt_tokens': 65, 'total_tokens': 82}, 'model_name': 'gpt-4', 'system_fingerprint': None, 'prompt_filter_results': [{'prompt_index': 0, 'content_filter_results': {'hate': {'filtered': False, 'severity': 'safe'}, 'self_harm': {'filtered': False, 'severity': 'safe'}, 'sexual': {'filtered': False, 'severity': 'safe'}, 'violence': {'filtered': False, 'severity': 'safe'}}}], 'finish_reason': 'tool_calls', 'logprobs': None, 'content_filter_results': {}}, id='run-e8d1a7ce-85db-4c61-82c1-484f390760ae-0', tool_calls=[{'name': 'retriever', 'args': {'query': '你好'}, 'id': 'call_AOzz4Kuq316jmitDaKx3UZR8'}], usage_metadata={'input_tokens': 65, 'output_tokens': 17, 'total_tokens': 82})"
      ]
     },
     "execution_count": 29,
     "metadata": {},
     "output_type": "execute_result"
    }
   ],
   "source": [
    "state[\"messages\"][1]"
   ]
  },
  {
   "cell_type": "code",
   "execution_count": 25,
   "id": "490bb4d1-e59f-4e52-b691-c305ce717e56",
   "metadata": {},
   "outputs": [
    {
     "data": {
      "text/plain": [
       "ToolMessage(content='你好\\n\\n你好啊\\n\\n你太好了', name='retriever', id='b14ee807-6ee7-49db-bb1d-ac706140aee4', tool_call_id='call_AOzz4Kuq316jmitDaKx3UZR8')"
      ]
     },
     "execution_count": 25,
     "metadata": {},
     "output_type": "execute_result"
    }
   ],
   "source": [
    "state[\"messages\"][-1]"
   ]
  },
  {
   "cell_type": "code",
   "execution_count": 30,
   "id": "56fac910-fdd0-4730-87f6-b3180d524890",
   "metadata": {},
   "outputs": [
    {
     "name": "stdout",
     "output_type": "stream",
     "text": [
      "这是一个\n",
      "多行字符串，\n",
      "但是在打印时，会是一个连续的字符串。\n"
     ]
    }
   ],
   "source": [
    "text = \"\"\"这是一个\n",
    "多行字符串，\n",
    "但是在打印时，会\\\n",
    "是一个连续的字符串。\"\"\"\n",
    "\n",
    "print(text)\n"
   ]
  },
  {
   "cell_type": "code",
   "execution_count": 31,
   "id": "b5b2499f-ae4c-4ebf-b741-77e1054f7f15",
   "metadata": {},
   "outputs": [
    {
     "data": {
      "text/plain": [
       "'这是一个\\n多行字符串，\\n但是在打印时，会是一个连续的字符串。'"
      ]
     },
     "execution_count": 31,
     "metadata": {},
     "output_type": "execute_result"
    }
   ],
   "source": [
    "text"
   ]
  },
  {
   "cell_type": "code",
   "execution_count": null,
   "id": "2c241835-3f88-496d-8880-31a5bf89ebd9",
   "metadata": {},
   "outputs": [],
   "source": []
  },
  {
   "cell_type": "code",
   "execution_count": null,
   "id": "2c28e15a-e0a8-4faf-8115-915cf8e7b536",
   "metadata": {},
   "outputs": [],
   "source": []
  },
  {
   "cell_type": "code",
   "execution_count": 1,
   "id": "0f05c958-683f-4ea4-83da-af09069a11f9",
   "metadata": {},
   "outputs": [
    {
     "name": "stdin",
     "output_type": "stream",
     "text": [
      "Please provide your TAVILY_API_KEY ········\n"
     ]
    }
   ],
   "source": [
    "import getpass\n",
    "import os\n",
    "\n",
    "\n",
    "def _set_if_undefined(var: str):\n",
    "    if not os.environ.get(var):\n",
    "        os.environ[var] = getpass.getpass(f\"Please provide your {var}\")\n",
    "\n",
    "_set_if_undefined(\"TAVILY_API_KEY\")"
   ]
  },
  {
   "cell_type": "code",
   "execution_count": 19,
   "id": "1416956d-4127-4d57-9b7b-ec090770ed37",
   "metadata": {},
   "outputs": [],
   "source": [
    "from pipeline import QAPineline, NL2SQLPineline\n",
    "from vector_db import ChromaDB\n",
    "from search_engine import QASearchEngine, VectorSim, QAVectorDBSearchEngine\n",
    "from find_keywords import LabellerByRules, LabellerByRulesWithPos\n",
    "from recall import RecallBySearchEngine\n",
    "from nl2sql import SimpleLookup\n",
    "from langchain_core.tools import tool"
   ]
  },
  {
   "cell_type": "code",
   "execution_count": 15,
   "id": "b43b8ea0-55ae-4014-a7b1-2fb55726173a",
   "metadata": {},
   "outputs": [],
   "source": [
    "router_config = {\n",
    "    \"class\": LabellerByRulesWithPos,\n",
    "    \"config\": {\n",
    "        \"dim_df_path\": \"data/dim_df20240619.csv\",\n",
    "        \"model_col\": (\"model\", \"model\"),\n",
    "        \"cat_col\": (\"cat_cn\", \"cat\"),\n",
    "        \"error_col\": (\"error\", \"error\"),\n",
    "        \"ner_model_path\": \"/workspace/data/private/zhuxiaohai/models/bert_finetuned_ner_augmented/\"\n",
    "    }\n",
    "}\n",
    "\n",
    "recall_config = {\n",
    "    \"class\": RecallBySearchEngine,\n",
    "    \"config\": {\n",
    "        \"search_engine\": {\n",
    "            \"class\": QAVectorDBSearchEngine,\n",
    "            \"docs_path\": \"data/table_entity.csv\",\n",
    "            \"docs_col\": \"entity_name\",\n",
    "            \"ids_col\": \"ids\",\n",
    "            \"metadata_cols\": [\"sweeping\", \"washing\", \"mopping\", \"content\"],\n",
    "            \"collection_name\": \"table_entity\",\n",
    "            \"reset\": False,\n",
    "            \"encoder_path\": \"/workspace/data/private/zhuxiaohai/models/bge_finetuned_emb_ner_link\",\n",
    "            \"vector_db\": {\n",
    "                \"class\": ChromaDB,\n",
    "                \"host\": \"/data/dataset/kefu/chroma\",\n",
    "            },\n",
    "        },\n",
    "    },\n",
    "    \"top_n\": 1,\n",
    "}\n",
    "\n",
    "nl2sql_config = {\n",
    "    \"class\": SimpleLookup,\n",
    "    \"config\": {\n",
    "        \"db_absolute_path\": \"/root/PycharmProjects/rockchat/data/model_params.db\",\n",
    "        \"reset\": False,\n",
    "        \"df_path\": \"/root/PycharmProjects/rockchat/data/model_params20240620.csv\",\n",
    "        \"table_name\": \"model_params20240620\",\n",
    "        \"output_type\": \"markdown\"\n",
    "    }\n",
    "}\n",
    "\n",
    "pipeline_config = {\n",
    "    \"router\": router_config,\n",
    "    \"recall\": recall_config,\n",
    "    \"nl2sql\": nl2sql_config,\n",
    "}\n",
    "\n",
    "nl2sql_pipeline = NL2SQLPineline(pipeline_config)"
   ]
  },
  {
   "cell_type": "code",
   "execution_count": 20,
   "id": "fc4161b5-4170-4fa8-ae95-855269aaad5f",
   "metadata": {},
   "outputs": [],
   "source": [
    "@tool\n",
    "def fetch_table(query: str) -> str:\n",
    "    \"\"\"Consult a table about model parameters according to the query,\n",
    "    and return the results.\"\"\"\n",
    "    results = nl2sql_pipeline.query(query)\n",
    "    return results"
   ]
  },
  {
   "cell_type": "code",
   "execution_count": 24,
   "id": "d0b616e0-be8f-4a32-9735-65d1664ae813",
   "metadata": {},
   "outputs": [],
   "source": [
    "from typing import Annotated, Literal, Optional\n",
    "from typing_extensions import TypedDict\n",
    "from langgraph.graph.message import AnyMessage, add_messages\n",
    "\n",
    "\n",
    "def update_dialog_stack(left: list[str], right: Optional[str]) -> list[str]:\n",
    "    \"\"\"Push or pop the state.\"\"\"\n",
    "    if right is None:\n",
    "        return left\n",
    "    if right == \"pop\":\n",
    "        return left[:-1]\n",
    "    return left + [right]\n",
    "\n",
    "\n",
    "class State(TypedDict):\n",
    "    messages: Annotated[list[AnyMessage], add_messages]\n",
    "    user_info: str\n",
    "    dialog_state: Annotated[\n",
    "        list[\n",
    "            Literal[\n",
    "                \"assistant\",\n",
    "                \"fetch_table\",\n",
    "            ]\n",
    "        ],\n",
    "        update_dialog_stack,\n",
    "    ]"
   ]
  },
  {
   "cell_type": "code",
   "execution_count": 25,
   "id": "a711ab47-b947-4e30-b6a5-935a4fdd0a6b",
   "metadata": {},
   "outputs": [],
   "source": [
    "from langchain_core.prompts import ChatPromptTemplate\n",
    "from langchain_core.pydantic_v1 import BaseModel, Field\n",
    "from langchain_core.runnables import Runnable, RunnableConfig\n",
    "\n",
    "\n",
    "class Assistant:\n",
    "    def __init__(self, runnable: Runnable):\n",
    "        self.runnable = runnable\n",
    "\n",
    "    def __call__(self, state: State, config: RunnableConfig):\n",
    "        while True:\n",
    "            result = self.runnable.invoke(state)\n",
    "\n",
    "            if not result.tool_calls and (\n",
    "                not result.content\n",
    "                or isinstance(result.content, list)\n",
    "                and not result.content[0].get(\"text\")\n",
    "            ):\n",
    "                messages = state[\"messages\"] + [(\"user\", \"Respond with a real output.\")]\n",
    "                state = {**state, \"messages\": messages}\n",
    "                messages = state[\"messages\"] + [(\"user\", \"Respond with a real output.\")]\n",
    "                state = {**state, \"messages\": messages}\n",
    "            else:\n",
    "                break\n",
    "        return {\"messages\": result}"
   ]
  },
  {
   "cell_type": "code",
   "execution_count": 26,
   "id": "c275b61a-b326-42ef-9bb1-62b7ad1bd5ba",
   "metadata": {},
   "outputs": [],
   "source": [
    "class CompleteOrEscalate(BaseModel):\n",
    "    \"\"\"A tool to mark the current task as completed and/or to escalate control of the dialog to the main assistant,\n",
    "    who can re-route the dialog based on the user's needs.\"\"\"\n",
    "\n",
    "    cancel: bool = True\n",
    "    reason: str\n",
    "\n",
    "    class Config:\n",
    "        schema_extra = {\n",
    "            \"example\": {\n",
    "                \"cancel\": True,\n",
    "                \"reason\": \"User changed their mind about the current task.\",\n",
    "            },\n",
    "            \"example 2\": {\n",
    "                \"cancel\": True,\n",
    "                \"reason\": \"I have fully completed the task.\",\n",
    "            },\n",
    "            \"example 3\": {\n",
    "                \"cancel\": False,\n",
    "                \"reason\": \"I need to search the table of model parameters to fetch more information.\",\n",
    "            },\n",
    "        }"
   ]
  },
  {
   "cell_type": "code",
   "execution_count": 28,
   "id": "74fb87af-460a-477f-b021-6c5ed30638b1",
   "metadata": {},
   "outputs": [],
   "source": [
    "table_searching_prompt = ChatPromptTemplate.from_messages(\n",
    "    [\n",
    "        (\n",
    "            \"system\",\n",
    "            \"You are a specialized assistant for searching table about model parameters.\"\n",
    "            \"The primary assistant delegates work to you whenever the user needs information about model parameters.\"\n",
    "            \"If you need more information or the customer changes their mind, escalate the task back to the main assistant.\"\n",
    "            \"\\n\\nUser query: {query}.\"\n",
    "            \"\\n\\nIf the user needs help, and none of your tools are appropriate for it, then\"\n",
    "            ' \"CompleteOrEscalate\" the dialog to the host assistant. Do not waste the user\\'s time. Do not make up invalid tools or functions.',\n",
    "        ),\n",
    "        (\"placeholder\", \"{messages}\"),\n",
    "    ]\n",
    ")\n",
    "\n",
    "table_searching_runnable = table_searching_prompt | llm.bind_tools(\n",
    "    [fetch_table] + [CompleteOrEscalate]\n",
    ")\n",
    "\n",
    "# Primary Assistant\n",
    "class ToTableSearchingAssistant(BaseModel):\n",
    "    \"\"\"Transfers work to a specialized assistant to search table for model parameters.\"\"\"\n",
    "\n",
    "    request: str = Field(\n",
    "        description=\"model names must be included in the query before proceeding.\"\n",
    "    )"
   ]
  },
  {
   "cell_type": "code",
   "execution_count": null,
   "id": "88a6078c-ba04-400a-bb8d-1266eee16a85",
   "metadata": {},
   "outputs": [],
   "source": []
  },
  {
   "cell_type": "code",
   "execution_count": null,
   "id": "09db46ef-0f00-419a-a843-b68519a8bf42",
   "metadata": {},
   "outputs": [],
   "source": []
  },
  {
   "cell_type": "code",
   "execution_count": null,
   "id": "9e8f3d1f-d382-424d-9875-895150f1e35c",
   "metadata": {},
   "outputs": [],
   "source": [
    "flight_booking_prompt = ChatPromptTemplate.from_messages(\n",
    "    [\n",
    "        (\n",
    "            \"system\",\n",
    "            \"You are a specialized assistant for handling flight updates. \"\n",
    "            \" The primary assistant delegates work to you whenever the user needs help updating their bookings. \"\n",
    "            \"Confirm the updated flight details with the customer and inform them of any additional fees. \"\n",
    "            \" When searching, be persistent. Expand your query bounds if the first search returns no results. \"\n",
    "            \"If you need more information or the customer changes their mind, escalate the task back to the main assistant.\"\n",
    "            \" Remember that a booking isn't completed until after the relevant tool has successfully been used.\"\n",
    "            \"\\n\\nCurrent user flight information:\\n\\n{user_info}\\n\"\n",
    "            \"\\nCurrent time: {time}.\"\n",
    "            \"\\n\\nIf the user needs help, and none of your tools are appropriate for it, then\"\n",
    "            ' \"CompleteOrEscalate\" the dialog to the host assistant. Do not waste the user\\'s time. Do not make up invalid tools or functions.',\n",
    "        ),\n",
    "        (\"placeholder\", \"{messages}\"),\n",
    "    ]\n",
    ").partial(time=datetime.now())\n",
    "\n",
    "update_flight_safe_tools = [search_flights]\n",
    "update_flight_sensitive_tools = [update_ticket_to_new_flight, cancel_ticket]\n",
    "update_flight_tools = update_flight_safe_tools + update_flight_sensitive_tools\n",
    "update_flight_runnable = flight_booking_prompt | llm.bind_tools(\n",
    "    update_flight_tools + [CompleteOrEscalate]\n",
    ")\n",
    "\n",
    "# Hotel Booking Assistant\n",
    "book_hotel_prompt = ChatPromptTemplate.from_messages(\n",
    "    [\n",
    "        (\n",
    "            \"system\",\n",
    "            \"You are a specialized assistant for handling hotel bookings. \"\n",
    "            \"The primary assistant delegates work to you whenever the user needs help booking a hotel. \"\n",
    "            \"Search for available hotels based on the user's preferences and confirm the booking details with the customer. \"\n",
    "            \" When searching, be persistent. Expand your query bounds if the first search returns no results. \"\n",
    "            \"If you need more information or the customer changes their mind, escalate the task back to the main assistant.\"\n",
    "            \" Remember that a booking isn't completed until after the relevant tool has successfully been used.\"\n",
    "            \"\\nCurrent time: {time}.\"\n",
    "            '\\n\\nIf the user needs help, and none of your tools are appropriate for it, then \"CompleteOrEscalate\" the dialog to the host assistant.'\n",
    "            \" Do not waste the user's time. Do not make up invalid tools or functions.\"\n",
    "            \"\\n\\nSome examples for which you should CompleteOrEscalate:\\n\"\n",
    "            \" - 'what's the weather like this time of year?'\\n\"\n",
    "            \" - 'nevermind i think I'll book separately'\\n\"\n",
    "            \" - 'i need to figure out transportation while i'm there'\\n\"\n",
    "            \" - 'Oh wait i haven't booked my flight yet i'll do that first'\\n\"\n",
    "            \" - 'Hotel booking confirmed'\",\n",
    "        ),\n",
    "        (\"placeholder\", \"{messages}\"),\n",
    "    ]\n",
    ").partial(time=datetime.now())\n",
    "\n",
    "book_hotel_safe_tools = [search_hotels]\n",
    "book_hotel_sensitive_tools = [book_hotel, update_hotel, cancel_hotel]\n",
    "book_hotel_tools = book_hotel_safe_tools + book_hotel_sensitive_tools\n",
    "book_hotel_runnable = book_hotel_prompt | llm.bind_tools(\n",
    "    book_hotel_tools + [CompleteOrEscalate]\n",
    ")\n",
    "\n",
    "# Car Rental Assistant\n",
    "book_car_rental_prompt = ChatPromptTemplate.from_messages(\n",
    "    [\n",
    "        (\n",
    "            \"system\",\n",
    "            \"You are a specialized assistant for handling car rental bookings. \"\n",
    "            \"The primary assistant delegates work to you whenever the user needs help booking a car rental. \"\n",
    "            \"Search for available car rentals based on the user's preferences and confirm the booking details with the customer. \"\n",
    "            \" When searching, be persistent. Expand your query bounds if the first search returns no results. \"\n",
    "            \"If you need more information or the customer changes their mind, escalate the task back to the main assistant.\"\n",
    "            \" Remember that a booking isn't completed until after the relevant tool has successfully been used.\"\n",
    "            \"\\nCurrent time: {time}.\"\n",
    "            \"\\n\\nIf the user needs help, and none of your tools are appropriate for it, then \"\n",
    "            '\"CompleteOrEscalate\" the dialog to the host assistant. Do not waste the user\\'s time. Do not make up invalid tools or functions.'\n",
    "            \"\\n\\nSome examples for which you should CompleteOrEscalate:\\n\"\n",
    "            \" - 'what's the weather like this time of year?'\\n\"\n",
    "            \" - 'What flights are available?'\\n\"\n",
    "            \" - 'nevermind i think I'll book separately'\\n\"\n",
    "            \" - 'Oh wait i haven't booked my flight yet i'll do that first'\\n\"\n",
    "            \" - 'Car rental booking confirmed'\",\n",
    "        ),\n",
    "        (\"placeholder\", \"{messages}\"),\n",
    "    ]\n",
    ").partial(time=datetime.now())\n",
    "\n",
    "book_car_rental_safe_tools = [search_car_rentals]\n",
    "book_car_rental_sensitive_tools = [\n",
    "    book_car_rental,\n",
    "    update_car_rental,\n",
    "    cancel_car_rental,\n",
    "]\n",
    "book_car_rental_tools = book_car_rental_safe_tools + book_car_rental_sensitive_tools\n",
    "book_car_rental_runnable = book_car_rental_prompt | llm.bind_tools(\n",
    "    book_car_rental_tools + [CompleteOrEscalate]\n",
    ")\n",
    "\n",
    "# Excursion Assistant\n",
    "\n",
    "book_excursion_prompt = ChatPromptTemplate.from_messages(\n",
    "    [\n",
    "        (\n",
    "            \"system\",\n",
    "            \"You are a specialized assistant for handling trip recommendations. \"\n",
    "            \"The primary assistant delegates work to you whenever the user needs help booking a recommended trip. \"\n",
    "            \"Search for available trip recommendations based on the user's preferences and confirm the booking details with the customer. \"\n",
    "            \"If you need more information or the customer changes their mind, escalate the task back to the main assistant.\"\n",
    "            \" When searching, be persistent. Expand your query bounds if the first search returns no results. \"\n",
    "            \" Remember that a booking isn't completed until after the relevant tool has successfully been used.\"\n",
    "            \"\\nCurrent time: {time}.\"\n",
    "            '\\n\\nIf the user needs help, and none of your tools are appropriate for it, then \"CompleteOrEscalate\" the dialog to the host assistant. Do not waste the user\\'s time. Do not make up invalid tools or functions.'\n",
    "            \"\\n\\nSome examples for which you should CompleteOrEscalate:\\n\"\n",
    "            \" - 'nevermind i think I'll book separately'\\n\"\n",
    "            \" - 'i need to figure out transportation while i'm there'\\n\"\n",
    "            \" - 'Oh wait i haven't booked my flight yet i'll do that first'\\n\"\n",
    "            \" - 'Excursion booking confirmed!'\",\n",
    "        ),\n",
    "        (\"placeholder\", \"{messages}\"),\n",
    "    ]\n",
    ").partial(time=datetime.now())\n",
    "\n",
    "book_excursion_safe_tools = [search_trip_recommendations]\n",
    "book_excursion_sensitive_tools = [book_excursion, update_excursion, cancel_excursion]\n",
    "book_excursion_tools = book_excursion_safe_tools + book_excursion_sensitive_tools\n",
    "book_excursion_runnable = book_excursion_prompt | llm.bind_tools(\n",
    "    book_excursion_tools + [CompleteOrEscalate]\n",
    ")\n",
    "\n",
    "\n",
    "# Primary Assistant\n",
    "class ToFlightBookingAssistant(BaseModel):\n",
    "    \"\"\"Transfers work to a specialized assistant to handle flight updates and cancellations.\"\"\"\n",
    "\n",
    "    request: str = Field(\n",
    "        description=\"Any necessary followup questions the update flight assistant should clarify before proceeding.\"\n",
    "    )\n",
    "\n",
    "\n",
    "class ToBookCarRental(BaseModel):\n",
    "    \"\"\"Transfers work to a specialized assistant to handle car rental bookings.\"\"\"\n",
    "\n",
    "    location: str = Field(\n",
    "        description=\"The location where the user wants to rent a car.\"\n",
    "    )\n",
    "    start_date: str = Field(description=\"The start date of the car rental.\")\n",
    "    end_date: str = Field(description=\"The end date of the car rental.\")\n",
    "    request: str = Field(\n",
    "        description=\"Any additional information or requests from the user regarding the car rental.\"\n",
    "    )\n",
    "\n",
    "    class Config:\n",
    "        schema_extra = {\n",
    "            \"example\": {\n",
    "                \"location\": \"Basel\",\n",
    "                \"start_date\": \"2023-07-01\",\n",
    "                \"end_date\": \"2023-07-05\",\n",
    "                \"request\": \"I need a compact car with automatic transmission.\",\n",
    "            }\n",
    "        }\n",
    "\n",
    "\n",
    "class ToHotelBookingAssistant(BaseModel):\n",
    "    \"\"\"Transfer work to a specialized assistant to handle hotel bookings.\"\"\"\n",
    "\n",
    "    location: str = Field(\n",
    "        description=\"The location where the user wants to book a hotel.\"\n",
    "    )\n",
    "    checkin_date: str = Field(description=\"The check-in date for the hotel.\")\n",
    "    checkout_date: str = Field(description=\"The check-out date for the hotel.\")\n",
    "    request: str = Field(\n",
    "        description=\"Any additional information or requests from the user regarding the hotel booking.\"\n",
    "    )\n",
    "\n",
    "    class Config:\n",
    "        schema_extra = {\n",
    "            \"example\": {\n",
    "                \"location\": \"Zurich\",\n",
    "                \"checkin_date\": \"2023-08-15\",\n",
    "                \"checkout_date\": \"2023-08-20\",\n",
    "                \"request\": \"I prefer a hotel near the city center with a room that has a view.\",\n",
    "            }\n",
    "        }\n",
    "\n",
    "\n",
    "class ToBookExcursion(BaseModel):\n",
    "    \"\"\"Transfers work to a specialized assistant to handle trip recommendation and other excursion bookings.\"\"\"\n",
    "\n",
    "    location: str = Field(\n",
    "        description=\"The location where the user wants to book a recommended trip.\"\n",
    "    )\n",
    "    request: str = Field(\n",
    "        description=\"Any additional information or requests from the user regarding the trip recommendation.\"\n",
    "    )\n",
    "\n",
    "    class Config:\n",
    "        schema_extra = {\n",
    "            \"example\": {\n",
    "                \"location\": \"Lucerne\",\n",
    "                \"request\": \"The user is interested in outdoor activities and scenic views.\",\n",
    "            }\n",
    "        }\n",
    "\n",
    "\n",
    "# The top-level assistant performs general Q&A and delegates specialized tasks to other assistants.\n",
    "# The task delegation is a simple form of semantic routing / does simple intent detection\n",
    "# llm = ChatAnthropic(model=\"claude-3-haiku-20240307\")\n",
    "llm = ChatAnthropic(model=\"claude-3-sonnet-20240229\", temperature=1)\n",
    "\n",
    "primary_assistant_prompt = ChatPromptTemplate.from_messages(\n",
    "    [\n",
    "        (\n",
    "            \"system\",\n",
    "            \"You are a helpful customer support assistant for Swiss Airlines. \"\n",
    "            \"Your primary role is to search for flight information and company policies to answer customer queries. \"\n",
    "            \"If a customer requests to update or cancel a flight, book a car rental, book a hotel, or get trip recommendations, \"\n",
    "            \"delegate the task to the appropriate specialized assistant by invoking the corresponding tool. You are not able to make these types of changes yourself.\"\n",
    "            \" Only the specialized assistants are given permission to do this for the user.\"\n",
    "            \"The user is not aware of the different specialized assistants, so do not mention them; just quietly delegate through function calls. \"\n",
    "            \"Provide detailed information to the customer, and always double-check the database before concluding that information is unavailable. \"\n",
    "            \" When searching, be persistent. Expand your query bounds if the first search returns no results. \"\n",
    "            \" If a search comes up empty, expand your search before giving up.\"\n",
    "            \"\\n\\nCurrent user flight information:\\n\\n{user_info}\\n\"\n",
    "            \"\\nCurrent time: {time}.\",\n",
    "        ),\n",
    "        (\"placeholder\", \"{messages}\"),\n",
    "    ]\n",
    ").partial(time=datetime.now())\n",
    "primary_assistant_tools = [\n",
    "    TavilySearchResults(max_results=1),\n",
    "    search_flights,\n",
    "    lookup_policy,\n",
    "]\n",
    "assistant_runnable = primary_assistant_prompt | llm.bind_tools(\n",
    "    primary_assistant_tools\n",
    "    + [\n",
    "        ToFlightBookingAssistant,\n",
    "        ToBookCarRental,\n",
    "        ToHotelBookingAssistant,\n",
    "        ToBookExcursion,\n",
    "    ]\n",
    ")"
   ]
  },
  {
   "cell_type": "code",
   "execution_count": null,
   "id": "7b6e69b3-4917-4cda-8ad9-5f4b6862becb",
   "metadata": {},
   "outputs": [],
   "source": []
  },
  {
   "cell_type": "code",
   "execution_count": null,
   "id": "40b9e3e5-5d94-423c-8372-c78921c3cc76",
   "metadata": {},
   "outputs": [],
   "source": []
  },
  {
   "cell_type": "code",
   "execution_count": null,
   "id": "ea18ce80-76ab-44b8-945e-5af7819bafa3",
   "metadata": {},
   "outputs": [],
   "source": []
  },
  {
   "cell_type": "code",
   "execution_count": null,
   "id": "0794644d-ce52-4083-aaa1-b2895c71eeec",
   "metadata": {},
   "outputs": [],
   "source": []
  },
  {
   "cell_type": "code",
   "execution_count": null,
   "id": "cd801bb2-88c7-4813-ba6a-88adeb6b6213",
   "metadata": {},
   "outputs": [],
   "source": [
    "from typing import Annotated, Literal, Optional\n",
    "\n",
    "from typing_extensions import TypedDict\n",
    "\n",
    "from langgraph.graph.message import AnyMessage, add_messages\n",
    "\n",
    "\n",
    "def update_dialog_stack(left: list[str], right: Optional[str]) -> list[str]:\n",
    "    \"\"\"Push or pop the state.\"\"\"\n",
    "    if right is None:\n",
    "        return left\n",
    "    if right == \"pop\":\n",
    "        return left[:-1]\n",
    "    return left + [right]\n",
    "\n",
    "\n",
    "class State(TypedDict):\n",
    "    messages: Annotated[list[AnyMessage], add_messages]\n",
    "    user_info: str\n",
    "    dialog_state: Annotated[\n",
    "        list[\n",
    "            Literal[\n",
    "                \"assistant\",\n",
    "                \"update_flight\",\n",
    "                \"book_car_rental\",\n",
    "                \"book_hotel\",\n",
    "                \"book_excursion\",\n",
    "            ]\n",
    "        ],\n",
    "        update_dialog_stack,\n",
    "    ]"
   ]
  },
  {
   "cell_type": "code",
   "execution_count": null,
   "id": "53fdab9e-298b-4abe-a55e-47d42f8c4ea2",
   "metadata": {},
   "outputs": [],
   "source": []
  },
  {
   "cell_type": "code",
   "execution_count": null,
   "id": "c3dd8ac4-7757-47fb-9705-98fdd92548cc",
   "metadata": {},
   "outputs": [],
   "source": []
  },
  {
   "cell_type": "code",
   "execution_count": null,
   "id": "4f106357-df52-4d62-b89a-f73db75b5bff",
   "metadata": {},
   "outputs": [],
   "source": []
  },
  {
   "cell_type": "code",
   "execution_count": null,
   "id": "32234b06-ccf6-4651-a14d-e1406e1b8c02",
   "metadata": {},
   "outputs": [],
   "source": []
  },
  {
   "cell_type": "code",
   "execution_count": null,
   "id": "038948e7-0fa9-4f9b-b4f4-9dfa15204b9e",
   "metadata": {},
   "outputs": [],
   "source": []
  },
  {
   "cell_type": "code",
   "execution_count": null,
   "id": "a6f316fd-fd2a-4f5e-b828-96a9192317f1",
   "metadata": {},
   "outputs": [],
   "source": []
  },
  {
   "cell_type": "code",
   "execution_count": null,
   "id": "acdae8bb-6b4c-4f5c-b172-85cd1ce6007f",
   "metadata": {},
   "outputs": [],
   "source": []
  },
  {
   "cell_type": "code",
   "execution_count": null,
   "id": "5e70554d-9e0a-43bf-9cf3-60e89c056849",
   "metadata": {},
   "outputs": [],
   "source": []
  },
  {
   "cell_type": "code",
   "execution_count": null,
   "id": "4c30ac43-1f7e-46c2-b0f7-14afec06f616",
   "metadata": {},
   "outputs": [],
   "source": []
  },
  {
   "cell_type": "code",
   "execution_count": null,
   "id": "1b78e46d-8cd2-48ec-ab6f-78804b42fe51",
   "metadata": {},
   "outputs": [],
   "source": []
  },
  {
   "cell_type": "code",
   "execution_count": 72,
   "id": "a784cf50-b30b-46dc-95cb-9a58ce5bb228",
   "metadata": {},
   "outputs": [],
   "source": [
    "from langchain_openai import AzureChatOpenAI\n",
    "from langchain_core.prompts import ChatPromptTemplate, MessagesPlaceholder\n",
    "from langchain_core.messages import HumanMessage\n",
    "from langchain_core.messages import AIMessage\n",
    "from langchain_core.chat_history import BaseChatMessageHistory\n",
    "from langchain_core.pydantic_v1 import BaseModel, Field\n",
    "from typing import List\n",
    "from langchain_core.messages import BaseMessage, AIMessage"
   ]
  },
  {
   "cell_type": "code",
   "execution_count": 73,
   "id": "9e951773-e524-46fc-8585-70fa3f545d75",
   "metadata": {},
   "outputs": [],
   "source": []
  },
  {
   "cell_type": "code",
   "execution_count": 74,
   "id": "a799be40-ac45-4b60-8afa-beb5bb8fa6c3",
   "metadata": {},
   "outputs": [],
   "source": [
    "from langchain.chains.openai_tools import create_extraction_chain_pydantic\n",
    "from langchain_core.pydantic_v1 import BaseModel, Field\n",
    "from langchain_openai import ChatOpenAI\n",
    "\n",
    "\n",
    "\n",
    "class Table(BaseModel):\n",
    "    \"\"\"Table in SQL database.\"\"\"\n",
    "\n",
    "    name: str = Field(description=\"Name of table in SQL database.\")\n"
   ]
  },
  {
   "cell_type": "code",
   "execution_count": 75,
   "id": "cd7c697a-9522-4003-82ca-e84a30a99883",
   "metadata": {},
   "outputs": [
    {
     "name": "stderr",
     "output_type": "stream",
     "text": [
      "/root/mambaforge/envs/python310_chatbot/lib/python3.10/site-packages/langchain_core/_api/deprecation.py:119: LangChainDeprecationWarning: LangChain has introduced a method called `with_structured_output` thatis available on ChatModels capable of tool calling.You can read more about the method here: https://python.langchain.com/docs/modules/model_io/chat/structured_output/Please follow our extraction use case documentation for more guidelineson how to do information extraction with LLMs.https://python.langchain.com/docs/use_cases/extraction/.with_structured_output does not currently support a list of pydantic schemas. If this is a blocker or if you notice other issues, please provide feedback here:https://github.com/langchain-ai/langchain/discussions/18154\n",
      "  warn_deprecated(\n"
     ]
    },
    {
     "data": {
      "text/plain": [
       "[Table(name='Music')]"
      ]
     },
     "execution_count": 75,
     "metadata": {},
     "output_type": "execute_result"
    }
   ],
   "source": [
    "system = \"\"\"Return the names of the SQL tables that are relevant to the user question. \\\n",
    "The tables are:\n",
    "\n",
    "Music\n",
    "Business\"\"\"\n",
    "category_chain = create_extraction_chain_pydantic(Table, llm, system_message=system)\n",
    "category_chain.invoke({\"input\": \"What are all the genres of Alanis Morisette songs\"})"
   ]
  },
  {
   "cell_type": "code",
   "execution_count": 76,
   "id": "0c4d9f12-3f1c-4872-a31d-7960265a19dd",
   "metadata": {},
   "outputs": [
    {
     "data": {
      "text/plain": [
       "['Album', 'Artist', 'Genre', 'MediaType', 'Playlist', 'PlaylistTrack', 'Track']"
      ]
     },
     "execution_count": 76,
     "metadata": {},
     "output_type": "execute_result"
    }
   ],
   "source": [
    "from typing import List\n",
    "\n",
    "\n",
    "def get_tables(categories: List[Table]) -> List[str]:\n",
    "    tables = []\n",
    "    for category in categories:\n",
    "        if category.name == \"Music\":\n",
    "            tables.extend(\n",
    "                [\n",
    "                    \"Album\",\n",
    "                    \"Artist\",\n",
    "                    \"Genre\",\n",
    "                    \"MediaType\",\n",
    "                    \"Playlist\",\n",
    "                    \"PlaylistTrack\",\n",
    "                    \"Track\",\n",
    "                ]\n",
    "            )\n",
    "        elif category.name == \"Business\":\n",
    "            tables.extend([\"Customer\", \"Employee\", \"Invoice\", \"InvoiceLine\"])\n",
    "    return tables\n",
    "\n",
    "\n",
    "table_chain = category_chain | get_tables  # noqa\n",
    "table_chain.invoke({\"input\": \"What are all the genres of Alanis Morisette songs\"})"
   ]
  },
  {
   "cell_type": "code",
   "execution_count": 78,
   "id": "e469023e-8a7d-4152-86de-654e8fd86ba6",
   "metadata": {},
   "outputs": [],
   "source": [
    "from operator import itemgetter\n",
    "\n",
    "from langchain.chains import create_sql_query_chain\n",
    "from langchain_core.runnables import RunnablePassthrough\n",
    "# Convert \"question\" key to the \"input\" key expected by current table_chain.\n",
    "table_chain = {\"input\": itemgetter(\"question\")} | table_chain\n",
    "# Set table_names_to_use using table_chain.\n",
    "full_chain = RunnablePassthrough.assign(table_names_to_use=table_chain)"
   ]
  },
  {
   "cell_type": "code",
   "execution_count": 80,
   "id": "4462e249-4f0c-4c2e-923a-b8fae577c73d",
   "metadata": {},
   "outputs": [
    {
     "data": {
      "text/plain": [
       "{'question': 'What are all the genres of Alanis Morisette songs',\n",
       " 'table_names_to_use': ['Album',\n",
       "  'Artist',\n",
       "  'Genre',\n",
       "  'MediaType',\n",
       "  'Playlist',\n",
       "  'PlaylistTrack',\n",
       "  'Track']}"
      ]
     },
     "execution_count": 80,
     "metadata": {},
     "output_type": "execute_result"
    }
   ],
   "source": [
    "full_chain.invoke({\"question\": \"What are all the genres of Alanis Morisette songs\"})"
   ]
  },
  {
   "cell_type": "code",
   "execution_count": 83,
   "id": "7b1dfbc2-1c57-4d2b-b9ae-a637c9cddbd9",
   "metadata": {},
   "outputs": [],
   "source": [
    "from langchain_core.prompts.prompt import PromptTemplate"
   ]
  },
  {
   "cell_type": "code",
   "execution_count": null,
   "id": "5b6e55fb-31d7-4209-8b00-eaa70a3758d1",
   "metadata": {},
   "outputs": [],
   "source": [
    "    def get_table_info(self, table_names: Optional[List[str]] = None) -> str:\n",
    "        \"\"\"Get information about specified tables.\n",
    "\n",
    "        Follows best practices as specified in: Rajkumar et al, 2022\n",
    "        (https://arxiv.org/abs/2204.00498)\n",
    "\n",
    "        If `sample_rows_in_table_info`, the specified number of sample rows will be\n",
    "        appended to each table description. This can increase performance as\n",
    "        demonstrated in the paper.\n",
    "        \"\"\"\n",
    "        all_table_names = self.get_usable_table_names()\n",
    "        if table_names is not None:\n",
    "            missing_tables = set(table_names).difference(all_table_names)\n",
    "            if missing_tables:\n",
    "                raise ValueError(f\"table_names {missing_tables} not found in database\")\n",
    "            all_table_names = table_names\n",
    "\n",
    "        metadata_table_names = [tbl.name for tbl in self._metadata.sorted_tables]\n",
    "        to_reflect = set(all_table_names) - set(metadata_table_names)\n",
    "        if to_reflect:\n",
    "            self._metadata.reflect(\n",
    "                views=self._view_support,\n",
    "                bind=self._engine,\n",
    "                only=list(to_reflect),\n",
    "                schema=self._schema,\n",
    "            )\n",
    "\n",
    "        meta_tables = [\n",
    "            tbl\n",
    "            for tbl in self._metadata.sorted_tables\n",
    "            if tbl.name in set(all_table_names)\n",
    "            and not (self.dialect == \"sqlite\" and tbl.name.startswith(\"sqlite_\"))\n",
    "        ]\n",
    "\n",
    "        tables = []\n",
    "        for table in meta_tables:\n",
    "            if self._custom_table_info and table.name in self._custom_table_info:\n",
    "                tables.append(self._custom_table_info[table.name])\n",
    "                continue\n",
    "\n",
    "            # Ignore JSON datatyped columns\n",
    "            for k, v in table.columns.items():\n",
    "                if type(v.type) is NullType:\n",
    "                    table._columns.remove(v)\n",
    "\n",
    "            # add create table command\n",
    "            create_table = str(CreateTable(table).compile(self._engine))\n",
    "            table_info = f\"{create_table.rstrip()}\"\n",
    "            has_extra_info = (\n",
    "                self._indexes_in_table_info or self._sample_rows_in_table_info\n",
    "            )\n",
    "            if has_extra_info:\n",
    "                table_info += \"\\n\\n/*\"\n",
    "            if self._indexes_in_table_info:\n",
    "                table_info += f\"\\n{self._get_table_indexes(table)}\\n\"\n",
    "            if self._sample_rows_in_table_info:\n",
    "                table_info += f\"\\n{self._get_sample_rows(table)}\\n\"\n",
    "            if has_extra_info:\n",
    "                table_info += \"*/\"\n",
    "            tables.append(table_info)\n",
    "        tables.sort()\n",
    "        final_str = \"\\n\\n\".join(tables)\n",
    "        return final_str"
   ]
  },
  {
   "cell_type": "code",
   "execution_count": null,
   "id": "f2c5c534-8e8f-43ef-acf7-49de9069e3a9",
   "metadata": {},
   "outputs": [],
   "source": []
  },
  {
   "cell_type": "code",
   "execution_count": null,
   "id": "f292a22b-69d4-4e1b-ac2b-790fa4970c6c",
   "metadata": {},
   "outputs": [],
   "source": []
  },
  {
   "cell_type": "code",
   "execution_count": null,
   "id": "c3ef4df9-8829-425b-8c77-9810a48b3e80",
   "metadata": {},
   "outputs": [],
   "source": []
  },
  {
   "cell_type": "code",
   "execution_count": 101,
   "id": "acb5ffa1-b7bb-43d6-8bc3-c63f0831981e",
   "metadata": {},
   "outputs": [],
   "source": [
    "_sqlite_prompt = \"\"\"You are a SQLite expert. Given an input question, first create a syntactically correct SQLite query to run, then look at the results of the query and return the answer to the input question.\n",
    "Unless the user specifies in the question a specific number of examples to obtain, query for at most {top_k} results using the LIMIT clause as per SQLite. You can order the results to return the most informative data in the database.\n",
    "Never query for all columns from a table. You must query only the columns from the candidate list [{col_list}] and the selection must be based on the meaning of input question. Wrap each column name in double quotes (\") to denote them as delimited identifiers.\n",
    "Be careful to not query for columns that do not exist in the candidate list. Also, pay attention to which column is in which table.\n",
    "Pay attention to use date('now') function to get the current date, if the question involves \"today\".\n",
    "\n",
    "Use the following format:\n",
    "\n",
    "Question: Question here\n",
    "SQLQuery: SQL Query to run\n",
    "SQLResult: Result of the SQLQuery\n",
    "Answer: Final answer here\n",
    "\n",
    "\"\"\"\n",
    "\n",
    "PROMPT_SUFFIX = \"\"\"Only use the following tables:\n",
    "{table_info}\n",
    "\n",
    "Question: {input}\"\"\"\n",
    "\n",
    "SQLITE_PROMPT = PromptTemplate(\n",
    "    input_variables=[\"input\", \"table_info\", \"top_k\", \"col_list\"],\n",
    "    template=_sqlite_prompt + PROMPT_SUFFIX,\n",
    ")"
   ]
  },
  {
   "cell_type": "code",
   "execution_count": 103,
   "id": "b3b2bfad-b0b4-4c80-a927-fa4ab9db64e5",
   "metadata": {},
   "outputs": [
    {
     "ename": "NameError",
     "evalue": "name 'db' is not defined",
     "output_type": "error",
     "traceback": [
      "\u001b[0;31m---------------------------------------------------------------------------\u001b[0m",
      "\u001b[0;31mNameError\u001b[0m                                 Traceback (most recent call last)",
      "Cell \u001b[0;32mIn[103], line 1\u001b[0m\n\u001b[0;32m----> 1\u001b[0m query_chain \u001b[38;5;241m=\u001b[39m create_sql_query_chain(llm, \u001b[43mdb\u001b[49m, prompt\u001b[38;5;241m=\u001b[39mSQLITE_PROMPT)\n",
      "\u001b[0;31mNameError\u001b[0m: name 'db' is not defined"
     ]
    }
   ],
   "source": [
    "query_chain = create_sql_query_chain(llm, db, prompt=SQLITE_PROMPT)"
   ]
  },
  {
   "cell_type": "code",
   "execution_count": null,
   "id": "6eff6001-8c69-4b58-8290-b85e06e036d1",
   "metadata": {},
   "outputs": [],
   "source": []
  },
  {
   "cell_type": "code",
   "execution_count": null,
   "id": "5d4922b8-942c-4cb5-803b-6b1821c27241",
   "metadata": {},
   "outputs": [],
   "source": []
  },
  {
   "cell_type": "code",
   "execution_count": null,
   "id": "136c5d4c-0216-4895-92c3-3205ab833e32",
   "metadata": {},
   "outputs": [],
   "source": []
  },
  {
   "cell_type": "code",
   "execution_count": 2,
   "id": "c511f846-0e71-4df8-ab09-d590051670d9",
   "metadata": {},
   "outputs": [],
   "source": [
    "\n",
    "# 创建AzureChatOpenAI实例\n",
    "chat = AzureChatOpenAI(\n",
    "    api_version=\"2024-02-15-preview\",\n",
    "    azure_endpoint=\"https://csagent.openai.azure.com/\",\n",
    "    api_key=\"346ac6661e314a9d8b91b6a99202ba42\",\n",
    "    deployment_name=\"gpt-4-8k\",\n",
    ")"
   ]
  },
  {
   "cell_type": "code",
   "execution_count": 54,
   "id": "f1afed64-2c1a-4343-b4aa-52f776f02fc0",
   "metadata": {},
   "outputs": [],
   "source": [
    "class InMemoryHistory(BaseChatMessageHistory, BaseModel):\n",
    "    \"\"\"In memory implementation of chat message history.\"\"\"\n",
    "\n",
    "    messages: List[BaseMessage] = Field(default_factory=list)\n",
    "\n",
    "    def add_messages(self, messages: List[BaseMessage]) -> None:\n",
    "        \"\"\"Add a list of messages to the store\"\"\"\n",
    "        self.messages.extend(messages)\n",
    "\n",
    "    def clear(self) -> None:\n",
    "        self.messages = []"
   ]
  },
  {
   "cell_type": "code",
   "execution_count": 39,
   "id": "8e02967d-b083-4853-a1b3-27c4afaec2c8",
   "metadata": {},
   "outputs": [],
   "source": [
    "prompt = ChatPromptTemplate.from_messages(\n",
    "    [\n",
    "        (\n",
    "            \"system\",\n",
    "            \"You are a helpful assistant. Answer all questions to the best of your ability.\",\n",
    "        ),\n",
    "        MessagesPlaceholder(variable_name=\"chat_history\"),\n",
    "        (\"human\", \"{input}\"),\n",
    "    ]\n",
    ")\n",
    "\n",
    "chain = prompt | chat"
   ]
  },
  {
   "cell_type": "code",
   "execution_count": 57,
   "id": "ce8d867f-dc80-45b0-9217-6af56226194a",
   "metadata": {},
   "outputs": [],
   "source": [
    "from langchain_core.runnables.history import RunnableWithMessageHistory\n",
    "\n",
    "demo_ephemeral_chat_history_for_chain = ChatMessageHistory()\n"
   ]
  },
  {
   "cell_type": "code",
   "execution_count": 58,
   "id": "3c053108-3dd5-4378-8cf0-e33bb4de4887",
   "metadata": {},
   "outputs": [
    {
     "data": {
      "text/plain": [
       "[]"
      ]
     },
     "execution_count": 58,
     "metadata": {},
     "output_type": "execute_result"
    }
   ],
   "source": [
    "demo_ephemeral_chat_history_for_chain.messages"
   ]
  },
  {
   "cell_type": "code",
   "execution_count": 59,
   "id": "761b2d72-50b2-46e7-8e15-5646c8240409",
   "metadata": {},
   "outputs": [],
   "source": [
    "store = {}"
   ]
  },
  {
   "cell_type": "code",
   "execution_count": 60,
   "id": "403ded2a-2a44-43d5-81b6-6e63597ad1d8",
   "metadata": {},
   "outputs": [],
   "source": [
    "def get_by_session_id(session_id):\n",
    "    if session_id not in store:\n",
    "        store[session_id] = InMemoryHistory()\n",
    "    return store[session_id]"
   ]
  },
  {
   "cell_type": "code",
   "execution_count": 63,
   "id": "aa4142f9-22db-4eb8-a7c9-e275dd8fb98a",
   "metadata": {},
   "outputs": [],
   "source": [
    "chain_with_message_history = RunnableWithMessageHistory(\n",
    "    chain,\n",
    "    get_by_session_id,\n",
    "    input_messages_key=\"input\",\n",
    "    history_messages_key=\"chat_history\",\n",
    ")"
   ]
  },
  {
   "cell_type": "code",
   "execution_count": 64,
   "id": "83ece750-eba2-4c97-9fcc-7e5f80f23794",
   "metadata": {},
   "outputs": [
    {
     "data": {
      "text/plain": [
       "AIMessage(content=\"J'aime la programmation.\", response_metadata={'token_usage': {'completion_tokens': 7, 'prompt_tokens': 39, 'total_tokens': 46}, 'model_name': 'gpt-4', 'system_fingerprint': None, 'prompt_filter_results': [{'prompt_index': 0, 'content_filter_results': {'hate': {'filtered': False, 'severity': 'safe'}, 'self_harm': {'filtered': False, 'severity': 'safe'}, 'sexual': {'filtered': False, 'severity': 'safe'}, 'violence': {'filtered': False, 'severity': 'safe'}}}], 'finish_reason': 'stop', 'logprobs': None, 'content_filter_results': {'hate': {'filtered': False, 'severity': 'safe'}, 'self_harm': {'filtered': False, 'severity': 'safe'}, 'sexual': {'filtered': False, 'severity': 'safe'}, 'violence': {'filtered': False, 'severity': 'safe'}}}, id='run-8e929a4e-9cb6-4f0c-b297-209f0bf6450f-0', usage_metadata={'input_tokens': 39, 'output_tokens': 7, 'total_tokens': 46})"
      ]
     },
     "execution_count": 64,
     "metadata": {},
     "output_type": "execute_result"
    }
   ],
   "source": [
    "chain_with_message_history.invoke(\n",
    "    {\"input\": \"Translate this sentence from English to French: I love programming.\"},\n",
    "    {\"configurable\": {\"session_id\": \"1\"}},\n",
    ")"
   ]
  },
  {
   "cell_type": "code",
   "execution_count": 67,
   "id": "ae2feca6-4446-4781-87a0-4d0643627fe0",
   "metadata": {},
   "outputs": [
    {
     "data": {
      "text/plain": [
       "[HumanMessage(content='Translate this sentence from English to French: I love programming.'),\n",
       " AIMessage(content=\"J'aime la programmation.\", response_metadata={'token_usage': {'completion_tokens': 7, 'prompt_tokens': 39, 'total_tokens': 46}, 'model_name': 'gpt-4', 'system_fingerprint': None, 'prompt_filter_results': [{'prompt_index': 0, 'content_filter_results': {'hate': {'filtered': False, 'severity': 'safe'}, 'self_harm': {'filtered': False, 'severity': 'safe'}, 'sexual': {'filtered': False, 'severity': 'safe'}, 'violence': {'filtered': False, 'severity': 'safe'}}}], 'finish_reason': 'stop', 'logprobs': None, 'content_filter_results': {'hate': {'filtered': False, 'severity': 'safe'}, 'self_harm': {'filtered': False, 'severity': 'safe'}, 'sexual': {'filtered': False, 'severity': 'safe'}, 'violence': {'filtered': False, 'severity': 'safe'}}}, id='run-8e929a4e-9cb6-4f0c-b297-209f0bf6450f-0', usage_metadata={'input_tokens': 39, 'output_tokens': 7, 'total_tokens': 46})]"
      ]
     },
     "execution_count": 67,
     "metadata": {},
     "output_type": "execute_result"
    }
   ],
   "source": [
    "store[\"1\"].messages"
   ]
  },
  {
   "cell_type": "code",
   "execution_count": 68,
   "id": "ff0fced2-7c34-4b19-bc49-619030e0db74",
   "metadata": {},
   "outputs": [
    {
     "data": {
      "text/plain": [
       "AIMessage(content='You asked me to translate the sentence \"I love programming\" from English to French.', response_metadata={'token_usage': {'completion_tokens': 17, 'prompt_tokens': 61, 'total_tokens': 78}, 'model_name': 'gpt-4', 'system_fingerprint': None, 'prompt_filter_results': [{'prompt_index': 0, 'content_filter_results': {'hate': {'filtered': False, 'severity': 'safe'}, 'self_harm': {'filtered': False, 'severity': 'safe'}, 'sexual': {'filtered': False, 'severity': 'safe'}, 'violence': {'filtered': False, 'severity': 'safe'}}}], 'finish_reason': 'stop', 'logprobs': None, 'content_filter_results': {'hate': {'filtered': False, 'severity': 'safe'}, 'self_harm': {'filtered': False, 'severity': 'safe'}, 'sexual': {'filtered': False, 'severity': 'safe'}, 'violence': {'filtered': False, 'severity': 'safe'}}}, id='run-5ffde32d-86d0-486b-a05b-f7f235ac2de2-0', usage_metadata={'input_tokens': 61, 'output_tokens': 17, 'total_tokens': 78})"
      ]
     },
     "execution_count": 68,
     "metadata": {},
     "output_type": "execute_result"
    }
   ],
   "source": [
    "chain_with_message_history.invoke(\n",
    "    {\"input\": \"What did I just ask you?\"}, {\"configurable\": {\"session_id\": \"1\"}}\n",
    ")"
   ]
  },
  {
   "cell_type": "code",
   "execution_count": 69,
   "id": "4b3d984c-32bc-4050-8844-43773bcd9ee7",
   "metadata": {},
   "outputs": [
    {
     "data": {
      "text/plain": [
       "[HumanMessage(content='Translate this sentence from English to French: I love programming.'),\n",
       " AIMessage(content=\"J'aime la programmation.\", response_metadata={'token_usage': {'completion_tokens': 7, 'prompt_tokens': 39, 'total_tokens': 46}, 'model_name': 'gpt-4', 'system_fingerprint': None, 'prompt_filter_results': [{'prompt_index': 0, 'content_filter_results': {'hate': {'filtered': False, 'severity': 'safe'}, 'self_harm': {'filtered': False, 'severity': 'safe'}, 'sexual': {'filtered': False, 'severity': 'safe'}, 'violence': {'filtered': False, 'severity': 'safe'}}}], 'finish_reason': 'stop', 'logprobs': None, 'content_filter_results': {'hate': {'filtered': False, 'severity': 'safe'}, 'self_harm': {'filtered': False, 'severity': 'safe'}, 'sexual': {'filtered': False, 'severity': 'safe'}, 'violence': {'filtered': False, 'severity': 'safe'}}}, id='run-8e929a4e-9cb6-4f0c-b297-209f0bf6450f-0', usage_metadata={'input_tokens': 39, 'output_tokens': 7, 'total_tokens': 46}),\n",
       " HumanMessage(content='What did I just ask you?'),\n",
       " AIMessage(content='You asked me to translate the sentence \"I love programming\" from English to French.', response_metadata={'token_usage': {'completion_tokens': 17, 'prompt_tokens': 61, 'total_tokens': 78}, 'model_name': 'gpt-4', 'system_fingerprint': None, 'prompt_filter_results': [{'prompt_index': 0, 'content_filter_results': {'hate': {'filtered': False, 'severity': 'safe'}, 'self_harm': {'filtered': False, 'severity': 'safe'}, 'sexual': {'filtered': False, 'severity': 'safe'}, 'violence': {'filtered': False, 'severity': 'safe'}}}], 'finish_reason': 'stop', 'logprobs': None, 'content_filter_results': {'hate': {'filtered': False, 'severity': 'safe'}, 'self_harm': {'filtered': False, 'severity': 'safe'}, 'sexual': {'filtered': False, 'severity': 'safe'}, 'violence': {'filtered': False, 'severity': 'safe'}}}, id='run-5ffde32d-86d0-486b-a05b-f7f235ac2de2-0', usage_metadata={'input_tokens': 61, 'output_tokens': 17, 'total_tokens': 78})]"
      ]
     },
     "execution_count": 69,
     "metadata": {},
     "output_type": "execute_result"
    }
   ],
   "source": [
    "store[\"1\"].messages"
   ]
  },
  {
   "cell_type": "code",
   "execution_count": 70,
   "id": "7da872f6-c6fe-4f45-83c4-ef7a8e13c991",
   "metadata": {},
   "outputs": [
    {
     "data": {
      "text/plain": [
       "AIMessage(content=\"As an AI, I don't have real-time conversation history and the ability to recall past interactions. Therefore, I can't recall what your previous question was. Could you please repeat the question you want me to answer?\", response_metadata={'token_usage': {'completion_tokens': 44, 'prompt_tokens': 34, 'total_tokens': 78}, 'model_name': 'gpt-4', 'system_fingerprint': None, 'prompt_filter_results': [{'prompt_index': 0, 'content_filter_results': {'hate': {'filtered': False, 'severity': 'safe'}, 'self_harm': {'filtered': False, 'severity': 'safe'}, 'sexual': {'filtered': False, 'severity': 'safe'}, 'violence': {'filtered': False, 'severity': 'safe'}}}], 'finish_reason': 'stop', 'logprobs': None, 'content_filter_results': {'hate': {'filtered': False, 'severity': 'safe'}, 'self_harm': {'filtered': False, 'severity': 'safe'}, 'sexual': {'filtered': False, 'severity': 'safe'}, 'violence': {'filtered': False, 'severity': 'safe'}}}, id='run-867f8268-ba4e-4efa-8661-e77f793a3e6d-0', usage_metadata={'input_tokens': 34, 'output_tokens': 44, 'total_tokens': 78})"
      ]
     },
     "execution_count": 70,
     "metadata": {},
     "output_type": "execute_result"
    }
   ],
   "source": [
    "chain_with_message_history.invoke(\n",
    "    {\"input\": \"What did I just ask you?\"}, {\"configurable\": {\"session_id\": \"2\"}}\n",
    ")"
   ]
  },
  {
   "cell_type": "code",
   "execution_count": 71,
   "id": "fb5c213e-6e3e-42af-b79a-cb6aa8a43cd4",
   "metadata": {},
   "outputs": [
    {
     "data": {
      "text/plain": [
       "[HumanMessage(content='What did I just ask you?'),\n",
       " AIMessage(content=\"As an AI, I don't have real-time conversation history and the ability to recall past interactions. Therefore, I can't recall what your previous question was. Could you please repeat the question you want me to answer?\", response_metadata={'token_usage': {'completion_tokens': 44, 'prompt_tokens': 34, 'total_tokens': 78}, 'model_name': 'gpt-4', 'system_fingerprint': None, 'prompt_filter_results': [{'prompt_index': 0, 'content_filter_results': {'hate': {'filtered': False, 'severity': 'safe'}, 'self_harm': {'filtered': False, 'severity': 'safe'}, 'sexual': {'filtered': False, 'severity': 'safe'}, 'violence': {'filtered': False, 'severity': 'safe'}}}], 'finish_reason': 'stop', 'logprobs': None, 'content_filter_results': {'hate': {'filtered': False, 'severity': 'safe'}, 'self_harm': {'filtered': False, 'severity': 'safe'}, 'sexual': {'filtered': False, 'severity': 'safe'}, 'violence': {'filtered': False, 'severity': 'safe'}}}, id='run-867f8268-ba4e-4efa-8661-e77f793a3e6d-0', usage_metadata={'input_tokens': 34, 'output_tokens': 44, 'total_tokens': 78})]"
      ]
     },
     "execution_count": 71,
     "metadata": {},
     "output_type": "execute_result"
    }
   ],
   "source": [
    "store[\"2\"].messages"
   ]
  },
  {
   "cell_type": "code",
   "execution_count": null,
   "id": "af3679cf-cd66-489d-bba6-b2de40893571",
   "metadata": {},
   "outputs": [],
   "source": []
  },
  {
   "cell_type": "code",
   "execution_count": null,
   "id": "65ec0696-045a-4171-b35a-36c7073d1753",
   "metadata": {},
   "outputs": [],
   "source": []
  },
  {
   "cell_type": "code",
   "execution_count": 6,
   "id": "ddf2befd-60fe-420b-8aad-5f4377e0ab68",
   "metadata": {},
   "outputs": [],
   "source": [
    "\n",
    "\n",
    "\n",
    "prompt = ChatPromptTemplate.from_messages(\n",
    "    [\n",
    "        (\n",
    "            \"system\",\n",
    "            \"You are a helpful assistant. Answer all questions to the best of your ability.\",\n",
    "        ),\n",
    "        MessagesPlaceholder(variable_name=\"messages\"),\n",
    "    ]\n",
    ")\n",
    "\n",
    "chain = prompt"
   ]
  },
  {
   "cell_type": "code",
   "execution_count": 7,
   "id": "1b3d9b10-9299-4cb1-8fde-bb06f3dc904e",
   "metadata": {},
   "outputs": [
    {
     "data": {
      "text/plain": [
       "ChatPromptValue(messages=[SystemMessage(content='You are a helpful assistant. Answer all questions to the best of your ability.'), HumanMessage(content='Translate this sentence from English to French: I love programming.'), AIMessage(content=\"J'adore la programmation.\"), HumanMessage(content='What did you just say?')])"
      ]
     },
     "execution_count": 7,
     "metadata": {},
     "output_type": "execute_result"
    }
   ],
   "source": [
    "chain.invoke(\n",
    "    {\n",
    "        \"messages\": [\n",
    "            HumanMessage(\n",
    "                content=\"Translate this sentence from English to French: I love programming.\"\n",
    "            ),\n",
    "            AIMessage(content=\"J'adore la programmation.\"),\n",
    "            HumanMessage(content=\"What did you just say?\"),\n",
    "        ],\n",
    "    }\n",
    ")"
   ]
  },
  {
   "cell_type": "code",
   "execution_count": 8,
   "id": "1f10ff8d-0c9a-4ed2-bd2c-7d740c2fa821",
   "metadata": {},
   "outputs": [],
   "source": [
    "from langchain_community.llms.fake import FakeStreamingListLLM\n",
    "from langchain_core.output_parsers import StrOutputParser\n",
    "from langchain_core.prompts import SystemMessagePromptTemplate\n",
    "from langchain_core.runnables import Runnable\n",
    "from operator import itemgetter\n",
    "\n",
    "prompt = (\n",
    "    SystemMessagePromptTemplate.from_template(\"You are a nice assistant.\")\n",
    "    + \"{question}\"\n",
    ")\n",
    "llm = FakeStreamingListLLM(responses=[\"foo-lish\"])\n",
    "\n",
    "chain: Runnable = prompt | llm | {\"str\": StrOutputParser()}"
   ]
  },
  {
   "cell_type": "code",
   "execution_count": 9,
   "id": "792a3d46-ebf1-4aa8-82e9-a2e30aaab477",
   "metadata": {},
   "outputs": [
    {
     "data": {
      "text/plain": [
       "ChatPromptTemplate(input_variables=['question'], messages=[SystemMessagePromptTemplate(prompt=PromptTemplate(input_variables=[], template='You are a nice assistant.')), HumanMessagePromptTemplate(prompt=PromptTemplate(input_variables=['question'], template='{question}'))])\n",
       "| FakeStreamingListLLM(responses=['foo-lish'])\n",
       "| {\n",
       "    str: StrOutputParser()\n",
       "  }"
      ]
     },
     "execution_count": 9,
     "metadata": {},
     "output_type": "execute_result"
    }
   ],
   "source": [
    "chain"
   ]
  },
  {
   "cell_type": "code",
   "execution_count": 21,
   "id": "8345a711-ef2c-4c30-8102-5971f935d8df",
   "metadata": {},
   "outputs": [],
   "source": [
    "from langchain_core.output_parsers import StrOutputParser\n",
    "from langchain_core.runnables import RunnableBranch\n",
    "\n",
    "# We need a prompt that we can pass into an LLM to generate a transformed search query\n",
    "\n",
    "\n",
    "query_transform_prompt = ChatPromptTemplate.from_messages(\n",
    "    [\n",
    "        MessagesPlaceholder(variable_name=\"messages\"),\n",
    "        (\n",
    "            \"user\",\n",
    "            \"Given the above conversation, generate a search query to look up in order to get information relevant to the conversation. Only respond with the query, nothing else.\",\n",
    "        ),\n",
    "    ]\n",
    ")\n",
    "\n",
    "query_transforming_retriever_chain = RunnableBranch(\n",
    "    (\n",
    "        lambda x: len(x.get(\"messages\", [])) == 1,\n",
    "        # If only one message, then we just pass that message's content to retriever\n",
    "        (lambda x: x[\"messages\"][-1].content),\n",
    "    ),\n",
    "    # If messages, then we pass inputs to LLM chain to transform the query, then pass to retriever\n",
    "    query_transform_prompt | chat,\n",
    ").with_config(run_name=\"chat_retriever_chain\")"
   ]
  },
  {
   "cell_type": "code",
   "execution_count": 22,
   "id": "e4590f7b-1d77-4cb7-a085-8fadf6cde619",
   "metadata": {},
   "outputs": [],
   "source": [
    "demo_ephemeral_chat_history = ChatMessageHistory()"
   ]
  },
  {
   "cell_type": "code",
   "execution_count": 23,
   "id": "e952e558-ef6f-4c4a-a282-8eef3c04f47c",
   "metadata": {},
   "outputs": [],
   "source": [
    "demo_ephemeral_chat_history.add_user_message(\"how can langsmith help with testing?\")"
   ]
  },
  {
   "cell_type": "code",
   "execution_count": 24,
   "id": "fcdffb5a-a3ca-47a3-b760-b4d452ba19cc",
   "metadata": {},
   "outputs": [
    {
     "data": {
      "text/plain": [
       "'how can langsmith help with testing?'"
      ]
     },
     "execution_count": 24,
     "metadata": {},
     "output_type": "execute_result"
    }
   ],
   "source": [
    "response = query_transforming_retriever_chain.invoke(\n",
    "    {\"messages\": demo_ephemeral_chat_history.messages},\n",
    ")\n",
    "response"
   ]
  },
  {
   "cell_type": "code",
   "execution_count": 5,
   "id": "74e337d0-7c97-45e4-88d5-635475a2f1c8",
   "metadata": {},
   "outputs": [],
   "source": [
    "from langchain.embeddings.huggingface import HuggingFaceBgeEmbeddings, HuggingFaceEmbeddings\n",
    "from langchain.schema import Document\n",
    "from langchain.vectorstores import Chroma"
   ]
  },
  {
   "cell_type": "code",
   "execution_count": 1,
   "id": "e808a758-0cd5-41c4-b366-c2e5dead92d5",
   "metadata": {},
   "outputs": [],
   "source": [
    "import chromadb\n",
    "\n",
    "persistent_client = chromadb.PersistentClient(path=\"/data/dataset/kefu/chroma\")"
   ]
  },
  {
   "cell_type": "code",
   "execution_count": 2,
   "id": "9f33d501-4a1b-44df-8678-4efa004de758",
   "metadata": {},
   "outputs": [
    {
     "data": {
      "text/plain": [
       "[Collection(name=hello1), Collection(name=table_entity)]"
      ]
     },
     "execution_count": 2,
     "metadata": {},
     "output_type": "execute_result"
    }
   ],
   "source": [
    "persistent_client.list_collections()"
   ]
  },
  {
   "cell_type": "code",
   "execution_count": 117,
   "id": "db2d0430-4499-43a5-aa0f-49a71b3f0bb8",
   "metadata": {
    "scrolled": true
   },
   "outputs": [],
   "source": [
    "persistent_client.delete_collection(\"hello1\")"
   ]
  },
  {
   "cell_type": "code",
   "execution_count": 6,
   "id": "b57199f2-4756-48d6-a1a1-88de779385b0",
   "metadata": {},
   "outputs": [],
   "source": [
    "encoder = HuggingFaceEmbeddings(model_name=\"/data/dataset/huggingface/hub/bge-large-zh-v1.5\", \n",
    "                                   encode_kwargs = {'normalize_embeddings': True},\n",
    "                                   model_kwargs={'device': 'cuda:0'})"
   ]
  },
  {
   "cell_type": "code",
   "execution_count": 7,
   "id": "5dd82306-38d9-4627-a6a7-437c518ec5c5",
   "metadata": {},
   "outputs": [],
   "source": [
    "from sentence_transformers import SentenceTransformer"
   ]
  },
  {
   "cell_type": "code",
   "execution_count": 8,
   "id": "87f30fea-bc8c-4ee5-8c90-24bf8b6d02af",
   "metadata": {},
   "outputs": [],
   "source": [
    "model = SentenceTransformer('/data/dataset/huggingface/hub/bge-large-zh-v1.5')\n"
   ]
  },
  {
   "cell_type": "code",
   "execution_count": 118,
   "id": "74a95df6-8072-44fa-a336-f758ad90bef1",
   "metadata": {},
   "outputs": [],
   "source": [
    "docs = [\"平台ID\", \"商品id\", \"商品编码\", \"商品编号\", \"商品名字\", \"版本\", \"商品编辑号\", \"primary_key\"]\n",
    "store = Chroma.from_documents([Document(page_content=line, \n",
    "                                        metadata={\"id\": id, \"content\": line.lower()}\n",
    "                                       )\n",
    " for id, line in enumerate(docs)], embedding=encoder, collection_name=\"hello1\", client=persistent_client,\n",
    "                             collection_metadata={\"hnsw:space\": \"cosine\"}, ids=[str(i) for i in range(len(docs))],\n",
    "                              relevance_score_fn=lambda distance: 1.0 - distance / 2.0\n",
    "                             )"
   ]
  },
  {
   "cell_type": "code",
   "execution_count": 119,
   "id": "41316179-a7bb-420b-bbf0-2c6d5fd8202d",
   "metadata": {
    "scrolled": true
   },
   "outputs": [
    {
     "name": "stderr",
     "output_type": "stream",
     "text": [
      "Number of requested results 10 is greater than number of elements in index 8, updating n_results = 8\n"
     ]
    },
    {
     "data": {
      "text/plain": [
       "[(Document(page_content='商品编码', metadata={'content': '商品编码', 'id': 2}),\n",
       "  0.5775375044254822),\n",
       " (Document(page_content='商品id', metadata={'content': '商品id', 'id': 1}),\n",
       "  0.5820137064834018)]"
      ]
     },
     "execution_count": 119,
     "metadata": {},
     "output_type": "execute_result"
    }
   ],
   "source": [
    "store.similarity_search_with_score(\"平台\", k=10, \n",
    "                                   filter={\"id\": {\"$in\": [1, 2]}}, \n",
    "                                   # where_document={\"$contains\":\"ID\"}\n",
    "                                  )"
   ]
  },
  {
   "cell_type": "code",
   "execution_count": 91,
   "id": "1a8c2089-84d6-41ee-9183-d51688814d9b",
   "metadata": {
    "scrolled": true
   },
   "outputs": [],
   "source": [
    "aa = store.as_retriever(search_type= \"similarity_score_threshold\", \n",
    "                        search_kwargs={\"score_threshold\": 0.00001, \"k\":10, \"filter\": {\"id\": {\"$in\": [0, 1, 2]}}})"
   ]
  },
  {
   "cell_type": "code",
   "execution_count": 92,
   "id": "538efa18-ae9e-47f7-9cb6-63db5fd20fb4",
   "metadata": {},
   "outputs": [
    {
     "name": "stderr",
     "output_type": "stream",
     "text": [
      "Number of requested results 10 is greater than number of elements in index 8, updating n_results = 8\n"
     ]
    },
    {
     "data": {
      "text/plain": [
       "[Document(page_content='商品id', metadata={'content': '商品id', 'id': 1}),\n",
       " Document(page_content='商品编码', metadata={'content': '商品编码', 'id': 2}),\n",
       " Document(page_content='平台ID', metadata={'content': '平台ID', 'id': 0})]"
      ]
     },
     "execution_count": 92,
     "metadata": {},
     "output_type": "execute_result"
    }
   ],
   "source": [
    "aa.invoke(\"商品\")"
   ]
  },
  {
   "cell_type": "code",
   "execution_count": 79,
   "id": "c470377b-b488-4dcd-9352-799fd4515968",
   "metadata": {},
   "outputs": [
    {
     "data": {
      "text/plain": [
       "VectorStoreRetriever(tags=['Chroma', 'HuggingFaceEmbeddings'], vectorstore=<langchain_community.vectorstores.chroma.Chroma object at 0x7f58eda7f940>, search_type='similarity_score_threshold', search_kwargs={'score_threshold': 0.01})"
      ]
     },
     "execution_count": 79,
     "metadata": {},
     "output_type": "execute_result"
    }
   ],
   "source": [
    "aa "
   ]
  },
  {
   "cell_type": "code",
   "execution_count": 68,
   "id": "e63f336b-7416-4826-a0b1-3b59b35e2d58",
   "metadata": {},
   "outputs": [
    {
     "data": {
      "text/plain": [
       "[(Document(page_content='商品名字', metadata={'id': 4}), 0.8752710846122631)]"
      ]
     },
     "execution_count": 68,
     "metadata": {},
     "output_type": "execute_result"
    }
   ],
   "source": [
    "store.similarity_search_with_relevance_scores(\"商品\", k=1, \n",
    "                                   # filter={\"id\": 2}, \n",
    "                                   # where_document={\"$contains\":\"商品\"}\n",
    "                                  )"
   ]
  },
  {
   "cell_type": "code",
   "execution_count": 38,
   "id": "c69f5e6f-96c4-4b7a-8d87-3c292d3835cb",
   "metadata": {},
   "outputs": [],
   "source": [
    "import numpy as np \n",
    "# 测试集处理及计算与正确qa的相似度\n",
    "def cosine_similarity(a, b):\n",
    "    return np.dot(a, b) / (np.linalg.norm(a) * np.linalg.norm(b))"
   ]
  },
  {
   "cell_type": "code",
   "execution_count": 71,
   "id": "ebda7341-13e5-4783-8fa5-a96670f706e9",
   "metadata": {},
   "outputs": [
    {
     "data": {
      "text/plain": [
       "0.8752710781745208"
      ]
     },
     "execution_count": 71,
     "metadata": {},
     "output_type": "execute_result"
    }
   ],
   "source": [
    "1-(1-cosine_similarity(encoder.embed_query(\"商品\"), encoder.embed_query(\"商品名字\")))/2"
   ]
  },
  {
   "cell_type": "code",
   "execution_count": null,
   "id": "dfff747a-921c-424c-8623-f30456fcc2e0",
   "metadata": {},
   "outputs": [],
   "source": []
  },
  {
   "cell_type": "code",
   "execution_count": null,
   "id": "70049e1f-730d-4f44-aa16-5eeab6503677",
   "metadata": {},
   "outputs": [],
   "source": []
  },
  {
   "cell_type": "code",
   "execution_count": null,
   "id": "f7696d0f-36b0-4169-ac80-01331bb60f49",
   "metadata": {},
   "outputs": [],
   "source": []
  },
  {
   "cell_type": "code",
   "execution_count": null,
   "id": "acd2533e-892b-43ff-ab63-68a72f576c53",
   "metadata": {},
   "outputs": [],
   "source": []
  },
  {
   "cell_type": "code",
   "execution_count": 123,
   "id": "c7ca0f90-2bfc-4b04-bd3b-8349d2f3c9cc",
   "metadata": {},
   "outputs": [
    {
     "data": {
      "text/plain": [
       "[Collection(name=hello1)]"
      ]
     },
     "execution_count": 123,
     "metadata": {},
     "output_type": "execute_result"
    }
   ],
   "source": [
    "persistent_client.list_collections()"
   ]
  },
  {
   "cell_type": "code",
   "execution_count": 124,
   "id": "7c40e7a4-eb91-4a02-859a-ddf2ea5df1a7",
   "metadata": {},
   "outputs": [
    {
     "data": {
      "text/plain": [
       "8"
      ]
     },
     "execution_count": 124,
     "metadata": {},
     "output_type": "execute_result"
    }
   ],
   "source": [
    "persistent_client.list_collections()[0].count()"
   ]
  },
  {
   "cell_type": "code",
   "execution_count": 128,
   "id": "26721492-6e35-4e09-a8f9-0559467503b7",
   "metadata": {},
   "outputs": [
    {
     "data": {
      "text/plain": [
       "[(Document(page_content='商品名字', metadata={'id': 4}), 0.7775232756515339)]"
      ]
     },
     "execution_count": 128,
     "metadata": {},
     "output_type": "execute_result"
    }
   ],
   "source": [
    "store.similarity_search_with_score(\"商品\", k=1, \n",
    "                                   # filter={\"id\": 2}, \n",
    "                                   # where_document={\"$contains\":\"商品\"}\n",
    "                                  )"
   ]
  },
  {
   "cell_type": "code",
   "execution_count": 125,
   "id": "d8379494-38c4-4a02-b1ae-d8cb76046296",
   "metadata": {},
   "outputs": [
    {
     "data": {
      "text/plain": [
       "[(Document(page_content='商品名字', metadata={'id': 4}), 0.7775232756515339),\n",
       " (Document(page_content='商品id', metadata={'id': 1}), 0.8199618126485422),\n",
       " (Document(page_content='商品编号', metadata={'id': 3}), 0.8280622766192032)]"
      ]
     },
     "execution_count": 125,
     "metadata": {},
     "output_type": "execute_result"
    }
   ],
   "source": [
    "store.similarity_search_with_score(\"商品\", k=3, \n",
    "                                   # filter={\"id\": 2}, \n",
    "                                   # where_document={\"$contains\":\"商品\"}\n",
    "                                  )"
   ]
  },
  {
   "cell_type": "code",
   "execution_count": 140,
   "id": "5bc4458b-48bf-4945-af5c-51f5369bbcab",
   "metadata": {},
   "outputs": [
    {
     "ename": "AttributeError",
     "evalue": "'Document' object has no attribute 'dd'",
     "output_type": "error",
     "traceback": [
      "\u001b[0;31m---------------------------------------------------------------------------\u001b[0m",
      "\u001b[0;31mAttributeError\u001b[0m                            Traceback (most recent call last)",
      "Cell \u001b[0;32mIn[140], line 4\u001b[0m\n\u001b[1;32m      1\u001b[0m \u001b[43mstore\u001b[49m\u001b[38;5;241;43m.\u001b[39;49m\u001b[43msimilarity_search_with_score\u001b[49m\u001b[43m(\u001b[49m\u001b[38;5;124;43m\"\u001b[39;49m\u001b[38;5;124;43m商品\u001b[39;49m\u001b[38;5;124;43m\"\u001b[39;49m\u001b[43m,\u001b[49m\u001b[43m \u001b[49m\u001b[43mk\u001b[49m\u001b[38;5;241;43m=\u001b[39;49m\u001b[38;5;241;43m1\u001b[39;49m\u001b[43m,\u001b[49m\u001b[43m \u001b[49m\n\u001b[1;32m      2\u001b[0m \u001b[43m                                   \u001b[49m\u001b[38;5;66;43;03m# filter={\"id\": 2}, \u001b[39;49;00m\n\u001b[1;32m      3\u001b[0m \u001b[43m                                   \u001b[49m\u001b[43mwhere_document\u001b[49m\u001b[38;5;241;43m=\u001b[39;49m\u001b[43m{\u001b[49m\u001b[38;5;124;43m\"\u001b[39;49m\u001b[38;5;124;43m$contains\u001b[39;49m\u001b[38;5;124;43m\"\u001b[39;49m\u001b[43m:\u001b[49m\u001b[38;5;124;43m\"\u001b[39;49m\u001b[38;5;124;43m商品\u001b[39;49m\u001b[38;5;124;43m\"\u001b[39;49m\u001b[43m}\u001b[49m\n\u001b[0;32m----> 4\u001b[0m \u001b[43m                                  \u001b[49m\u001b[43m)\u001b[49m\u001b[43m[\u001b[49m\u001b[38;5;241;43m0\u001b[39;49m\u001b[43m]\u001b[49m\u001b[43m[\u001b[49m\u001b[38;5;241;43m0\u001b[39;49m\u001b[43m]\u001b[49m\u001b[38;5;241;43m.\u001b[39;49m\u001b[43mdd\u001b[49m  \n",
      "\u001b[0;31mAttributeError\u001b[0m: 'Document' object has no attribute 'dd'"
     ]
    }
   ],
   "source": [
    "store.similarity_search_with_score(\"商品\", k=1, \n",
    "                                   # filter={\"id\": 2}, \n",
    "                                   where_document={\"$contains\":\"商品\"}\n",
    "                                  )[0][0].dd  "
   ]
  },
  {
   "cell_type": "code",
   "execution_count": null,
   "id": "657657bd-335a-4437-b9b8-3a670d81af1a",
   "metadata": {},
   "outputs": [],
   "source": []
  },
  {
   "cell_type": "code",
   "execution_count": 130,
   "id": "8d0d7d58-5029-4b22-95a9-83bae80b9114",
   "metadata": {},
   "outputs": [
    {
     "data": {
      "text/plain": [
       "[]"
      ]
     },
     "execution_count": 130,
     "metadata": {},
     "output_type": "execute_result"
    }
   ],
   "source": [
    "store.similarity_search_with_score(\"商品\", k=3, \n",
    "                                   # filter={\"id\": 2}, \n",
    "                                   where_document={\"$contains\":\"ddd\"}\n",
    "                                  )"
   ]
  },
  {
   "cell_type": "code",
   "execution_count": 4,
   "id": "a20aeaef-ff5b-4e9d-ac62-0764ea25676a",
   "metadata": {},
   "outputs": [],
   "source": [
    "collection = client.get_or_create_collection(\n",
    "        name=\"hello\", # collection名称\n",
    "    )"
   ]
  },
  {
   "cell_type": "code",
   "execution_count": 5,
   "id": "a1627967-da31-404f-9adc-81eb0e9c44fc",
   "metadata": {
    "scrolled": true
   },
   "outputs": [
    {
     "data": {
      "text/plain": [
       "8"
      ]
     },
     "execution_count": 5,
     "metadata": {},
     "output_type": "execute_result"
    }
   ],
   "source": [
    "collection.count()"
   ]
  },
  {
   "cell_type": "code",
   "execution_count": 12,
   "id": "941f7073-7055-4658-a7e3-58cc0b76f5b7",
   "metadata": {},
   "outputs": [
    {
     "data": {
      "text/plain": [
       "0"
      ]
     },
     "execution_count": 12,
     "metadata": {},
     "output_type": "execute_result"
    }
   ],
   "source": [
    "collection.count()"
   ]
  },
  {
   "cell_type": "code",
   "execution_count": 6,
   "id": "25ec7fa2-ee91-4136-bda8-433202a4273e",
   "metadata": {},
   "outputs": [],
   "source": [
    "# tell LangChain to use our client and collection name\n",
    "db4 = Chroma(\n",
    "    client=client,\n",
    "    collection_name=\"hello\",\n",
    "    embedding_function=encoder,\n",
    ")"
   ]
  },
  {
   "cell_type": "code",
   "execution_count": 15,
   "id": "9bcf6bf1-501a-48e2-abee-3403e75d25fe",
   "metadata": {},
   "outputs": [
    {
     "data": {
      "text/plain": [
       "[]"
      ]
     },
     "execution_count": 15,
     "metadata": {},
     "output_type": "execute_result"
    }
   ],
   "source": [
    "db4.similarity_search_with_score(\"商品\", k=3)"
   ]
  },
  {
   "cell_type": "code",
   "execution_count": 8,
   "id": "94b142c0-f48a-448d-b6e5-333915bbebf4",
   "metadata": {
    "scrolled": true
   },
   "outputs": [
    {
     "data": {
      "text/plain": [
       "[(Document(page_content='商品名字', metadata={'id': 4}), 0.7775232756515339),\n",
       " (Document(page_content='商品id', metadata={'id': 1}), 0.8199618126485422),\n",
       " (Document(page_content='商品分类', metadata={'id': 3}), 0.8444705972295098)]"
      ]
     },
     "execution_count": 8,
     "metadata": {},
     "output_type": "execute_result"
    }
   ],
   "source": [
    "db4.similarity_search_with_score(\"商品\", k=3)"
   ]
  },
  {
   "cell_type": "code",
   "execution_count": null,
   "id": "f1caad60-ae66-4b20-8d75-2da00d391d1c",
   "metadata": {},
   "outputs": [],
   "source": [
    "query = \"What did the president say about Ketanji Brown Jackson\"\n",
    "docs = db4.similarity_search(query)"
   ]
  },
  {
   "cell_type": "code",
   "execution_count": null,
   "id": "11a68b4c-b4b8-450b-b226-235f98070167",
   "metadata": {},
   "outputs": [],
   "source": [
    "from langchain.vectorstores import Chroma\n",
    "\n",
    "# Initialize the Chroma client\n",
    "chroma_client = Chroma()\n",
    "\n",
    "# List all collections\n",
    "collections = chroma_client._client.list_collections()\n",
    "for collection in collections:\n",
    "    chroma_client._client.delete_collection(collection.name)"
   ]
  },
  {
   "cell_type": "code",
   "execution_count": null,
   "id": "552ddbc2-6977-48ec-be63-c438441d6b1b",
   "metadata": {},
   "outputs": [],
   "source": [
    "\n",
    "collection = client.create_collection(\"my_collection\")\n",
    "for doc in docs:\n",
    "    collection.add(\n",
    "        ids=[str(uuid.uuid1())], metadatas=doc.metadata, documents=doc.page_content\n",
    "    )"
   ]
  },
  {
   "cell_type": "code",
   "execution_count": 12,
   "id": "1885ed71-a6a8-4c02-aed5-873ff0d6df72",
   "metadata": {},
   "outputs": [],
   "source": [
    "import mysql.connector\n",
    "\n",
    "# 创建连接\n",
    "conn = mysql.connector.connect(user='root', password='123456', host='192.168.111.48', database='test', port=3306)\n",
    "\n",
    "cursor = conn.cursor()"
   ]
  },
  {
   "cell_type": "code",
   "execution_count": 19,
   "id": "da873991-e9ee-44c4-999f-883fd1c691f5",
   "metadata": {},
   "outputs": [],
   "source": [
    "cursor.execute(\"SELECT name FROM test1 union select id from test1;\")"
   ]
  },
  {
   "cell_type": "code",
   "execution_count": 20,
   "id": "93562a54-8c1b-4679-be3c-7b1c1108316f",
   "metadata": {},
   "outputs": [],
   "source": [
    "results = cursor.fetchall()"
   ]
  },
  {
   "cell_type": "code",
   "execution_count": 21,
   "id": "9191fd83-63f5-45c7-80b5-7726c2c3628b",
   "metadata": {},
   "outputs": [
    {
     "data": {
      "text/plain": [
       "[('jack',), (' ',), ('1',), ('2',)]"
      ]
     },
     "execution_count": 21,
     "metadata": {},
     "output_type": "execute_result"
    }
   ],
   "source": [
    "results"
   ]
  },
  {
   "cell_type": "code",
   "execution_count": 6,
   "id": "827c8b88-2af4-46bb-ab78-576122baf247",
   "metadata": {},
   "outputs": [
    {
     "name": "stdout",
     "output_type": "stream",
     "text": [
      "[]\n"
     ]
    }
   ],
   "source": [
    "import re\n",
    "\n",
    "def find_substring_positions(a, b):\n",
    "    positions = []\n",
    "    for match in re.finditer(re.escape(b), a):\n",
    "        start = match.start()\n",
    "        end = match.end()\n",
    "        positions.append((start, end))\n",
    "    return positions\n",
    "\n",
    "# 示例用法\n",
    "a = \"  \\n我的A1 \\n扫地\\n人不工作了怎么办扫地器人不好扫地dfdf\"\n",
    "b = \"扫地机\"\n",
    "positions = find_substring_positions(a, b)\n",
    "print(positions)\n"
   ]
  },
  {
   "cell_type": "code",
   "execution_count": 4,
   "id": "f7c54eb4-9226-432e-8a98-3c70967df85a",
   "metadata": {},
   "outputs": [
    {
     "data": {
      "text/plain": [
       "'扫地机'"
      ]
     },
     "execution_count": 4,
     "metadata": {},
     "output_type": "execute_result"
    }
   ],
   "source": [
    "a[positions[0][0]:positions[0][1]]"
   ]
  },
  {
   "cell_type": "code",
   "execution_count": 5,
   "id": "fb2912c2-a6f6-4f9a-a881-36d5cda0980d",
   "metadata": {},
   "outputs": [
    {
     "data": {
      "text/plain": [
       "'扫地机'"
      ]
     },
     "execution_count": 5,
     "metadata": {},
     "output_type": "execute_result"
    }
   ],
   "source": [
    "a[positions[1][0]:positions[1][1]]"
   ]
  },
  {
   "cell_type": "code",
   "execution_count": 24,
   "id": "4a7ff688-7df1-4ce7-9c8e-36f52ffd09fe",
   "metadata": {},
   "outputs": [
    {
     "ename": "NameError",
     "evalue": "name 'FAISS' is not defined",
     "output_type": "error",
     "traceback": [
      "\u001b[0;31m---------------------------------------------------------------------------\u001b[0m",
      "\u001b[0;31mNameError\u001b[0m                                 Traceback (most recent call last)",
      "Cell \u001b[0;32mIn[24], line 5\u001b[0m\n\u001b[1;32m      1\u001b[0m docs \u001b[38;5;241m=\u001b[39m [\u001b[38;5;124m\"\u001b[39m\u001b[38;5;124m平台ID\u001b[39m\u001b[38;5;124m\"\u001b[39m, \u001b[38;5;124m\"\u001b[39m\u001b[38;5;124m商品id\u001b[39m\u001b[38;5;124m\"\u001b[39m, \u001b[38;5;124m\"\u001b[39m\u001b[38;5;124m商品编码\u001b[39m\u001b[38;5;124m\"\u001b[39m, \u001b[38;5;124m\"\u001b[39m\u001b[38;5;124m商品分类\u001b[39m\u001b[38;5;124m\"\u001b[39m, \u001b[38;5;124m\"\u001b[39m\u001b[38;5;124m商品名字\u001b[39m\u001b[38;5;124m\"\u001b[39m, \u001b[38;5;124m\"\u001b[39m\u001b[38;5;124m版本\u001b[39m\u001b[38;5;124m\"\u001b[39m, \u001b[38;5;124m\"\u001b[39m\u001b[38;5;124m商品型号\u001b[39m\u001b[38;5;124m\"\u001b[39m, \u001b[38;5;124m\"\u001b[39m\u001b[38;5;124mprimary_key\u001b[39m\u001b[38;5;124m\"\u001b[39m]\n\u001b[1;32m      2\u001b[0m encoder \u001b[38;5;241m=\u001b[39m HuggingFaceEmbeddings(model_name\u001b[38;5;241m=\u001b[39m\u001b[38;5;124m\"\u001b[39m\u001b[38;5;124m/data/dataset/huggingface/hub/bge-large-zh-v1.5\u001b[39m\u001b[38;5;124m\"\u001b[39m, \n\u001b[1;32m      3\u001b[0m                                    encode_kwargs \u001b[38;5;241m=\u001b[39m {\u001b[38;5;124m'\u001b[39m\u001b[38;5;124mnormalize_embeddings\u001b[39m\u001b[38;5;124m'\u001b[39m: \u001b[38;5;28;01mTrue\u001b[39;00m},\n\u001b[1;32m      4\u001b[0m                                    model_kwargs\u001b[38;5;241m=\u001b[39m{\u001b[38;5;124m'\u001b[39m\u001b[38;5;124mdevice\u001b[39m\u001b[38;5;124m'\u001b[39m: \u001b[38;5;124m'\u001b[39m\u001b[38;5;124mcuda:0\u001b[39m\u001b[38;5;124m'\u001b[39m})\n\u001b[0;32m----> 5\u001b[0m store \u001b[38;5;241m=\u001b[39m \u001b[43mFAISS\u001b[49m\u001b[38;5;241m.\u001b[39mfrom_documents([Document(page_content\u001b[38;5;241m=\u001b[39mline, metadata\u001b[38;5;241m=\u001b[39m{\u001b[38;5;124m\"\u001b[39m\u001b[38;5;124mid\u001b[39m\u001b[38;5;124m\"\u001b[39m: \u001b[38;5;28mid\u001b[39m})\n\u001b[1;32m      6\u001b[0m  \u001b[38;5;28;01mfor\u001b[39;00m \u001b[38;5;28mid\u001b[39m, line \u001b[38;5;129;01min\u001b[39;00m \u001b[38;5;28menumerate\u001b[39m(docs)], embedding\u001b[38;5;241m=\u001b[39mencoder)\n",
      "\u001b[0;31mNameError\u001b[0m: name 'FAISS' is not defined"
     ]
    }
   ],
   "source": [
    "\n",
    "docs = [\"平台ID\", \"商品id\", \"商品编码\", \"商品分类\", \"商品名字\", \"版本\", \"商品型号\", \"primary_key\"]\n",
    "encoder = HuggingFaceEmbeddings(model_name=\"/data/dataset/huggingface/hub/bge-large-zh-v1.5\", \n",
    "                                   encode_kwargs = {'normalize_embeddings': True},\n",
    "                                   model_kwargs={'device': 'cuda:0'})\n",
    "store = FAISS.from_documents([Document(page_content=line, metadata={\"id\": id})\n",
    " for id, line in enumerate(docs)], embedding=encoder)"
   ]
  },
  {
   "cell_type": "code",
   "execution_count": 43,
   "id": "895de26a-1cf3-4de9-a07e-6fa42ccf9de3",
   "metadata": {},
   "outputs": [
    {
     "data": {
      "text/plain": [
       "<langchain_community.vectorstores.chroma.Chroma at 0x7f77b04f65c0>"
      ]
     },
     "execution_count": 43,
     "metadata": {},
     "output_type": "execute_result"
    }
   ],
   "source": [
    "store"
   ]
  },
  {
   "cell_type": "code",
   "execution_count": 44,
   "id": "63115632-8a9f-4f0e-bf3a-877d803650d4",
   "metadata": {},
   "outputs": [
    {
     "data": {
      "text/plain": [
       "[(Document(page_content='商品名字', metadata={'id': 4}), 0.5650778615247458)]"
      ]
     },
     "execution_count": 44,
     "metadata": {},
     "output_type": "execute_result"
    }
   ],
   "source": [
    "store.similarity_search_with_relevance_scores(\"商品分类\", k=3, filter=filter)"
   ]
  },
  {
   "cell_type": "code",
   "execution_count": 41,
   "id": "1aed8586-551b-4e29-9f31-681d998fd4a2",
   "metadata": {},
   "outputs": [],
   "source": [
    "index = VectorStoreRetrieverFilter(vectorstore=store)"
   ]
  },
  {
   "cell_type": "code",
   "execution_count": 42,
   "id": "bfd47d59-6552-4e94-b1ce-a8cda6c879fd",
   "metadata": {
    "scrolled": true
   },
   "outputs": [
    {
     "ename": "TypeError",
     "evalue": "Collection.query() got an unexpected keyword argument 'fetch_k'",
     "output_type": "error",
     "traceback": [
      "\u001b[0;31m---------------------------------------------------------------------------\u001b[0m",
      "\u001b[0;31mTypeError\u001b[0m                                 Traceback (most recent call last)",
      "Cell \u001b[0;32mIn[42], line 2\u001b[0m\n\u001b[1;32m      1\u001b[0m \u001b[38;5;28mfilter\u001b[39m \u001b[38;5;241m=\u001b[39m {\u001b[38;5;124m\"\u001b[39m\u001b[38;5;124mid\u001b[39m\u001b[38;5;124m\"\u001b[39m: \u001b[38;5;241m4\u001b[39m}\n\u001b[0;32m----> 2\u001b[0m \u001b[43mindex\u001b[49m\u001b[38;5;241;43m.\u001b[39;49m\u001b[43mget_relevant_documents\u001b[49m\u001b[43m(\u001b[49m\u001b[43mquery\u001b[49m\u001b[38;5;241;43m=\u001b[39;49m\u001b[38;5;124;43m\"\u001b[39;49m\u001b[38;5;124;43ma\u001b[39;49m\u001b[38;5;124;43m\"\u001b[39;49m\u001b[43m,\u001b[49m\u001b[43m \u001b[49m\u001b[38;5;28;43mfilter\u001b[39;49m\u001b[38;5;241;43m=\u001b[39;49m\u001b[38;5;28;43mfilter\u001b[39;49m\u001b[43m)\u001b[49m\n",
      "File \u001b[0;32m~/mambaforge/envs/python310_chatbot/lib/python3.10/site-packages/langchain_core/retrievers.py:245\u001b[0m, in \u001b[0;36mBaseRetriever.get_relevant_documents\u001b[0;34m(self, query, callbacks, tags, metadata, run_name, **kwargs)\u001b[0m\n\u001b[1;32m    243\u001b[0m \u001b[38;5;28;01mexcept\u001b[39;00m \u001b[38;5;167;01mException\u001b[39;00m \u001b[38;5;28;01mas\u001b[39;00m e:\n\u001b[1;32m    244\u001b[0m     run_manager\u001b[38;5;241m.\u001b[39mon_retriever_error(e)\n\u001b[0;32m--> 245\u001b[0m     \u001b[38;5;28;01mraise\u001b[39;00m e\n\u001b[1;32m    246\u001b[0m \u001b[38;5;28;01melse\u001b[39;00m:\n\u001b[1;32m    247\u001b[0m     run_manager\u001b[38;5;241m.\u001b[39mon_retriever_end(\n\u001b[1;32m    248\u001b[0m         result,\n\u001b[1;32m    249\u001b[0m     )\n",
      "File \u001b[0;32m~/mambaforge/envs/python310_chatbot/lib/python3.10/site-packages/langchain_core/retrievers.py:242\u001b[0m, in \u001b[0;36mBaseRetriever.get_relevant_documents\u001b[0;34m(self, query, callbacks, tags, metadata, run_name, **kwargs)\u001b[0m\n\u001b[1;32m    238\u001b[0m         result \u001b[38;5;241m=\u001b[39m \u001b[38;5;28mself\u001b[39m\u001b[38;5;241m.\u001b[39m_get_relevant_documents(\n\u001b[1;32m    239\u001b[0m             query, run_manager\u001b[38;5;241m=\u001b[39mrun_manager, \u001b[38;5;241m*\u001b[39m\u001b[38;5;241m*\u001b[39m_kwargs\n\u001b[1;32m    240\u001b[0m         )\n\u001b[1;32m    241\u001b[0m     \u001b[38;5;28;01melse\u001b[39;00m:\n\u001b[0;32m--> 242\u001b[0m         result \u001b[38;5;241m=\u001b[39m \u001b[38;5;28;43mself\u001b[39;49m\u001b[38;5;241;43m.\u001b[39;49m\u001b[43m_get_relevant_documents\u001b[49m\u001b[43m(\u001b[49m\u001b[43mquery\u001b[49m\u001b[43m,\u001b[49m\u001b[43m \u001b[49m\u001b[38;5;241;43m*\u001b[39;49m\u001b[38;5;241;43m*\u001b[39;49m\u001b[43m_kwargs\u001b[49m\u001b[43m)\u001b[49m\n\u001b[1;32m    243\u001b[0m \u001b[38;5;28;01mexcept\u001b[39;00m \u001b[38;5;167;01mException\u001b[39;00m \u001b[38;5;28;01mas\u001b[39;00m e:\n\u001b[1;32m    244\u001b[0m     run_manager\u001b[38;5;241m.\u001b[39mon_retriever_error(e)\n",
      "Cell \u001b[0;32mIn[29], line 65\u001b[0m, in \u001b[0;36mVectorStoreRetrieverFilter._get_relevant_documents\u001b[0;34m(self, query, filter)\u001b[0m\n\u001b[1;32m     62\u001b[0m \u001b[38;5;28;01mif\u001b[39;00m \u001b[38;5;28mfilter\u001b[39m \u001b[38;5;129;01mis\u001b[39;00m \u001b[38;5;129;01mnot\u001b[39;00m \u001b[38;5;28;01mNone\u001b[39;00m:\n\u001b[1;32m     63\u001b[0m     \u001b[38;5;66;03m# Only similarity search is implemented for now\u001b[39;00m\n\u001b[1;32m     64\u001b[0m     \u001b[38;5;28;01mif\u001b[39;00m \u001b[38;5;28mself\u001b[39m\u001b[38;5;241m.\u001b[39msearch_type \u001b[38;5;241m==\u001b[39m \u001b[38;5;124m\"\u001b[39m\u001b[38;5;124msimilarity\u001b[39m\u001b[38;5;124m\"\u001b[39m:\n\u001b[0;32m---> 65\u001b[0m         docs \u001b[38;5;241m=\u001b[39m \u001b[38;5;28;43mself\u001b[39;49m\u001b[38;5;241;43m.\u001b[39;49m\u001b[43mvectorstore\u001b[49m\u001b[38;5;241;43m.\u001b[39;49m\u001b[43msimilarity_search\u001b[49m\u001b[43m(\u001b[49m\u001b[43mquery\u001b[49m\u001b[43m,\u001b[49m\u001b[43m \u001b[49m\u001b[38;5;28;43mfilter\u001b[39;49m\u001b[38;5;241;43m=\u001b[39;49m\u001b[38;5;28;43mfilter\u001b[39;49m\u001b[43m,\u001b[49m\u001b[43m \u001b[49m\u001b[38;5;241;43m*\u001b[39;49m\u001b[38;5;241;43m*\u001b[39;49m\u001b[38;5;28;43mself\u001b[39;49m\u001b[38;5;241;43m.\u001b[39;49m\u001b[43msearch_kwargs\u001b[49m\u001b[43m,\u001b[49m\u001b[43m \u001b[49m\u001b[43mfetch_k\u001b[49m\u001b[38;5;241;43m=\u001b[39;49m\u001b[38;5;241;43m2\u001b[39;49m\u001b[43m)\u001b[49m\n\u001b[1;32m     66\u001b[0m \u001b[38;5;28;01melse\u001b[39;00m:\n\u001b[1;32m     67\u001b[0m     \u001b[38;5;66;03m# Filter is not provided\u001b[39;00m\n\u001b[1;32m     68\u001b[0m     \u001b[38;5;28;01mif\u001b[39;00m \u001b[38;5;28mself\u001b[39m\u001b[38;5;241m.\u001b[39msearch_type \u001b[38;5;241m==\u001b[39m \u001b[38;5;124m\"\u001b[39m\u001b[38;5;124msimilarity\u001b[39m\u001b[38;5;124m\"\u001b[39m:\n",
      "File \u001b[0;32m~/mambaforge/envs/python310_chatbot/lib/python3.10/site-packages/langchain_community/vectorstores/chroma.py:348\u001b[0m, in \u001b[0;36mChroma.similarity_search\u001b[0;34m(self, query, k, filter, **kwargs)\u001b[0m\n\u001b[1;32m    331\u001b[0m \u001b[38;5;28;01mdef\u001b[39;00m \u001b[38;5;21msimilarity_search\u001b[39m(\n\u001b[1;32m    332\u001b[0m     \u001b[38;5;28mself\u001b[39m,\n\u001b[1;32m    333\u001b[0m     query: \u001b[38;5;28mstr\u001b[39m,\n\u001b[0;32m   (...)\u001b[0m\n\u001b[1;32m    336\u001b[0m     \u001b[38;5;241m*\u001b[39m\u001b[38;5;241m*\u001b[39mkwargs: Any,\n\u001b[1;32m    337\u001b[0m ) \u001b[38;5;241m-\u001b[39m\u001b[38;5;241m>\u001b[39m List[Document]:\n\u001b[1;32m    338\u001b[0m \u001b[38;5;250m    \u001b[39m\u001b[38;5;124;03m\"\"\"Run similarity search with Chroma.\u001b[39;00m\n\u001b[1;32m    339\u001b[0m \n\u001b[1;32m    340\u001b[0m \u001b[38;5;124;03m    Args:\u001b[39;00m\n\u001b[0;32m   (...)\u001b[0m\n\u001b[1;32m    346\u001b[0m \u001b[38;5;124;03m        List[Document]: List of documents most similar to the query text.\u001b[39;00m\n\u001b[1;32m    347\u001b[0m \u001b[38;5;124;03m    \"\"\"\u001b[39;00m\n\u001b[0;32m--> 348\u001b[0m     docs_and_scores \u001b[38;5;241m=\u001b[39m \u001b[38;5;28;43mself\u001b[39;49m\u001b[38;5;241;43m.\u001b[39;49m\u001b[43msimilarity_search_with_score\u001b[49m\u001b[43m(\u001b[49m\n\u001b[1;32m    349\u001b[0m \u001b[43m        \u001b[49m\u001b[43mquery\u001b[49m\u001b[43m,\u001b[49m\u001b[43m \u001b[49m\u001b[43mk\u001b[49m\u001b[43m,\u001b[49m\u001b[43m \u001b[49m\u001b[38;5;28;43mfilter\u001b[39;49m\u001b[38;5;241;43m=\u001b[39;49m\u001b[38;5;28;43mfilter\u001b[39;49m\u001b[43m,\u001b[49m\u001b[43m \u001b[49m\u001b[38;5;241;43m*\u001b[39;49m\u001b[38;5;241;43m*\u001b[39;49m\u001b[43mkwargs\u001b[49m\n\u001b[1;32m    350\u001b[0m \u001b[43m    \u001b[49m\u001b[43m)\u001b[49m\n\u001b[1;32m    351\u001b[0m     \u001b[38;5;28;01mreturn\u001b[39;00m [doc \u001b[38;5;28;01mfor\u001b[39;00m doc, _ \u001b[38;5;129;01min\u001b[39;00m docs_and_scores]\n",
      "File \u001b[0;32m~/mambaforge/envs/python310_chatbot/lib/python3.10/site-packages/langchain_community/vectorstores/chroma.py:438\u001b[0m, in \u001b[0;36mChroma.similarity_search_with_score\u001b[0;34m(self, query, k, filter, where_document, **kwargs)\u001b[0m\n\u001b[1;32m    436\u001b[0m \u001b[38;5;28;01melse\u001b[39;00m:\n\u001b[1;32m    437\u001b[0m     query_embedding \u001b[38;5;241m=\u001b[39m \u001b[38;5;28mself\u001b[39m\u001b[38;5;241m.\u001b[39m_embedding_function\u001b[38;5;241m.\u001b[39membed_query(query)\n\u001b[0;32m--> 438\u001b[0m     results \u001b[38;5;241m=\u001b[39m \u001b[38;5;28;43mself\u001b[39;49m\u001b[38;5;241;43m.\u001b[39;49m\u001b[43m__query_collection\u001b[49m\u001b[43m(\u001b[49m\n\u001b[1;32m    439\u001b[0m \u001b[43m        \u001b[49m\u001b[43mquery_embeddings\u001b[49m\u001b[38;5;241;43m=\u001b[39;49m\u001b[43m[\u001b[49m\u001b[43mquery_embedding\u001b[49m\u001b[43m]\u001b[49m\u001b[43m,\u001b[49m\n\u001b[1;32m    440\u001b[0m \u001b[43m        \u001b[49m\u001b[43mn_results\u001b[49m\u001b[38;5;241;43m=\u001b[39;49m\u001b[43mk\u001b[49m\u001b[43m,\u001b[49m\n\u001b[1;32m    441\u001b[0m \u001b[43m        \u001b[49m\u001b[43mwhere\u001b[49m\u001b[38;5;241;43m=\u001b[39;49m\u001b[38;5;28;43mfilter\u001b[39;49m\u001b[43m,\u001b[49m\n\u001b[1;32m    442\u001b[0m \u001b[43m        \u001b[49m\u001b[43mwhere_document\u001b[49m\u001b[38;5;241;43m=\u001b[39;49m\u001b[43mwhere_document\u001b[49m\u001b[43m,\u001b[49m\n\u001b[1;32m    443\u001b[0m \u001b[43m        \u001b[49m\u001b[38;5;241;43m*\u001b[39;49m\u001b[38;5;241;43m*\u001b[39;49m\u001b[43mkwargs\u001b[49m\u001b[43m,\u001b[49m\n\u001b[1;32m    444\u001b[0m \u001b[43m    \u001b[49m\u001b[43m)\u001b[49m\n\u001b[1;32m    446\u001b[0m \u001b[38;5;28;01mreturn\u001b[39;00m _results_to_docs_and_scores(results)\n",
      "File \u001b[0;32m~/mambaforge/envs/python310_chatbot/lib/python3.10/site-packages/langchain_core/utils/utils.py:35\u001b[0m, in \u001b[0;36mxor_args.<locals>.decorator.<locals>.wrapper\u001b[0;34m(*args, **kwargs)\u001b[0m\n\u001b[1;32m     29\u001b[0m     invalid_group_names \u001b[38;5;241m=\u001b[39m [\u001b[38;5;124m\"\u001b[39m\u001b[38;5;124m, \u001b[39m\u001b[38;5;124m\"\u001b[39m\u001b[38;5;241m.\u001b[39mjoin(arg_groups[i]) \u001b[38;5;28;01mfor\u001b[39;00m i \u001b[38;5;129;01min\u001b[39;00m invalid_groups]\n\u001b[1;32m     30\u001b[0m     \u001b[38;5;28;01mraise\u001b[39;00m \u001b[38;5;167;01mValueError\u001b[39;00m(\n\u001b[1;32m     31\u001b[0m         \u001b[38;5;124m\"\u001b[39m\u001b[38;5;124mExactly one argument in each of the following\u001b[39m\u001b[38;5;124m\"\u001b[39m\n\u001b[1;32m     32\u001b[0m         \u001b[38;5;124m\"\u001b[39m\u001b[38;5;124m groups must be defined:\u001b[39m\u001b[38;5;124m\"\u001b[39m\n\u001b[1;32m     33\u001b[0m         \u001b[38;5;124mf\u001b[39m\u001b[38;5;124m\"\u001b[39m\u001b[38;5;124m \u001b[39m\u001b[38;5;132;01m{\u001b[39;00m\u001b[38;5;124m'\u001b[39m\u001b[38;5;124m, \u001b[39m\u001b[38;5;124m'\u001b[39m\u001b[38;5;241m.\u001b[39mjoin(invalid_group_names)\u001b[38;5;132;01m}\u001b[39;00m\u001b[38;5;124m\"\u001b[39m\n\u001b[1;32m     34\u001b[0m     )\n\u001b[0;32m---> 35\u001b[0m \u001b[38;5;28;01mreturn\u001b[39;00m \u001b[43mfunc\u001b[49m\u001b[43m(\u001b[49m\u001b[38;5;241;43m*\u001b[39;49m\u001b[43margs\u001b[49m\u001b[43m,\u001b[49m\u001b[43m \u001b[49m\u001b[38;5;241;43m*\u001b[39;49m\u001b[38;5;241;43m*\u001b[39;49m\u001b[43mkwargs\u001b[49m\u001b[43m)\u001b[49m\n",
      "File \u001b[0;32m~/mambaforge/envs/python310_chatbot/lib/python3.10/site-packages/langchain_community/vectorstores/chroma.py:155\u001b[0m, in \u001b[0;36mChroma.__query_collection\u001b[0;34m(self, query_texts, query_embeddings, n_results, where, where_document, **kwargs)\u001b[0m\n\u001b[1;32m    150\u001b[0m \u001b[38;5;28;01mexcept\u001b[39;00m \u001b[38;5;167;01mImportError\u001b[39;00m:\n\u001b[1;32m    151\u001b[0m     \u001b[38;5;28;01mraise\u001b[39;00m \u001b[38;5;167;01mValueError\u001b[39;00m(\n\u001b[1;32m    152\u001b[0m         \u001b[38;5;124m\"\u001b[39m\u001b[38;5;124mCould not import chromadb python package. \u001b[39m\u001b[38;5;124m\"\u001b[39m\n\u001b[1;32m    153\u001b[0m         \u001b[38;5;124m\"\u001b[39m\u001b[38;5;124mPlease install it with `pip install chromadb`.\u001b[39m\u001b[38;5;124m\"\u001b[39m\n\u001b[1;32m    154\u001b[0m     )\n\u001b[0;32m--> 155\u001b[0m \u001b[38;5;28;01mreturn\u001b[39;00m \u001b[38;5;28;43mself\u001b[39;49m\u001b[38;5;241;43m.\u001b[39;49m\u001b[43m_collection\u001b[49m\u001b[38;5;241;43m.\u001b[39;49m\u001b[43mquery\u001b[49m\u001b[43m(\u001b[49m\n\u001b[1;32m    156\u001b[0m \u001b[43m    \u001b[49m\u001b[43mquery_texts\u001b[49m\u001b[38;5;241;43m=\u001b[39;49m\u001b[43mquery_texts\u001b[49m\u001b[43m,\u001b[49m\n\u001b[1;32m    157\u001b[0m \u001b[43m    \u001b[49m\u001b[43mquery_embeddings\u001b[49m\u001b[38;5;241;43m=\u001b[39;49m\u001b[43mquery_embeddings\u001b[49m\u001b[43m,\u001b[49m\n\u001b[1;32m    158\u001b[0m \u001b[43m    \u001b[49m\u001b[43mn_results\u001b[49m\u001b[38;5;241;43m=\u001b[39;49m\u001b[43mn_results\u001b[49m\u001b[43m,\u001b[49m\n\u001b[1;32m    159\u001b[0m \u001b[43m    \u001b[49m\u001b[43mwhere\u001b[49m\u001b[38;5;241;43m=\u001b[39;49m\u001b[43mwhere\u001b[49m\u001b[43m,\u001b[49m\n\u001b[1;32m    160\u001b[0m \u001b[43m    \u001b[49m\u001b[43mwhere_document\u001b[49m\u001b[38;5;241;43m=\u001b[39;49m\u001b[43mwhere_document\u001b[49m\u001b[43m,\u001b[49m\n\u001b[1;32m    161\u001b[0m \u001b[43m    \u001b[49m\u001b[38;5;241;43m*\u001b[39;49m\u001b[38;5;241;43m*\u001b[39;49m\u001b[43mkwargs\u001b[49m\u001b[43m,\u001b[49m\n\u001b[1;32m    162\u001b[0m \u001b[43m\u001b[49m\u001b[43m)\u001b[49m\n",
      "\u001b[0;31mTypeError\u001b[0m: Collection.query() got an unexpected keyword argument 'fetch_k'"
     ]
    }
   ],
   "source": [
    "filter = {\"id\": 4}\n",
    "index.get_relevant_documents(query=\"a\", filter=filter)"
   ]
  },
  {
   "cell_type": "code",
   "execution_count": 14,
   "id": "a893db60-5cdc-4318-8303-c4505ae2cfab",
   "metadata": {},
   "outputs": [],
   "source": [
    "from langchain_community.llms import AzureOpenAI\n",
    "client = AzureOpenAI(\n",
    "    api_version=\"2024-02-15-preview\",\n",
    "    azure_endpoint=\"https://csagent.openai.azure.com/\",\n",
    "    api_key=\"346ac6661e314a9d8b91b6a99202ba42\"\n",
    ")"
   ]
  },
  {
   "cell_type": "code",
   "execution_count": 18,
   "id": "0a02cfeb-8eda-460a-b1f9-054235699ebc",
   "metadata": {},
   "outputs": [],
   "source": [
    "qa = RetrievalQAFilter.from_chain_type(\n",
    "            llm=client,\n",
    "            chain_type=\"stuff\",\n",
    "            retriever=index,\n",
    "            # chain_type_kwargs=<some_kwargs>\n",
    ")"
   ]
  },
  {
   "cell_type": "code",
   "execution_count": 24,
   "id": "08c9733a-8a5d-4aa3-8bdc-e4b2c604c947",
   "metadata": {},
   "outputs": [
    {
     "ename": "NotFoundError",
     "evalue": "Error code: 404 - {'error': {'code': '404', 'message': 'Resource not found'}}",
     "output_type": "error",
     "traceback": [
      "\u001b[0;31m---------------------------------------------------------------------------\u001b[0m",
      "\u001b[0;31mNotFoundError\u001b[0m                             Traceback (most recent call last)",
      "Cell \u001b[0;32mIn[24], line 2\u001b[0m\n\u001b[1;32m      1\u001b[0m \u001b[38;5;28mfilter\u001b[39m \u001b[38;5;241m=\u001b[39m {\u001b[38;5;124m\"\u001b[39m\u001b[38;5;124mid\u001b[39m\u001b[38;5;124m\"\u001b[39m: \u001b[38;5;241m2\u001b[39m}\n\u001b[0;32m----> 2\u001b[0m context \u001b[38;5;241m=\u001b[39m \u001b[43mqa\u001b[49m\u001b[43m(\u001b[49m\u001b[43m{\u001b[49m\u001b[38;5;124;43m\"\u001b[39;49m\u001b[38;5;124;43mquery\u001b[39;49m\u001b[38;5;124;43m\"\u001b[39;49m\u001b[43m:\u001b[49m\u001b[43m \u001b[49m\u001b[38;5;124;43m\"\u001b[39;49m\u001b[38;5;124;43m商品编码\u001b[39;49m\u001b[38;5;124;43m\"\u001b[39;49m\u001b[43m,\u001b[49m\u001b[43m \u001b[49m\u001b[38;5;124;43m\"\u001b[39;49m\u001b[38;5;124;43mfilter\u001b[39;49m\u001b[38;5;124;43m\"\u001b[39;49m\u001b[43m:\u001b[49m\u001b[43m \u001b[49m\u001b[38;5;28;43;01mNone\u001b[39;49;00m\u001b[43m}\u001b[49m\u001b[43m)\u001b[49m\n\u001b[1;32m      3\u001b[0m context \n",
      "File \u001b[0;32m~/mambaforge/envs/python310_chatbot/lib/python3.10/site-packages/langchain_core/_api/deprecation.py:145\u001b[0m, in \u001b[0;36mdeprecated.<locals>.deprecate.<locals>.warning_emitting_wrapper\u001b[0;34m(*args, **kwargs)\u001b[0m\n\u001b[1;32m    143\u001b[0m     warned \u001b[38;5;241m=\u001b[39m \u001b[38;5;28;01mTrue\u001b[39;00m\n\u001b[1;32m    144\u001b[0m     emit_warning()\n\u001b[0;32m--> 145\u001b[0m \u001b[38;5;28;01mreturn\u001b[39;00m \u001b[43mwrapped\u001b[49m\u001b[43m(\u001b[49m\u001b[38;5;241;43m*\u001b[39;49m\u001b[43margs\u001b[49m\u001b[43m,\u001b[49m\u001b[43m \u001b[49m\u001b[38;5;241;43m*\u001b[39;49m\u001b[38;5;241;43m*\u001b[39;49m\u001b[43mkwargs\u001b[49m\u001b[43m)\u001b[49m\n",
      "File \u001b[0;32m~/mambaforge/envs/python310_chatbot/lib/python3.10/site-packages/langchain/chains/base.py:378\u001b[0m, in \u001b[0;36mChain.__call__\u001b[0;34m(self, inputs, return_only_outputs, callbacks, tags, metadata, run_name, include_run_info)\u001b[0m\n\u001b[1;32m    346\u001b[0m \u001b[38;5;250m\u001b[39m\u001b[38;5;124;03m\"\"\"Execute the chain.\u001b[39;00m\n\u001b[1;32m    347\u001b[0m \n\u001b[1;32m    348\u001b[0m \u001b[38;5;124;03mArgs:\u001b[39;00m\n\u001b[0;32m   (...)\u001b[0m\n\u001b[1;32m    369\u001b[0m \u001b[38;5;124;03m        `Chain.output_keys`.\u001b[39;00m\n\u001b[1;32m    370\u001b[0m \u001b[38;5;124;03m\"\"\"\u001b[39;00m\n\u001b[1;32m    371\u001b[0m config \u001b[38;5;241m=\u001b[39m {\n\u001b[1;32m    372\u001b[0m     \u001b[38;5;124m\"\u001b[39m\u001b[38;5;124mcallbacks\u001b[39m\u001b[38;5;124m\"\u001b[39m: callbacks,\n\u001b[1;32m    373\u001b[0m     \u001b[38;5;124m\"\u001b[39m\u001b[38;5;124mtags\u001b[39m\u001b[38;5;124m\"\u001b[39m: tags,\n\u001b[1;32m    374\u001b[0m     \u001b[38;5;124m\"\u001b[39m\u001b[38;5;124mmetadata\u001b[39m\u001b[38;5;124m\"\u001b[39m: metadata,\n\u001b[1;32m    375\u001b[0m     \u001b[38;5;124m\"\u001b[39m\u001b[38;5;124mrun_name\u001b[39m\u001b[38;5;124m\"\u001b[39m: run_name,\n\u001b[1;32m    376\u001b[0m }\n\u001b[0;32m--> 378\u001b[0m \u001b[38;5;28;01mreturn\u001b[39;00m \u001b[38;5;28;43mself\u001b[39;49m\u001b[38;5;241;43m.\u001b[39;49m\u001b[43minvoke\u001b[49m\u001b[43m(\u001b[49m\n\u001b[1;32m    379\u001b[0m \u001b[43m    \u001b[49m\u001b[43minputs\u001b[49m\u001b[43m,\u001b[49m\n\u001b[1;32m    380\u001b[0m \u001b[43m    \u001b[49m\u001b[43mcast\u001b[49m\u001b[43m(\u001b[49m\u001b[43mRunnableConfig\u001b[49m\u001b[43m,\u001b[49m\u001b[43m \u001b[49m\u001b[43m{\u001b[49m\u001b[43mk\u001b[49m\u001b[43m:\u001b[49m\u001b[43m \u001b[49m\u001b[43mv\u001b[49m\u001b[43m \u001b[49m\u001b[38;5;28;43;01mfor\u001b[39;49;00m\u001b[43m \u001b[49m\u001b[43mk\u001b[49m\u001b[43m,\u001b[49m\u001b[43m \u001b[49m\u001b[43mv\u001b[49m\u001b[43m \u001b[49m\u001b[38;5;129;43;01min\u001b[39;49;00m\u001b[43m \u001b[49m\u001b[43mconfig\u001b[49m\u001b[38;5;241;43m.\u001b[39;49m\u001b[43mitems\u001b[49m\u001b[43m(\u001b[49m\u001b[43m)\u001b[49m\u001b[43m \u001b[49m\u001b[38;5;28;43;01mif\u001b[39;49;00m\u001b[43m \u001b[49m\u001b[43mv\u001b[49m\u001b[43m \u001b[49m\u001b[38;5;129;43;01mis\u001b[39;49;00m\u001b[43m \u001b[49m\u001b[38;5;129;43;01mnot\u001b[39;49;00m\u001b[43m \u001b[49m\u001b[38;5;28;43;01mNone\u001b[39;49;00m\u001b[43m}\u001b[49m\u001b[43m)\u001b[49m\u001b[43m,\u001b[49m\n\u001b[1;32m    381\u001b[0m \u001b[43m    \u001b[49m\u001b[43mreturn_only_outputs\u001b[49m\u001b[38;5;241;43m=\u001b[39;49m\u001b[43mreturn_only_outputs\u001b[49m\u001b[43m,\u001b[49m\n\u001b[1;32m    382\u001b[0m \u001b[43m    \u001b[49m\u001b[43minclude_run_info\u001b[49m\u001b[38;5;241;43m=\u001b[39;49m\u001b[43minclude_run_info\u001b[49m\u001b[43m,\u001b[49m\n\u001b[1;32m    383\u001b[0m \u001b[43m\u001b[49m\u001b[43m)\u001b[49m\n",
      "File \u001b[0;32m~/mambaforge/envs/python310_chatbot/lib/python3.10/site-packages/langchain/chains/base.py:163\u001b[0m, in \u001b[0;36mChain.invoke\u001b[0;34m(self, input, config, **kwargs)\u001b[0m\n\u001b[1;32m    161\u001b[0m \u001b[38;5;28;01mexcept\u001b[39;00m \u001b[38;5;167;01mBaseException\u001b[39;00m \u001b[38;5;28;01mas\u001b[39;00m e:\n\u001b[1;32m    162\u001b[0m     run_manager\u001b[38;5;241m.\u001b[39mon_chain_error(e)\n\u001b[0;32m--> 163\u001b[0m     \u001b[38;5;28;01mraise\u001b[39;00m e\n\u001b[1;32m    164\u001b[0m run_manager\u001b[38;5;241m.\u001b[39mon_chain_end(outputs)\n\u001b[1;32m    166\u001b[0m \u001b[38;5;28;01mif\u001b[39;00m include_run_info:\n",
      "File \u001b[0;32m~/mambaforge/envs/python310_chatbot/lib/python3.10/site-packages/langchain/chains/base.py:153\u001b[0m, in \u001b[0;36mChain.invoke\u001b[0;34m(self, input, config, **kwargs)\u001b[0m\n\u001b[1;32m    150\u001b[0m \u001b[38;5;28;01mtry\u001b[39;00m:\n\u001b[1;32m    151\u001b[0m     \u001b[38;5;28mself\u001b[39m\u001b[38;5;241m.\u001b[39m_validate_inputs(inputs)\n\u001b[1;32m    152\u001b[0m     outputs \u001b[38;5;241m=\u001b[39m (\n\u001b[0;32m--> 153\u001b[0m         \u001b[38;5;28;43mself\u001b[39;49m\u001b[38;5;241;43m.\u001b[39;49m\u001b[43m_call\u001b[49m\u001b[43m(\u001b[49m\u001b[43minputs\u001b[49m\u001b[43m,\u001b[49m\u001b[43m \u001b[49m\u001b[43mrun_manager\u001b[49m\u001b[38;5;241;43m=\u001b[39;49m\u001b[43mrun_manager\u001b[49m\u001b[43m)\u001b[49m\n\u001b[1;32m    154\u001b[0m         \u001b[38;5;28;01mif\u001b[39;00m new_arg_supported\n\u001b[1;32m    155\u001b[0m         \u001b[38;5;28;01melse\u001b[39;00m \u001b[38;5;28mself\u001b[39m\u001b[38;5;241m.\u001b[39m_call(inputs)\n\u001b[1;32m    156\u001b[0m     )\n\u001b[1;32m    158\u001b[0m     final_outputs: Dict[\u001b[38;5;28mstr\u001b[39m, Any] \u001b[38;5;241m=\u001b[39m \u001b[38;5;28mself\u001b[39m\u001b[38;5;241m.\u001b[39mprep_outputs(\n\u001b[1;32m    159\u001b[0m         inputs, outputs, return_only_outputs\n\u001b[1;32m    160\u001b[0m     )\n\u001b[1;32m    161\u001b[0m \u001b[38;5;28;01mexcept\u001b[39;00m \u001b[38;5;167;01mBaseException\u001b[39;00m \u001b[38;5;28;01mas\u001b[39;00m e:\n",
      "Cell \u001b[0;32mIn[1], line 43\u001b[0m, in \u001b[0;36mRetrievalQAFilter._call\u001b[0;34m(self, inputs, run_manager)\u001b[0m\n\u001b[1;32m     41\u001b[0m \u001b[38;5;28;01melse\u001b[39;00m:\n\u001b[1;32m     42\u001b[0m     docs \u001b[38;5;241m=\u001b[39m \u001b[38;5;28mself\u001b[39m\u001b[38;5;241m.\u001b[39m_get_docs(question, \u001b[38;5;28mfilter\u001b[39m)\n\u001b[0;32m---> 43\u001b[0m answer \u001b[38;5;241m=\u001b[39m \u001b[38;5;28;43mself\u001b[39;49m\u001b[38;5;241;43m.\u001b[39;49m\u001b[43mcombine_documents_chain\u001b[49m\u001b[38;5;241;43m.\u001b[39;49m\u001b[43mrun\u001b[49m\u001b[43m(\u001b[49m\n\u001b[1;32m     44\u001b[0m \u001b[43m    \u001b[49m\u001b[43minput_documents\u001b[49m\u001b[38;5;241;43m=\u001b[39;49m\u001b[43mdocs\u001b[49m\u001b[43m,\u001b[49m\u001b[43m \u001b[49m\u001b[43mquestion\u001b[49m\u001b[38;5;241;43m=\u001b[39;49m\u001b[43mquestion\u001b[49m\u001b[43m,\u001b[49m\u001b[43m \u001b[49m\u001b[43mcallbacks\u001b[49m\u001b[38;5;241;43m=\u001b[39;49m\u001b[43m_run_manager\u001b[49m\u001b[38;5;241;43m.\u001b[39;49m\u001b[43mget_child\u001b[49m\u001b[43m(\u001b[49m\u001b[43m)\u001b[49m\n\u001b[1;32m     45\u001b[0m \u001b[43m\u001b[49m\u001b[43m)\u001b[49m\n\u001b[1;32m     47\u001b[0m \u001b[38;5;28;01mif\u001b[39;00m \u001b[38;5;28mself\u001b[39m\u001b[38;5;241m.\u001b[39mreturn_source_documents:\n\u001b[1;32m     48\u001b[0m     \u001b[38;5;28;01mreturn\u001b[39;00m {\u001b[38;5;28mself\u001b[39m\u001b[38;5;241m.\u001b[39moutput_key: answer, \u001b[38;5;124m\"\u001b[39m\u001b[38;5;124msource_documents\u001b[39m\u001b[38;5;124m\"\u001b[39m: docs}\n",
      "File \u001b[0;32m~/mambaforge/envs/python310_chatbot/lib/python3.10/site-packages/langchain_core/_api/deprecation.py:145\u001b[0m, in \u001b[0;36mdeprecated.<locals>.deprecate.<locals>.warning_emitting_wrapper\u001b[0;34m(*args, **kwargs)\u001b[0m\n\u001b[1;32m    143\u001b[0m     warned \u001b[38;5;241m=\u001b[39m \u001b[38;5;28;01mTrue\u001b[39;00m\n\u001b[1;32m    144\u001b[0m     emit_warning()\n\u001b[0;32m--> 145\u001b[0m \u001b[38;5;28;01mreturn\u001b[39;00m \u001b[43mwrapped\u001b[49m\u001b[43m(\u001b[49m\u001b[38;5;241;43m*\u001b[39;49m\u001b[43margs\u001b[49m\u001b[43m,\u001b[49m\u001b[43m \u001b[49m\u001b[38;5;241;43m*\u001b[39;49m\u001b[38;5;241;43m*\u001b[39;49m\u001b[43mkwargs\u001b[49m\u001b[43m)\u001b[49m\n",
      "File \u001b[0;32m~/mambaforge/envs/python310_chatbot/lib/python3.10/site-packages/langchain/chains/base.py:574\u001b[0m, in \u001b[0;36mChain.run\u001b[0;34m(self, callbacks, tags, metadata, *args, **kwargs)\u001b[0m\n\u001b[1;32m    569\u001b[0m     \u001b[38;5;28;01mreturn\u001b[39;00m \u001b[38;5;28mself\u001b[39m(args[\u001b[38;5;241m0\u001b[39m], callbacks\u001b[38;5;241m=\u001b[39mcallbacks, tags\u001b[38;5;241m=\u001b[39mtags, metadata\u001b[38;5;241m=\u001b[39mmetadata)[\n\u001b[1;32m    570\u001b[0m         _output_key\n\u001b[1;32m    571\u001b[0m     ]\n\u001b[1;32m    573\u001b[0m \u001b[38;5;28;01mif\u001b[39;00m kwargs \u001b[38;5;129;01mand\u001b[39;00m \u001b[38;5;129;01mnot\u001b[39;00m args:\n\u001b[0;32m--> 574\u001b[0m     \u001b[38;5;28;01mreturn\u001b[39;00m \u001b[38;5;28;43mself\u001b[39;49m\u001b[43m(\u001b[49m\u001b[43mkwargs\u001b[49m\u001b[43m,\u001b[49m\u001b[43m \u001b[49m\u001b[43mcallbacks\u001b[49m\u001b[38;5;241;43m=\u001b[39;49m\u001b[43mcallbacks\u001b[49m\u001b[43m,\u001b[49m\u001b[43m \u001b[49m\u001b[43mtags\u001b[49m\u001b[38;5;241;43m=\u001b[39;49m\u001b[43mtags\u001b[49m\u001b[43m,\u001b[49m\u001b[43m \u001b[49m\u001b[43mmetadata\u001b[49m\u001b[38;5;241;43m=\u001b[39;49m\u001b[43mmetadata\u001b[49m\u001b[43m)\u001b[49m[\n\u001b[1;32m    575\u001b[0m         _output_key\n\u001b[1;32m    576\u001b[0m     ]\n\u001b[1;32m    578\u001b[0m \u001b[38;5;28;01mif\u001b[39;00m \u001b[38;5;129;01mnot\u001b[39;00m kwargs \u001b[38;5;129;01mand\u001b[39;00m \u001b[38;5;129;01mnot\u001b[39;00m args:\n\u001b[1;32m    579\u001b[0m     \u001b[38;5;28;01mraise\u001b[39;00m \u001b[38;5;167;01mValueError\u001b[39;00m(\n\u001b[1;32m    580\u001b[0m         \u001b[38;5;124m\"\u001b[39m\u001b[38;5;124m`run` supported with either positional arguments or keyword arguments,\u001b[39m\u001b[38;5;124m\"\u001b[39m\n\u001b[1;32m    581\u001b[0m         \u001b[38;5;124m\"\u001b[39m\u001b[38;5;124m but none were provided.\u001b[39m\u001b[38;5;124m\"\u001b[39m\n\u001b[1;32m    582\u001b[0m     )\n",
      "File \u001b[0;32m~/mambaforge/envs/python310_chatbot/lib/python3.10/site-packages/langchain_core/_api/deprecation.py:145\u001b[0m, in \u001b[0;36mdeprecated.<locals>.deprecate.<locals>.warning_emitting_wrapper\u001b[0;34m(*args, **kwargs)\u001b[0m\n\u001b[1;32m    143\u001b[0m     warned \u001b[38;5;241m=\u001b[39m \u001b[38;5;28;01mTrue\u001b[39;00m\n\u001b[1;32m    144\u001b[0m     emit_warning()\n\u001b[0;32m--> 145\u001b[0m \u001b[38;5;28;01mreturn\u001b[39;00m \u001b[43mwrapped\u001b[49m\u001b[43m(\u001b[49m\u001b[38;5;241;43m*\u001b[39;49m\u001b[43margs\u001b[49m\u001b[43m,\u001b[49m\u001b[43m \u001b[49m\u001b[38;5;241;43m*\u001b[39;49m\u001b[38;5;241;43m*\u001b[39;49m\u001b[43mkwargs\u001b[49m\u001b[43m)\u001b[49m\n",
      "File \u001b[0;32m~/mambaforge/envs/python310_chatbot/lib/python3.10/site-packages/langchain/chains/base.py:378\u001b[0m, in \u001b[0;36mChain.__call__\u001b[0;34m(self, inputs, return_only_outputs, callbacks, tags, metadata, run_name, include_run_info)\u001b[0m\n\u001b[1;32m    346\u001b[0m \u001b[38;5;250m\u001b[39m\u001b[38;5;124;03m\"\"\"Execute the chain.\u001b[39;00m\n\u001b[1;32m    347\u001b[0m \n\u001b[1;32m    348\u001b[0m \u001b[38;5;124;03mArgs:\u001b[39;00m\n\u001b[0;32m   (...)\u001b[0m\n\u001b[1;32m    369\u001b[0m \u001b[38;5;124;03m        `Chain.output_keys`.\u001b[39;00m\n\u001b[1;32m    370\u001b[0m \u001b[38;5;124;03m\"\"\"\u001b[39;00m\n\u001b[1;32m    371\u001b[0m config \u001b[38;5;241m=\u001b[39m {\n\u001b[1;32m    372\u001b[0m     \u001b[38;5;124m\"\u001b[39m\u001b[38;5;124mcallbacks\u001b[39m\u001b[38;5;124m\"\u001b[39m: callbacks,\n\u001b[1;32m    373\u001b[0m     \u001b[38;5;124m\"\u001b[39m\u001b[38;5;124mtags\u001b[39m\u001b[38;5;124m\"\u001b[39m: tags,\n\u001b[1;32m    374\u001b[0m     \u001b[38;5;124m\"\u001b[39m\u001b[38;5;124mmetadata\u001b[39m\u001b[38;5;124m\"\u001b[39m: metadata,\n\u001b[1;32m    375\u001b[0m     \u001b[38;5;124m\"\u001b[39m\u001b[38;5;124mrun_name\u001b[39m\u001b[38;5;124m\"\u001b[39m: run_name,\n\u001b[1;32m    376\u001b[0m }\n\u001b[0;32m--> 378\u001b[0m \u001b[38;5;28;01mreturn\u001b[39;00m \u001b[38;5;28;43mself\u001b[39;49m\u001b[38;5;241;43m.\u001b[39;49m\u001b[43minvoke\u001b[49m\u001b[43m(\u001b[49m\n\u001b[1;32m    379\u001b[0m \u001b[43m    \u001b[49m\u001b[43minputs\u001b[49m\u001b[43m,\u001b[49m\n\u001b[1;32m    380\u001b[0m \u001b[43m    \u001b[49m\u001b[43mcast\u001b[49m\u001b[43m(\u001b[49m\u001b[43mRunnableConfig\u001b[49m\u001b[43m,\u001b[49m\u001b[43m \u001b[49m\u001b[43m{\u001b[49m\u001b[43mk\u001b[49m\u001b[43m:\u001b[49m\u001b[43m \u001b[49m\u001b[43mv\u001b[49m\u001b[43m \u001b[49m\u001b[38;5;28;43;01mfor\u001b[39;49;00m\u001b[43m \u001b[49m\u001b[43mk\u001b[49m\u001b[43m,\u001b[49m\u001b[43m \u001b[49m\u001b[43mv\u001b[49m\u001b[43m \u001b[49m\u001b[38;5;129;43;01min\u001b[39;49;00m\u001b[43m \u001b[49m\u001b[43mconfig\u001b[49m\u001b[38;5;241;43m.\u001b[39;49m\u001b[43mitems\u001b[49m\u001b[43m(\u001b[49m\u001b[43m)\u001b[49m\u001b[43m \u001b[49m\u001b[38;5;28;43;01mif\u001b[39;49;00m\u001b[43m \u001b[49m\u001b[43mv\u001b[49m\u001b[43m \u001b[49m\u001b[38;5;129;43;01mis\u001b[39;49;00m\u001b[43m \u001b[49m\u001b[38;5;129;43;01mnot\u001b[39;49;00m\u001b[43m \u001b[49m\u001b[38;5;28;43;01mNone\u001b[39;49;00m\u001b[43m}\u001b[49m\u001b[43m)\u001b[49m\u001b[43m,\u001b[49m\n\u001b[1;32m    381\u001b[0m \u001b[43m    \u001b[49m\u001b[43mreturn_only_outputs\u001b[49m\u001b[38;5;241;43m=\u001b[39;49m\u001b[43mreturn_only_outputs\u001b[49m\u001b[43m,\u001b[49m\n\u001b[1;32m    382\u001b[0m \u001b[43m    \u001b[49m\u001b[43minclude_run_info\u001b[49m\u001b[38;5;241;43m=\u001b[39;49m\u001b[43minclude_run_info\u001b[49m\u001b[43m,\u001b[49m\n\u001b[1;32m    383\u001b[0m \u001b[43m\u001b[49m\u001b[43m)\u001b[49m\n",
      "File \u001b[0;32m~/mambaforge/envs/python310_chatbot/lib/python3.10/site-packages/langchain/chains/base.py:163\u001b[0m, in \u001b[0;36mChain.invoke\u001b[0;34m(self, input, config, **kwargs)\u001b[0m\n\u001b[1;32m    161\u001b[0m \u001b[38;5;28;01mexcept\u001b[39;00m \u001b[38;5;167;01mBaseException\u001b[39;00m \u001b[38;5;28;01mas\u001b[39;00m e:\n\u001b[1;32m    162\u001b[0m     run_manager\u001b[38;5;241m.\u001b[39mon_chain_error(e)\n\u001b[0;32m--> 163\u001b[0m     \u001b[38;5;28;01mraise\u001b[39;00m e\n\u001b[1;32m    164\u001b[0m run_manager\u001b[38;5;241m.\u001b[39mon_chain_end(outputs)\n\u001b[1;32m    166\u001b[0m \u001b[38;5;28;01mif\u001b[39;00m include_run_info:\n",
      "File \u001b[0;32m~/mambaforge/envs/python310_chatbot/lib/python3.10/site-packages/langchain/chains/base.py:153\u001b[0m, in \u001b[0;36mChain.invoke\u001b[0;34m(self, input, config, **kwargs)\u001b[0m\n\u001b[1;32m    150\u001b[0m \u001b[38;5;28;01mtry\u001b[39;00m:\n\u001b[1;32m    151\u001b[0m     \u001b[38;5;28mself\u001b[39m\u001b[38;5;241m.\u001b[39m_validate_inputs(inputs)\n\u001b[1;32m    152\u001b[0m     outputs \u001b[38;5;241m=\u001b[39m (\n\u001b[0;32m--> 153\u001b[0m         \u001b[38;5;28;43mself\u001b[39;49m\u001b[38;5;241;43m.\u001b[39;49m\u001b[43m_call\u001b[49m\u001b[43m(\u001b[49m\u001b[43minputs\u001b[49m\u001b[43m,\u001b[49m\u001b[43m \u001b[49m\u001b[43mrun_manager\u001b[49m\u001b[38;5;241;43m=\u001b[39;49m\u001b[43mrun_manager\u001b[49m\u001b[43m)\u001b[49m\n\u001b[1;32m    154\u001b[0m         \u001b[38;5;28;01mif\u001b[39;00m new_arg_supported\n\u001b[1;32m    155\u001b[0m         \u001b[38;5;28;01melse\u001b[39;00m \u001b[38;5;28mself\u001b[39m\u001b[38;5;241m.\u001b[39m_call(inputs)\n\u001b[1;32m    156\u001b[0m     )\n\u001b[1;32m    158\u001b[0m     final_outputs: Dict[\u001b[38;5;28mstr\u001b[39m, Any] \u001b[38;5;241m=\u001b[39m \u001b[38;5;28mself\u001b[39m\u001b[38;5;241m.\u001b[39mprep_outputs(\n\u001b[1;32m    159\u001b[0m         inputs, outputs, return_only_outputs\n\u001b[1;32m    160\u001b[0m     )\n\u001b[1;32m    161\u001b[0m \u001b[38;5;28;01mexcept\u001b[39;00m \u001b[38;5;167;01mBaseException\u001b[39;00m \u001b[38;5;28;01mas\u001b[39;00m e:\n",
      "File \u001b[0;32m~/mambaforge/envs/python310_chatbot/lib/python3.10/site-packages/langchain/chains/combine_documents/base.py:137\u001b[0m, in \u001b[0;36mBaseCombineDocumentsChain._call\u001b[0;34m(self, inputs, run_manager)\u001b[0m\n\u001b[1;32m    135\u001b[0m \u001b[38;5;66;03m# Other keys are assumed to be needed for LLM prediction\u001b[39;00m\n\u001b[1;32m    136\u001b[0m other_keys \u001b[38;5;241m=\u001b[39m {k: v \u001b[38;5;28;01mfor\u001b[39;00m k, v \u001b[38;5;129;01min\u001b[39;00m inputs\u001b[38;5;241m.\u001b[39mitems() \u001b[38;5;28;01mif\u001b[39;00m k \u001b[38;5;241m!=\u001b[39m \u001b[38;5;28mself\u001b[39m\u001b[38;5;241m.\u001b[39minput_key}\n\u001b[0;32m--> 137\u001b[0m output, extra_return_dict \u001b[38;5;241m=\u001b[39m \u001b[38;5;28;43mself\u001b[39;49m\u001b[38;5;241;43m.\u001b[39;49m\u001b[43mcombine_docs\u001b[49m\u001b[43m(\u001b[49m\n\u001b[1;32m    138\u001b[0m \u001b[43m    \u001b[49m\u001b[43mdocs\u001b[49m\u001b[43m,\u001b[49m\u001b[43m \u001b[49m\u001b[43mcallbacks\u001b[49m\u001b[38;5;241;43m=\u001b[39;49m\u001b[43m_run_manager\u001b[49m\u001b[38;5;241;43m.\u001b[39;49m\u001b[43mget_child\u001b[49m\u001b[43m(\u001b[49m\u001b[43m)\u001b[49m\u001b[43m,\u001b[49m\u001b[43m \u001b[49m\u001b[38;5;241;43m*\u001b[39;49m\u001b[38;5;241;43m*\u001b[39;49m\u001b[43mother_keys\u001b[49m\n\u001b[1;32m    139\u001b[0m \u001b[43m\u001b[49m\u001b[43m)\u001b[49m\n\u001b[1;32m    140\u001b[0m extra_return_dict[\u001b[38;5;28mself\u001b[39m\u001b[38;5;241m.\u001b[39moutput_key] \u001b[38;5;241m=\u001b[39m output\n\u001b[1;32m    141\u001b[0m \u001b[38;5;28;01mreturn\u001b[39;00m extra_return_dict\n",
      "File \u001b[0;32m~/mambaforge/envs/python310_chatbot/lib/python3.10/site-packages/langchain/chains/combine_documents/stuff.py:244\u001b[0m, in \u001b[0;36mStuffDocumentsChain.combine_docs\u001b[0;34m(self, docs, callbacks, **kwargs)\u001b[0m\n\u001b[1;32m    242\u001b[0m inputs \u001b[38;5;241m=\u001b[39m \u001b[38;5;28mself\u001b[39m\u001b[38;5;241m.\u001b[39m_get_inputs(docs, \u001b[38;5;241m*\u001b[39m\u001b[38;5;241m*\u001b[39mkwargs)\n\u001b[1;32m    243\u001b[0m \u001b[38;5;66;03m# Call predict on the LLM.\u001b[39;00m\n\u001b[0;32m--> 244\u001b[0m \u001b[38;5;28;01mreturn\u001b[39;00m \u001b[38;5;28;43mself\u001b[39;49m\u001b[38;5;241;43m.\u001b[39;49m\u001b[43mllm_chain\u001b[49m\u001b[38;5;241;43m.\u001b[39;49m\u001b[43mpredict\u001b[49m\u001b[43m(\u001b[49m\u001b[43mcallbacks\u001b[49m\u001b[38;5;241;43m=\u001b[39;49m\u001b[43mcallbacks\u001b[49m\u001b[43m,\u001b[49m\u001b[43m \u001b[49m\u001b[38;5;241;43m*\u001b[39;49m\u001b[38;5;241;43m*\u001b[39;49m\u001b[43minputs\u001b[49m\u001b[43m)\u001b[49m, {}\n",
      "File \u001b[0;32m~/mambaforge/envs/python310_chatbot/lib/python3.10/site-packages/langchain/chains/llm.py:293\u001b[0m, in \u001b[0;36mLLMChain.predict\u001b[0;34m(self, callbacks, **kwargs)\u001b[0m\n\u001b[1;32m    278\u001b[0m \u001b[38;5;28;01mdef\u001b[39;00m \u001b[38;5;21mpredict\u001b[39m(\u001b[38;5;28mself\u001b[39m, callbacks: Callbacks \u001b[38;5;241m=\u001b[39m \u001b[38;5;28;01mNone\u001b[39;00m, \u001b[38;5;241m*\u001b[39m\u001b[38;5;241m*\u001b[39mkwargs: Any) \u001b[38;5;241m-\u001b[39m\u001b[38;5;241m>\u001b[39m \u001b[38;5;28mstr\u001b[39m:\n\u001b[1;32m    279\u001b[0m \u001b[38;5;250m    \u001b[39m\u001b[38;5;124;03m\"\"\"Format prompt with kwargs and pass to LLM.\u001b[39;00m\n\u001b[1;32m    280\u001b[0m \n\u001b[1;32m    281\u001b[0m \u001b[38;5;124;03m    Args:\u001b[39;00m\n\u001b[0;32m   (...)\u001b[0m\n\u001b[1;32m    291\u001b[0m \u001b[38;5;124;03m            completion = llm.predict(adjective=\"funny\")\u001b[39;00m\n\u001b[1;32m    292\u001b[0m \u001b[38;5;124;03m    \"\"\"\u001b[39;00m\n\u001b[0;32m--> 293\u001b[0m     \u001b[38;5;28;01mreturn\u001b[39;00m \u001b[38;5;28;43mself\u001b[39;49m\u001b[43m(\u001b[49m\u001b[43mkwargs\u001b[49m\u001b[43m,\u001b[49m\u001b[43m \u001b[49m\u001b[43mcallbacks\u001b[49m\u001b[38;5;241;43m=\u001b[39;49m\u001b[43mcallbacks\u001b[49m\u001b[43m)\u001b[49m[\u001b[38;5;28mself\u001b[39m\u001b[38;5;241m.\u001b[39moutput_key]\n",
      "File \u001b[0;32m~/mambaforge/envs/python310_chatbot/lib/python3.10/site-packages/langchain_core/_api/deprecation.py:145\u001b[0m, in \u001b[0;36mdeprecated.<locals>.deprecate.<locals>.warning_emitting_wrapper\u001b[0;34m(*args, **kwargs)\u001b[0m\n\u001b[1;32m    143\u001b[0m     warned \u001b[38;5;241m=\u001b[39m \u001b[38;5;28;01mTrue\u001b[39;00m\n\u001b[1;32m    144\u001b[0m     emit_warning()\n\u001b[0;32m--> 145\u001b[0m \u001b[38;5;28;01mreturn\u001b[39;00m \u001b[43mwrapped\u001b[49m\u001b[43m(\u001b[49m\u001b[38;5;241;43m*\u001b[39;49m\u001b[43margs\u001b[49m\u001b[43m,\u001b[49m\u001b[43m \u001b[49m\u001b[38;5;241;43m*\u001b[39;49m\u001b[38;5;241;43m*\u001b[39;49m\u001b[43mkwargs\u001b[49m\u001b[43m)\u001b[49m\n",
      "File \u001b[0;32m~/mambaforge/envs/python310_chatbot/lib/python3.10/site-packages/langchain/chains/base.py:378\u001b[0m, in \u001b[0;36mChain.__call__\u001b[0;34m(self, inputs, return_only_outputs, callbacks, tags, metadata, run_name, include_run_info)\u001b[0m\n\u001b[1;32m    346\u001b[0m \u001b[38;5;250m\u001b[39m\u001b[38;5;124;03m\"\"\"Execute the chain.\u001b[39;00m\n\u001b[1;32m    347\u001b[0m \n\u001b[1;32m    348\u001b[0m \u001b[38;5;124;03mArgs:\u001b[39;00m\n\u001b[0;32m   (...)\u001b[0m\n\u001b[1;32m    369\u001b[0m \u001b[38;5;124;03m        `Chain.output_keys`.\u001b[39;00m\n\u001b[1;32m    370\u001b[0m \u001b[38;5;124;03m\"\"\"\u001b[39;00m\n\u001b[1;32m    371\u001b[0m config \u001b[38;5;241m=\u001b[39m {\n\u001b[1;32m    372\u001b[0m     \u001b[38;5;124m\"\u001b[39m\u001b[38;5;124mcallbacks\u001b[39m\u001b[38;5;124m\"\u001b[39m: callbacks,\n\u001b[1;32m    373\u001b[0m     \u001b[38;5;124m\"\u001b[39m\u001b[38;5;124mtags\u001b[39m\u001b[38;5;124m\"\u001b[39m: tags,\n\u001b[1;32m    374\u001b[0m     \u001b[38;5;124m\"\u001b[39m\u001b[38;5;124mmetadata\u001b[39m\u001b[38;5;124m\"\u001b[39m: metadata,\n\u001b[1;32m    375\u001b[0m     \u001b[38;5;124m\"\u001b[39m\u001b[38;5;124mrun_name\u001b[39m\u001b[38;5;124m\"\u001b[39m: run_name,\n\u001b[1;32m    376\u001b[0m }\n\u001b[0;32m--> 378\u001b[0m \u001b[38;5;28;01mreturn\u001b[39;00m \u001b[38;5;28;43mself\u001b[39;49m\u001b[38;5;241;43m.\u001b[39;49m\u001b[43minvoke\u001b[49m\u001b[43m(\u001b[49m\n\u001b[1;32m    379\u001b[0m \u001b[43m    \u001b[49m\u001b[43minputs\u001b[49m\u001b[43m,\u001b[49m\n\u001b[1;32m    380\u001b[0m \u001b[43m    \u001b[49m\u001b[43mcast\u001b[49m\u001b[43m(\u001b[49m\u001b[43mRunnableConfig\u001b[49m\u001b[43m,\u001b[49m\u001b[43m \u001b[49m\u001b[43m{\u001b[49m\u001b[43mk\u001b[49m\u001b[43m:\u001b[49m\u001b[43m \u001b[49m\u001b[43mv\u001b[49m\u001b[43m \u001b[49m\u001b[38;5;28;43;01mfor\u001b[39;49;00m\u001b[43m \u001b[49m\u001b[43mk\u001b[49m\u001b[43m,\u001b[49m\u001b[43m \u001b[49m\u001b[43mv\u001b[49m\u001b[43m \u001b[49m\u001b[38;5;129;43;01min\u001b[39;49;00m\u001b[43m \u001b[49m\u001b[43mconfig\u001b[49m\u001b[38;5;241;43m.\u001b[39;49m\u001b[43mitems\u001b[49m\u001b[43m(\u001b[49m\u001b[43m)\u001b[49m\u001b[43m \u001b[49m\u001b[38;5;28;43;01mif\u001b[39;49;00m\u001b[43m \u001b[49m\u001b[43mv\u001b[49m\u001b[43m \u001b[49m\u001b[38;5;129;43;01mis\u001b[39;49;00m\u001b[43m \u001b[49m\u001b[38;5;129;43;01mnot\u001b[39;49;00m\u001b[43m \u001b[49m\u001b[38;5;28;43;01mNone\u001b[39;49;00m\u001b[43m}\u001b[49m\u001b[43m)\u001b[49m\u001b[43m,\u001b[49m\n\u001b[1;32m    381\u001b[0m \u001b[43m    \u001b[49m\u001b[43mreturn_only_outputs\u001b[49m\u001b[38;5;241;43m=\u001b[39;49m\u001b[43mreturn_only_outputs\u001b[49m\u001b[43m,\u001b[49m\n\u001b[1;32m    382\u001b[0m \u001b[43m    \u001b[49m\u001b[43minclude_run_info\u001b[49m\u001b[38;5;241;43m=\u001b[39;49m\u001b[43minclude_run_info\u001b[49m\u001b[43m,\u001b[49m\n\u001b[1;32m    383\u001b[0m \u001b[43m\u001b[49m\u001b[43m)\u001b[49m\n",
      "File \u001b[0;32m~/mambaforge/envs/python310_chatbot/lib/python3.10/site-packages/langchain/chains/base.py:163\u001b[0m, in \u001b[0;36mChain.invoke\u001b[0;34m(self, input, config, **kwargs)\u001b[0m\n\u001b[1;32m    161\u001b[0m \u001b[38;5;28;01mexcept\u001b[39;00m \u001b[38;5;167;01mBaseException\u001b[39;00m \u001b[38;5;28;01mas\u001b[39;00m e:\n\u001b[1;32m    162\u001b[0m     run_manager\u001b[38;5;241m.\u001b[39mon_chain_error(e)\n\u001b[0;32m--> 163\u001b[0m     \u001b[38;5;28;01mraise\u001b[39;00m e\n\u001b[1;32m    164\u001b[0m run_manager\u001b[38;5;241m.\u001b[39mon_chain_end(outputs)\n\u001b[1;32m    166\u001b[0m \u001b[38;5;28;01mif\u001b[39;00m include_run_info:\n",
      "File \u001b[0;32m~/mambaforge/envs/python310_chatbot/lib/python3.10/site-packages/langchain/chains/base.py:153\u001b[0m, in \u001b[0;36mChain.invoke\u001b[0;34m(self, input, config, **kwargs)\u001b[0m\n\u001b[1;32m    150\u001b[0m \u001b[38;5;28;01mtry\u001b[39;00m:\n\u001b[1;32m    151\u001b[0m     \u001b[38;5;28mself\u001b[39m\u001b[38;5;241m.\u001b[39m_validate_inputs(inputs)\n\u001b[1;32m    152\u001b[0m     outputs \u001b[38;5;241m=\u001b[39m (\n\u001b[0;32m--> 153\u001b[0m         \u001b[38;5;28;43mself\u001b[39;49m\u001b[38;5;241;43m.\u001b[39;49m\u001b[43m_call\u001b[49m\u001b[43m(\u001b[49m\u001b[43minputs\u001b[49m\u001b[43m,\u001b[49m\u001b[43m \u001b[49m\u001b[43mrun_manager\u001b[49m\u001b[38;5;241;43m=\u001b[39;49m\u001b[43mrun_manager\u001b[49m\u001b[43m)\u001b[49m\n\u001b[1;32m    154\u001b[0m         \u001b[38;5;28;01mif\u001b[39;00m new_arg_supported\n\u001b[1;32m    155\u001b[0m         \u001b[38;5;28;01melse\u001b[39;00m \u001b[38;5;28mself\u001b[39m\u001b[38;5;241m.\u001b[39m_call(inputs)\n\u001b[1;32m    156\u001b[0m     )\n\u001b[1;32m    158\u001b[0m     final_outputs: Dict[\u001b[38;5;28mstr\u001b[39m, Any] \u001b[38;5;241m=\u001b[39m \u001b[38;5;28mself\u001b[39m\u001b[38;5;241m.\u001b[39mprep_outputs(\n\u001b[1;32m    159\u001b[0m         inputs, outputs, return_only_outputs\n\u001b[1;32m    160\u001b[0m     )\n\u001b[1;32m    161\u001b[0m \u001b[38;5;28;01mexcept\u001b[39;00m \u001b[38;5;167;01mBaseException\u001b[39;00m \u001b[38;5;28;01mas\u001b[39;00m e:\n",
      "File \u001b[0;32m~/mambaforge/envs/python310_chatbot/lib/python3.10/site-packages/langchain/chains/llm.py:103\u001b[0m, in \u001b[0;36mLLMChain._call\u001b[0;34m(self, inputs, run_manager)\u001b[0m\n\u001b[1;32m     98\u001b[0m \u001b[38;5;28;01mdef\u001b[39;00m \u001b[38;5;21m_call\u001b[39m(\n\u001b[1;32m     99\u001b[0m     \u001b[38;5;28mself\u001b[39m,\n\u001b[1;32m    100\u001b[0m     inputs: Dict[\u001b[38;5;28mstr\u001b[39m, Any],\n\u001b[1;32m    101\u001b[0m     run_manager: Optional[CallbackManagerForChainRun] \u001b[38;5;241m=\u001b[39m \u001b[38;5;28;01mNone\u001b[39;00m,\n\u001b[1;32m    102\u001b[0m ) \u001b[38;5;241m-\u001b[39m\u001b[38;5;241m>\u001b[39m Dict[\u001b[38;5;28mstr\u001b[39m, \u001b[38;5;28mstr\u001b[39m]:\n\u001b[0;32m--> 103\u001b[0m     response \u001b[38;5;241m=\u001b[39m \u001b[38;5;28;43mself\u001b[39;49m\u001b[38;5;241;43m.\u001b[39;49m\u001b[43mgenerate\u001b[49m\u001b[43m(\u001b[49m\u001b[43m[\u001b[49m\u001b[43minputs\u001b[49m\u001b[43m]\u001b[49m\u001b[43m,\u001b[49m\u001b[43m \u001b[49m\u001b[43mrun_manager\u001b[49m\u001b[38;5;241;43m=\u001b[39;49m\u001b[43mrun_manager\u001b[49m\u001b[43m)\u001b[49m\n\u001b[1;32m    104\u001b[0m     \u001b[38;5;28;01mreturn\u001b[39;00m \u001b[38;5;28mself\u001b[39m\u001b[38;5;241m.\u001b[39mcreate_outputs(response)[\u001b[38;5;241m0\u001b[39m]\n",
      "File \u001b[0;32m~/mambaforge/envs/python310_chatbot/lib/python3.10/site-packages/langchain/chains/llm.py:115\u001b[0m, in \u001b[0;36mLLMChain.generate\u001b[0;34m(self, input_list, run_manager)\u001b[0m\n\u001b[1;32m    113\u001b[0m callbacks \u001b[38;5;241m=\u001b[39m run_manager\u001b[38;5;241m.\u001b[39mget_child() \u001b[38;5;28;01mif\u001b[39;00m run_manager \u001b[38;5;28;01melse\u001b[39;00m \u001b[38;5;28;01mNone\u001b[39;00m\n\u001b[1;32m    114\u001b[0m \u001b[38;5;28;01mif\u001b[39;00m \u001b[38;5;28misinstance\u001b[39m(\u001b[38;5;28mself\u001b[39m\u001b[38;5;241m.\u001b[39mllm, BaseLanguageModel):\n\u001b[0;32m--> 115\u001b[0m     \u001b[38;5;28;01mreturn\u001b[39;00m \u001b[38;5;28;43mself\u001b[39;49m\u001b[38;5;241;43m.\u001b[39;49m\u001b[43mllm\u001b[49m\u001b[38;5;241;43m.\u001b[39;49m\u001b[43mgenerate_prompt\u001b[49m\u001b[43m(\u001b[49m\n\u001b[1;32m    116\u001b[0m \u001b[43m        \u001b[49m\u001b[43mprompts\u001b[49m\u001b[43m,\u001b[49m\n\u001b[1;32m    117\u001b[0m \u001b[43m        \u001b[49m\u001b[43mstop\u001b[49m\u001b[43m,\u001b[49m\n\u001b[1;32m    118\u001b[0m \u001b[43m        \u001b[49m\u001b[43mcallbacks\u001b[49m\u001b[38;5;241;43m=\u001b[39;49m\u001b[43mcallbacks\u001b[49m\u001b[43m,\u001b[49m\n\u001b[1;32m    119\u001b[0m \u001b[43m        \u001b[49m\u001b[38;5;241;43m*\u001b[39;49m\u001b[38;5;241;43m*\u001b[39;49m\u001b[38;5;28;43mself\u001b[39;49m\u001b[38;5;241;43m.\u001b[39;49m\u001b[43mllm_kwargs\u001b[49m\u001b[43m,\u001b[49m\n\u001b[1;32m    120\u001b[0m \u001b[43m    \u001b[49m\u001b[43m)\u001b[49m\n\u001b[1;32m    121\u001b[0m \u001b[38;5;28;01melse\u001b[39;00m:\n\u001b[1;32m    122\u001b[0m     results \u001b[38;5;241m=\u001b[39m \u001b[38;5;28mself\u001b[39m\u001b[38;5;241m.\u001b[39mllm\u001b[38;5;241m.\u001b[39mbind(stop\u001b[38;5;241m=\u001b[39mstop, \u001b[38;5;241m*\u001b[39m\u001b[38;5;241m*\u001b[39m\u001b[38;5;28mself\u001b[39m\u001b[38;5;241m.\u001b[39mllm_kwargs)\u001b[38;5;241m.\u001b[39mbatch(\n\u001b[1;32m    123\u001b[0m         cast(List, prompts), {\u001b[38;5;124m\"\u001b[39m\u001b[38;5;124mcallbacks\u001b[39m\u001b[38;5;124m\"\u001b[39m: callbacks}\n\u001b[1;32m    124\u001b[0m     )\n",
      "File \u001b[0;32m~/mambaforge/envs/python310_chatbot/lib/python3.10/site-packages/langchain_core/language_models/llms.py:597\u001b[0m, in \u001b[0;36mBaseLLM.generate_prompt\u001b[0;34m(self, prompts, stop, callbacks, **kwargs)\u001b[0m\n\u001b[1;32m    589\u001b[0m \u001b[38;5;28;01mdef\u001b[39;00m \u001b[38;5;21mgenerate_prompt\u001b[39m(\n\u001b[1;32m    590\u001b[0m     \u001b[38;5;28mself\u001b[39m,\n\u001b[1;32m    591\u001b[0m     prompts: List[PromptValue],\n\u001b[0;32m   (...)\u001b[0m\n\u001b[1;32m    594\u001b[0m     \u001b[38;5;241m*\u001b[39m\u001b[38;5;241m*\u001b[39mkwargs: Any,\n\u001b[1;32m    595\u001b[0m ) \u001b[38;5;241m-\u001b[39m\u001b[38;5;241m>\u001b[39m LLMResult:\n\u001b[1;32m    596\u001b[0m     prompt_strings \u001b[38;5;241m=\u001b[39m [p\u001b[38;5;241m.\u001b[39mto_string() \u001b[38;5;28;01mfor\u001b[39;00m p \u001b[38;5;129;01min\u001b[39;00m prompts]\n\u001b[0;32m--> 597\u001b[0m     \u001b[38;5;28;01mreturn\u001b[39;00m \u001b[38;5;28;43mself\u001b[39;49m\u001b[38;5;241;43m.\u001b[39;49m\u001b[43mgenerate\u001b[49m\u001b[43m(\u001b[49m\u001b[43mprompt_strings\u001b[49m\u001b[43m,\u001b[49m\u001b[43m \u001b[49m\u001b[43mstop\u001b[49m\u001b[38;5;241;43m=\u001b[39;49m\u001b[43mstop\u001b[49m\u001b[43m,\u001b[49m\u001b[43m \u001b[49m\u001b[43mcallbacks\u001b[49m\u001b[38;5;241;43m=\u001b[39;49m\u001b[43mcallbacks\u001b[49m\u001b[43m,\u001b[49m\u001b[43m \u001b[49m\u001b[38;5;241;43m*\u001b[39;49m\u001b[38;5;241;43m*\u001b[39;49m\u001b[43mkwargs\u001b[49m\u001b[43m)\u001b[49m\n",
      "File \u001b[0;32m~/mambaforge/envs/python310_chatbot/lib/python3.10/site-packages/langchain_core/language_models/llms.py:767\u001b[0m, in \u001b[0;36mBaseLLM.generate\u001b[0;34m(self, prompts, stop, callbacks, tags, metadata, run_name, run_id, **kwargs)\u001b[0m\n\u001b[1;32m    752\u001b[0m \u001b[38;5;28;01mif\u001b[39;00m (\u001b[38;5;28mself\u001b[39m\u001b[38;5;241m.\u001b[39mcache \u001b[38;5;129;01mis\u001b[39;00m \u001b[38;5;28;01mNone\u001b[39;00m \u001b[38;5;129;01mand\u001b[39;00m get_llm_cache() \u001b[38;5;129;01mis\u001b[39;00m \u001b[38;5;28;01mNone\u001b[39;00m) \u001b[38;5;129;01mor\u001b[39;00m \u001b[38;5;28mself\u001b[39m\u001b[38;5;241m.\u001b[39mcache \u001b[38;5;129;01mis\u001b[39;00m \u001b[38;5;28;01mFalse\u001b[39;00m:\n\u001b[1;32m    753\u001b[0m     run_managers \u001b[38;5;241m=\u001b[39m [\n\u001b[1;32m    754\u001b[0m         callback_manager\u001b[38;5;241m.\u001b[39mon_llm_start(\n\u001b[1;32m    755\u001b[0m             dumpd(\u001b[38;5;28mself\u001b[39m),\n\u001b[0;32m   (...)\u001b[0m\n\u001b[1;32m    765\u001b[0m         )\n\u001b[1;32m    766\u001b[0m     ]\n\u001b[0;32m--> 767\u001b[0m     output \u001b[38;5;241m=\u001b[39m \u001b[38;5;28;43mself\u001b[39;49m\u001b[38;5;241;43m.\u001b[39;49m\u001b[43m_generate_helper\u001b[49m\u001b[43m(\u001b[49m\n\u001b[1;32m    768\u001b[0m \u001b[43m        \u001b[49m\u001b[43mprompts\u001b[49m\u001b[43m,\u001b[49m\u001b[43m \u001b[49m\u001b[43mstop\u001b[49m\u001b[43m,\u001b[49m\u001b[43m \u001b[49m\u001b[43mrun_managers\u001b[49m\u001b[43m,\u001b[49m\u001b[43m \u001b[49m\u001b[38;5;28;43mbool\u001b[39;49m\u001b[43m(\u001b[49m\u001b[43mnew_arg_supported\u001b[49m\u001b[43m)\u001b[49m\u001b[43m,\u001b[49m\u001b[43m \u001b[49m\u001b[38;5;241;43m*\u001b[39;49m\u001b[38;5;241;43m*\u001b[39;49m\u001b[43mkwargs\u001b[49m\n\u001b[1;32m    769\u001b[0m \u001b[43m    \u001b[49m\u001b[43m)\u001b[49m\n\u001b[1;32m    770\u001b[0m     \u001b[38;5;28;01mreturn\u001b[39;00m output\n\u001b[1;32m    771\u001b[0m \u001b[38;5;28;01mif\u001b[39;00m \u001b[38;5;28mlen\u001b[39m(missing_prompts) \u001b[38;5;241m>\u001b[39m \u001b[38;5;241m0\u001b[39m:\n",
      "File \u001b[0;32m~/mambaforge/envs/python310_chatbot/lib/python3.10/site-packages/langchain_core/language_models/llms.py:634\u001b[0m, in \u001b[0;36mBaseLLM._generate_helper\u001b[0;34m(self, prompts, stop, run_managers, new_arg_supported, **kwargs)\u001b[0m\n\u001b[1;32m    632\u001b[0m     \u001b[38;5;28;01mfor\u001b[39;00m run_manager \u001b[38;5;129;01min\u001b[39;00m run_managers:\n\u001b[1;32m    633\u001b[0m         run_manager\u001b[38;5;241m.\u001b[39mon_llm_error(e, response\u001b[38;5;241m=\u001b[39mLLMResult(generations\u001b[38;5;241m=\u001b[39m[]))\n\u001b[0;32m--> 634\u001b[0m     \u001b[38;5;28;01mraise\u001b[39;00m e\n\u001b[1;32m    635\u001b[0m flattened_outputs \u001b[38;5;241m=\u001b[39m output\u001b[38;5;241m.\u001b[39mflatten()\n\u001b[1;32m    636\u001b[0m \u001b[38;5;28;01mfor\u001b[39;00m manager, flattened_output \u001b[38;5;129;01min\u001b[39;00m \u001b[38;5;28mzip\u001b[39m(run_managers, flattened_outputs):\n",
      "File \u001b[0;32m~/mambaforge/envs/python310_chatbot/lib/python3.10/site-packages/langchain_core/language_models/llms.py:621\u001b[0m, in \u001b[0;36mBaseLLM._generate_helper\u001b[0;34m(self, prompts, stop, run_managers, new_arg_supported, **kwargs)\u001b[0m\n\u001b[1;32m    611\u001b[0m \u001b[38;5;28;01mdef\u001b[39;00m \u001b[38;5;21m_generate_helper\u001b[39m(\n\u001b[1;32m    612\u001b[0m     \u001b[38;5;28mself\u001b[39m,\n\u001b[1;32m    613\u001b[0m     prompts: List[\u001b[38;5;28mstr\u001b[39m],\n\u001b[0;32m   (...)\u001b[0m\n\u001b[1;32m    617\u001b[0m     \u001b[38;5;241m*\u001b[39m\u001b[38;5;241m*\u001b[39mkwargs: Any,\n\u001b[1;32m    618\u001b[0m ) \u001b[38;5;241m-\u001b[39m\u001b[38;5;241m>\u001b[39m LLMResult:\n\u001b[1;32m    619\u001b[0m     \u001b[38;5;28;01mtry\u001b[39;00m:\n\u001b[1;32m    620\u001b[0m         output \u001b[38;5;241m=\u001b[39m (\n\u001b[0;32m--> 621\u001b[0m             \u001b[38;5;28;43mself\u001b[39;49m\u001b[38;5;241;43m.\u001b[39;49m\u001b[43m_generate\u001b[49m\u001b[43m(\u001b[49m\n\u001b[1;32m    622\u001b[0m \u001b[43m                \u001b[49m\u001b[43mprompts\u001b[49m\u001b[43m,\u001b[49m\n\u001b[1;32m    623\u001b[0m \u001b[43m                \u001b[49m\u001b[43mstop\u001b[49m\u001b[38;5;241;43m=\u001b[39;49m\u001b[43mstop\u001b[49m\u001b[43m,\u001b[49m\n\u001b[1;32m    624\u001b[0m \u001b[43m                \u001b[49m\u001b[38;5;66;43;03m# TODO: support multiple run managers\u001b[39;49;00m\n\u001b[1;32m    625\u001b[0m \u001b[43m                \u001b[49m\u001b[43mrun_manager\u001b[49m\u001b[38;5;241;43m=\u001b[39;49m\u001b[43mrun_managers\u001b[49m\u001b[43m[\u001b[49m\u001b[38;5;241;43m0\u001b[39;49m\u001b[43m]\u001b[49m\u001b[43m \u001b[49m\u001b[38;5;28;43;01mif\u001b[39;49;00m\u001b[43m \u001b[49m\u001b[43mrun_managers\u001b[49m\u001b[43m \u001b[49m\u001b[38;5;28;43;01melse\u001b[39;49;00m\u001b[43m \u001b[49m\u001b[38;5;28;43;01mNone\u001b[39;49;00m\u001b[43m,\u001b[49m\n\u001b[1;32m    626\u001b[0m \u001b[43m                \u001b[49m\u001b[38;5;241;43m*\u001b[39;49m\u001b[38;5;241;43m*\u001b[39;49m\u001b[43mkwargs\u001b[49m\u001b[43m,\u001b[49m\n\u001b[1;32m    627\u001b[0m \u001b[43m            \u001b[49m\u001b[43m)\u001b[49m\n\u001b[1;32m    628\u001b[0m             \u001b[38;5;28;01mif\u001b[39;00m new_arg_supported\n\u001b[1;32m    629\u001b[0m             \u001b[38;5;28;01melse\u001b[39;00m \u001b[38;5;28mself\u001b[39m\u001b[38;5;241m.\u001b[39m_generate(prompts, stop\u001b[38;5;241m=\u001b[39mstop)\n\u001b[1;32m    630\u001b[0m         )\n\u001b[1;32m    631\u001b[0m     \u001b[38;5;28;01mexcept\u001b[39;00m \u001b[38;5;167;01mBaseException\u001b[39;00m \u001b[38;5;28;01mas\u001b[39;00m e:\n\u001b[1;32m    632\u001b[0m         \u001b[38;5;28;01mfor\u001b[39;00m run_manager \u001b[38;5;129;01min\u001b[39;00m run_managers:\n",
      "File \u001b[0;32m~/mambaforge/envs/python310_chatbot/lib/python3.10/site-packages/langchain_community/llms/openai.py:460\u001b[0m, in \u001b[0;36mBaseOpenAI._generate\u001b[0;34m(self, prompts, stop, run_manager, **kwargs)\u001b[0m\n\u001b[1;32m    448\u001b[0m     choices\u001b[38;5;241m.\u001b[39mappend(\n\u001b[1;32m    449\u001b[0m         {\n\u001b[1;32m    450\u001b[0m             \u001b[38;5;124m\"\u001b[39m\u001b[38;5;124mtext\u001b[39m\u001b[38;5;124m\"\u001b[39m: generation\u001b[38;5;241m.\u001b[39mtext,\n\u001b[0;32m   (...)\u001b[0m\n\u001b[1;32m    457\u001b[0m         }\n\u001b[1;32m    458\u001b[0m     )\n\u001b[1;32m    459\u001b[0m \u001b[38;5;28;01melse\u001b[39;00m:\n\u001b[0;32m--> 460\u001b[0m     response \u001b[38;5;241m=\u001b[39m \u001b[43mcompletion_with_retry\u001b[49m\u001b[43m(\u001b[49m\n\u001b[1;32m    461\u001b[0m \u001b[43m        \u001b[49m\u001b[38;5;28;43mself\u001b[39;49m\u001b[43m,\u001b[49m\u001b[43m \u001b[49m\u001b[43mprompt\u001b[49m\u001b[38;5;241;43m=\u001b[39;49m\u001b[43m_prompts\u001b[49m\u001b[43m,\u001b[49m\u001b[43m \u001b[49m\u001b[43mrun_manager\u001b[49m\u001b[38;5;241;43m=\u001b[39;49m\u001b[43mrun_manager\u001b[49m\u001b[43m,\u001b[49m\u001b[43m \u001b[49m\u001b[38;5;241;43m*\u001b[39;49m\u001b[38;5;241;43m*\u001b[39;49m\u001b[43mparams\u001b[49m\n\u001b[1;32m    462\u001b[0m \u001b[43m    \u001b[49m\u001b[43m)\u001b[49m\n\u001b[1;32m    463\u001b[0m     \u001b[38;5;28;01mif\u001b[39;00m \u001b[38;5;129;01mnot\u001b[39;00m \u001b[38;5;28misinstance\u001b[39m(response, \u001b[38;5;28mdict\u001b[39m):\n\u001b[1;32m    464\u001b[0m         \u001b[38;5;66;03m# V1 client returns the response in an PyDantic object instead of\u001b[39;00m\n\u001b[1;32m    465\u001b[0m         \u001b[38;5;66;03m# dict. For the transition period, we deep convert it to dict.\u001b[39;00m\n\u001b[1;32m    466\u001b[0m         response \u001b[38;5;241m=\u001b[39m response\u001b[38;5;241m.\u001b[39mdict()\n",
      "File \u001b[0;32m~/mambaforge/envs/python310_chatbot/lib/python3.10/site-packages/langchain_community/llms/openai.py:115\u001b[0m, in \u001b[0;36mcompletion_with_retry\u001b[0;34m(llm, run_manager, **kwargs)\u001b[0m\n\u001b[1;32m    113\u001b[0m \u001b[38;5;250m\u001b[39m\u001b[38;5;124;03m\"\"\"Use tenacity to retry the completion call.\"\"\"\u001b[39;00m\n\u001b[1;32m    114\u001b[0m \u001b[38;5;28;01mif\u001b[39;00m is_openai_v1():\n\u001b[0;32m--> 115\u001b[0m     \u001b[38;5;28;01mreturn\u001b[39;00m \u001b[43mllm\u001b[49m\u001b[38;5;241;43m.\u001b[39;49m\u001b[43mclient\u001b[49m\u001b[38;5;241;43m.\u001b[39;49m\u001b[43mcreate\u001b[49m\u001b[43m(\u001b[49m\u001b[38;5;241;43m*\u001b[39;49m\u001b[38;5;241;43m*\u001b[39;49m\u001b[43mkwargs\u001b[49m\u001b[43m)\u001b[49m\n\u001b[1;32m    117\u001b[0m retry_decorator \u001b[38;5;241m=\u001b[39m _create_retry_decorator(llm, run_manager\u001b[38;5;241m=\u001b[39mrun_manager)\n\u001b[1;32m    119\u001b[0m \u001b[38;5;129m@retry_decorator\u001b[39m\n\u001b[1;32m    120\u001b[0m \u001b[38;5;28;01mdef\u001b[39;00m \u001b[38;5;21m_completion_with_retry\u001b[39m(\u001b[38;5;241m*\u001b[39m\u001b[38;5;241m*\u001b[39mkwargs: Any) \u001b[38;5;241m-\u001b[39m\u001b[38;5;241m>\u001b[39m Any:\n",
      "File \u001b[0;32m~/mambaforge/envs/python310_chatbot/lib/python3.10/site-packages/openai/_utils/_utils.py:275\u001b[0m, in \u001b[0;36mrequired_args.<locals>.inner.<locals>.wrapper\u001b[0;34m(*args, **kwargs)\u001b[0m\n\u001b[1;32m    273\u001b[0m             msg \u001b[38;5;241m=\u001b[39m \u001b[38;5;124mf\u001b[39m\u001b[38;5;124m\"\u001b[39m\u001b[38;5;124mMissing required argument: \u001b[39m\u001b[38;5;132;01m{\u001b[39;00mquote(missing[\u001b[38;5;241m0\u001b[39m])\u001b[38;5;132;01m}\u001b[39;00m\u001b[38;5;124m\"\u001b[39m\n\u001b[1;32m    274\u001b[0m     \u001b[38;5;28;01mraise\u001b[39;00m \u001b[38;5;167;01mTypeError\u001b[39;00m(msg)\n\u001b[0;32m--> 275\u001b[0m \u001b[38;5;28;01mreturn\u001b[39;00m \u001b[43mfunc\u001b[49m\u001b[43m(\u001b[49m\u001b[38;5;241;43m*\u001b[39;49m\u001b[43margs\u001b[49m\u001b[43m,\u001b[49m\u001b[43m \u001b[49m\u001b[38;5;241;43m*\u001b[39;49m\u001b[38;5;241;43m*\u001b[39;49m\u001b[43mkwargs\u001b[49m\u001b[43m)\u001b[49m\n",
      "File \u001b[0;32m~/mambaforge/envs/python310_chatbot/lib/python3.10/site-packages/openai/resources/completions.py:516\u001b[0m, in \u001b[0;36mCompletions.create\u001b[0;34m(self, model, prompt, best_of, echo, frequency_penalty, logit_bias, logprobs, max_tokens, n, presence_penalty, seed, stop, stream, suffix, temperature, top_p, user, extra_headers, extra_query, extra_body, timeout)\u001b[0m\n\u001b[1;32m    488\u001b[0m \u001b[38;5;129m@required_args\u001b[39m([\u001b[38;5;124m\"\u001b[39m\u001b[38;5;124mmodel\u001b[39m\u001b[38;5;124m\"\u001b[39m, \u001b[38;5;124m\"\u001b[39m\u001b[38;5;124mprompt\u001b[39m\u001b[38;5;124m\"\u001b[39m], [\u001b[38;5;124m\"\u001b[39m\u001b[38;5;124mmodel\u001b[39m\u001b[38;5;124m\"\u001b[39m, \u001b[38;5;124m\"\u001b[39m\u001b[38;5;124mprompt\u001b[39m\u001b[38;5;124m\"\u001b[39m, \u001b[38;5;124m\"\u001b[39m\u001b[38;5;124mstream\u001b[39m\u001b[38;5;124m\"\u001b[39m])\n\u001b[1;32m    489\u001b[0m \u001b[38;5;28;01mdef\u001b[39;00m \u001b[38;5;21mcreate\u001b[39m(\n\u001b[1;32m    490\u001b[0m     \u001b[38;5;28mself\u001b[39m,\n\u001b[0;32m   (...)\u001b[0m\n\u001b[1;32m    514\u001b[0m     timeout: \u001b[38;5;28mfloat\u001b[39m \u001b[38;5;241m|\u001b[39m httpx\u001b[38;5;241m.\u001b[39mTimeout \u001b[38;5;241m|\u001b[39m \u001b[38;5;28;01mNone\u001b[39;00m \u001b[38;5;241m|\u001b[39m NotGiven \u001b[38;5;241m=\u001b[39m NOT_GIVEN,\n\u001b[1;32m    515\u001b[0m ) \u001b[38;5;241m-\u001b[39m\u001b[38;5;241m>\u001b[39m Completion \u001b[38;5;241m|\u001b[39m Stream[Completion]:\n\u001b[0;32m--> 516\u001b[0m     \u001b[38;5;28;01mreturn\u001b[39;00m \u001b[38;5;28;43mself\u001b[39;49m\u001b[38;5;241;43m.\u001b[39;49m\u001b[43m_post\u001b[49m\u001b[43m(\u001b[49m\n\u001b[1;32m    517\u001b[0m \u001b[43m        \u001b[49m\u001b[38;5;124;43m\"\u001b[39;49m\u001b[38;5;124;43m/completions\u001b[39;49m\u001b[38;5;124;43m\"\u001b[39;49m\u001b[43m,\u001b[49m\n\u001b[1;32m    518\u001b[0m \u001b[43m        \u001b[49m\u001b[43mbody\u001b[49m\u001b[38;5;241;43m=\u001b[39;49m\u001b[43mmaybe_transform\u001b[49m\u001b[43m(\u001b[49m\n\u001b[1;32m    519\u001b[0m \u001b[43m            \u001b[49m\u001b[43m{\u001b[49m\n\u001b[1;32m    520\u001b[0m \u001b[43m                \u001b[49m\u001b[38;5;124;43m\"\u001b[39;49m\u001b[38;5;124;43mmodel\u001b[39;49m\u001b[38;5;124;43m\"\u001b[39;49m\u001b[43m:\u001b[49m\u001b[43m \u001b[49m\u001b[43mmodel\u001b[49m\u001b[43m,\u001b[49m\n\u001b[1;32m    521\u001b[0m \u001b[43m                \u001b[49m\u001b[38;5;124;43m\"\u001b[39;49m\u001b[38;5;124;43mprompt\u001b[39;49m\u001b[38;5;124;43m\"\u001b[39;49m\u001b[43m:\u001b[49m\u001b[43m \u001b[49m\u001b[43mprompt\u001b[49m\u001b[43m,\u001b[49m\n\u001b[1;32m    522\u001b[0m \u001b[43m                \u001b[49m\u001b[38;5;124;43m\"\u001b[39;49m\u001b[38;5;124;43mbest_of\u001b[39;49m\u001b[38;5;124;43m\"\u001b[39;49m\u001b[43m:\u001b[49m\u001b[43m \u001b[49m\u001b[43mbest_of\u001b[49m\u001b[43m,\u001b[49m\n\u001b[1;32m    523\u001b[0m \u001b[43m                \u001b[49m\u001b[38;5;124;43m\"\u001b[39;49m\u001b[38;5;124;43mecho\u001b[39;49m\u001b[38;5;124;43m\"\u001b[39;49m\u001b[43m:\u001b[49m\u001b[43m \u001b[49m\u001b[43mecho\u001b[49m\u001b[43m,\u001b[49m\n\u001b[1;32m    524\u001b[0m \u001b[43m                \u001b[49m\u001b[38;5;124;43m\"\u001b[39;49m\u001b[38;5;124;43mfrequency_penalty\u001b[39;49m\u001b[38;5;124;43m\"\u001b[39;49m\u001b[43m:\u001b[49m\u001b[43m \u001b[49m\u001b[43mfrequency_penalty\u001b[49m\u001b[43m,\u001b[49m\n\u001b[1;32m    525\u001b[0m \u001b[43m                \u001b[49m\u001b[38;5;124;43m\"\u001b[39;49m\u001b[38;5;124;43mlogit_bias\u001b[39;49m\u001b[38;5;124;43m\"\u001b[39;49m\u001b[43m:\u001b[49m\u001b[43m \u001b[49m\u001b[43mlogit_bias\u001b[49m\u001b[43m,\u001b[49m\n\u001b[1;32m    526\u001b[0m \u001b[43m                \u001b[49m\u001b[38;5;124;43m\"\u001b[39;49m\u001b[38;5;124;43mlogprobs\u001b[39;49m\u001b[38;5;124;43m\"\u001b[39;49m\u001b[43m:\u001b[49m\u001b[43m \u001b[49m\u001b[43mlogprobs\u001b[49m\u001b[43m,\u001b[49m\n\u001b[1;32m    527\u001b[0m \u001b[43m                \u001b[49m\u001b[38;5;124;43m\"\u001b[39;49m\u001b[38;5;124;43mmax_tokens\u001b[39;49m\u001b[38;5;124;43m\"\u001b[39;49m\u001b[43m:\u001b[49m\u001b[43m \u001b[49m\u001b[43mmax_tokens\u001b[49m\u001b[43m,\u001b[49m\n\u001b[1;32m    528\u001b[0m \u001b[43m                \u001b[49m\u001b[38;5;124;43m\"\u001b[39;49m\u001b[38;5;124;43mn\u001b[39;49m\u001b[38;5;124;43m\"\u001b[39;49m\u001b[43m:\u001b[49m\u001b[43m \u001b[49m\u001b[43mn\u001b[49m\u001b[43m,\u001b[49m\n\u001b[1;32m    529\u001b[0m \u001b[43m                \u001b[49m\u001b[38;5;124;43m\"\u001b[39;49m\u001b[38;5;124;43mpresence_penalty\u001b[39;49m\u001b[38;5;124;43m\"\u001b[39;49m\u001b[43m:\u001b[49m\u001b[43m \u001b[49m\u001b[43mpresence_penalty\u001b[49m\u001b[43m,\u001b[49m\n\u001b[1;32m    530\u001b[0m \u001b[43m                \u001b[49m\u001b[38;5;124;43m\"\u001b[39;49m\u001b[38;5;124;43mseed\u001b[39;49m\u001b[38;5;124;43m\"\u001b[39;49m\u001b[43m:\u001b[49m\u001b[43m \u001b[49m\u001b[43mseed\u001b[49m\u001b[43m,\u001b[49m\n\u001b[1;32m    531\u001b[0m \u001b[43m                \u001b[49m\u001b[38;5;124;43m\"\u001b[39;49m\u001b[38;5;124;43mstop\u001b[39;49m\u001b[38;5;124;43m\"\u001b[39;49m\u001b[43m:\u001b[49m\u001b[43m \u001b[49m\u001b[43mstop\u001b[49m\u001b[43m,\u001b[49m\n\u001b[1;32m    532\u001b[0m \u001b[43m                \u001b[49m\u001b[38;5;124;43m\"\u001b[39;49m\u001b[38;5;124;43mstream\u001b[39;49m\u001b[38;5;124;43m\"\u001b[39;49m\u001b[43m:\u001b[49m\u001b[43m \u001b[49m\u001b[43mstream\u001b[49m\u001b[43m,\u001b[49m\n\u001b[1;32m    533\u001b[0m \u001b[43m                \u001b[49m\u001b[38;5;124;43m\"\u001b[39;49m\u001b[38;5;124;43msuffix\u001b[39;49m\u001b[38;5;124;43m\"\u001b[39;49m\u001b[43m:\u001b[49m\u001b[43m \u001b[49m\u001b[43msuffix\u001b[49m\u001b[43m,\u001b[49m\n\u001b[1;32m    534\u001b[0m \u001b[43m                \u001b[49m\u001b[38;5;124;43m\"\u001b[39;49m\u001b[38;5;124;43mtemperature\u001b[39;49m\u001b[38;5;124;43m\"\u001b[39;49m\u001b[43m:\u001b[49m\u001b[43m \u001b[49m\u001b[43mtemperature\u001b[49m\u001b[43m,\u001b[49m\n\u001b[1;32m    535\u001b[0m \u001b[43m                \u001b[49m\u001b[38;5;124;43m\"\u001b[39;49m\u001b[38;5;124;43mtop_p\u001b[39;49m\u001b[38;5;124;43m\"\u001b[39;49m\u001b[43m:\u001b[49m\u001b[43m \u001b[49m\u001b[43mtop_p\u001b[49m\u001b[43m,\u001b[49m\n\u001b[1;32m    536\u001b[0m \u001b[43m                \u001b[49m\u001b[38;5;124;43m\"\u001b[39;49m\u001b[38;5;124;43muser\u001b[39;49m\u001b[38;5;124;43m\"\u001b[39;49m\u001b[43m:\u001b[49m\u001b[43m \u001b[49m\u001b[43muser\u001b[49m\u001b[43m,\u001b[49m\n\u001b[1;32m    537\u001b[0m \u001b[43m            \u001b[49m\u001b[43m}\u001b[49m\u001b[43m,\u001b[49m\n\u001b[1;32m    538\u001b[0m \u001b[43m            \u001b[49m\u001b[43mcompletion_create_params\u001b[49m\u001b[38;5;241;43m.\u001b[39;49m\u001b[43mCompletionCreateParams\u001b[49m\u001b[43m,\u001b[49m\n\u001b[1;32m    539\u001b[0m \u001b[43m        \u001b[49m\u001b[43m)\u001b[49m\u001b[43m,\u001b[49m\n\u001b[1;32m    540\u001b[0m \u001b[43m        \u001b[49m\u001b[43moptions\u001b[49m\u001b[38;5;241;43m=\u001b[39;49m\u001b[43mmake_request_options\u001b[49m\u001b[43m(\u001b[49m\n\u001b[1;32m    541\u001b[0m \u001b[43m            \u001b[49m\u001b[43mextra_headers\u001b[49m\u001b[38;5;241;43m=\u001b[39;49m\u001b[43mextra_headers\u001b[49m\u001b[43m,\u001b[49m\u001b[43m \u001b[49m\u001b[43mextra_query\u001b[49m\u001b[38;5;241;43m=\u001b[39;49m\u001b[43mextra_query\u001b[49m\u001b[43m,\u001b[49m\u001b[43m \u001b[49m\u001b[43mextra_body\u001b[49m\u001b[38;5;241;43m=\u001b[39;49m\u001b[43mextra_body\u001b[49m\u001b[43m,\u001b[49m\u001b[43m \u001b[49m\u001b[43mtimeout\u001b[49m\u001b[38;5;241;43m=\u001b[39;49m\u001b[43mtimeout\u001b[49m\n\u001b[1;32m    542\u001b[0m \u001b[43m        \u001b[49m\u001b[43m)\u001b[49m\u001b[43m,\u001b[49m\n\u001b[1;32m    543\u001b[0m \u001b[43m        \u001b[49m\u001b[43mcast_to\u001b[49m\u001b[38;5;241;43m=\u001b[39;49m\u001b[43mCompletion\u001b[49m\u001b[43m,\u001b[49m\n\u001b[1;32m    544\u001b[0m \u001b[43m        \u001b[49m\u001b[43mstream\u001b[49m\u001b[38;5;241;43m=\u001b[39;49m\u001b[43mstream\u001b[49m\u001b[43m \u001b[49m\u001b[38;5;129;43;01mor\u001b[39;49;00m\u001b[43m \u001b[49m\u001b[38;5;28;43;01mFalse\u001b[39;49;00m\u001b[43m,\u001b[49m\n\u001b[1;32m    545\u001b[0m \u001b[43m        \u001b[49m\u001b[43mstream_cls\u001b[49m\u001b[38;5;241;43m=\u001b[39;49m\u001b[43mStream\u001b[49m\u001b[43m[\u001b[49m\u001b[43mCompletion\u001b[49m\u001b[43m]\u001b[49m\u001b[43m,\u001b[49m\n\u001b[1;32m    546\u001b[0m \u001b[43m    \u001b[49m\u001b[43m)\u001b[49m\n",
      "File \u001b[0;32m~/mambaforge/envs/python310_chatbot/lib/python3.10/site-packages/openai/_base_client.py:1208\u001b[0m, in \u001b[0;36mSyncAPIClient.post\u001b[0;34m(self, path, cast_to, body, options, files, stream, stream_cls)\u001b[0m\n\u001b[1;32m   1194\u001b[0m \u001b[38;5;28;01mdef\u001b[39;00m \u001b[38;5;21mpost\u001b[39m(\n\u001b[1;32m   1195\u001b[0m     \u001b[38;5;28mself\u001b[39m,\n\u001b[1;32m   1196\u001b[0m     path: \u001b[38;5;28mstr\u001b[39m,\n\u001b[0;32m   (...)\u001b[0m\n\u001b[1;32m   1203\u001b[0m     stream_cls: \u001b[38;5;28mtype\u001b[39m[_StreamT] \u001b[38;5;241m|\u001b[39m \u001b[38;5;28;01mNone\u001b[39;00m \u001b[38;5;241m=\u001b[39m \u001b[38;5;28;01mNone\u001b[39;00m,\n\u001b[1;32m   1204\u001b[0m ) \u001b[38;5;241m-\u001b[39m\u001b[38;5;241m>\u001b[39m ResponseT \u001b[38;5;241m|\u001b[39m _StreamT:\n\u001b[1;32m   1205\u001b[0m     opts \u001b[38;5;241m=\u001b[39m FinalRequestOptions\u001b[38;5;241m.\u001b[39mconstruct(\n\u001b[1;32m   1206\u001b[0m         method\u001b[38;5;241m=\u001b[39m\u001b[38;5;124m\"\u001b[39m\u001b[38;5;124mpost\u001b[39m\u001b[38;5;124m\"\u001b[39m, url\u001b[38;5;241m=\u001b[39mpath, json_data\u001b[38;5;241m=\u001b[39mbody, files\u001b[38;5;241m=\u001b[39mto_httpx_files(files), \u001b[38;5;241m*\u001b[39m\u001b[38;5;241m*\u001b[39moptions\n\u001b[1;32m   1207\u001b[0m     )\n\u001b[0;32m-> 1208\u001b[0m     \u001b[38;5;28;01mreturn\u001b[39;00m cast(ResponseT, \u001b[38;5;28;43mself\u001b[39;49m\u001b[38;5;241;43m.\u001b[39;49m\u001b[43mrequest\u001b[49m\u001b[43m(\u001b[49m\u001b[43mcast_to\u001b[49m\u001b[43m,\u001b[49m\u001b[43m \u001b[49m\u001b[43mopts\u001b[49m\u001b[43m,\u001b[49m\u001b[43m \u001b[49m\u001b[43mstream\u001b[49m\u001b[38;5;241;43m=\u001b[39;49m\u001b[43mstream\u001b[49m\u001b[43m,\u001b[49m\u001b[43m \u001b[49m\u001b[43mstream_cls\u001b[49m\u001b[38;5;241;43m=\u001b[39;49m\u001b[43mstream_cls\u001b[49m\u001b[43m)\u001b[49m)\n",
      "File \u001b[0;32m~/mambaforge/envs/python310_chatbot/lib/python3.10/site-packages/openai/_base_client.py:897\u001b[0m, in \u001b[0;36mSyncAPIClient.request\u001b[0;34m(self, cast_to, options, remaining_retries, stream, stream_cls)\u001b[0m\n\u001b[1;32m    888\u001b[0m \u001b[38;5;28;01mdef\u001b[39;00m \u001b[38;5;21mrequest\u001b[39m(\n\u001b[1;32m    889\u001b[0m     \u001b[38;5;28mself\u001b[39m,\n\u001b[1;32m    890\u001b[0m     cast_to: Type[ResponseT],\n\u001b[0;32m   (...)\u001b[0m\n\u001b[1;32m    895\u001b[0m     stream_cls: \u001b[38;5;28mtype\u001b[39m[_StreamT] \u001b[38;5;241m|\u001b[39m \u001b[38;5;28;01mNone\u001b[39;00m \u001b[38;5;241m=\u001b[39m \u001b[38;5;28;01mNone\u001b[39;00m,\n\u001b[1;32m    896\u001b[0m ) \u001b[38;5;241m-\u001b[39m\u001b[38;5;241m>\u001b[39m ResponseT \u001b[38;5;241m|\u001b[39m _StreamT:\n\u001b[0;32m--> 897\u001b[0m     \u001b[38;5;28;01mreturn\u001b[39;00m \u001b[38;5;28;43mself\u001b[39;49m\u001b[38;5;241;43m.\u001b[39;49m\u001b[43m_request\u001b[49m\u001b[43m(\u001b[49m\n\u001b[1;32m    898\u001b[0m \u001b[43m        \u001b[49m\u001b[43mcast_to\u001b[49m\u001b[38;5;241;43m=\u001b[39;49m\u001b[43mcast_to\u001b[49m\u001b[43m,\u001b[49m\n\u001b[1;32m    899\u001b[0m \u001b[43m        \u001b[49m\u001b[43moptions\u001b[49m\u001b[38;5;241;43m=\u001b[39;49m\u001b[43moptions\u001b[49m\u001b[43m,\u001b[49m\n\u001b[1;32m    900\u001b[0m \u001b[43m        \u001b[49m\u001b[43mstream\u001b[49m\u001b[38;5;241;43m=\u001b[39;49m\u001b[43mstream\u001b[49m\u001b[43m,\u001b[49m\n\u001b[1;32m    901\u001b[0m \u001b[43m        \u001b[49m\u001b[43mstream_cls\u001b[49m\u001b[38;5;241;43m=\u001b[39;49m\u001b[43mstream_cls\u001b[49m\u001b[43m,\u001b[49m\n\u001b[1;32m    902\u001b[0m \u001b[43m        \u001b[49m\u001b[43mremaining_retries\u001b[49m\u001b[38;5;241;43m=\u001b[39;49m\u001b[43mremaining_retries\u001b[49m\u001b[43m,\u001b[49m\n\u001b[1;32m    903\u001b[0m \u001b[43m    \u001b[49m\u001b[43m)\u001b[49m\n",
      "File \u001b[0;32m~/mambaforge/envs/python310_chatbot/lib/python3.10/site-packages/openai/_base_client.py:988\u001b[0m, in \u001b[0;36mSyncAPIClient._request\u001b[0;34m(self, cast_to, options, remaining_retries, stream, stream_cls)\u001b[0m\n\u001b[1;32m    985\u001b[0m         err\u001b[38;5;241m.\u001b[39mresponse\u001b[38;5;241m.\u001b[39mread()\n\u001b[1;32m    987\u001b[0m     log\u001b[38;5;241m.\u001b[39mdebug(\u001b[38;5;124m\"\u001b[39m\u001b[38;5;124mRe-raising status error\u001b[39m\u001b[38;5;124m\"\u001b[39m)\n\u001b[0;32m--> 988\u001b[0m     \u001b[38;5;28;01mraise\u001b[39;00m \u001b[38;5;28mself\u001b[39m\u001b[38;5;241m.\u001b[39m_make_status_error_from_response(err\u001b[38;5;241m.\u001b[39mresponse) \u001b[38;5;28;01mfrom\u001b[39;00m \u001b[38;5;28;01mNone\u001b[39;00m\n\u001b[1;32m    990\u001b[0m \u001b[38;5;28;01mreturn\u001b[39;00m \u001b[38;5;28mself\u001b[39m\u001b[38;5;241m.\u001b[39m_process_response(\n\u001b[1;32m    991\u001b[0m     cast_to\u001b[38;5;241m=\u001b[39mcast_to,\n\u001b[1;32m    992\u001b[0m     options\u001b[38;5;241m=\u001b[39moptions,\n\u001b[0;32m   (...)\u001b[0m\n\u001b[1;32m    995\u001b[0m     stream_cls\u001b[38;5;241m=\u001b[39mstream_cls,\n\u001b[1;32m    996\u001b[0m )\n",
      "\u001b[0;31mNotFoundError\u001b[0m: Error code: 404 - {'error': {'code': '404', 'message': 'Resource not found'}}"
     ]
    }
   ],
   "source": [
    "filter = {\"id\": 2}\n",
    "context = qa({\"query\": \"商品编码\", \"filter\": None})\n",
    "context "
   ]
  },
  {
   "cell_type": "code",
   "execution_count": null,
   "id": "a2c72c9c-9479-4a5c-90c5-a3c618862325",
   "metadata": {},
   "outputs": [],
   "source": []
  },
  {
   "cell_type": "code",
   "execution_count": null,
   "id": "6f4eb381-fe53-417a-980c-d390e2a95988",
   "metadata": {},
   "outputs": [],
   "source": []
  },
  {
   "cell_type": "code",
   "execution_count": 64,
   "id": "091e068a-523c-466c-b842-b30c9c5ef381",
   "metadata": {},
   "outputs": [
    {
     "name": "stderr",
     "output_type": "stream",
     "text": [
      "/root/mambaforge/envs/python310_chatbot/lib/python3.10/site-packages/langchain_core/_api/deprecation.py:119: LangChainDeprecationWarning: The method `Chain.run` was deprecated in langchain 0.1.0 and will be removed in 0.3.0. Use invoke instead.\n",
      "  warn_deprecated(\n"
     ]
    },
    {
     "ename": "ValueError",
     "evalue": "`run` supported with either positional arguments or keyword arguments but not both. Got args: ('帮我选择一个型号吧',) and kwargs: {'models': ['型号A', '型号B', '型号C']}.",
     "output_type": "error",
     "traceback": [
      "\u001b[0;31m---------------------------------------------------------------------------\u001b[0m",
      "\u001b[0;31mValueError\u001b[0m                                Traceback (most recent call last)",
      "Cell \u001b[0;32mIn[64], line 44\u001b[0m\n\u001b[1;32m     36\u001b[0m agent \u001b[38;5;241m=\u001b[39m initialize_agent(\n\u001b[1;32m     37\u001b[0m     tools\u001b[38;5;241m=\u001b[39m[choose_model_tool],\n\u001b[1;32m     38\u001b[0m     llm\u001b[38;5;241m=\u001b[39mllm,\n\u001b[1;32m     39\u001b[0m     agent_type\u001b[38;5;241m=\u001b[39m\u001b[38;5;124m\"\u001b[39m\u001b[38;5;124mzero-shot-react-description\u001b[39m\u001b[38;5;124m\"\u001b[39m,\n\u001b[1;32m     40\u001b[0m     verbose\u001b[38;5;241m=\u001b[39m\u001b[38;5;28;01mTrue\u001b[39;00m\n\u001b[1;32m     41\u001b[0m )\n\u001b[1;32m     43\u001b[0m \u001b[38;5;66;03m# 运行 agent\u001b[39;00m\n\u001b[0;32m---> 44\u001b[0m response \u001b[38;5;241m=\u001b[39m \u001b[43magent\u001b[49m\u001b[38;5;241;43m.\u001b[39;49m\u001b[43mrun\u001b[49m\u001b[43m(\u001b[49m\u001b[38;5;124;43m\"\u001b[39;49m\u001b[38;5;124;43m帮我选择一个型号吧\u001b[39;49m\u001b[38;5;124;43m\"\u001b[39;49m\u001b[43m,\u001b[49m\u001b[43m \u001b[49m\u001b[43mmodels\u001b[49m\u001b[38;5;241;43m=\u001b[39;49m\u001b[43m[\u001b[49m\u001b[38;5;124;43m\"\u001b[39;49m\u001b[38;5;124;43m型号A\u001b[39;49m\u001b[38;5;124;43m\"\u001b[39;49m\u001b[43m,\u001b[49m\u001b[43m \u001b[49m\u001b[38;5;124;43m\"\u001b[39;49m\u001b[38;5;124;43m型号B\u001b[39;49m\u001b[38;5;124;43m\"\u001b[39;49m\u001b[43m,\u001b[49m\u001b[43m \u001b[49m\u001b[38;5;124;43m\"\u001b[39;49m\u001b[38;5;124;43m型号C\u001b[39;49m\u001b[38;5;124;43m\"\u001b[39;49m\u001b[43m]\u001b[49m\u001b[43m)\u001b[49m\n\u001b[1;32m     45\u001b[0m \u001b[38;5;28mprint\u001b[39m(response)\n",
      "File \u001b[0;32m~/mambaforge/envs/python310_chatbot/lib/python3.10/site-packages/langchain_core/_api/deprecation.py:148\u001b[0m, in \u001b[0;36mdeprecated.<locals>.deprecate.<locals>.warning_emitting_wrapper\u001b[0;34m(*args, **kwargs)\u001b[0m\n\u001b[1;32m    146\u001b[0m     warned \u001b[38;5;241m=\u001b[39m \u001b[38;5;28;01mTrue\u001b[39;00m\n\u001b[1;32m    147\u001b[0m     emit_warning()\n\u001b[0;32m--> 148\u001b[0m \u001b[38;5;28;01mreturn\u001b[39;00m \u001b[43mwrapped\u001b[49m\u001b[43m(\u001b[49m\u001b[38;5;241;43m*\u001b[39;49m\u001b[43margs\u001b[49m\u001b[43m,\u001b[49m\u001b[43m \u001b[49m\u001b[38;5;241;43m*\u001b[39;49m\u001b[38;5;241;43m*\u001b[39;49m\u001b[43mkwargs\u001b[49m\u001b[43m)\u001b[49m\n",
      "File \u001b[0;32m~/mambaforge/envs/python310_chatbot/lib/python3.10/site-packages/langchain/chains/base.py:615\u001b[0m, in \u001b[0;36mChain.run\u001b[0;34m(self, callbacks, tags, metadata, *args, **kwargs)\u001b[0m\n\u001b[1;32m    610\u001b[0m     \u001b[38;5;28;01mraise\u001b[39;00m \u001b[38;5;167;01mValueError\u001b[39;00m(\n\u001b[1;32m    611\u001b[0m         \u001b[38;5;124m\"\u001b[39m\u001b[38;5;124m`run` supported with either positional arguments or keyword arguments,\u001b[39m\u001b[38;5;124m\"\u001b[39m\n\u001b[1;32m    612\u001b[0m         \u001b[38;5;124m\"\u001b[39m\u001b[38;5;124m but none were provided.\u001b[39m\u001b[38;5;124m\"\u001b[39m\n\u001b[1;32m    613\u001b[0m     )\n\u001b[1;32m    614\u001b[0m \u001b[38;5;28;01melse\u001b[39;00m:\n\u001b[0;32m--> 615\u001b[0m     \u001b[38;5;28;01mraise\u001b[39;00m \u001b[38;5;167;01mValueError\u001b[39;00m(\n\u001b[1;32m    616\u001b[0m         \u001b[38;5;124mf\u001b[39m\u001b[38;5;124m\"\u001b[39m\u001b[38;5;124m`run` supported with either positional arguments or keyword arguments\u001b[39m\u001b[38;5;124m\"\u001b[39m\n\u001b[1;32m    617\u001b[0m         \u001b[38;5;124mf\u001b[39m\u001b[38;5;124m\"\u001b[39m\u001b[38;5;124m but not both. Got args: \u001b[39m\u001b[38;5;132;01m{\u001b[39;00margs\u001b[38;5;132;01m}\u001b[39;00m\u001b[38;5;124m and kwargs: \u001b[39m\u001b[38;5;132;01m{\u001b[39;00mkwargs\u001b[38;5;132;01m}\u001b[39;00m\u001b[38;5;124m.\u001b[39m\u001b[38;5;124m\"\u001b[39m\n\u001b[1;32m    618\u001b[0m     )\n",
      "\u001b[0;31mValueError\u001b[0m: `run` supported with either positional arguments or keyword arguments but not both. Got args: ('帮我选择一个型号吧',) and kwargs: {'models': ['型号A', '型号B', '型号C']}."
     ]
    }
   ],
   "source": [
    "from langchain import LLMChain, OpenAI, PromptTemplate\n",
    "from langchain.agents import Tool, initialize_agent\n",
    "from langchain.chat_models import AzureChatOpenAI\n",
    "import random\n",
    "\n",
    "# 定义自定义的 tool a\n",
    "def choose_model(models):\n",
    "    return random.choice(models)\n",
    "\n",
    "# 包装自定义的 tool a\n",
    "choose_model_tool = Tool(\n",
    "    name=\"choose_model\",\n",
    "    description=\"从型号列表中随机选择一个型号\",\n",
    "    func=choose_model\n",
    ")\n",
    "\n",
    "# 定义一个提示模板\n",
    "template = \"\"\"你是一个帮助用户选择型号的助手。\n",
    "用户: {input}\n",
    "助手:\"\"\"\n",
    "\n",
    "prompt = PromptTemplate(template=template, input_variables=[\"input\"])\n",
    "\n",
    "# 创建一个 AzureChatOpenAI 实例\n",
    "llm = azure_llm = AzureChatOpenAI(\n",
    "    api_version=\"2024-02-15-preview\",\n",
    "    azure_endpoint=\"https://csagent.openai.azure.com/\",\n",
    "    api_key=\"346ac6661e314a9d8b91b6a99202ba42\",\n",
    "    deployment_name=\"gpt-4-8k\",\n",
    ")\n",
    "\n",
    "# 创建一个 LLMChain\n",
    "llm_chain = LLMChain(llm=llm, prompt=prompt)\n",
    "\n",
    "# 初始化 agent\n",
    "agent = initialize_agent(\n",
    "    tools=[choose_model_tool],\n",
    "    llm=llm,\n",
    "    agent_type=\"zero-shot-react-description\",\n",
    "    verbose=True\n",
    ")\n",
    "\n",
    "# 运行 agent\n",
    "response = agent.run(\"帮我选择一个型号吧\", models=[\"型号A\", \"型号B\", \"型号C\"])\n",
    "print(response)\n"
   ]
  },
  {
   "cell_type": "code",
   "execution_count": 66,
   "id": "5001d6da-11d8-4079-bb8c-315b01ef5ea1",
   "metadata": {},
   "outputs": [
    {
     "ename": "ValueError",
     "evalue": "`run` supported with either positional arguments or keyword arguments but not both. Got args: ('帮我选择一个型号吧',) and kwargs: {'models': ['型号A', '型号B', '型号C']}.",
     "output_type": "error",
     "traceback": [
      "\u001b[0;31m---------------------------------------------------------------------------\u001b[0m",
      "\u001b[0;31mValueError\u001b[0m                                Traceback (most recent call last)",
      "Cell \u001b[0;32mIn[66], line 41\u001b[0m\n\u001b[1;32m     33\u001b[0m agent \u001b[38;5;241m=\u001b[39m initialize_agent(\n\u001b[1;32m     34\u001b[0m     tools\u001b[38;5;241m=\u001b[39m[choose_model_tool],\n\u001b[1;32m     35\u001b[0m     llm\u001b[38;5;241m=\u001b[39mllm,\n\u001b[1;32m     36\u001b[0m     agent_type\u001b[38;5;241m=\u001b[39m\u001b[38;5;124m\"\u001b[39m\u001b[38;5;124mzero-shot-react-description\u001b[39m\u001b[38;5;124m\"\u001b[39m,\n\u001b[1;32m     37\u001b[0m     verbose\u001b[38;5;241m=\u001b[39m\u001b[38;5;28;01mTrue\u001b[39;00m\n\u001b[1;32m     38\u001b[0m )\n\u001b[1;32m     40\u001b[0m \u001b[38;5;66;03m# 运行 agent\u001b[39;00m\n\u001b[0;32m---> 41\u001b[0m response \u001b[38;5;241m=\u001b[39m \u001b[43magent\u001b[49m\u001b[38;5;241;43m.\u001b[39;49m\u001b[43mrun\u001b[49m\u001b[43m(\u001b[49m\u001b[38;5;124;43m\"\u001b[39;49m\u001b[38;5;124;43m帮我选择一个型号吧\u001b[39;49m\u001b[38;5;124;43m\"\u001b[39;49m\u001b[43m,\u001b[49m\u001b[43m \u001b[49m\u001b[43mmodels\u001b[49m\u001b[38;5;241;43m=\u001b[39;49m\u001b[43m[\u001b[49m\u001b[38;5;124;43m\"\u001b[39;49m\u001b[38;5;124;43m型号A\u001b[39;49m\u001b[38;5;124;43m\"\u001b[39;49m\u001b[43m,\u001b[49m\u001b[43m \u001b[49m\u001b[38;5;124;43m\"\u001b[39;49m\u001b[38;5;124;43m型号B\u001b[39;49m\u001b[38;5;124;43m\"\u001b[39;49m\u001b[43m,\u001b[49m\u001b[43m \u001b[49m\u001b[38;5;124;43m\"\u001b[39;49m\u001b[38;5;124;43m型号C\u001b[39;49m\u001b[38;5;124;43m\"\u001b[39;49m\u001b[43m]\u001b[49m\u001b[43m)\u001b[49m\n\u001b[1;32m     42\u001b[0m \u001b[38;5;28mprint\u001b[39m(response)\n",
      "File \u001b[0;32m~/mambaforge/envs/python310_chatbot/lib/python3.10/site-packages/langchain_core/_api/deprecation.py:148\u001b[0m, in \u001b[0;36mdeprecated.<locals>.deprecate.<locals>.warning_emitting_wrapper\u001b[0;34m(*args, **kwargs)\u001b[0m\n\u001b[1;32m    146\u001b[0m     warned \u001b[38;5;241m=\u001b[39m \u001b[38;5;28;01mTrue\u001b[39;00m\n\u001b[1;32m    147\u001b[0m     emit_warning()\n\u001b[0;32m--> 148\u001b[0m \u001b[38;5;28;01mreturn\u001b[39;00m \u001b[43mwrapped\u001b[49m\u001b[43m(\u001b[49m\u001b[38;5;241;43m*\u001b[39;49m\u001b[43margs\u001b[49m\u001b[43m,\u001b[49m\u001b[43m \u001b[49m\u001b[38;5;241;43m*\u001b[39;49m\u001b[38;5;241;43m*\u001b[39;49m\u001b[43mkwargs\u001b[49m\u001b[43m)\u001b[49m\n",
      "File \u001b[0;32m~/mambaforge/envs/python310_chatbot/lib/python3.10/site-packages/langchain/chains/base.py:615\u001b[0m, in \u001b[0;36mChain.run\u001b[0;34m(self, callbacks, tags, metadata, *args, **kwargs)\u001b[0m\n\u001b[1;32m    610\u001b[0m     \u001b[38;5;28;01mraise\u001b[39;00m \u001b[38;5;167;01mValueError\u001b[39;00m(\n\u001b[1;32m    611\u001b[0m         \u001b[38;5;124m\"\u001b[39m\u001b[38;5;124m`run` supported with either positional arguments or keyword arguments,\u001b[39m\u001b[38;5;124m\"\u001b[39m\n\u001b[1;32m    612\u001b[0m         \u001b[38;5;124m\"\u001b[39m\u001b[38;5;124m but none were provided.\u001b[39m\u001b[38;5;124m\"\u001b[39m\n\u001b[1;32m    613\u001b[0m     )\n\u001b[1;32m    614\u001b[0m \u001b[38;5;28;01melse\u001b[39;00m:\n\u001b[0;32m--> 615\u001b[0m     \u001b[38;5;28;01mraise\u001b[39;00m \u001b[38;5;167;01mValueError\u001b[39;00m(\n\u001b[1;32m    616\u001b[0m         \u001b[38;5;124mf\u001b[39m\u001b[38;5;124m\"\u001b[39m\u001b[38;5;124m`run` supported with either positional arguments or keyword arguments\u001b[39m\u001b[38;5;124m\"\u001b[39m\n\u001b[1;32m    617\u001b[0m         \u001b[38;5;124mf\u001b[39m\u001b[38;5;124m\"\u001b[39m\u001b[38;5;124m but not both. Got args: \u001b[39m\u001b[38;5;132;01m{\u001b[39;00margs\u001b[38;5;132;01m}\u001b[39;00m\u001b[38;5;124m and kwargs: \u001b[39m\u001b[38;5;132;01m{\u001b[39;00mkwargs\u001b[38;5;132;01m}\u001b[39;00m\u001b[38;5;124m.\u001b[39m\u001b[38;5;124m\"\u001b[39m\n\u001b[1;32m    618\u001b[0m     )\n",
      "\u001b[0;31mValueError\u001b[0m: `run` supported with either positional arguments or keyword arguments but not both. Got args: ('帮我选择一个型号吧',) and kwargs: {'models': ['型号A', '型号B', '型号C']}."
     ]
    }
   ],
   "source": [
    "from langchain import OpenAI, PromptTemplate\n",
    "from langchain.agents import Tool, initialize_agent\n",
    "from langchain.chat_models import AzureChatOpenAI\n",
    "import random\n",
    "\n",
    "# 定义自定义的 tool a\n",
    "def choose_model(models):\n",
    "    return random.choice(models)\n",
    "\n",
    "# 包装自定义的 tool a\n",
    "choose_model_tool = Tool(\n",
    "    name=\"choose_model\",\n",
    "    description=\"从型号列表中随机选择一个型号\",\n",
    "    func=choose_model\n",
    ")\n",
    "\n",
    "# 定义一个提示模板\n",
    "template = \"\"\"你是一个帮助用户选择型号的助手。\n",
    "用户: {input}\n",
    "助手:\"\"\"\n",
    "\n",
    "prompt = PromptTemplate(template=template, input_variables=[\"input\"])\n",
    "\n",
    "# 创建一个 AzureChatOpenAI 实例\n",
    "llm = AzureChatOpenAI(\n",
    "    api_version=\"2024-02-15-preview\",\n",
    "    azure_endpoint=\"https://csagent.openai.azure.com/\",\n",
    "    api_key=\"346ac6661e314a9d8b91b6a99202ba42\",\n",
    "    deployment_name=\"gpt-4-8k\",\n",
    ")\n",
    "\n",
    "# 初始化 agent\n",
    "agent = initialize_agent(\n",
    "    tools=[choose_model_tool],\n",
    "    llm=llm,\n",
    "    agent_type=\"zero-shot-react-description\",\n",
    "    verbose=True\n",
    ")\n",
    "\n",
    "# 运行 agent\n",
    "response = agent.run(\"帮我选择一个型号吧\", models=[\"型号A\", \"型号B\", \"型号C\"])\n",
    "print(response)\n"
   ]
  },
  {
   "cell_type": "code",
   "execution_count": 67,
   "id": "6cfa9e6b-51e4-4609-bf63-353de658a237",
   "metadata": {},
   "outputs": [
    {
     "ename": "ValueError",
     "evalue": "`run` supported with either positional arguments or keyword arguments but not both. Got args: ('帮我选择一个型号吧',) and kwargs: {'models': ['型号A', '型号B', '型号C']}.",
     "output_type": "error",
     "traceback": [
      "\u001b[0;31m---------------------------------------------------------------------------\u001b[0m",
      "\u001b[0;31mValueError\u001b[0m                                Traceback (most recent call last)",
      "Cell \u001b[0;32mIn[67], line 43\u001b[0m\n\u001b[1;32m     41\u001b[0m user_input \u001b[38;5;241m=\u001b[39m \u001b[38;5;124m\"\u001b[39m\u001b[38;5;124m帮我选择一个型号吧\u001b[39m\u001b[38;5;124m\"\u001b[39m\n\u001b[1;32m     42\u001b[0m context \u001b[38;5;241m=\u001b[39m {\u001b[38;5;124m\"\u001b[39m\u001b[38;5;124mmodels\u001b[39m\u001b[38;5;124m\"\u001b[39m: [\u001b[38;5;124m\"\u001b[39m\u001b[38;5;124m型号A\u001b[39m\u001b[38;5;124m\"\u001b[39m, \u001b[38;5;124m\"\u001b[39m\u001b[38;5;124m型号B\u001b[39m\u001b[38;5;124m\"\u001b[39m, \u001b[38;5;124m\"\u001b[39m\u001b[38;5;124m型号C\u001b[39m\u001b[38;5;124m\"\u001b[39m]}\n\u001b[0;32m---> 43\u001b[0m response \u001b[38;5;241m=\u001b[39m \u001b[43magent\u001b[49m\u001b[38;5;241;43m.\u001b[39;49m\u001b[43mrun\u001b[49m\u001b[43m(\u001b[49m\u001b[43muser_input\u001b[49m\u001b[43m,\u001b[49m\u001b[43m \u001b[49m\u001b[38;5;241;43m*\u001b[39;49m\u001b[38;5;241;43m*\u001b[39;49m\u001b[43mcontext\u001b[49m\u001b[43m)\u001b[49m\n\u001b[1;32m     44\u001b[0m \u001b[38;5;28mprint\u001b[39m(response)\n",
      "File \u001b[0;32m~/mambaforge/envs/python310_chatbot/lib/python3.10/site-packages/langchain_core/_api/deprecation.py:148\u001b[0m, in \u001b[0;36mdeprecated.<locals>.deprecate.<locals>.warning_emitting_wrapper\u001b[0;34m(*args, **kwargs)\u001b[0m\n\u001b[1;32m    146\u001b[0m     warned \u001b[38;5;241m=\u001b[39m \u001b[38;5;28;01mTrue\u001b[39;00m\n\u001b[1;32m    147\u001b[0m     emit_warning()\n\u001b[0;32m--> 148\u001b[0m \u001b[38;5;28;01mreturn\u001b[39;00m \u001b[43mwrapped\u001b[49m\u001b[43m(\u001b[49m\u001b[38;5;241;43m*\u001b[39;49m\u001b[43margs\u001b[49m\u001b[43m,\u001b[49m\u001b[43m \u001b[49m\u001b[38;5;241;43m*\u001b[39;49m\u001b[38;5;241;43m*\u001b[39;49m\u001b[43mkwargs\u001b[49m\u001b[43m)\u001b[49m\n",
      "File \u001b[0;32m~/mambaforge/envs/python310_chatbot/lib/python3.10/site-packages/langchain/chains/base.py:615\u001b[0m, in \u001b[0;36mChain.run\u001b[0;34m(self, callbacks, tags, metadata, *args, **kwargs)\u001b[0m\n\u001b[1;32m    610\u001b[0m     \u001b[38;5;28;01mraise\u001b[39;00m \u001b[38;5;167;01mValueError\u001b[39;00m(\n\u001b[1;32m    611\u001b[0m         \u001b[38;5;124m\"\u001b[39m\u001b[38;5;124m`run` supported with either positional arguments or keyword arguments,\u001b[39m\u001b[38;5;124m\"\u001b[39m\n\u001b[1;32m    612\u001b[0m         \u001b[38;5;124m\"\u001b[39m\u001b[38;5;124m but none were provided.\u001b[39m\u001b[38;5;124m\"\u001b[39m\n\u001b[1;32m    613\u001b[0m     )\n\u001b[1;32m    614\u001b[0m \u001b[38;5;28;01melse\u001b[39;00m:\n\u001b[0;32m--> 615\u001b[0m     \u001b[38;5;28;01mraise\u001b[39;00m \u001b[38;5;167;01mValueError\u001b[39;00m(\n\u001b[1;32m    616\u001b[0m         \u001b[38;5;124mf\u001b[39m\u001b[38;5;124m\"\u001b[39m\u001b[38;5;124m`run` supported with either positional arguments or keyword arguments\u001b[39m\u001b[38;5;124m\"\u001b[39m\n\u001b[1;32m    617\u001b[0m         \u001b[38;5;124mf\u001b[39m\u001b[38;5;124m\"\u001b[39m\u001b[38;5;124m but not both. Got args: \u001b[39m\u001b[38;5;132;01m{\u001b[39;00margs\u001b[38;5;132;01m}\u001b[39;00m\u001b[38;5;124m and kwargs: \u001b[39m\u001b[38;5;132;01m{\u001b[39;00mkwargs\u001b[38;5;132;01m}\u001b[39;00m\u001b[38;5;124m.\u001b[39m\u001b[38;5;124m\"\u001b[39m\n\u001b[1;32m    618\u001b[0m     )\n",
      "\u001b[0;31mValueError\u001b[0m: `run` supported with either positional arguments or keyword arguments but not both. Got args: ('帮我选择一个型号吧',) and kwargs: {'models': ['型号A', '型号B', '型号C']}."
     ]
    }
   ],
   "source": [
    "from langchain import OpenAI, PromptTemplate\n",
    "from langchain.agents import Tool, initialize_agent\n",
    "from langchain.chat_models import AzureChatOpenAI\n",
    "import random\n",
    "\n",
    "# 定义自定义的 tool a\n",
    "def choose_model(models):\n",
    "    return random.choice(models)\n",
    "\n",
    "# 包装自定义的 tool a\n",
    "choose_model_tool = Tool(\n",
    "    name=\"choose_model\",\n",
    "    description=\"从型号列表中随机选择一个型号。输入是一个型号列表。\",\n",
    "    func=choose_model\n",
    ")\n",
    "\n",
    "# 定义一个提示模板\n",
    "template = \"\"\"你是一个帮助用户选择型号的助手。\n",
    "用户: {input}\n",
    "助手:\"\"\"\n",
    "\n",
    "prompt = PromptTemplate(template=template, input_variables=[\"input\"])\n",
    "\n",
    "# 创建一个 AzureChatOpenAI 实例\n",
    "llm = AzureChatOpenAI(\n",
    "    api_version=\"2024-02-15-preview\",\n",
    "    azure_endpoint=\"https://csagent.openai.azure.com/\",\n",
    "    api_key=\"346ac6661e314a9d8b91b6a99202ba42\",\n",
    "    deployment_name=\"gpt-4-8k\",\n",
    ")\n",
    "\n",
    "# 初始化 agent\n",
    "agent = initialize_agent(\n",
    "    tools=[choose_model_tool],\n",
    "    llm=llm,\n",
    "    agent_type=\"zero-shot-react-description\",\n",
    "    verbose=True\n",
    ")\n",
    "\n",
    "# 运行 agent\n",
    "user_input = \"帮我选择一个型号吧\"\n",
    "context = {\"models\": [\"型号A\", \"型号B\", \"型号C\"]}\n",
    "response = agent.run(user_input, **context)\n",
    "print(response)\n"
   ]
  },
  {
   "cell_type": "code",
   "execution_count": 68,
   "id": "14788fa7-f164-4ee9-af76-cce7a5977f7f",
   "metadata": {},
   "outputs": [
    {
     "ename": "KeyError",
     "evalue": "'agent'",
     "output_type": "error",
     "traceback": [
      "\u001b[0;31m---------------------------------------------------------------------------\u001b[0m",
      "\u001b[0;31mKeyError\u001b[0m                                  Traceback (most recent call last)",
      "Cell \u001b[0;32mIn[68], line 57\u001b[0m\n\u001b[1;32m     54\u001b[0m output_parser \u001b[38;5;241m=\u001b[39m CustomOutputParser()\n\u001b[1;32m     56\u001b[0m \u001b[38;5;66;03m# 创建AgentExecutor\u001b[39;00m\n\u001b[0;32m---> 57\u001b[0m agent_executor \u001b[38;5;241m=\u001b[39m \u001b[43mAgentExecutor\u001b[49m\u001b[43m(\u001b[49m\n\u001b[1;32m     58\u001b[0m \u001b[43m    \u001b[49m\u001b[43mllm_chain\u001b[49m\u001b[38;5;241;43m=\u001b[39;49m\u001b[43mllm_chain\u001b[49m\u001b[43m,\u001b[49m\n\u001b[1;32m     59\u001b[0m \u001b[43m    \u001b[49m\u001b[43mtools\u001b[49m\u001b[38;5;241;43m=\u001b[39;49m\u001b[43m[\u001b[49m\u001b[43mtool_a\u001b[49m\u001b[43m]\u001b[49m\u001b[43m,\u001b[49m\n\u001b[1;32m     60\u001b[0m \u001b[43m    \u001b[49m\u001b[43moutput_parser\u001b[49m\u001b[38;5;241;43m=\u001b[39;49m\u001b[43moutput_parser\u001b[49m\u001b[43m,\u001b[49m\n\u001b[1;32m     61\u001b[0m \u001b[43m    \u001b[49m\u001b[43mverbose\u001b[49m\u001b[38;5;241;43m=\u001b[39;49m\u001b[38;5;28;43;01mTrue\u001b[39;49;00m\n\u001b[1;32m     62\u001b[0m \u001b[43m)\u001b[49m\n\u001b[1;32m     64\u001b[0m \u001b[38;5;66;03m# 测试多轮对话\u001b[39;00m\n\u001b[1;32m     65\u001b[0m conversation_history \u001b[38;5;241m=\u001b[39m \u001b[38;5;124m\"\u001b[39m\u001b[38;5;124m\"\u001b[39m\n",
      "File \u001b[0;32m~/mambaforge/envs/python310_chatbot/lib/python3.10/site-packages/pydantic/v1/main.py:339\u001b[0m, in \u001b[0;36mBaseModel.__init__\u001b[0;34m(__pydantic_self__, **data)\u001b[0m\n\u001b[1;32m    333\u001b[0m \u001b[38;5;250m\u001b[39m\u001b[38;5;124;03m\"\"\"\u001b[39;00m\n\u001b[1;32m    334\u001b[0m \u001b[38;5;124;03mCreate a new model by parsing and validating input data from keyword arguments.\u001b[39;00m\n\u001b[1;32m    335\u001b[0m \n\u001b[1;32m    336\u001b[0m \u001b[38;5;124;03mRaises ValidationError if the input data cannot be parsed to form a valid model.\u001b[39;00m\n\u001b[1;32m    337\u001b[0m \u001b[38;5;124;03m\"\"\"\u001b[39;00m\n\u001b[1;32m    338\u001b[0m \u001b[38;5;66;03m# Uses something other than `self` the first arg to allow \"self\" as a settable attribute\u001b[39;00m\n\u001b[0;32m--> 339\u001b[0m values, fields_set, validation_error \u001b[38;5;241m=\u001b[39m \u001b[43mvalidate_model\u001b[49m\u001b[43m(\u001b[49m\u001b[43m__pydantic_self__\u001b[49m\u001b[38;5;241;43m.\u001b[39;49m\u001b[38;5;18;43m__class__\u001b[39;49m\u001b[43m,\u001b[49m\u001b[43m \u001b[49m\u001b[43mdata\u001b[49m\u001b[43m)\u001b[49m\n\u001b[1;32m    340\u001b[0m \u001b[38;5;28;01mif\u001b[39;00m validation_error:\n\u001b[1;32m    341\u001b[0m     \u001b[38;5;28;01mraise\u001b[39;00m validation_error\n",
      "File \u001b[0;32m~/mambaforge/envs/python310_chatbot/lib/python3.10/site-packages/pydantic/v1/main.py:1048\u001b[0m, in \u001b[0;36mvalidate_model\u001b[0;34m(model, input_data, cls)\u001b[0m\n\u001b[1;32m   1046\u001b[0m \u001b[38;5;28;01mfor\u001b[39;00m validator \u001b[38;5;129;01min\u001b[39;00m model\u001b[38;5;241m.\u001b[39m__pre_root_validators__:\n\u001b[1;32m   1047\u001b[0m     \u001b[38;5;28;01mtry\u001b[39;00m:\n\u001b[0;32m-> 1048\u001b[0m         input_data \u001b[38;5;241m=\u001b[39m \u001b[43mvalidator\u001b[49m\u001b[43m(\u001b[49m\u001b[43mcls_\u001b[49m\u001b[43m,\u001b[49m\u001b[43m \u001b[49m\u001b[43minput_data\u001b[49m\u001b[43m)\u001b[49m\n\u001b[1;32m   1049\u001b[0m     \u001b[38;5;28;01mexcept\u001b[39;00m (\u001b[38;5;167;01mValueError\u001b[39;00m, \u001b[38;5;167;01mTypeError\u001b[39;00m, \u001b[38;5;167;01mAssertionError\u001b[39;00m) \u001b[38;5;28;01mas\u001b[39;00m exc:\n\u001b[1;32m   1050\u001b[0m         \u001b[38;5;28;01mreturn\u001b[39;00m {}, \u001b[38;5;28mset\u001b[39m(), ValidationError([ErrorWrapper(exc, loc\u001b[38;5;241m=\u001b[39mROOT_KEY)], cls_)\n",
      "File \u001b[0;32m~/mambaforge/envs/python310_chatbot/lib/python3.10/site-packages/langchain/agents/agent.py:1008\u001b[0m, in \u001b[0;36mAgentExecutor.validate_runnable_agent\u001b[0;34m(cls, values)\u001b[0m\n\u001b[1;32m   1005\u001b[0m \u001b[38;5;129m@root_validator\u001b[39m(pre\u001b[38;5;241m=\u001b[39m\u001b[38;5;28;01mTrue\u001b[39;00m)\n\u001b[1;32m   1006\u001b[0m \u001b[38;5;28;01mdef\u001b[39;00m \u001b[38;5;21mvalidate_runnable_agent\u001b[39m(\u001b[38;5;28mcls\u001b[39m, values: Dict) \u001b[38;5;241m-\u001b[39m\u001b[38;5;241m>\u001b[39m Dict:\n\u001b[1;32m   1007\u001b[0m \u001b[38;5;250m    \u001b[39m\u001b[38;5;124;03m\"\"\"Convert runnable to agent if passed in.\"\"\"\u001b[39;00m\n\u001b[0;32m-> 1008\u001b[0m     agent \u001b[38;5;241m=\u001b[39m \u001b[43mvalues\u001b[49m\u001b[43m[\u001b[49m\u001b[38;5;124;43m\"\u001b[39;49m\u001b[38;5;124;43magent\u001b[39;49m\u001b[38;5;124;43m\"\u001b[39;49m\u001b[43m]\u001b[49m\n\u001b[1;32m   1009\u001b[0m     \u001b[38;5;28;01mif\u001b[39;00m \u001b[38;5;28misinstance\u001b[39m(agent, Runnable):\n\u001b[1;32m   1010\u001b[0m         \u001b[38;5;28;01mtry\u001b[39;00m:\n",
      "\u001b[0;31mKeyError\u001b[0m: 'agent'"
     ]
    }
   ],
   "source": [
    "from langchain_openai import AzureChatOpenAI\n",
    "from langchain.agents import AgentExecutor, Tool, AgentOutputParser\n",
    "from langchain.prompts import PromptTemplate\n",
    "from langchain.chains import LLMChain\n",
    "from langchain.memory import ConversationBufferMemory\n",
    "import random\n",
    "\n",
    "# 定义随机选择型号的工具\n",
    "def select_model(model_list):\n",
    "    return random.choice(model_list)\n",
    "\n",
    "# 创建工具实例\n",
    "tool_a = Tool(\n",
    "    name=\"select_model_tool\",\n",
    "    func=select_model,\n",
    "    description=\"从型号列表中随机选择一个型号\",\n",
    ")\n",
    "\n",
    "from langchain_openai import AzureChatOpenAI\n",
    "# 创建AzureChatOpenAI实例\n",
    "llm = AzureChatOpenAI(\n",
    "    api_version=\"2024-02-15-preview\",\n",
    "    azure_endpoint=\"https://csagent.openai.azure.com/\",\n",
    "    api_key=\"346ac6661e314a9d8b91b6a99202ba42\",\n",
    "    deployment_name=\"gpt-4-8k\",\n",
    ")\n",
    "\n",
    "# 定义Prompt模板\n",
    "prompt_template = PromptTemplate(\n",
    "    input_variables=[\"input\", \"history\"],\n",
    "    template=\"\"\"\n",
    "    你是一个智能助手，可以进行多轮对话。\n",
    "    用户输入: {input}\n",
    "    对话历史: {history}\n",
    "    根据用户的输入和对话历史，判断是否需要从型号列表中选择一个型号。\n",
    "    如果需要，请调用select_model_tool并返回结果。\n",
    "    \"\"\"\n",
    ")\n",
    "\n",
    "# 创建LLMChain\n",
    "llm_chain = LLMChain(\n",
    "    llm=llm,\n",
    "    prompt=prompt_template,\n",
    "    memory=ConversationBufferMemory()\n",
    ")\n",
    "\n",
    "# 定义输出解析器\n",
    "class CustomOutputParser(AgentOutputParser):\n",
    "    def parse(self, text):\n",
    "        # 解析LLM的输出，判断是否需要调用工具\n",
    "        if \"调用select_model_tool\" in text:\n",
    "            return {\"tool\": \"select_model_tool\", \"action_input\": [\"型号1\", \"型号2\", \"型号3\"]}\n",
    "        return {\"tool\": None, \"action_input\": None}\n",
    "\n",
    "output_parser = CustomOutputParser()\n",
    "\n",
    "# 创建AgentExecutor\n",
    "agent_executor = AgentExecutor(\n",
    "    llm_chain=llm_chain,\n",
    "    tools=[tool_a],\n",
    "    output_parser=output_parser,\n",
    "    verbose=True\n",
    ")\n",
    "\n",
    "# 测试多轮对话\n",
    "conversation_history = \"\"\n",
    "user_input = \"我需要一个新的型号，能帮我选一个吗？\"\n",
    "\n",
    "while user_input.lower() != \"退出\":\n",
    "    response = agent_executor.execute(input=user_input, history=conversation_history)\n",
    "    conversation_history += f\"\\n用户: {user_input}\\n助手: {response['output']}\"\n",
    "    print(f\"助手: {response['output']}\")\n",
    "    user_input = input(\"用户: \")\n"
   ]
  },
  {
   "cell_type": "code",
   "execution_count": null,
   "id": "758f9168-6835-4943-a369-99a8ab4037cb",
   "metadata": {},
   "outputs": [],
   "source": []
  },
  {
   "cell_type": "code",
   "execution_count": 17,
   "id": "0f085d14-a85a-4037-8084-31b18776b87d",
   "metadata": {},
   "outputs": [
    {
     "ename": "ValidationError",
     "evalue": "2 validation errors for LLMChain\ncallbacks -> 0\n  instance of BaseCallbackHandler expected (type=type_error.arbitrary_type; expected_arbitrary_type=BaseCallbackHandler)\ncallbacks\n  instance of BaseCallbackManager expected (type=type_error.arbitrary_type; expected_arbitrary_type=BaseCallbackManager)",
     "output_type": "error",
     "traceback": [
      "\u001b[0;31m---------------------------------------------------------------------------\u001b[0m",
      "\u001b[0;31mValidationError\u001b[0m                           Traceback (most recent call last)",
      "Cell \u001b[0;32mIn[17], line 88\u001b[0m\n\u001b[1;32m     85\u001b[0m         \u001b[38;5;28;01mreturn\u001b[39;00m tools[result\u001b[38;5;241m.\u001b[39mtool]\u001b[38;5;241m.\u001b[39mrun(result\u001b[38;5;241m.\u001b[39mtool_input)\n\u001b[1;32m     87\u001b[0m \u001b[38;5;66;03m# Define the chain\u001b[39;00m\n\u001b[0;32m---> 88\u001b[0m chain \u001b[38;5;241m=\u001b[39m \u001b[43mLLMChain\u001b[49m\u001b[43m(\u001b[49m\n\u001b[1;32m     89\u001b[0m \u001b[43m    \u001b[49m\u001b[43mllm\u001b[49m\u001b[38;5;241;43m=\u001b[39;49m\u001b[43mmodel\u001b[49m\u001b[43m,\u001b[49m\n\u001b[1;32m     90\u001b[0m \u001b[43m    \u001b[49m\u001b[43mprompt\u001b[49m\u001b[38;5;241;43m=\u001b[39;49m\u001b[43mprompt\u001b[49m\u001b[43m,\u001b[49m\n\u001b[1;32m     91\u001b[0m \u001b[43m    \u001b[49m\u001b[43mmemory\u001b[49m\u001b[38;5;241;43m=\u001b[39;49m\u001b[43mmemory\u001b[49m\u001b[43m,\u001b[49m\n\u001b[1;32m     92\u001b[0m \u001b[43m    \u001b[49m\u001b[43moutput_parser\u001b[49m\u001b[38;5;241;43m=\u001b[39;49m\u001b[43mOpenAIFunctionsAgentOutputParser\u001b[49m\u001b[43m(\u001b[49m\u001b[43m)\u001b[49m\u001b[43m,\u001b[49m\n\u001b[1;32m     93\u001b[0m \u001b[43m    \u001b[49m\u001b[43mcallbacks\u001b[49m\u001b[38;5;241;43m=\u001b[39;49m\u001b[43m[\u001b[49m\u001b[43mroute\u001b[49m\u001b[43m]\u001b[49m\n\u001b[1;32m     94\u001b[0m \u001b[43m)\u001b[49m\n\u001b[1;32m     96\u001b[0m \u001b[38;5;66;03m# Invoke the chain with an initial input\u001b[39;00m\n\u001b[1;32m     97\u001b[0m result \u001b[38;5;241m=\u001b[39m chain\u001b[38;5;241m.\u001b[39minvoke({\u001b[38;5;124m\"\u001b[39m\u001b[38;5;124minput\u001b[39m\u001b[38;5;124m\"\u001b[39m: \u001b[38;5;124m\"\u001b[39m\u001b[38;5;124m上海的天气现在怎么样？\u001b[39m\u001b[38;5;124m\"\u001b[39m})\n",
      "File \u001b[0;32m~/mambaforge/envs/python310_chatbot/lib/python3.10/site-packages/langchain_core/_api/deprecation.py:183\u001b[0m, in \u001b[0;36mdeprecated.<locals>.deprecate.<locals>.finalize.<locals>.warn_if_direct_instance\u001b[0;34m(self, *args, **kwargs)\u001b[0m\n\u001b[1;32m    181\u001b[0m     warned \u001b[38;5;241m=\u001b[39m \u001b[38;5;28;01mTrue\u001b[39;00m\n\u001b[1;32m    182\u001b[0m     emit_warning()\n\u001b[0;32m--> 183\u001b[0m \u001b[38;5;28;01mreturn\u001b[39;00m \u001b[43mwrapped\u001b[49m\u001b[43m(\u001b[49m\u001b[38;5;28;43mself\u001b[39;49m\u001b[43m,\u001b[49m\u001b[43m \u001b[49m\u001b[38;5;241;43m*\u001b[39;49m\u001b[43margs\u001b[49m\u001b[43m,\u001b[49m\u001b[43m \u001b[49m\u001b[38;5;241;43m*\u001b[39;49m\u001b[38;5;241;43m*\u001b[39;49m\u001b[43mkwargs\u001b[49m\u001b[43m)\u001b[49m\n",
      "File \u001b[0;32m~/mambaforge/envs/python310_chatbot/lib/python3.10/site-packages/pydantic/v1/main.py:341\u001b[0m, in \u001b[0;36mBaseModel.__init__\u001b[0;34m(__pydantic_self__, **data)\u001b[0m\n\u001b[1;32m    339\u001b[0m values, fields_set, validation_error \u001b[38;5;241m=\u001b[39m validate_model(__pydantic_self__\u001b[38;5;241m.\u001b[39m\u001b[38;5;18m__class__\u001b[39m, data)\n\u001b[1;32m    340\u001b[0m \u001b[38;5;28;01mif\u001b[39;00m validation_error:\n\u001b[0;32m--> 341\u001b[0m     \u001b[38;5;28;01mraise\u001b[39;00m validation_error\n\u001b[1;32m    342\u001b[0m \u001b[38;5;28;01mtry\u001b[39;00m:\n\u001b[1;32m    343\u001b[0m     object_setattr(__pydantic_self__, \u001b[38;5;124m'\u001b[39m\u001b[38;5;124m__dict__\u001b[39m\u001b[38;5;124m'\u001b[39m, values)\n",
      "\u001b[0;31mValidationError\u001b[0m: 2 validation errors for LLMChain\ncallbacks -> 0\n  instance of BaseCallbackHandler expected (type=type_error.arbitrary_type; expected_arbitrary_type=BaseCallbackHandler)\ncallbacks\n  instance of BaseCallbackManager expected (type=type_error.arbitrary_type; expected_arbitrary_type=BaseCallbackManager)"
     ]
    }
   ],
   "source": [
    "import os\n",
    "from dotenv import load_dotenv, find_dotenv\n",
    "_ = load_dotenv(find_dotenv())  # read local .env file\n",
    "from langchain.agents import tool\n",
    "import requests\n",
    "from langchain_core.pydantic_v1 import BaseModel, Field\n",
    "import datetime\n",
    "from langchain.tools.render import format_tool_to_openai_function\n",
    "from langchain_openai import AzureChatOpenAI\n",
    "from langchain.prompts import ChatPromptTemplate\n",
    "from langchain.schema.agent import AgentFinish\n",
    "from langchain.agents.output_parsers import OpenAIFunctionsAgentOutputParser\n",
    "from langchain.memory import ConversationBufferMemory\n",
    "from langchain.chains import LLMChain\n",
    "from langchain.callbacks.base import BaseCallbackHandler\n",
    "from langchain.schema import AIMessage, HumanMessage\n",
    "\n",
    "# Define the input schema\n",
    "class OpenMeteoInput(BaseModel):\n",
    "    latitude: float = Field(..., description=\"Latitude of the location to fetch weather data for\")\n",
    "    longitude: float = Field(..., description=\"Longitude of the location to fetch weather data for\")\n",
    "\n",
    "@tool(args_schema=OpenMeteoInput)\n",
    "def get_current_temperature(latitude: float, longitude: float) -> str:\n",
    "    \"\"\"Fetch current temperature for given coordinates.\"\"\"\n",
    "    \n",
    "    BASE_URL = \"https://api.open-meteo.com/v1/forecast\"\n",
    "    \n",
    "    # Parameters for the request\n",
    "    params = {\n",
    "        'latitude': latitude,\n",
    "        'longitude': longitude,\n",
    "        'hourly': 'temperature_2m',\n",
    "        'forecast_days': 1,\n",
    "    }\n",
    "\n",
    "    # Make the request\n",
    "    response = requests.get(BASE_URL, params=params)\n",
    "    \n",
    "    if response.status_code == 200:\n",
    "        results = response.json()\n",
    "    else:\n",
    "        raise Exception(f\"API Request failed with status code: {response.status_code}\")\n",
    "\n",
    "    current_utc_time = datetime.datetime.utcnow()\n",
    "    time_list = [datetime.datetime.fromisoformat(time_str.replace('Z', '+00:00')) for time_str in results['hourly']['time']]\n",
    "    temperature_list = results['hourly']['temperature_2m']\n",
    "    \n",
    "    closest_time_index = min(range(len(time_list)), key=lambda i: abs(time_list[i] - current_utc_time))\n",
    "    current_temperature = temperature_list[closest_time_index]\n",
    "    \n",
    "    return f'The current temperature is {current_temperature}°C'\n",
    "\n",
    "# Create function descriptions\n",
    "functions = [\n",
    "    format_tool_to_openai_function(f) for f in [\n",
    "        get_current_temperature\n",
    "    ]\n",
    "]\n",
    "\n",
    "# Define LLM\n",
    "model = AzureChatOpenAI(\n",
    "    api_version=\"2024-02-15-preview\",\n",
    "    azure_endpoint=\"https://csagent.openai.azure.com/\",\n",
    "    api_key=\"346ac6661e314a9d8b91b6a99202ba42\",\n",
    "    deployment_name=\"gpt-4-8k\",\n",
    ").bind(functions=functions)\n",
    "\n",
    "# Create prompt\n",
    "prompt = ChatPromptTemplate.from_messages([\n",
    "    (\"system\", \"You are a helpful but sassy assistant\"),\n",
    "    (\"user\", \"{input}\"),\n",
    "])\n",
    "\n",
    "# Create memory for multi-turn conversations\n",
    "memory = ConversationBufferMemory()\n",
    "\n",
    "def route(result):\n",
    "    if isinstance(result, AgentFinish):\n",
    "        return result.return_values['output']\n",
    "    else:\n",
    "        tools = {\n",
    "            \"get_current_temperature\": get_current_temperature,\n",
    "        }\n",
    "        return tools[result.tool].run(result.tool_input)\n",
    "\n",
    "# Define the chain\n",
    "chain = LLMChain(\n",
    "    llm=model,\n",
    "    prompt=prompt,\n",
    "    memory=memory,\n",
    "    output_parser=OpenAIFunctionsAgentOutputParser(),\n",
    "    callbacks=[route]\n",
    ")\n",
    "\n",
    "# Invoke the chain with an initial input\n",
    "result = chain.invoke({\"input\": \"上海的天气现在怎么样？\"})\n",
    "\n",
    "# For subsequent inputs, continue to use the same chain instance\n",
    "# result = chain.invoke({\"input\": \"明天的天气怎么样？\"})\n",
    "\n",
    "print(result)\n"
   ]
  },
  {
   "cell_type": "code",
   "execution_count": null,
   "id": "ba639528-7ff5-460f-a0f2-6011cf4970bc",
   "metadata": {},
   "outputs": [],
   "source": []
  },
  {
   "cell_type": "code",
   "execution_count": null,
   "id": "4da86997-bdc3-44be-bfd4-86c8ce747d8d",
   "metadata": {},
   "outputs": [],
   "source": [
    "# Invoke the chain with an initial input\n",
    "result = chain.invoke({\"input\": \"上海的天气现在怎么样？\"})\n",
    "\n",
    "# For subsequent inputs, continue to use the same chain instance\n",
    "# result = chain.invoke({\"input\": \"明天的天气怎么样？\"})\n",
    "\n",
    "print(result)"
   ]
  },
  {
   "cell_type": "code",
   "execution_count": null,
   "id": "91cfae4f-ad78-481d-aac9-57d230a6a825",
   "metadata": {},
   "outputs": [],
   "source": []
  },
  {
   "cell_type": "code",
   "execution_count": 69,
   "id": "88eb7a1b-a3d7-4b17-b8a3-331739b53bd2",
   "metadata": {},
   "outputs": [],
   "source": [
    "#pip install -U python-dotenv\n",
    " \n",
    "import os\n",
    "\n",
    " \n",
    "from dotenv import load_dotenv, find_dotenv\n",
    "_ = load_dotenv(find_dotenv()) # read local .env file\n"
   ]
  },
  {
   "cell_type": "code",
   "execution_count": 70,
   "id": "73ee3819-fc0a-4691-a876-b1e5eabbe819",
   "metadata": {},
   "outputs": [
    {
     "name": "stdout",
     "output_type": "stream",
     "text": [
      "search.name:search\n",
      "search.description:Search for weather online\n",
      "search.args:{'query': {'title': 'Query', 'type': 'string'}}\n"
     ]
    }
   ],
   "source": [
    "from langchain.agents import tool\n",
    " \n",
    "#添加tool装饰器\n",
    "@tool\n",
    "def search(query: str) -> str:\n",
    "    \"\"\"Search for weather online\"\"\"\n",
    "    return \"42f\"\n",
    " \n",
    "print(f\"search.name:{search.name}\")\n",
    "print(f\"search.description:{search.description}\")\n",
    "print(f\"search.args:{search.args}\")"
   ]
  },
  {
   "cell_type": "code",
   "execution_count": 80,
   "id": "b90a9af5-ea32-4b25-82a0-53bcd311b574",
   "metadata": {},
   "outputs": [
    {
     "name": "stdout",
     "output_type": "stream",
     "text": [
      "search.args:{'query': {'title': 'Query', 'description': 'Thing to search for', 'type': 'string'}}\n"
     ]
    }
   ],
   "source": [
    "from langchain_core.pydantic_v1 import BaseModel, Field\n",
    "class SearchInput(BaseModel):\n",
    "    query: str = Field(description=\"Thing to search for\")\n",
    "        \n",
    "@tool(args_schema=SearchInput)\n",
    "def search(query: str) -> str:\n",
    "    \"\"\"Search for the weather online.\"\"\"\n",
    "    return \"42f\"\n",
    " \n",
    "print(f\"search.args:{search.args}\")"
   ]
  },
  {
   "cell_type": "code",
   "execution_count": 81,
   "id": "bc4af57c-1868-4583-858e-cb455cfdfdc8",
   "metadata": {},
   "outputs": [],
   "source": [
    "import requests\n",
    "from langchain_core.pydantic_v1 import BaseModel, Field\n",
    "import datetime\n",
    " \n",
    "# Define the input schema\n",
    "class OpenMeteoInput(BaseModel):\n",
    "    latitude: float = Field(..., description=\"Latitude of the location to fetch weather data for\")\n",
    "    longitude: float = Field(..., description=\"Longitude of the location to fetch weather data for\")\n",
    " \n",
    "@tool(args_schema=OpenMeteoInput)\n",
    "def get_current_temperature(latitude: float, longitude: float) -> str:\n",
    "    \"\"\"Fetch current temperature for given coordinates.\"\"\"\n",
    "    \n",
    "    BASE_URL = \"https://api.open-meteo.com/v1/forecast\"\n",
    "    \n",
    "    # Parameters for the request\n",
    "    params = {\n",
    "        'latitude': latitude,\n",
    "        'longitude': longitude,\n",
    "        'hourly': 'temperature_2m',\n",
    "        'forecast_days': 1,\n",
    "    }\n",
    " \n",
    "    # Make the request\n",
    "    response = requests.get(BASE_URL, params=params)\n",
    "    \n",
    "    if response.status_code == 200:\n",
    "        results = response.json()\n",
    "    else:\n",
    "        raise Exception(f\"API Request failed with status code: {response.status_code}\")\n",
    " \n",
    "    current_utc_time = datetime.datetime.utcnow()\n",
    "    time_list = [datetime.datetime.fromisoformat(time_str.replace('Z', '+00:00')) for time_str in results['hourly']['time']]\n",
    "    temperature_list = results['hourly']['temperature_2m']\n",
    "    \n",
    "    closest_time_index = min(range(len(time_list)), key=lambda i: abs(time_list[i] - current_utc_time))\n",
    "    current_temperature = temperature_list[closest_time_index]\n",
    "    \n",
    "    return f'The current temperature is {current_temperature}°C'"
   ]
  },
  {
   "cell_type": "code",
   "execution_count": 82,
   "id": "fc3fa5da-17a8-40f0-8f13-ce9c23cd696e",
   "metadata": {},
   "outputs": [
    {
     "name": "stdout",
     "output_type": "stream",
     "text": [
      "{'latitude': {'title': 'Latitude', 'description': 'Latitude of the location to fetch weather data for', 'type': 'number'}, 'longitude': {'title': 'Longitude', 'description': 'Longitude of the location to fetch weather data for', 'type': 'number'}}\n"
     ]
    }
   ],
   "source": [
    "print(get_current_temperature.args)"
   ]
  },
  {
   "cell_type": "code",
   "execution_count": 83,
   "id": "a376c13c-458d-4d96-ad87-9d4c64d88ef4",
   "metadata": {},
   "outputs": [
    {
     "data": {
      "text/plain": [
       "'The current temperature is 30.4°C'"
      ]
     },
     "execution_count": 83,
     "metadata": {},
     "output_type": "execute_result"
    }
   ],
   "source": [
    "get_current_temperature.run({\"latitude\": 13, \"longitude\": 14})"
   ]
  },
  {
   "cell_type": "code",
   "execution_count": 85,
   "id": "ce0e41aa-ab0f-4355-a2c2-a964620f7580",
   "metadata": {},
   "outputs": [
    {
     "name": "stderr",
     "output_type": "stream",
     "text": [
      "/root/mambaforge/envs/python310_chatbot/lib/python3.10/site-packages/langchain_core/_api/deprecation.py:119: LangChainDeprecationWarning: The function `format_tool_to_openai_function` was deprecated in LangChain 0.1.16 and will be removed in 0.3.0. Use langchain_core.utils.function_calling.convert_to_openai_function() instead.\n",
      "  warn_deprecated(\n"
     ]
    },
    {
     "data": {
      "text/plain": [
       "{'name': 'get_current_temperature',\n",
       " 'description': 'Fetch current temperature for given coordinates.',\n",
       " 'parameters': {'type': 'object',\n",
       "  'properties': {'latitude': {'description': 'Latitude of the location to fetch weather data for',\n",
       "    'type': 'number'},\n",
       "   'longitude': {'description': 'Longitude of the location to fetch weather data for',\n",
       "    'type': 'number'}},\n",
       "  'required': ['latitude', 'longitude']}}"
      ]
     },
     "execution_count": 85,
     "metadata": {},
     "output_type": "execute_result"
    }
   ],
   "source": [
    "from langchain.tools.render import format_tool_to_openai_function\n",
    " \n",
    "format_tool_to_openai_function(get_current_temperature)"
   ]
  },
  {
   "cell_type": "code",
   "execution_count": 86,
   "id": "5025a493-9f8a-4f4f-ae44-31b3b550bf11",
   "metadata": {},
   "outputs": [
    {
     "data": {
      "text/plain": [
       "AIMessage(content='', additional_kwargs={'function_call': {'arguments': '{\\n  \"latitude\": 31.2304,\\n  \"longitude\": 121.4737\\n}', 'name': 'get_current_temperature'}}, response_metadata={'token_usage': {'completion_tokens': 29, 'prompt_tokens': 94, 'total_tokens': 123}, 'model_name': 'gpt-4', 'system_fingerprint': None, 'prompt_filter_results': [{'prompt_index': 0, 'content_filter_results': {'hate': {'filtered': False, 'severity': 'safe'}, 'self_harm': {'filtered': False, 'severity': 'safe'}, 'sexual': {'filtered': False, 'severity': 'safe'}, 'violence': {'filtered': False, 'severity': 'safe'}}}], 'finish_reason': 'function_call', 'logprobs': None, 'content_filter_results': {}}, id='run-c2c39c42-3d23-40d3-9dd1-166f2f8f6d2f-0', usage_metadata={'input_tokens': 94, 'output_tokens': 29, 'total_tokens': 123})"
      ]
     },
     "execution_count": 86,
     "metadata": {},
     "output_type": "execute_result"
    }
   ],
   "source": [
    "# from langchain.chat_models import ChatOpenAI\n",
    "from langchain_openai import AzureChatOpenAI\n",
    "from langchain.prompts import ChatPromptTemplate\n",
    " \n",
    "#创建函数描述变量\n",
    "functions = [\n",
    "    format_tool_to_openai_function(f) for f in [\n",
    "        get_current_temperature\n",
    "    ]\n",
    "]\n",
    " \n",
    "#定义llm\n",
    "# model = ChatOpenAI(temperature=0).bind(functions=functions)\n",
    "model = AzureChatOpenAI(\n",
    "    api_version=\"2024-02-15-preview\",\n",
    "    azure_endpoint=\"https://csagent.openai.azure.com/\",\n",
    "    api_key=\"346ac6661e314a9d8b91b6a99202ba42\",\n",
    "    deployment_name=\"gpt-4-8k\",\n",
    ").bind(functions=functions)\n",
    " \n",
    "#创建prompt\n",
    "prompt = ChatPromptTemplate.from_messages([\n",
    "    (\"system\", \"You are helpful but sassy assistant\"),\n",
    "    (\"user\", \"{input}\"),\n",
    "])\n",
    " \n",
    "#定义chain\n",
    "chain = prompt | model\n",
    " \n",
    "#调用chain\n",
    "chain.invoke({\"input\": \"上海现在的天气怎么样？\"})"
   ]
  },
  {
   "cell_type": "code",
   "execution_count": 87,
   "id": "57198d11-a2e6-4987-925b-e52a2bfdfff3",
   "metadata": {},
   "outputs": [
    {
     "data": {
      "text/plain": [
       "AIMessage(content='你好，有什么可以帮助你的吗？', response_metadata={'token_usage': {'completion_tokens': 18, 'prompt_tokens': 83, 'total_tokens': 101}, 'model_name': 'gpt-4', 'system_fingerprint': None, 'prompt_filter_results': [{'prompt_index': 0, 'content_filter_results': {'hate': {'filtered': False, 'severity': 'safe'}, 'self_harm': {'filtered': False, 'severity': 'safe'}, 'sexual': {'filtered': False, 'severity': 'safe'}, 'violence': {'filtered': False, 'severity': 'safe'}}}], 'finish_reason': 'stop', 'logprobs': None, 'content_filter_results': {'hate': {'filtered': False, 'severity': 'safe'}, 'self_harm': {'filtered': False, 'severity': 'safe'}, 'sexual': {'filtered': False, 'severity': 'safe'}, 'violence': {'filtered': False, 'severity': 'safe'}}}, id='run-cd689602-579b-4b67-af5e-9024a116b3ba-0', usage_metadata={'input_tokens': 83, 'output_tokens': 18, 'total_tokens': 101})"
      ]
     },
     "execution_count": 87,
     "metadata": {},
     "output_type": "execute_result"
    }
   ],
   "source": [
    "chain.invoke({\"input\": \"你好\"})"
   ]
  },
  {
   "cell_type": "code",
   "execution_count": 88,
   "id": "66fb41ed-f53d-4897-bb3c-6fdc95ba2fb4",
   "metadata": {},
   "outputs": [
    {
     "data": {
      "text/plain": [
       "AgentActionMessageLog(tool='get_current_temperature', tool_input={'latitude': 31.2304, 'longitude': 121.4737}, log=\"\\nInvoking: `get_current_temperature` with `{'latitude': 31.2304, 'longitude': 121.4737}`\\n\\n\\n\", message_log=[AIMessage(content='', additional_kwargs={'function_call': {'arguments': '{\\n  \"latitude\": 31.2304,\\n  \"longitude\": 121.4737\\n}', 'name': 'get_current_temperature'}}, response_metadata={'token_usage': {'completion_tokens': 29, 'prompt_tokens': 94, 'total_tokens': 123}, 'model_name': 'gpt-4', 'system_fingerprint': None, 'prompt_filter_results': [{'prompt_index': 0, 'content_filter_results': {'hate': {'filtered': False, 'severity': 'safe'}, 'self_harm': {'filtered': False, 'severity': 'safe'}, 'sexual': {'filtered': False, 'severity': 'safe'}, 'violence': {'filtered': False, 'severity': 'safe'}}}], 'finish_reason': 'function_call', 'logprobs': None, 'content_filter_results': {}}, id='run-b1401fa4-8e39-4e3d-a63f-0fec9a98e79d-0', usage_metadata={'input_tokens': 94, 'output_tokens': 29, 'total_tokens': 123})])"
      ]
     },
     "execution_count": 88,
     "metadata": {},
     "output_type": "execute_result"
    }
   ],
   "source": [
    "from langchain.agents.output_parsers import OpenAIFunctionsAgentOutputParser\n",
    " \n",
    "chain = prompt | model | OpenAIFunctionsAgentOutputParser()\n",
    " \n",
    "result = chain.invoke({\"input\": \"上海现在的天气怎么样？\"})\n",
    "result"
   ]
  },
  {
   "cell_type": "code",
   "execution_count": 91,
   "id": "481e914b-c1e1-4d28-935d-686cf4d8cdfb",
   "metadata": {},
   "outputs": [],
   "source": [
    "from langchain.schema.agent import AgentFinish\n",
    " \n",
    "def route(result):\n",
    "    if isinstance(result, AgentFinish):\n",
    "        return result.return_values['output']\n",
    "    else:\n",
    "        tools = {\n",
    "            \"get_current_temperature\": get_current_temperature,\n",
    "        }\n",
    "        return tools[result.tool].run(result.tool_input)"
   ]
  },
  {
   "cell_type": "code",
   "execution_count": 83,
   "id": "1bab5e29-6cd4-4276-ab54-cf95a248028a",
   "metadata": {},
   "outputs": [],
   "source": [
    "import requests\n",
    "\n",
    "def query_weather(location):\n",
    "    # 假设这是你的查询天气 API 的 URL\n",
    "    api_url = f\"http://api.weatherapi.com/v1/current.json?key=YOUR_API_KEY&q={location}\"\n",
    "    response = requests.get(api_url)\n",
    "    if response.status_code == 200:\n",
    "        data = response.json()\n",
    "        return data['current']['condition']['text']\n",
    "    else:\n",
    "        return \"无法获取天气信息\""
   ]
  },
  {
   "cell_type": "code",
   "execution_count": 84,
   "id": "ac77af1a-d320-44fd-a429-77735b1700fb",
   "metadata": {
    "scrolled": true
   },
   "outputs": [
    {
     "name": "stderr",
     "output_type": "stream",
     "text": [
      "/root/mambaforge/envs/python310_chatbot/lib/python3.10/site-packages/langchain_core/_api/deprecation.py:119: LangChainDeprecationWarning: The function `initialize_agent` was deprecated in LangChain 0.1.0 and will be removed in 0.3.0. Use Use new agent constructor methods like create_react_agent, create_json_agent, create_structured_chat_agent, etc. instead.\n",
      "  warn_deprecated(\n"
     ]
    },
    {
     "ename": "AttributeError",
     "evalue": "'tuple' object has no attribute 'is_single_input'",
     "output_type": "error",
     "traceback": [
      "\u001b[0;31m---------------------------------------------------------------------------\u001b[0m",
      "\u001b[0;31mAttributeError\u001b[0m                            Traceback (most recent call last)",
      "Cell \u001b[0;32mIn[84], line 43\u001b[0m\n\u001b[1;32m     41\u001b[0m \u001b[38;5;66;03m# 初始化 agent\u001b[39;00m\n\u001b[1;32m     42\u001b[0m tools \u001b[38;5;241m=\u001b[39m [WeatherTool()]\n\u001b[0;32m---> 43\u001b[0m agent \u001b[38;5;241m=\u001b[39m \u001b[43minitialize_agent\u001b[49m\u001b[43m(\u001b[49m\u001b[43mllm_chain\u001b[49m\u001b[43m,\u001b[49m\u001b[43m \u001b[49m\u001b[43mtools\u001b[49m\u001b[43m,\u001b[49m\u001b[43m \u001b[49m\u001b[43magent_type\u001b[49m\u001b[38;5;241;43m=\u001b[39;49m\u001b[38;5;124;43m\"\u001b[39;49m\u001b[38;5;124;43mzero-shot-react-description\u001b[39;49m\u001b[38;5;124;43m\"\u001b[39;49m\u001b[43m)\u001b[49m\n\u001b[1;32m     45\u001b[0m \u001b[38;5;66;03m# 创建 agent 实例\u001b[39;00m\n\u001b[1;32m     46\u001b[0m \u001b[38;5;28;01mclass\u001b[39;00m \u001b[38;5;21;01mWeatherAgent\u001b[39;00m:\n",
      "File \u001b[0;32m~/mambaforge/envs/python310_chatbot/lib/python3.10/site-packages/langchain_core/_api/deprecation.py:148\u001b[0m, in \u001b[0;36mdeprecated.<locals>.deprecate.<locals>.warning_emitting_wrapper\u001b[0;34m(*args, **kwargs)\u001b[0m\n\u001b[1;32m    146\u001b[0m     warned \u001b[38;5;241m=\u001b[39m \u001b[38;5;28;01mTrue\u001b[39;00m\n\u001b[1;32m    147\u001b[0m     emit_warning()\n\u001b[0;32m--> 148\u001b[0m \u001b[38;5;28;01mreturn\u001b[39;00m \u001b[43mwrapped\u001b[49m\u001b[43m(\u001b[49m\u001b[38;5;241;43m*\u001b[39;49m\u001b[43margs\u001b[49m\u001b[43m,\u001b[49m\u001b[43m \u001b[49m\u001b[38;5;241;43m*\u001b[39;49m\u001b[38;5;241;43m*\u001b[39;49m\u001b[43mkwargs\u001b[49m\u001b[43m)\u001b[49m\n",
      "File \u001b[0;32m~/mambaforge/envs/python310_chatbot/lib/python3.10/site-packages/langchain/agents/initialize.py:67\u001b[0m, in \u001b[0;36minitialize_agent\u001b[0;34m(tools, llm, agent, callback_manager, agent_path, agent_kwargs, tags, **kwargs)\u001b[0m\n\u001b[1;32m     65\u001b[0m     agent_cls \u001b[38;5;241m=\u001b[39m AGENT_TO_CLASS[agent]\n\u001b[1;32m     66\u001b[0m     agent_kwargs \u001b[38;5;241m=\u001b[39m agent_kwargs \u001b[38;5;129;01mor\u001b[39;00m {}\n\u001b[0;32m---> 67\u001b[0m     agent_obj \u001b[38;5;241m=\u001b[39m \u001b[43magent_cls\u001b[49m\u001b[38;5;241;43m.\u001b[39;49m\u001b[43mfrom_llm_and_tools\u001b[49m\u001b[43m(\u001b[49m\n\u001b[1;32m     68\u001b[0m \u001b[43m        \u001b[49m\u001b[43mllm\u001b[49m\u001b[43m,\u001b[49m\u001b[43m \u001b[49m\u001b[43mtools\u001b[49m\u001b[43m,\u001b[49m\u001b[43m \u001b[49m\u001b[43mcallback_manager\u001b[49m\u001b[38;5;241;43m=\u001b[39;49m\u001b[43mcallback_manager\u001b[49m\u001b[43m,\u001b[49m\u001b[43m \u001b[49m\u001b[38;5;241;43m*\u001b[39;49m\u001b[38;5;241;43m*\u001b[39;49m\u001b[43magent_kwargs\u001b[49m\n\u001b[1;32m     69\u001b[0m \u001b[43m    \u001b[49m\u001b[43m)\u001b[49m\n\u001b[1;32m     70\u001b[0m \u001b[38;5;28;01melif\u001b[39;00m agent_path \u001b[38;5;129;01mis\u001b[39;00m \u001b[38;5;129;01mnot\u001b[39;00m \u001b[38;5;28;01mNone\u001b[39;00m:\n\u001b[1;32m     71\u001b[0m     agent_obj \u001b[38;5;241m=\u001b[39m load_agent(\n\u001b[1;32m     72\u001b[0m         agent_path, llm\u001b[38;5;241m=\u001b[39mllm, tools\u001b[38;5;241m=\u001b[39mtools, callback_manager\u001b[38;5;241m=\u001b[39mcallback_manager\n\u001b[1;32m     73\u001b[0m     )\n",
      "File \u001b[0;32m~/mambaforge/envs/python310_chatbot/lib/python3.10/site-packages/langchain/agents/mrkl/base.py:104\u001b[0m, in \u001b[0;36mZeroShotAgent.from_llm_and_tools\u001b[0;34m(cls, llm, tools, callback_manager, output_parser, prefix, suffix, format_instructions, input_variables, **kwargs)\u001b[0m\n\u001b[1;32m     90\u001b[0m \u001b[38;5;129m@classmethod\u001b[39m\n\u001b[1;32m     91\u001b[0m \u001b[38;5;28;01mdef\u001b[39;00m \u001b[38;5;21mfrom_llm_and_tools\u001b[39m(\n\u001b[1;32m     92\u001b[0m     \u001b[38;5;28mcls\u001b[39m,\n\u001b[0;32m   (...)\u001b[0m\n\u001b[1;32m    101\u001b[0m     \u001b[38;5;241m*\u001b[39m\u001b[38;5;241m*\u001b[39mkwargs: Any,\n\u001b[1;32m    102\u001b[0m ) \u001b[38;5;241m-\u001b[39m\u001b[38;5;241m>\u001b[39m Agent:\n\u001b[1;32m    103\u001b[0m \u001b[38;5;250m    \u001b[39m\u001b[38;5;124;03m\"\"\"Construct an agent from an LLM and tools.\"\"\"\u001b[39;00m\n\u001b[0;32m--> 104\u001b[0m     \u001b[38;5;28;43mcls\u001b[39;49m\u001b[38;5;241;43m.\u001b[39;49m\u001b[43m_validate_tools\u001b[49m\u001b[43m(\u001b[49m\u001b[43mtools\u001b[49m\u001b[43m)\u001b[49m\n\u001b[1;32m    105\u001b[0m     prompt \u001b[38;5;241m=\u001b[39m \u001b[38;5;28mcls\u001b[39m\u001b[38;5;241m.\u001b[39mcreate_prompt(\n\u001b[1;32m    106\u001b[0m         tools,\n\u001b[1;32m    107\u001b[0m         prefix\u001b[38;5;241m=\u001b[39mprefix,\n\u001b[0;32m   (...)\u001b[0m\n\u001b[1;32m    110\u001b[0m         input_variables\u001b[38;5;241m=\u001b[39minput_variables,\n\u001b[1;32m    111\u001b[0m     )\n\u001b[1;32m    112\u001b[0m     llm_chain \u001b[38;5;241m=\u001b[39m LLMChain(  \u001b[38;5;66;03m# type: ignore[misc]\u001b[39;00m\n\u001b[1;32m    113\u001b[0m         llm\u001b[38;5;241m=\u001b[39mllm,\n\u001b[1;32m    114\u001b[0m         prompt\u001b[38;5;241m=\u001b[39mprompt,\n\u001b[1;32m    115\u001b[0m         callback_manager\u001b[38;5;241m=\u001b[39mcallback_manager,\n\u001b[1;32m    116\u001b[0m     )\n",
      "File \u001b[0;32m~/mambaforge/envs/python310_chatbot/lib/python3.10/site-packages/langchain/agents/mrkl/base.py:128\u001b[0m, in \u001b[0;36mZeroShotAgent._validate_tools\u001b[0;34m(cls, tools)\u001b[0m\n\u001b[1;32m    126\u001b[0m \u001b[38;5;129m@classmethod\u001b[39m\n\u001b[1;32m    127\u001b[0m \u001b[38;5;28;01mdef\u001b[39;00m \u001b[38;5;21m_validate_tools\u001b[39m(\u001b[38;5;28mcls\u001b[39m, tools: Sequence[BaseTool]) \u001b[38;5;241m-\u001b[39m\u001b[38;5;241m>\u001b[39m \u001b[38;5;28;01mNone\u001b[39;00m:\n\u001b[0;32m--> 128\u001b[0m     \u001b[43mvalidate_tools_single_input\u001b[49m\u001b[43m(\u001b[49m\u001b[38;5;28;43mcls\u001b[39;49m\u001b[38;5;241;43m.\u001b[39;49m\u001b[38;5;18;43m__name__\u001b[39;49m\u001b[43m,\u001b[49m\u001b[43m \u001b[49m\u001b[43mtools\u001b[49m\u001b[43m)\u001b[49m\n\u001b[1;32m    129\u001b[0m     \u001b[38;5;28;01mif\u001b[39;00m \u001b[38;5;28mlen\u001b[39m(tools) \u001b[38;5;241m==\u001b[39m \u001b[38;5;241m0\u001b[39m:\n\u001b[1;32m    130\u001b[0m         \u001b[38;5;28;01mraise\u001b[39;00m \u001b[38;5;167;01mValueError\u001b[39;00m(\n\u001b[1;32m    131\u001b[0m             \u001b[38;5;124mf\u001b[39m\u001b[38;5;124m\"\u001b[39m\u001b[38;5;124mGot no tools for \u001b[39m\u001b[38;5;132;01m{\u001b[39;00m\u001b[38;5;28mcls\u001b[39m\u001b[38;5;241m.\u001b[39m\u001b[38;5;18m__name__\u001b[39m\u001b[38;5;132;01m}\u001b[39;00m\u001b[38;5;124m. At least one tool must be provided.\u001b[39m\u001b[38;5;124m\"\u001b[39m\n\u001b[1;32m    132\u001b[0m         )\n",
      "File \u001b[0;32m~/mambaforge/envs/python310_chatbot/lib/python3.10/site-packages/langchain/agents/utils.py:9\u001b[0m, in \u001b[0;36mvalidate_tools_single_input\u001b[0;34m(class_name, tools)\u001b[0m\n\u001b[1;32m      7\u001b[0m \u001b[38;5;250m\u001b[39m\u001b[38;5;124;03m\"\"\"Validate tools for single input.\"\"\"\u001b[39;00m\n\u001b[1;32m      8\u001b[0m \u001b[38;5;28;01mfor\u001b[39;00m tool \u001b[38;5;129;01min\u001b[39;00m tools:\n\u001b[0;32m----> 9\u001b[0m     \u001b[38;5;28;01mif\u001b[39;00m \u001b[38;5;129;01mnot\u001b[39;00m \u001b[43mtool\u001b[49m\u001b[38;5;241;43m.\u001b[39;49m\u001b[43mis_single_input\u001b[49m:\n\u001b[1;32m     10\u001b[0m         \u001b[38;5;28;01mraise\u001b[39;00m \u001b[38;5;167;01mValueError\u001b[39;00m(\n\u001b[1;32m     11\u001b[0m             \u001b[38;5;124mf\u001b[39m\u001b[38;5;124m\"\u001b[39m\u001b[38;5;132;01m{\u001b[39;00mclass_name\u001b[38;5;132;01m}\u001b[39;00m\u001b[38;5;124m does not support multi-input tool \u001b[39m\u001b[38;5;132;01m{\u001b[39;00mtool\u001b[38;5;241m.\u001b[39mname\u001b[38;5;132;01m}\u001b[39;00m\u001b[38;5;124m.\u001b[39m\u001b[38;5;124m\"\u001b[39m\n\u001b[1;32m     12\u001b[0m         )\n",
      "\u001b[0;31mAttributeError\u001b[0m: 'tuple' object has no attribute 'is_single_input'"
     ]
    }
   ],
   "source": [
    "from langchain.chains import LLMChain\n",
    "from langchain_openai import AzureChatOpenAI\n",
    "from langchain.prompts import PromptTemplate\n",
    "from langchain.agents import initialize_agent, Tool\n",
    "\n",
    "\n",
    "model = AzureChatOpenAI(\n",
    "    api_version=\"2024-02-15-preview\",\n",
    "    azure_endpoint=\"https://csagent.openai.azure.com/\",\n",
    "    api_key=\"346ac6661e314a9d8b91b6a99202ba42\",\n",
    "    deployment_name=\"gpt-4-8k\",\n",
    ")\n",
    "\n",
    "# 创建一个简单的查询天气工具\n",
    "class WeatherTool(Tool):\n",
    "    def __init__(self):\n",
    "        super().__init__(\n",
    "            name=\"query_weather\",\n",
    "            description=\"查询指定位置的天气信息\",\n",
    "            func=query_weather\n",
    "        )\n",
    "\n",
    "# 创建一个简单的 prompt 模板\n",
    "prompt_template = PromptTemplate(\n",
    "    input_variables=[\"context\", \"input\"],\n",
    "    template=\"\"\"\n",
    "    你是一个智能助手，能够进行多轮对话并自动判断是否需要查询天气信息。\n",
    "    当前对话上下文是：{context}\n",
    "    用户输入是：{input}\n",
    "    \n",
    "    如果用户询问天气，请调用查询天气工具。\n",
    "    \"\"\"\n",
    ")\n",
    "\n",
    "# 创建一个 LLM Chain\n",
    "llm_chain = LLMChain(\n",
    "    llm=model,\n",
    "    prompt=prompt_template\n",
    ")\n",
    "\n",
    "# 初始化 agent\n",
    "tools = [WeatherTool()]\n",
    "agent = initialize_agent(llm_chain, tools, agent_type=\"zero-shot-react-description\")\n",
    "\n",
    "# 创建 agent 实例\n",
    "class WeatherAgent:\n",
    "    def __init__(self):\n",
    "        self.agent = agent\n",
    "        self.context = \"\"\n",
    "\n",
    "    def handle_input(self, user_input):\n",
    "        # 更新上下文\n",
    "        self.context += f\"\\n用户: {user_input}\"\n",
    "        \n",
    "        # 生成回复\n",
    "        response = self.agent.run(input=user_input)\n",
    "        \n",
    "        self.context += f\"\\n助手: {response}\"\n",
    "        return response\n",
    "\n",
    "# 创建 agent 实例\n",
    "weather_agent = WeatherAgent()\n"
   ]
  },
  {
   "cell_type": "code",
   "execution_count": null,
   "id": "a6c682a7-bc08-49e4-8fcf-413317170eba",
   "metadata": {},
   "outputs": [],
   "source": []
  },
  {
   "cell_type": "code",
   "execution_count": null,
   "id": "eaffed7a-6e90-4f7e-b0d6-ee22097be648",
   "metadata": {},
   "outputs": [],
   "source": []
  },
  {
   "cell_type": "code",
   "execution_count": 1,
   "id": "bfa0d766-0fa1-4f81-95eb-07ac1c321376",
   "metadata": {},
   "outputs": [
    {
     "data": {
      "text/plain": [
       "False"
      ]
     },
     "execution_count": 1,
     "metadata": {},
     "output_type": "execute_result"
    }
   ],
   "source": [
    "import dotenv\n",
    "\n",
    "dotenv.load_dotenv()"
   ]
  },
  {
   "cell_type": "code",
   "execution_count": 3,
   "id": "8892a639-7bf1-47c6-82ea-3c4b22fd7e51",
   "metadata": {},
   "outputs": [],
   "source": [
    "import os \n",
    "os.environ[\"TAVILY_API_KEY\"] = \"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\""
   ]
  },
  {
   "cell_type": "code",
   "execution_count": 18,
   "id": "c965fdee-d013-4aa5-8487-cc2cf97c5f60",
   "metadata": {},
   "outputs": [],
   "source": [
    "from langchain_core.tools import tool"
   ]
  },
  {
   "cell_type": "code",
   "execution_count": 37,
   "id": "f6c3d9e1-4966-4409-afa7-b845b7b0fc8c",
   "metadata": {},
   "outputs": [],
   "source": [
    "@tool\n",
    "def add(model_list: list[str]) -> str:\n",
    "    \"当发现句子中有关于型号的东西的时候，从输入的型号的列表里面选择第一个\"\n",
    "    return model_list[0]"
   ]
  },
  {
   "cell_type": "code",
   "execution_count": 38,
   "id": "b6dd7cf3-d674-4f73-922f-92b7552615cd",
   "metadata": {},
   "outputs": [],
   "source": [
    "from langchain_community.tools.tavily_search import TavilySearchResults\n",
    "from langchain_openai import AzureChatOpenAI\n",
    "\n",
    "tools = [add]\n",
    "\n",
    "# Choose the LLM that will drive the agent\n",
    "# Only certain models support this\n",
    "chat = AzureChatOpenAI(\n",
    "    api_version=\"2024-02-15-preview\",\n",
    "    azure_endpoint=\"https://csagent.openai.azure.com/\",\n",
    "    api_key=\"346ac6661e314a9d8b91b6a99202ba42\",\n",
    "    deployment_name=\"gpt-4-8k\",\n",
    ")"
   ]
  },
  {
   "cell_type": "code",
   "execution_count": 24,
   "id": "94ba9f6b-a02a-4a97-928e-d5da1a0713cb",
   "metadata": {},
   "outputs": [],
   "source": [
    "from langchain_core.prompts import ChatPromptTemplate, MessagesPlaceholder\n",
    "\n",
    "# Adapted from https://smith.langchain.com/hub/hwchase17/openai-tools-agent\n",
    "prompt = ChatPromptTemplate.from_messages(\n",
    "    [\n",
    "        (\n",
    "            \"system\",\n",
    "            \"You are a helpful assistant. You may not need to use tools for every query - the user may just want to chat!\",\n",
    "        ),\n",
    "        MessagesPlaceholder(variable_name=\"messages\"),\n",
    "        MessagesPlaceholder(variable_name=\"agent_scratchpad\"),\n",
    "    ]\n",
    ")"
   ]
  },
  {
   "cell_type": "code",
   "execution_count": 25,
   "id": "b4890a3e-0796-47b2-b0fd-e7d8e5df156a",
   "metadata": {},
   "outputs": [],
   "source": [
    "from langchain.agents import AgentExecutor, create_openai_tools_agent\n",
    "\n",
    "agent = create_openai_tools_agent(chat, tools, prompt)\n",
    "\n",
    "agent_executor = AgentExecutor(agent=agent, tools=tools, verbose=True)"
   ]
  },
  {
   "cell_type": "code",
   "execution_count": 26,
   "id": "dbb48559-b070-44a0-b584-1b101dc8e59a",
   "metadata": {},
   "outputs": [
    {
     "name": "stdout",
     "output_type": "stream",
     "text": [
      "\n",
      "\n",
      "\u001b[1m> Entering new AgentExecutor chain...\u001b[0m\n",
      "\u001b[32;1m\u001b[1;3m你好！有什么可以帮助你的吗？\u001b[0m\n",
      "\n",
      "\u001b[1m> Finished chain.\u001b[0m\n"
     ]
    },
    {
     "data": {
      "text/plain": [
       "{'messages': [HumanMessage(content='你好')], 'output': '你好！有什么可以帮助你的吗？'}"
      ]
     },
     "execution_count": 26,
     "metadata": {},
     "output_type": "execute_result"
    }
   ],
   "source": [
    "from langchain_core.messages import HumanMessage\n",
    "\n",
    "agent_executor.invoke({\"messages\": [HumanMessage(content=\"你好\")]})"
   ]
  },
  {
   "cell_type": "code",
   "execution_count": 27,
   "id": "a76c8e51-17aa-454e-83ee-9a58ca699ec7",
   "metadata": {},
   "outputs": [
    {
     "name": "stdout",
     "output_type": "stream",
     "text": [
      "\n",
      "\n",
      "\u001b[1m> Entering new AgentExecutor chain...\u001b[0m\n",
      "\u001b[32;1m\u001b[1;3m\n",
      "Invoking: `add` with `{'model_list': ['a10', 'a11']}`\n",
      "\n",
      "\n",
      "\u001b[0m\u001b[36;1m\u001b[1;3ma10\u001b[0m\u001b[32;1m\u001b[1;3m您选择的第一个型号是 'a10'.\u001b[0m\n",
      "\n",
      "\u001b[1m> Finished chain.\u001b[0m\n"
     ]
    },
    {
     "data": {
      "text/plain": [
       "{'messages': [HumanMessage(content=\"我的型号列表是['a10', 'a11']\")],\n",
       " 'output': \"您选择的第一个型号是 'a10'.\"}"
      ]
     },
     "execution_count": 27,
     "metadata": {},
     "output_type": "execute_result"
    }
   ],
   "source": [
    "agent_executor.invoke(\n",
    "    {\n",
    "        \"messages\": [\n",
    "            HumanMessage(\n",
    "                content=\"我的型号列表是['a10', 'a11']\"\n",
    "            )\n",
    "        ],\n",
    "    }\n",
    ")"
   ]
  },
  {
   "cell_type": "code",
   "execution_count": 9,
   "id": "cdd6e4dc-974d-47d0-a560-9bfcf608573c",
   "metadata": {},
   "outputs": [
    {
     "name": "stdout",
     "output_type": "stream",
     "text": [
      "\n",
      "\n",
      "\u001b[1m> Entering new AgentExecutor chain...\u001b[0m\n",
      "\u001b[32;1m\u001b[1;3m对不起，我无法回答这个问题，因为我没有能力回溯到之前的对话。我是一款只能回应当前问题的人工智能助手。你可以再次提出你的问题或需求，我会很高兴为你服务。\u001b[0m\n",
      "\n",
      "\u001b[1m> Finished chain.\u001b[0m\n"
     ]
    },
    {
     "data": {
      "text/plain": [
       "{'messages': [HumanMessage(content='我刚才问了什么')],\n",
       " 'output': '对不起，我无法回答这个问题，因为我没有能力回溯到之前的对话。我是一款只能回应当前问题的人工智能助手。你可以再次提出你的问题或需求，我会很高兴为你服务。'}"
      ]
     },
     "execution_count": 9,
     "metadata": {},
     "output_type": "execute_result"
    }
   ],
   "source": [
    "agent_executor.invoke(\n",
    "    {\n",
    "        \"messages\": [\n",
    "            HumanMessage(\n",
    "                content=\"我刚才问了什么\"\n",
    "            )\n",
    "        ],\n",
    "    }\n",
    ")"
   ]
  },
  {
   "cell_type": "code",
   "execution_count": 10,
   "id": "deca18b9-f1ea-4281-8e0d-34afb3af82e4",
   "metadata": {},
   "outputs": [
    {
     "name": "stdout",
     "output_type": "stream",
     "text": [
      "\n",
      "\n",
      "\u001b[1m> Entering new AgentExecutor chain...\u001b[0m\n",
      "\u001b[32;1m\u001b[1;3mYour name is Nemo.\u001b[0m\n",
      "\n",
      "\u001b[1m> Finished chain.\u001b[0m\n"
     ]
    },
    {
     "data": {
      "text/plain": [
       "{'messages': [HumanMessage(content=\"I'm Nemo!\"),\n",
       "  AIMessage(content='Hello Nemo! How can I assist you today?'),\n",
       "  HumanMessage(content='What is my name?')],\n",
       " 'output': 'Your name is Nemo.'}"
      ]
     },
     "execution_count": 10,
     "metadata": {},
     "output_type": "execute_result"
    }
   ],
   "source": [
    "from langchain_core.messages import AIMessage, HumanMessage\n",
    "\n",
    "agent_executor.invoke(\n",
    "    {\n",
    "        \"messages\": [\n",
    "            HumanMessage(content=\"I'm Nemo!\"),\n",
    "            AIMessage(content=\"Hello Nemo! How can I assist you today?\"),\n",
    "            HumanMessage(content=\"What is my name?\"),\n",
    "        ],\n",
    "    }\n",
    ")"
   ]
  },
  {
   "cell_type": "code",
   "execution_count": 68,
   "id": "3c76a491-f838-409a-9968-b59428946275",
   "metadata": {},
   "outputs": [],
   "source": [
    "# Adapted from https://smith.langchain.com/hub/hwchase17/openai-tools-agent\n",
    "prompt = ChatPromptTemplate.from_messages(\n",
    "    [\n",
    "        (\n",
    "            \"system\",\n",
    "            \"你是一个家庭服务机器人管理者，用户已经拥有的机器人型号列表为['a1','a2']，如果你发现用户在的句子是在涉及自己的机器型号但是没有明确说明型号名称的话你要明白用户实际上是在指代这个列表，并且把这个列表替换到句子中。You may not need to use tools for every query - the user may just want to chat!。\",\n",
    "        ),\n",
    "        MessagesPlaceholder(variable_name=\"chat_history\"),\n",
    "        (\"human\", \"{input}\"),\n",
    "        MessagesPlaceholder(variable_name=\"agent_scratchpad\"),\n",
    "    ]\n",
    ")\n",
    "\n",
    "agent = create_openai_tools_agent(chat, tools, prompt)\n",
    "\n",
    "agent_executor = AgentExecutor(agent=agent, tools=tools, verbose=True)"
   ]
  },
  {
   "cell_type": "code",
   "execution_count": 69,
   "id": "287227ab-76e9-4d1e-9c57-6a1b1a042a42",
   "metadata": {},
   "outputs": [],
   "source": [
    "from langchain.memory import ChatMessageHistory\n",
    "from langchain_core.runnables.history import RunnableWithMessageHistory\n",
    "\n",
    "demo_ephemeral_chat_history_for_chain = ChatMessageHistory()\n",
    "\n",
    "conversational_agent_executor = RunnableWithMessageHistory(\n",
    "    agent_executor,\n",
    "    lambda session_id: demo_ephemeral_chat_history_for_chain,\n",
    "    input_messages_key=\"input\",\n",
    "    output_messages_key=\"output\",\n",
    "    history_messages_key=\"chat_history\",\n",
    ")"
   ]
  },
  {
   "cell_type": "code",
   "execution_count": 70,
   "id": "e14122c4-7397-4dd6-9d74-10ab67b072ef",
   "metadata": {},
   "outputs": [
    {
     "name": "stdout",
     "output_type": "stream",
     "text": [
      "\n",
      "\n",
      "\u001b[1m> Entering new AgentExecutor chain...\u001b[0m\n",
      "\u001b[32;1m\u001b[1;3m您好！请问有什么可以帮助您的吗？\u001b[0m\n",
      "\n",
      "\u001b[1m> Finished chain.\u001b[0m\n"
     ]
    },
    {
     "data": {
      "text/plain": [
       "{'input': '你好', 'chat_history': [], 'output': '您好！请问有什么可以帮助您的吗？'}"
      ]
     },
     "execution_count": 70,
     "metadata": {},
     "output_type": "execute_result"
    }
   ],
   "source": [
    "conversational_agent_executor.invoke(\n",
    "    {\n",
    "        \"input\": \"你好\",\n",
    "    },\n",
    "    {\"configurable\": {\"session_id\": \"unused\"}},\n",
    ")"
   ]
  },
  {
   "cell_type": "code",
   "execution_count": 71,
   "id": "a3f4e955-19ae-40f0-83a8-d672a068b39b",
   "metadata": {},
   "outputs": [
    {
     "name": "stdout",
     "output_type": "stream",
     "text": [
      "\n",
      "\n",
      "\u001b[1m> Entering new AgentExecutor chain...\u001b[0m\n",
      "\u001b[32;1m\u001b[1;3m\n",
      "Invoking: `add` with `{'model_list': ['a1', 'a2']}`\n",
      "\n",
      "\n",
      "\u001b[0m\u001b[36;1m\u001b[1;3ma1\u001b[0m\u001b[32;1m\u001b[1;3m您的机器型号a1和c9, c10的主要区别在于...（此处应详细解释不同型号的区别）。至于后缀，a1的后缀是1，c9的后缀是9，而c10的后缀是10。\u001b[0m\n",
      "\n",
      "\u001b[1m> Finished chain.\u001b[0m\n"
     ]
    },
    {
     "data": {
      "text/plain": [
       "{'input': '我的机器型号和c9, c10有什么区别，后面两个型号它们的后缀是什么（型号后缀就是英文字符后面跟的数字）',\n",
       " 'chat_history': [HumanMessage(content='你好'),\n",
       "  AIMessage(content='您好！请问有什么可以帮助您的吗？')],\n",
       " 'output': '您的机器型号a1和c9, c10的主要区别在于...（此处应详细解释不同型号的区别）。至于后缀，a1的后缀是1，c9的后缀是9，而c10的后缀是10。'}"
      ]
     },
     "execution_count": 71,
     "metadata": {},
     "output_type": "execute_result"
    }
   ],
   "source": [
    "conversational_agent_executor.invoke(\n",
    "    {\n",
    "        \"input\": \"我的机器型号和c9, c10有什么区别，后面两个型号它们的后缀是什么（型号后缀就是英文字符后面跟的数字）\",\n",
    "    },\n",
    "    {\"configurable\": {\"session_id\": \"unused\"}},\n",
    ")"
   ]
  },
  {
   "cell_type": "code",
   "execution_count": 72,
   "id": "e4725237-0789-4a04-b9a1-7c8e06ffda74",
   "metadata": {},
   "outputs": [
    {
     "name": "stdout",
     "output_type": "stream",
     "text": [
      "\n",
      "\n",
      "\u001b[1m> Entering new AgentExecutor chain...\u001b[0m\n",
      "\u001b[32;1m\u001b[1;3m对于c9和c10这两个型号，他们的具体功能我需要查证一下。但是通常，有些机器人型号确实具备拖地的功能。我会尽快为您确认。\u001b[0m\n",
      "\n",
      "\u001b[1m> Finished chain.\u001b[0m\n"
     ]
    },
    {
     "data": {
      "text/plain": [
       "{'input': '后面两个型号可以拖地吗',\n",
       " 'chat_history': [HumanMessage(content='你好'),\n",
       "  AIMessage(content='您好！请问有什么可以帮助您的吗？'),\n",
       "  HumanMessage(content='我的机器型号和c9, c10有什么区别，后面两个型号它们的后缀是什么（型号后缀就是英文字符后面跟的数字）'),\n",
       "  AIMessage(content='您的机器型号a1和c9, c10的主要区别在于...（此处应详细解释不同型号的区别）。至于后缀，a1的后缀是1，c9的后缀是9，而c10的后缀是10。')],\n",
       " 'output': '对于c9和c10这两个型号，他们的具体功能我需要查证一下。但是通常，有些机器人型号确实具备拖地的功能。我会尽快为您确认。'}"
      ]
     },
     "execution_count": 72,
     "metadata": {},
     "output_type": "execute_result"
    }
   ],
   "source": [
    "conversational_agent_executor.invoke(\n",
    "    {\n",
    "        \"input\": \"后面两个型号可以拖地吗\",\n",
    "    },\n",
    "    {\"configurable\": {\"session_id\": \"unused\"}},\n",
    ")"
   ]
  },
  {
   "cell_type": "code",
   "execution_count": 73,
   "id": "954c0638-f9f5-4b8d-a1ff-57404a7ccfe5",
   "metadata": {},
   "outputs": [
    {
     "name": "stdout",
     "output_type": "stream",
     "text": [
      "\n",
      "\n",
      "\u001b[1m> Entering new AgentExecutor chain...\u001b[0m\n",
      "\u001b[32;1m\u001b[1;3m是的，现在已经很晚了。还有什么我可以帮助您的吗？\u001b[0m\n",
      "\n",
      "\u001b[1m> Finished chain.\u001b[0m\n"
     ]
    },
    {
     "data": {
      "text/plain": [
       "{'input': '今天是不是很晚了',\n",
       " 'chat_history': [HumanMessage(content='你好'),\n",
       "  AIMessage(content='您好！请问有什么可以帮助您的吗？'),\n",
       "  HumanMessage(content='我的机器型号和c9, c10有什么区别，后面两个型号它们的后缀是什么（型号后缀就是英文字符后面跟的数字）'),\n",
       "  AIMessage(content='您的机器型号a1和c9, c10的主要区别在于...（此处应详细解释不同型号的区别）。至于后缀，a1的后缀是1，c9的后缀是9，而c10的后缀是10。'),\n",
       "  HumanMessage(content='后面两个型号可以拖地吗'),\n",
       "  AIMessage(content='对于c9和c10这两个型号，他们的具体功能我需要查证一下。但是通常，有些机器人型号确实具备拖地的功能。我会尽快为您确认。')],\n",
       " 'output': '是的，现在已经很晚了。还有什么我可以帮助您的吗？'}"
      ]
     },
     "execution_count": 73,
     "metadata": {},
     "output_type": "execute_result"
    }
   ],
   "source": [
    "conversational_agent_executor.invoke(\n",
    "    {\n",
    "        \"input\": \"今天是不是很晚了\",\n",
    "    },\n",
    "    {\"configurable\": {\"session_id\": \"unused\"}},\n",
    ")"
   ]
  },
  {
   "cell_type": "code",
   "execution_count": null,
   "id": "e34a4f5a-2899-4d60-b337-6be2dd55b0d3",
   "metadata": {},
   "outputs": [],
   "source": []
  }
 ],
 "metadata": {
  "kernelspec": {
   "display_name": "Python 3 (ipykernel)",
   "language": "python",
   "name": "python3"
  },
  "language_info": {
   "codemirror_mode": {
    "name": "ipython",
    "version": 3
   },
   "file_extension": ".py",
   "mimetype": "text/x-python",
   "name": "python",
   "nbconvert_exporter": "python",
   "pygments_lexer": "ipython3",
   "version": "3.10.13"
  }
 },
 "nbformat": 4,
 "nbformat_minor": 5
}
