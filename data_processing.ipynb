{
 "cells": [
  {
   "cell_type": "code",
   "execution_count": 1,
   "id": "60399fd6-5e09-481a-b2ca-e659d9b19273",
   "metadata": {},
   "outputs": [],
   "source": [
    "import pandas as pd\n",
    "import numpy as np \n",
    "from sklearn.model_selection import StratifiedKFold,KFold\n",
    "from datasets import Dataset \n",
    "from datasets import Features, ClassLabel, Sequence, Value\n",
    "from datasets import load_from_disk, load_dataset, DatasetDict\n",
    "from pandasql import sqldf\n",
    "from transformers import AutoTokenizer, DataCollatorWithPadding\n",
    "\n",
    "from utils import find_model_with_pos, find_error_with_reason_with_pos, find_error_with_reason, find_model"
   ]
  },
  {
   "cell_type": "code",
   "execution_count": 2,
   "id": "d46a6da1-6e37-4034-824f-f1bbcde3f619",
   "metadata": {},
   "outputs": [],
   "source": [
    "import numpy as np \n",
    "import pandas as pd\n",
    "from collections import Counter\n",
    "from pandasql import sqldf\n",
    "import re\n",
    "import os \n",
    "os.environ['CUDA_VISIBLE_DEVICES']='1'\n",
    "import joblib\n",
    "import json \n",
    "import jieba \n",
    "import copy\n",
    "\n",
    "from openai import AzureOpenAI\n",
    "import matplotlib.pyplot as plt \n",
    "from sentence_transformers import SentenceTransformer\n",
    "from FlagEmbedding import FlagReranker\n",
    "from transformers import AutoTokenizer\n",
    "from sklearn.metrics import average_precision_score"
   ]
  },
  {
   "cell_type": "code",
   "execution_count": 3,
   "id": "531714ef-7dc7-435f-bfb5-e8bc7f22995e",
   "metadata": {},
   "outputs": [],
   "source": [
    "# pandasql查询函数需要的环境\n",
    "pysqldf = lambda q: sqldf(q, globals())"
   ]
  },
  {
   "cell_type": "code",
   "execution_count": 4,
   "id": "d4b81d8c-b8a5-4004-9a58-b93b3a1a4f7b",
   "metadata": {},
   "outputs": [],
   "source": [
    "# 原始数据处理\n",
    "def format_model2(x):\n",
    "    model_list = x.split(',')\n",
    "    model_list = [i.strip().lower() for i in model_list]\n",
    "    new_list = [model_list[0]]\n",
    "    i = 1\n",
    "    while i < len(model_list):\n",
    "        if (i != len(model_list) - 1) and (model_list[i-1] == model_list[i]):\n",
    "            new_list.append(model_list[i]+model_list[i+1])\n",
    "            if i < len(model_list) - 1:\n",
    "                i += 2\n",
    "            else:\n",
    "                break\n",
    "        elif (model_list[i][:3] == \"上下水\") or (model_list[i][:3] == \"air\") or (model_list[i][:3] == \"pro\") or (model_list[i][:4] == \"pure\"):\n",
    "            for j in range(len(new_list)-1, -1, -1):\n",
    "                if model_list[i-1] == new_list[j]:\n",
    "                    new_list.pop(j)\n",
    "                    break\n",
    "            new_list.append(model_list[i-1]+model_list[i])\n",
    "            i += 1\n",
    "        elif (i != len(model_list) - 1) and (model_list[i-1] != model_list[i]):\n",
    "            new_list.append(model_list[i])\n",
    "            i += 1\n",
    "        else:\n",
    "            new_list.append(model_list[i])\n",
    "            break\n",
    "    return new_list\n",
    "\n",
    "def format_all_models(x, dim_df):\n",
    "    new_list = []\n",
    "    for i in x:\n",
    "        if i.find(\"全型号\") >= 0:\n",
    "            end_idx = i.find(\"全型号\")\n",
    "            name = i[:end_idx]\n",
    "            new_list += [j for j in dim_df[dim_df['cat_name'] == name].model.tolist() if j not in x]\n",
    "        else:\n",
    "            new_list.append(i)\n",
    "    return new_list\n",
    "\n",
    "def format_series(x, dim_df):\n",
    "    def contains_chinese(s):\n",
    "        return re.search('[\\u4e00-\\u9fff]', s) is not None\n",
    "    new_list = []\n",
    "    for i in x:\n",
    "        if i.find(\"系列\") >= 0:\n",
    "            end_idx = i.find(\"系列\")\n",
    "            name = i[:end_idx]\n",
    "            new_list += [j for j in dim_df[(dim_df.model.str.find(name)>=0) & (\n",
    "                dim_df.model.apply(lambda x: not contains_chinese(x)))].model.tolist() if j not in x]\n",
    "            new_list += [i]\n",
    "        else:\n",
    "            new_list.append(i)\n",
    "    return new_list"
   ]
  },
  {
   "cell_type": "code",
   "execution_count": 5,
   "id": "193e9618-4273-4b89-a6fe-9004aae796ff",
   "metadata": {},
   "outputs": [],
   "source": [
    "oot = pd.read_excel(\"/data/dataset/kefu/Rafe Copy 国内客服助手（生产环境）_测试用数据表_表格.xlsx\")\n",
    "oot = oot.drop_duplicates(\"问题\")\n",
    "oot = oot[[\"编号\", \"问题\", \"匹配的标准问题编号\"]].rename(columns={\"编号\": \"qa_id\",\n",
    "                                                      \"问题\": \"question\", \n",
    "                                                      \"匹配的标准问题编号\": \"gt_qa_id\"})"
   ]
  },
  {
   "cell_type": "code",
   "execution_count": 454,
   "id": "f0d1a2f0-6d90-4f0b-9a29-0ce990492a42",
   "metadata": {},
   "outputs": [
    {
     "data": {
      "text/plain": [
       "0.3018867924528302"
      ]
     },
     "execution_count": 454,
     "metadata": {},
     "output_type": "execute_result"
    }
   ],
   "source": [
    "oot.gt_qa_id.isnull().sum() / oot.shape[0]"
   ]
  },
  {
   "cell_type": "code",
   "execution_count": 455,
   "id": "192da6e6-f830-428b-b36b-a973f34e781c",
   "metadata": {},
   "outputs": [],
   "source": [
    "oot = oot[oot[\"gt_qa_id\"].notnull()]"
   ]
  },
  {
   "cell_type": "code",
   "execution_count": 456,
   "id": "17a2e954-56b9-431a-8543-73e21e83ca47",
   "metadata": {},
   "outputs": [],
   "source": [
    "oot[\"gt_qa_id\"] = oot[\"gt_qa_id\"].apply(lambda x: x.replace(\"，\", \",\").replace(\"\\n\", \"\"))"
   ]
  },
  {
   "cell_type": "code",
   "execution_count": 457,
   "id": "8a72beb1-b0a7-4054-babe-d169d93c97c8",
   "metadata": {},
   "outputs": [],
   "source": [
    "dim_df = pd.read_csv(\"/data/dataset/kefu/dim_df20240620.csv\")\n",
    "all_model_list = dim_df[\"model\"].tolist()"
   ]
  },
  {
   "cell_type": "code",
   "execution_count": 458,
   "id": "7c2394ad-4022-43bd-b007-b551bfd0edc4",
   "metadata": {},
   "outputs": [],
   "source": [
    "dim_df_old = pd.read_csv(\"/data/dataset/kefu/dim_df20240315.csv\")\n",
    "all_model_list_old = dim_df_old[\"model\"].tolist()"
   ]
  },
  {
   "cell_type": "code",
   "execution_count": 459,
   "id": "7dbdd3e8-531d-4376-bfbc-1f3cb1739412",
   "metadata": {},
   "outputs": [],
   "source": [
    "oot[\"model_list_old\"] = oot[\"question\"].apply(lambda x: find_model(x, all_model_list_old))\n",
    "oot[\"model_list\"] = oot[\"question\"].apply(lambda x: find_model(x, all_model_list))"
   ]
  },
  {
   "cell_type": "code",
   "execution_count": 460,
   "id": "7368dac6-328e-43e7-a6c7-7d609a0e930a",
   "metadata": {},
   "outputs": [],
   "source": [
    "oot[\"new_model\"] = oot[[\"model_list_old\", \"model_list\"]].apply(lambda x: set(x.model_list_old) != set(x.model_list), axis=1)"
   ]
  },
  {
   "cell_type": "code",
   "execution_count": 461,
   "id": "1777b0e2-3d2e-410d-9a78-0d32f648ce43",
   "metadata": {},
   "outputs": [
    {
     "data": {
      "text/plain": [
       "new_model\n",
       "False    591\n",
       "True       1\n",
       "Name: count, dtype: int64"
      ]
     },
     "execution_count": 461,
     "metadata": {},
     "output_type": "execute_result"
    }
   ],
   "source": [
    "oot[\"new_model\"].value_counts()"
   ]
  },
  {
   "cell_type": "code",
   "execution_count": 6,
   "id": "6d53f36b-39f4-487d-8e88-48896874cab4",
   "metadata": {},
   "outputs": [],
   "source": [
    "df1 = pd.read_csv(\"/data/dataset/kefu/database20240620.csv\")\n",
    "df2 = pd.read_csv(\"/data/dataset/kefu/database20240506.csv\")"
   ]
  },
  {
   "cell_type": "code",
   "execution_count": 7,
   "id": "33013e2f-beb2-4dea-8d86-799b0b2b5f7e",
   "metadata": {},
   "outputs": [
    {
     "data": {
      "text/plain": [
       "'ICWIKI202403081800'"
      ]
     },
     "execution_count": 7,
     "metadata": {},
     "output_type": "execute_result"
    }
   ],
   "source": [
    "df2.qa_id.max()"
   ]
  },
  {
   "cell_type": "code",
   "execution_count": 463,
   "id": "f867a4a9-47cb-4bbf-a02d-4d9b9fb61ade",
   "metadata": {},
   "outputs": [],
   "source": [
    "problem_all = []\n",
    "for i in range(oot.shape[0]):\n",
    "    problem = []\n",
    "    gt_qa_id = oot.iloc[i].gt_qa_id\n",
    "    for id in gt_qa_id.split(\",\"):\n",
    "        if id not in df1.qa_id.tolist():\n",
    "            problem.append(id)\n",
    "    problem_all.append(\",\".join(problem))"
   ]
  },
  {
   "cell_type": "code",
   "execution_count": 464,
   "id": "a0a6959d-f947-4e92-a6ea-aff03df19947",
   "metadata": {},
   "outputs": [],
   "source": [
    "oot[\"problem\"] = problem_all"
   ]
  },
  {
   "cell_type": "code",
   "execution_count": 466,
   "id": "1f5f4e6c-c24b-4c5f-8dbf-37da87c22265",
   "metadata": {},
   "outputs": [
    {
     "data": {
      "text/plain": [
       "0.7466216216216216"
      ]
     },
     "execution_count": 466,
     "metadata": {},
     "output_type": "execute_result"
    }
   ],
   "source": [
    "oot[oot.problem==\"\"].shape[0] / oot.shape[0]"
   ]
  },
  {
   "cell_type": "code",
   "execution_count": 483,
   "id": "40c615b9-7615-4ee7-8f23-0e3100b80606",
   "metadata": {},
   "outputs": [],
   "source": [
    "def find_real(x):\n",
    "    if x.problem == \"\":\n",
    "        return False\n",
    "    else:\n",
    "        return len(set(x.gt_qa_id.split(\",\"))) == len(set(x.problem.split(\",\")))\n",
    "\n",
    "oot[\"real_problem\"] = oot[[\"gt_qa_id\", \"problem\"]].apply(\n",
    "    lambda x: find_real(x), axis=1)"
   ]
  },
  {
   "cell_type": "code",
   "execution_count": 485,
   "id": "5cbe4669-1088-4cec-9590-f328d53946dd",
   "metadata": {},
   "outputs": [
    {
     "data": {
      "text/plain": [
       "0.10641891891891891"
      ]
     },
     "execution_count": 485,
     "metadata": {},
     "output_type": "execute_result"
    }
   ],
   "source": [
    "oot[oot.real_problem==True].shape[0] / oot.shape[0]"
   ]
  },
  {
   "cell_type": "code",
   "execution_count": 486,
   "id": "6c51c28c-cc09-401c-a1b1-63acbd1795f4",
   "metadata": {},
   "outputs": [],
   "source": [
    "oot.to_csv(\"/root/PycharmProjects/pya/data/oot20240620.csv\", index=None)"
   ]
  },
  {
   "cell_type": "code",
   "execution_count": 378,
   "id": "bdf9c67d-f6a8-4bcb-b36c-a387b3989ec1",
   "metadata": {},
   "outputs": [],
   "source": [
    "dim_df = pd.read_excel(\"/data/dataset/kefu/国内客服助手（生产环境） 副本.xlsx\", sheet_name=\"品类与型号关系表\")"
   ]
  },
  {
   "cell_type": "code",
   "execution_count": 404,
   "id": "5714c14d-db80-481c-88dd-617b862cbe49",
   "metadata": {
    "scrolled": true
   },
   "outputs": [],
   "source": [
    "dim_df = dim_df.rename(columns={\"编号\": \"model_id\", \n",
    "                                \"品类\": \"cat_name\", \n",
    "                                \"型号\": \"model\", \n",
    "                                \"是否已生效\": \"effective\"})\n",
    "dim_df[\"model\"] = dim_df[\"model\"].str.lower()\n",
    "dim_df['model'] = dim_df['model'].apply(lambda x: ''.join(x.split(' ')))\n",
    "all_model_list = dim_df[\"model\"].tolist()"
   ]
  },
  {
   "cell_type": "code",
   "execution_count": 541,
   "id": "697f53d1-515b-4fbe-afb9-ad2da11f8faf",
   "metadata": {},
   "outputs": [],
   "source": [
    "df1_old = pd.read_csv(\"/root/PycharmProjects/pya/data/database20240506.csv\")"
   ]
  },
  {
   "cell_type": "code",
   "execution_count": 542,
   "id": "aa1ab3b4-e0ec-435a-9c5e-e7e18e97d86e",
   "metadata": {},
   "outputs": [
    {
     "data": {
      "text/plain": [
       "(3016, 13)"
      ]
     },
     "execution_count": 542,
     "metadata": {},
     "output_type": "execute_result"
    }
   ],
   "source": [
    "df1_old.shape"
   ]
  },
  {
   "cell_type": "code",
   "execution_count": 543,
   "id": "b569e2cf-2812-414e-858c-dd0374ab3717",
   "metadata": {},
   "outputs": [],
   "source": [
    "new = pd.read_excel(\"/data/dataset/kefu/国内客服助手（生产环境） 副本.xlsx\", sheet_name=\"知识库数据\")\n",
    "new = new[[\"编号\", \"语音回复内容\"]].rename(columns={\"编号\": \"qa_id\", \"语音回复内容\": \"answer_voice\"})"
   ]
  },
  {
   "cell_type": "code",
   "execution_count": 544,
   "id": "9cc7acb3-4dd6-414d-bc57-6830daa93fea",
   "metadata": {},
   "outputs": [],
   "source": [
    "df1_old = pd.merge(left=df1_old, right=new, left_on=\"qa_id\", right_on=\"qa_id\", how=\"left\")"
   ]
  },
  {
   "cell_type": "code",
   "execution_count": 545,
   "id": "4ac06bfd-3975-45f8-8240-6b565e3bed3f",
   "metadata": {},
   "outputs": [
    {
     "data": {
      "text/plain": [
       "(3016, 14)"
      ]
     },
     "execution_count": 545,
     "metadata": {},
     "output_type": "execute_result"
    }
   ],
   "source": [
    "df1_old.shape"
   ]
  },
  {
   "cell_type": "code",
   "execution_count": 548,
   "id": "1e941aaa-8f19-48e9-8d36-b7c797487dfc",
   "metadata": {},
   "outputs": [
    {
     "data": {
      "text/plain": [
       "406"
      ]
     },
     "execution_count": 548,
     "metadata": {},
     "output_type": "execute_result"
    }
   ],
   "source": [
    "df1_old.answer_voice.isnull().sum()"
   ]
  },
  {
   "cell_type": "code",
   "execution_count": 547,
   "id": "9f8fc51e-b140-465e-8bf3-6e73c15b6334",
   "metadata": {},
   "outputs": [],
   "source": [
    "df1_old.loc[df1_old.answer_voice.notnull(), \"answer\"] = df1_old.loc[df1_old.answer_voice.notnull(), \"answer_voice\"]"
   ]
  },
  {
   "cell_type": "code",
   "execution_count": 549,
   "id": "75bee56d-769b-43b8-ae4f-3058b486c713",
   "metadata": {},
   "outputs": [
    {
     "data": {
      "text/plain": [
       "0"
      ]
     },
     "execution_count": 549,
     "metadata": {},
     "output_type": "execute_result"
    }
   ],
   "source": [
    "df1_old.answer.isnull().sum()"
   ]
  },
  {
   "cell_type": "code",
   "execution_count": 550,
   "id": "8fb2d913-b04d-46e8-b22a-511285436f4f",
   "metadata": {},
   "outputs": [],
   "source": [
    "df1_old = df1_old.drop(\"answer_voice\", axis=1)"
   ]
  },
  {
   "cell_type": "code",
   "execution_count": 552,
   "id": "875d38a8-2a59-4e50-996a-d8c0b1dd2b91",
   "metadata": {},
   "outputs": [],
   "source": [
    "df1_old.to_csv(\"/root/PycharmProjects/pya/data/database20240506_answervoice.csv\", index=None)"
   ]
  },
  {
   "cell_type": "code",
   "execution_count": 416,
   "id": "8027e487-67f9-4808-a6d6-7018fceba18c",
   "metadata": {},
   "outputs": [],
   "source": [
    "df1 = pd.read_excel(\"/data/dataset/kefu/国内客服助手（生产环境） 副本.xlsx\", sheet_name=\"知识库数据\")"
   ]
  },
  {
   "cell_type": "code",
   "execution_count": 417,
   "id": "06190ba7-c3cd-4750-9392-a0b8e123d891",
   "metadata": {},
   "outputs": [
    {
     "data": {
      "text/plain": [
       "(3141, 16)"
      ]
     },
     "execution_count": 417,
     "metadata": {},
     "output_type": "execute_result"
    }
   ],
   "source": [
    "df1.shape"
   ]
  },
  {
   "cell_type": "code",
   "execution_count": 418,
   "id": "b70e10e7-1bd7-4893-b8d5-3644b6320f74",
   "metadata": {},
   "outputs": [],
   "source": [
    "df1 = df1[df1[\"问题\"].notnull()]"
   ]
  },
  {
   "cell_type": "code",
   "execution_count": 419,
   "id": "3bf1e9b2-a06e-416e-acc0-a5c57146bcf9",
   "metadata": {},
   "outputs": [
    {
     "data": {
      "text/plain": [
       "(3140, 16)"
      ]
     },
     "execution_count": 419,
     "metadata": {},
     "output_type": "execute_result"
    }
   ],
   "source": [
    "df1.shape"
   ]
  },
  {
   "cell_type": "code",
   "execution_count": 420,
   "id": "95c54628-b3cd-4460-b4f9-3bba35c307d3",
   "metadata": {},
   "outputs": [],
   "source": [
    "query = f\"\"\"\n",
    "select \n",
    "    *\n",
    "    ,row_number() over (partition by 适配机型, 问题 order by 变更日期) as count_no\n",
    "    ,count(*) over (partition by 适配机型, 问题) as count_unique\n",
    "from \n",
    "    df1\n",
    "\"\"\"\n",
    "\n",
    "# 使用pysqldf执行SQL查询\n",
    "df1 = pysqldf(query)"
   ]
  },
  {
   "cell_type": "code",
   "execution_count": 421,
   "id": "124646e0-d445-4394-beb0-4f06ca3a2592",
   "metadata": {},
   "outputs": [],
   "source": [
    "df1 = df1[(df1['count_unique']==df1['count_no'])]"
   ]
  },
  {
   "cell_type": "code",
   "execution_count": 422,
   "id": "7c407809-edfd-4f90-abab-08eb41eee6ca",
   "metadata": {},
   "outputs": [
    {
     "data": {
      "text/plain": [
       "(3102, 18)"
      ]
     },
     "execution_count": 422,
     "metadata": {},
     "output_type": "execute_result"
    }
   ],
   "source": [
    "df1.shape"
   ]
  },
  {
   "cell_type": "code",
   "execution_count": 423,
   "id": "1f216776-a1f2-4374-9063-cbd34742c88a",
   "metadata": {},
   "outputs": [],
   "source": [
    "df1 = df1.drop([\"count_no\", \"count_unique\"], axis=1)"
   ]
  },
  {
   "cell_type": "code",
   "execution_count": 424,
   "id": "a420e695-40e9-4b93-8f3d-9e43aa12bd0b",
   "metadata": {},
   "outputs": [],
   "source": [
    "rename = {'编号': \"qa_id\", \n",
    "          '类型': \"qa_type\", \n",
    "          '问题': \"question\", \n",
    "          '语音回复内容': \"answer\", \n",
    "          '适配机型': \"model\", \n",
    "          '是否已生效': \"effective\", \n",
    "          '更新人': \"update_by\", \n",
    "          '变更日期': \"update_time\"}\n",
    "df1 = df1.rename(columns=rename)\n",
    "df1['question'] = df1['question'].apply(lambda x: x.strip('\\r'))"
   ]
  },
  {
   "cell_type": "code",
   "execution_count": 425,
   "id": "f59b9067-8047-464e-ae64-1de7b967a12a",
   "metadata": {},
   "outputs": [],
   "source": [
    "df1[\"model_list\"] = df1[\"model\"].apply(lambda x: format_model2(x))\n",
    "df1[\"model_list\"] = df1['model_list'].apply(lambda x: format_all_models(x, dim_df))\n",
    "df1[\"model_list\"] = df1['model_list'].apply(lambda x: format_series(x, dim_df))\n",
    "df1[\"model_list\"] = df1[\"model_list\"].apply(lambda x: ','.join(x))"
   ]
  },
  {
   "cell_type": "code",
   "execution_count": 426,
   "id": "e6815897-81f5-4f3e-9526-c8b39ff131d6",
   "metadata": {},
   "outputs": [],
   "source": [
    "df1 = df1[[\"qa_id\", \"qa_type\", \"question\", \"answer\", \"model\", \"model_list\", \"update_time\"]]"
   ]
  },
  {
   "cell_type": "code",
   "execution_count": 427,
   "id": "4e2deebc-275a-4a26-9cde-e9d5ab562120",
   "metadata": {},
   "outputs": [
    {
     "data": {
      "text/plain": [
       "(3102, 7)"
      ]
     },
     "execution_count": 427,
     "metadata": {},
     "output_type": "execute_result"
    }
   ],
   "source": [
    "df1.shape"
   ]
  },
  {
   "cell_type": "code",
   "execution_count": 428,
   "id": "479fc860-6110-4d66-b58b-0162e59bc7a2",
   "metadata": {},
   "outputs": [],
   "source": [
    "temp = df1.copy()\n",
    "temp[\"model_list\"] = temp[\"model_list\"].apply(lambda x: x.split(','))\n",
    "temp_exploded = temp.explode(\"model_list\")\n",
    "\n",
    "query = f\"\"\"\n",
    "select \n",
    "    a.*\n",
    "    ,b.model_id\n",
    "    ,b.cat_name\n",
    "from \n",
    "    temp_exploded a \n",
    "left join \n",
    "    dim_df b\n",
    "on \n",
    "    a.model_list = b.model\n",
    "\"\"\"\n",
    "\n",
    "# 使用pysqldf执行SQL查询\n",
    "temp_exploded = pysqldf(query)\n",
    "\n",
    "query = f\"\"\"\n",
    "select \n",
    "    qa_id\n",
    "    ,group_concat(model_id) as model_id\n",
    "    ,group_concat(cat_name) as cat_name\n",
    "from \n",
    "    temp_exploded\n",
    "group by \n",
    "    qa_id\n",
    "\"\"\"\n",
    "\n",
    "# 使用pysqldf执行SQL查询\n",
    "temp_exploded = pysqldf(query)\n",
    "\n",
    "query = f\"\"\"\n",
    "select \n",
    "    a.*\n",
    "    ,b.model_id\n",
    "    ,b.cat_name\n",
    "from \n",
    "    df1 a \n",
    "left join \n",
    "    temp_exploded b\n",
    "on\n",
    "    a.qa_id = b.qa_id\n",
    "\"\"\"\n",
    "\n",
    "# 使用pysqldf执行SQL查询\n",
    "df1 = pysqldf(query)"
   ]
  },
  {
   "cell_type": "code",
   "execution_count": 429,
   "id": "118ccb65-de6e-4cf6-8814-639165cb586a",
   "metadata": {},
   "outputs": [],
   "source": [
    "model_list = dim_df.model.unique().tolist()\n",
    "for i in range(df1.shape[0]):\n",
    "    for model in df1.model_list.iloc[i].split(\",\"):\n",
    "        if model not in model_list:\n",
    "            print(df1.qa_id.iloc[i], model)"
   ]
  },
  {
   "cell_type": "code",
   "execution_count": 430,
   "id": "c4a926ce-85e3-4db9-8077-ba7ebb882230",
   "metadata": {},
   "outputs": [],
   "source": [
    "df1[\"error_list\"] = df1[\"question\"].apply(lambda x: \",\".join(find_error_with_reason(x)))\n",
    "df1[\"answer\"] = df1[\"answer\"].apply(lambda x: x.replace(\"\\r\", \"\"))"
   ]
  },
  {
   "cell_type": "code",
   "execution_count": 431,
   "id": "bd721907-654f-42af-a71d-889960c3fb57",
   "metadata": {},
   "outputs": [
    {
     "data": {
      "text/plain": [
       "(3102, 10)"
      ]
     },
     "execution_count": 431,
     "metadata": {},
     "output_type": "execute_result"
    }
   ],
   "source": [
    "df1.shape"
   ]
  },
  {
   "cell_type": "code",
   "execution_count": 396,
   "id": "5244762f-aa99-4261-ac0f-69fb244a6075",
   "metadata": {},
   "outputs": [],
   "source": [
    "df1.to_csv(\"/data/dataset/kefu/database20240620.csv\", index=None)"
   ]
  },
  {
   "cell_type": "code",
   "execution_count": 397,
   "id": "5dcc4ea2-6486-4a26-ac89-4afbfd6bb780",
   "metadata": {},
   "outputs": [],
   "source": [
    "dim_df.to_csv(\"/data/dataset/kefu/dim_df20240620.csv\", index=None)"
   ]
  },
  {
   "cell_type": "code",
   "execution_count": 240,
   "id": "1cd35e50-ee6e-4272-b0fe-704ca4943a10",
   "metadata": {},
   "outputs": [],
   "source": [
    "temp = df1.copy()"
   ]
  },
  {
   "cell_type": "code",
   "execution_count": 241,
   "id": "bc2bb424-2c2a-4ac0-be95-186c5ec0e74a",
   "metadata": {},
   "outputs": [],
   "source": [
    "temp[\"model_list\"] = temp[\"model_list\"].apply(lambda x: x.split(','))\n",
    "temp_exploded = temp.explode(\"model_list\")"
   ]
  },
  {
   "cell_type": "code",
   "execution_count": 242,
   "id": "dce017fc-94e2-423c-83f2-1fc345703d35",
   "metadata": {},
   "outputs": [
    {
     "data": {
      "text/plain": [
       "(20029, 7)"
      ]
     },
     "execution_count": 242,
     "metadata": {},
     "output_type": "execute_result"
    }
   ],
   "source": [
    "temp_exploded.shape"
   ]
  },
  {
   "cell_type": "code",
   "execution_count": 243,
   "id": "114fae5f-2e39-47ea-b1e1-31d0a7a47f69",
   "metadata": {},
   "outputs": [],
   "source": [
    "query = f\"\"\"\n",
    "select \n",
    "    a.*\n",
    "    ,b.model_id\n",
    "    ,b.cat_name\n",
    "from \n",
    "    temp_exploded a \n",
    "left join \n",
    "    dim_df b\n",
    "on \n",
    "    a.model_list = b.model\n",
    "\"\"\"\n",
    "\n",
    "# 使用pysqldf执行SQL查询\n",
    "temp_exploded = pysqldf(query)"
   ]
  },
  {
   "cell_type": "code",
   "execution_count": 244,
   "id": "4bd3a523-e3dc-46d0-a442-9612416465e8",
   "metadata": {},
   "outputs": [
    {
     "data": {
      "text/plain": [
       "(20029, 9)"
      ]
     },
     "execution_count": 244,
     "metadata": {},
     "output_type": "execute_result"
    }
   ],
   "source": [
    "temp_exploded.shape"
   ]
  },
  {
   "cell_type": "code",
   "execution_count": 245,
   "id": "bfe7ea8f-221e-40ce-abce-9fb1e6751580",
   "metadata": {},
   "outputs": [],
   "source": [
    "query = f\"\"\"\n",
    "select \n",
    "    *\n",
    "    ,row_number() over (partition by question, model_list order by update_time) as count_no\n",
    "    ,count(*) over (partition by question, model_list) as count_unique\n",
    "from \n",
    "    temp_exploded\n",
    "\"\"\"\n",
    "\n",
    "# 使用pysqldf执行SQL查询\n",
    "temp_exploded = pysqldf(query)"
   ]
  },
  {
   "cell_type": "code",
   "execution_count": 246,
   "id": "17447824-a474-4a61-b537-ee212721203c",
   "metadata": {},
   "outputs": [],
   "source": [
    "temp_exploded = temp_exploded[(temp_exploded['count_unique']==temp_exploded['count_no'])]\n",
    "temp_exploded = temp_exploded.drop([\"count_no\", \"count_unique\"], axis=1)"
   ]
  },
  {
   "cell_type": "code",
   "execution_count": 247,
   "id": "69d19d93-f3b1-4d69-a685-09ccd4f1b355",
   "metadata": {},
   "outputs": [
    {
     "data": {
      "text/plain": [
       "(19920, 9)"
      ]
     },
     "execution_count": 247,
     "metadata": {},
     "output_type": "execute_result"
    }
   ],
   "source": [
    "temp_exploded.shape"
   ]
  },
  {
   "cell_type": "code",
   "execution_count": 248,
   "id": "deb9e983-a75e-4422-bde2-fc68bfa2daf1",
   "metadata": {},
   "outputs": [],
   "source": [
    "def group_table(x):\n",
    "    qa_id = x[\"qa_id\"].tolist()\n",
    "    qa_type = x[\"qa_type\"].tolist()\n",
    "    answer = x[\"answer\"].tolist()\n",
    "    model_list = x[\"model_list\"].tolist()\n",
    "    model = x[\"model\"].tolist()\n",
    "    model_id = x[\"model_id\"].tolist()\n",
    "    cat_name = x[\"cat_name\"].tolist()\n",
    "    return pd.Series([qa_id, qa_type, answer, model_list, model, model_id, cat_name],\n",
    "             index=[\"qa_id\", \"qa_type\", \"answer\", \"model_list\", \"model\", \"model_id\", \"cat_name\"])"
   ]
  },
  {
   "cell_type": "code",
   "execution_count": 249,
   "id": "5c129f5a-fd52-428d-8c19-ec370b6b8a4a",
   "metadata": {
    "scrolled": true
   },
   "outputs": [
    {
     "name": "stderr",
     "output_type": "stream",
     "text": [
      "/tmp/ipykernel_1651295/2099210936.py:1: DeprecationWarning: DataFrameGroupBy.apply operated on the grouping columns. This behavior is deprecated, and in a future version of pandas the grouping columns will be excluded from the operation. Either pass `include_groups=False` to exclude the groupings or explicitly select the grouping columns after groupby to silence this warning.\n",
      "  temp_exploded2 = temp_exploded.groupby(\"question\").apply(group_table)\n"
     ]
    }
   ],
   "source": [
    "temp_exploded2 = temp_exploded.groupby(\"question\").apply(group_table)"
   ]
  },
  {
   "cell_type": "code",
   "execution_count": 292,
   "id": "9d587738-a006-4f8b-8109-4822b07251e0",
   "metadata": {},
   "outputs": [],
   "source": [
    "temp_exploded2[\"index\"] = range(temp_exploded2.shape[0]"
   ]
  },
  {
   "cell_type": "code",
   "execution_count": 293,
   "id": "f57a4b31-bcfb-4ad2-a591-ad63fd073b6b",
   "metadata": {},
   "outputs": [],
   "source": [
    "for col in [\"qa_id\", \"qa_type\", \"answer\", \"model_list\", \"model\", \"model_id\", \"cat_name\"]:\n",
    "    temp_exploded2[col] = temp_exploded2[col].apply(lambda x: json.dumps(x, ensure_ascii=False))"
   ]
  },
  {
   "cell_type": "code",
   "execution_count": 296,
   "id": "2e78c6cc-4efd-4f33-b986-c43c217f38d4",
   "metadata": {},
   "outputs": [
    {
     "data": {
      "text/plain": [
       "(2476, 8)"
      ]
     },
     "execution_count": 296,
     "metadata": {},
     "output_type": "execute_result"
    }
   ],
   "source": [
    "temp_exploded2.shape"
   ]
  },
  {
   "cell_type": "code",
   "execution_count": 300,
   "id": "e70dc5a4-f5d5-41ce-b291-54d982fc9c56",
   "metadata": {},
   "outputs": [],
   "source": [
    "model_list = dim_df.model.unique().tolist()\n",
    "for i in range(temp_exploded2.shape[0]):\n",
    "    for model in json.loads(temp_exploded2.model_list.iloc[i]):\n",
    "        if model not in model_list:\n",
    "            print(temp_exploded2.qa_id.iloc[i], model)"
   ]
  },
  {
   "cell_type": "code",
   "execution_count": 307,
   "id": "ba0f9109-910e-4728-86f1-9f03bce90114",
   "metadata": {},
   "outputs": [],
   "source": [
    "temp_exploded2 = temp_exploded2.reset_index(drop=False)"
   ]
  },
  {
   "cell_type": "code",
   "execution_count": 309,
   "id": "e4f1fa29-7be0-49b8-99b9-3da56360067b",
   "metadata": {},
   "outputs": [],
   "source": [
    "temp_exploded2[\"error_list\"] = temp_exploded2[\"question\"].apply(\n",
    "    lambda x: json.dumps(find_error_with_reason(x), ensure_ascii=False))"
   ]
  },
  {
   "cell_type": "code",
   "execution_count": 310,
   "id": "08f47f62-14a4-4200-9506-aa9f96380d51",
   "metadata": {},
   "outputs": [
    {
     "data": {
      "text/plain": [
       "(2476, 10)"
      ]
     },
     "execution_count": 310,
     "metadata": {},
     "output_type": "execute_result"
    }
   ],
   "source": [
    "temp_exploded2.shape"
   ]
  },
  {
   "cell_type": "code",
   "execution_count": 311,
   "id": "47b5d69a-0c1c-4e0d-95f1-d1bf998d4b65",
   "metadata": {},
   "outputs": [],
   "source": [
    "temp_exploded2.to_csv(\"/data/dataset/kefu/database20240620_grouped.csv\", index=None)"
   ]
  }
 ],
 "metadata": {
  "kernelspec": {
   "display_name": "Python 3 (ipykernel)",
   "language": "python",
   "name": "python3"
  },
  "language_info": {
   "codemirror_mode": {
    "name": "ipython",
    "version": 3
   },
   "file_extension": ".py",
   "mimetype": "text/x-python",
   "name": "python",
   "nbconvert_exporter": "python",
   "pygments_lexer": "ipython3",
   "version": "3.10.13"
  }
 },
 "nbformat": 4,
 "nbformat_minor": 5
}
