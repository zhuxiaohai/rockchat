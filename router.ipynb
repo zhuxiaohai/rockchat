{
 "cells": [
  {
   "cell_type": "code",
   "execution_count": 1,
   "id": "60399fd6-5e09-481a-b2ca-e659d9b19273",
   "metadata": {},
   "outputs": [],
   "source": [
    "import pandas as pd\n",
    "import numpy as np \n",
    "from sklearn.model_selection import StratifiedKFold,KFold\n",
    "from datasets import Dataset \n",
    "from datasets import Features, ClassLabel, Sequence, Value\n",
    "from datasets import load_from_disk, load_dataset, DatasetDict\n",
    "from pandasql import sqldf\n",
    "from transformers import AutoTokenizer, DataCollatorWithPadding\n",
    "\n",
    "from utils import find_model_with_pos, find_error_with_reason_with_pos, find_error_with_reason"
   ]
  },
  {
   "cell_type": "code",
   "execution_count": 2,
   "id": "d46a6da1-6e37-4034-824f-f1bbcde3f619",
   "metadata": {},
   "outputs": [],
   "source": [
    "import numpy as np \n",
    "import pandas as pd\n",
    "from collections import Counter\n",
    "from pandasql import sqldf\n",
    "import re\n",
    "import os \n",
    "os.environ['CUDA_VISIBLE_DEVICES']='1'\n",
    "import joblib\n",
    "import json \n",
    "import jieba \n",
    "import copy\n",
    "\n",
    "from openai import AzureOpenAI\n",
    "import matplotlib.pyplot as plt \n",
    "from sentence_transformers import SentenceTransformer\n",
    "from FlagEmbedding import FlagReranker\n",
    "from transformers import AutoTokenizer\n",
    "from sklearn.metrics import average_precision_score"
   ]
  },
  {
   "cell_type": "code",
   "execution_count": 3,
   "id": "531714ef-7dc7-435f-bfb5-e8bc7f22995e",
   "metadata": {},
   "outputs": [],
   "source": [
    "# pandasql查询函数需要的环境\n",
    "pysqldf = lambda q: sqldf(q, globals())"
   ]
  },
  {
   "cell_type": "code",
   "execution_count": 4,
   "id": "d4b81d8c-b8a5-4004-9a58-b93b3a1a4f7b",
   "metadata": {},
   "outputs": [],
   "source": [
    "# 原始数据处理\n",
    "def format_model2(x):\n",
    "    model_list = x.split(',')\n",
    "    model_list = [i.strip().lower() for i in model_list]\n",
    "    new_list = [model_list[0]]\n",
    "    i = 1\n",
    "    while i < len(model_list):\n",
    "        if (i != len(model_list) - 1) and (model_list[i-1] == model_list[i]):\n",
    "            new_list.append(model_list[i]+model_list[i+1])\n",
    "            if i < len(model_list) - 1:\n",
    "                i += 2\n",
    "            else:\n",
    "                break\n",
    "        elif (model_list[i][:3] == \"上下水\") or (model_list[i][:3] == \"air\") or (model_list[i][:3] == \"pro\") or (model_list[i][:4] == \"pure\"):\n",
    "            for j in range(len(new_list)-1, -1, -1):\n",
    "                if model_list[i-1] == new_list[j]:\n",
    "                    new_list.pop(j)\n",
    "                    break\n",
    "            new_list.append(model_list[i-1]+model_list[i])\n",
    "            i += 1\n",
    "        elif (i != len(model_list) - 1) and (model_list[i-1] != model_list[i]):\n",
    "            new_list.append(model_list[i])\n",
    "            i += 1\n",
    "        else:\n",
    "            new_list.append(model_list[i])\n",
    "            break\n",
    "    return new_list\n",
    "\n",
    "def format_all_models(x, dim_df):\n",
    "    new_list = []\n",
    "    for i in x:\n",
    "        if i.find(\"全型号\") >= 0:\n",
    "            end_idx = i.find(\"全型号\")\n",
    "            name = i[:end_idx]\n",
    "            new_list += [j for j in dim_df[dim_df['cat_name'] == name].model.tolist() if j not in x]\n",
    "        else:\n",
    "            new_list.append(i)\n",
    "    return new_list\n",
    "\n",
    "def format_series(x, dim_df):\n",
    "    def contains_chinese(s):\n",
    "        return re.search('[\\u4e00-\\u9fff]', s) is not None\n",
    "    new_list = []\n",
    "    for i in x:\n",
    "        if i.find(\"系列\") >= 0:\n",
    "            end_idx = i.find(\"系列\")\n",
    "            name = i[:end_idx]\n",
    "            new_list += [j for j in dim_df[(dim_df.model.str.find(name)>=0) & (\n",
    "                dim_df.model.apply(lambda x: not contains_chinese(x)))].model.tolist() if j not in x]\n",
    "            new_list += [i]\n",
    "        else:\n",
    "            new_list.append(i)\n",
    "    return new_list"
   ]
  },
  {
   "cell_type": "code",
   "execution_count": 5,
   "id": "5714c14d-db80-481c-88dd-617b862cbe49",
   "metadata": {},
   "outputs": [],
   "source": [
    "dim_df = pd.read_excel(\"/data/dataset/kefu/国内客服助手（生产环境）_品类与型号关系表_表格.xlsx\")\n",
    "dim_df = dim_df.rename(columns={\"编号\": \"model_id\", \n",
    "                                \"品类\": \"cat_name\", \n",
    "                                \"型号\": \"model\", \n",
    "                                \"是否已生效\": \"effective\"})\n",
    "dim_df[\"model\"] = dim_df[\"model\"].str.lower()\n",
    "dim_df['model'] = dim_df['model'].apply(lambda x: ''.join(x.split(' ')))"
   ]
  },
  {
   "cell_type": "code",
   "execution_count": 6,
   "id": "cafdd30c-66ea-4fcc-a446-cdd81e90ceba",
   "metadata": {},
   "outputs": [],
   "source": [
    "df1 = pd.read_excel(\"/data/dataset/kefu/国内客服助手（生产环境）_知识库数据_知识库条目.xlsx\")\n",
    "# df1 = pd.read_excel(\"/data/dataset/kefu/最新的生产环境国内客服数据/最新的生产环境国内客服数据/国内客服助手（生产环境）_知识库数据.xlsx\")\n",
    "# df1 = pd.read_excel(\"/data/dataset/kefu/上线前的评估测试数据/上线前的评估测试数据/上线前的客服售后知识库数据集.xlsx\")\n",
    "df1 = df1[df1[\"问题\"].notnull()]\n",
    "query = f\"\"\"\n",
    "select \n",
    "    *\n",
    "    ,row_number() over (partition by 适配机型, 问题 order by 变更日期) as count_no\n",
    "    ,count(*) over (partition by 适配机型, 问题) as count_unique\n",
    "from \n",
    "    df1\n",
    "\"\"\"\n",
    "\n",
    "# 使用pysqldf执行SQL查询\n",
    "df1 = pysqldf(query)\n",
    "df1 = df1[(df1['count_unique']==df1['count_no'])]\n",
    "# df1 = df1.drop([\"附件\", \"聚合的适配机型\", \"重复值\"], axis=1)\n",
    "df1 = df1.drop([\"count_no\", \"count_unique\"], axis=1)\n",
    "rename = {'编号': \"qa_id\", \n",
    "          '类型': \"qa_type\", \n",
    "          '问题': \"question\", \n",
    "          '回复': \"answer\", \n",
    "          '适配机型': \"model\", \n",
    "          '是否已生效': \"effective\", \n",
    "          '更新人': \"update_by\", \n",
    "          '变更日期': \"update_time\"}\n",
    "df1 = df1.rename(columns=rename)\n",
    "df1['question'] = df1['question'].apply(lambda x: x.strip('\\r'))\n",
    "\n",
    "# df1[\"model_list\"] = df1[\"model\"].apply(lambda x: format_model(x))\n",
    "df1[\"model_list\"] = df1[\"model\"].apply(lambda x: format_model2(x))\n",
    "df1[\"model_list\"] = df1['model_list'].apply(lambda x: format_all_models(x, dim_df))\n",
    "df1[\"model_list\"] = df1['model_list'].apply(lambda x: format_series(x, dim_df))\n",
    "df1[\"model_num\"] = df1[\"model_list\"].apply(lambda x: len(x))\n",
    "df1[\"model_list\"] = df1[\"model_list\"].apply(lambda x: ','.join(x))"
   ]
  },
  {
   "cell_type": "code",
   "execution_count": 7,
   "id": "9082c529-1025-43d8-8e9e-d96f945a0eb8",
   "metadata": {},
   "outputs": [],
   "source": [
    "temp = df1.copy()\n",
    "temp[\"model_list\"] = temp[\"model_list\"].apply(lambda x: x.split(','))\n",
    "temp_exploded = temp.explode(\"model_list\")\n",
    "\n",
    "query = f\"\"\"\n",
    "select \n",
    "    a.*\n",
    "    ,b.model_id\n",
    "    ,b.cat_name\n",
    "from \n",
    "    temp_exploded a \n",
    "left join \n",
    "    dim_df b\n",
    "on \n",
    "    a.model_list = b.model\n",
    "\"\"\"\n",
    "\n",
    "# 使用pysqldf执行SQL查询\n",
    "temp_exploded = pysqldf(query)\n",
    "\n",
    "query = f\"\"\"\n",
    "select \n",
    "    qa_id\n",
    "    ,group_concat(model_id) as model_id\n",
    "    ,group_concat(cat_name) as cat_name\n",
    "from \n",
    "    temp_exploded\n",
    "group by \n",
    "    qa_id\n",
    "\"\"\"\n",
    "\n",
    "# 使用pysqldf执行SQL查询\n",
    "temp_exploded = pysqldf(query)\n",
    "\n",
    "query = f\"\"\"\n",
    "select \n",
    "    a.*\n",
    "    ,b.model_id\n",
    "    ,b.cat_name\n",
    "from \n",
    "    df1 a \n",
    "left join \n",
    "    temp_exploded b\n",
    "on\n",
    "    a.qa_id = b.qa_id\n",
    "\"\"\"\n",
    "\n",
    "# 使用pysqldf执行SQL查询\n",
    "df1 = pysqldf(query)\n",
    "\n"
   ]
  },
  {
   "cell_type": "code",
   "execution_count": 8,
   "id": "62858117-5c89-4832-aa47-e6517eee0c8d",
   "metadata": {},
   "outputs": [],
   "source": [
    "model_list = dim_df.model.unique().tolist()\n",
    "for i in range(df1.shape[0]):\n",
    "    for model in df1.model_list.iloc[i].split(\",\"):\n",
    "        if model not in model_list:\n",
    "            print(df1.qa_id.iloc[i], model)"
   ]
  },
  {
   "cell_type": "code",
   "execution_count": 9,
   "id": "b95bd29e-eff6-46ab-a207-37bd0fdf7fb6",
   "metadata": {},
   "outputs": [],
   "source": [
    "dim_df.model = dim_df.model.apply(lambda x: x.replace(\"版本\", \"\").replace(\"版\", \"\"))\n",
    "all_model_list = dim_df.model.tolist()\n",
    "all_cat_list = dim_df.cat_name.unique().tolist()"
   ]
  },
  {
   "cell_type": "code",
   "execution_count": 10,
   "id": "77d91c63-4ec7-4f15-82bb-0f49f02326be",
   "metadata": {},
   "outputs": [],
   "source": [
    "df1[\"error_list\"] = df1[\"question\"].apply(lambda x: \",\".join(find_error_with_reason(x)))"
   ]
  },
  {
   "cell_type": "code",
   "execution_count": 11,
   "id": "74bab50c-0aaf-4b03-bbc5-994621e50506",
   "metadata": {},
   "outputs": [],
   "source": [
    "df1[\"answer\"] = df1[\"answer\"].apply(lambda x: x.replace(\"\\r\", \"\"))"
   ]
  },
  {
   "cell_type": "code",
   "execution_count": 12,
   "id": "3689ea66-cd3a-40f4-b543-1812856d7de3",
   "metadata": {},
   "outputs": [],
   "source": [
    "df1.to_csv(\"temp_data.csv\", index=None)"
   ]
  },
  {
   "cell_type": "code",
   "execution_count": 13,
   "id": "ffdae7e6-b9a9-48f7-89af-da1cae18ea8e",
   "metadata": {},
   "outputs": [
    {
     "data": {
      "text/plain": [
       "(3976, 16)"
      ]
     },
     "execution_count": 13,
     "metadata": {},
     "output_type": "execute_result"
    }
   ],
   "source": [
    "df1.shape"
   ]
  },
  {
   "cell_type": "code",
   "execution_count": 14,
   "id": "470fd408-03e6-47be-b229-469b3d4b8082",
   "metadata": {},
   "outputs": [],
   "source": [
    "dim_df.to_csv(\"temp_dim.csv\", index=None)"
   ]
  },
  {
   "cell_type": "code",
   "execution_count": 15,
   "id": "dfcad462-035a-4e1d-910a-7f8fc3eae5a4",
   "metadata": {},
   "outputs": [],
   "source": [
    "df = pd.read_excel(\"/data/dataset/kefu/国内客服助手（生产环境）_中转栈_问答总明细_标注.xlsx\")"
   ]
  },
  {
   "cell_type": "code",
   "execution_count": 16,
   "id": "714b1a8d-4549-4470-bbdb-35f2008025cf",
   "metadata": {},
   "outputs": [],
   "source": [
    "df[\"date\"] = df[\"提问日期\"].apply(lambda x: \"-\".join([str(x.year), str(x.month)]))"
   ]
  },
  {
   "cell_type": "code",
   "execution_count": 17,
   "id": "fdfcc2c6-7bd4-47f1-859b-3a0a50462a84",
   "metadata": {},
   "outputs": [
    {
     "data": {
      "text/plain": [
       "date\n",
       "2023-10    0.112364\n",
       "2023-11    0.145791\n",
       "2023-12    0.149953\n",
       "2023-7     0.024164\n",
       "2023-8     0.081219\n",
       "2023-9     0.081219\n",
       "2024-1     0.080548\n",
       "2024-2     0.030340\n",
       "2024-3     0.066989\n",
       "2024-4     0.120687\n",
       "2024-5     0.106726\n",
       "Name: proportion, dtype: float64"
      ]
     },
     "execution_count": 17,
     "metadata": {},
     "output_type": "execute_result"
    }
   ],
   "source": [
    "df[\"date\"].value_counts(\"mean\").sort_index()"
   ]
  },
  {
   "cell_type": "code",
   "execution_count": 18,
   "id": "dca7b5c2-71e2-4a95-9712-99be001da9a4",
   "metadata": {},
   "outputs": [],
   "source": [
    "df = df[~(df[\"匹配的标准问题编号\"].isnull() & df[\"备注\"].isnull())]\n",
    "df = df[df[\"问题\"].notnull()]"
   ]
  },
  {
   "cell_type": "code",
   "execution_count": 19,
   "id": "e375770a-2b8b-4aa1-99c0-451736f42efa",
   "metadata": {},
   "outputs": [
    {
     "data": {
      "text/plain": [
       "date\n",
       "2023-10    0.030303\n",
       "2023-11    0.034965\n",
       "2023-12    0.046620\n",
       "2023-7     0.012432\n",
       "2023-8     0.029526\n",
       "2023-9     0.026807\n",
       "2024-1     0.031080\n",
       "2024-2     0.007770\n",
       "2024-3     0.123543\n",
       "2024-4     0.348485\n",
       "2024-5     0.308469\n",
       "Name: proportion, dtype: float64"
      ]
     },
     "execution_count": 19,
     "metadata": {},
     "output_type": "execute_result"
    }
   ],
   "source": [
    "df[\"date\"].value_counts(\"mean\").sort_index()"
   ]
  },
  {
   "cell_type": "code",
   "execution_count": 20,
   "id": "6dc61552-f4b8-4955-a407-37821759dc3e",
   "metadata": {},
   "outputs": [
    {
     "data": {
      "text/plain": [
       "(2574, 19)"
      ]
     },
     "execution_count": 20,
     "metadata": {},
     "output_type": "execute_result"
    }
   ],
   "source": [
    "df.shape"
   ]
  },
  {
   "cell_type": "code",
   "execution_count": 21,
   "id": "57d5525b-f266-4430-a22b-8d5d97b321f0",
   "metadata": {},
   "outputs": [],
   "source": [
    "df[\"index\"] = range(df.shape[0])"
   ]
  },
  {
   "cell_type": "code",
   "execution_count": 22,
   "id": "2548b4ca-c80d-49d9-bfbb-6a28a09d077e",
   "metadata": {},
   "outputs": [],
   "source": [
    "query = f\"\"\"\n",
    "select \n",
    "    *\n",
    "    ,row_number() over (partition by 问题 order by 编号) as count_no\n",
    "    ,count(*) over (partition by 问题) as count_unique\n",
    "from \n",
    "    df\n",
    "\"\"\"\n",
    "\n",
    "# 使用pysqldf执行SQL查询\n",
    "df1 = pysqldf(query)"
   ]
  },
  {
   "cell_type": "code",
   "execution_count": 23,
   "id": "f61f1d33-c5ef-4d03-b303-155802ffb0b7",
   "metadata": {},
   "outputs": [
    {
     "data": {
      "text/html": [
       "<div>\n",
       "<style scoped>\n",
       "    .dataframe tbody tr th:only-of-type {\n",
       "        vertical-align: middle;\n",
       "    }\n",
       "\n",
       "    .dataframe tbody tr th {\n",
       "        vertical-align: top;\n",
       "    }\n",
       "\n",
       "    .dataframe thead th {\n",
       "        text-align: right;\n",
       "    }\n",
       "</style>\n",
       "<table border=\"1\" class=\"dataframe\">\n",
       "  <thead>\n",
       "    <tr style=\"text-align: right;\">\n",
       "      <th></th>\n",
       "      <th>编号</th>\n",
       "      <th>问题</th>\n",
       "      <th>回复1</th>\n",
       "      <th>回复1附件</th>\n",
       "      <th>回复1标题</th>\n",
       "      <th>回复2</th>\n",
       "      <th>回复2附件</th>\n",
       "      <th>回复2标题</th>\n",
       "      <th>是否解决</th>\n",
       "      <th>提问者</th>\n",
       "      <th>...</th>\n",
       "      <th>类型</th>\n",
       "      <th>正确回复</th>\n",
       "      <th>提问日期(供统计用)</th>\n",
       "      <th>匹配的标准问题编号</th>\n",
       "      <th>备注</th>\n",
       "      <th>父记录</th>\n",
       "      <th>date</th>\n",
       "      <th>index</th>\n",
       "      <th>count_no</th>\n",
       "      <th>count_unique</th>\n",
       "    </tr>\n",
       "  </thead>\n",
       "  <tbody>\n",
       "    <tr>\n",
       "      <th>70</th>\n",
       "      <td>ICASK202405227738</td>\n",
       "      <td>A20序列号位置？</td>\n",
       "      <td>score: 0\\n类型:\\n常见问题\\n问题:\\nA20序列号位置？\\n回复:\\n1.机器...</td>\n",
       "      <td>image.png</td>\n",
       "      <td>A20序列号位置？</td>\n",
       "      <td>score: 0.188311100006\\n类型:\\n日常使用\\n问题:\\n每个档位都可以...</td>\n",
       "      <td>None</td>\n",
       "      <td>每个档位都可以智能检测脏污度？</td>\n",
       "      <td>None</td>\n",
       "      <td>衡晶晶</td>\n",
       "      <td>...</td>\n",
       "      <td>None</td>\n",
       "      <td>None</td>\n",
       "      <td>2024-05-22 00:00:00.000000</td>\n",
       "      <td>ICWIKI202405222688</td>\n",
       "      <td>None</td>\n",
       "      <td>None</td>\n",
       "      <td>2024-5</td>\n",
       "      <td>115</td>\n",
       "      <td>1</td>\n",
       "      <td>2</td>\n",
       "    </tr>\n",
       "    <tr>\n",
       "      <th>71</th>\n",
       "      <td>ICASK202405227739</td>\n",
       "      <td>A20序列号位置？</td>\n",
       "      <td>score: 0\\n类型:\\n常见问题\\n问题:\\nA20序列号位置？\\n回复:\\n1.机器...</td>\n",
       "      <td>img_v3_02b4_2d5ce0de-690c-4058-946c-29b9ca6b40...</td>\n",
       "      <td>A20序列号位置？</td>\n",
       "      <td>score: 0.188311100006\\n类型:\\n日常使用\\n问题:\\n每个档位都可以...</td>\n",
       "      <td>None</td>\n",
       "      <td>每个档位都可以智能检测脏污度？</td>\n",
       "      <td>None</td>\n",
       "      <td>衡晶晶</td>\n",
       "      <td>...</td>\n",
       "      <td>None</td>\n",
       "      <td>None</td>\n",
       "      <td>2024-05-22 00:00:00.000000</td>\n",
       "      <td>ICWIKI202405222688</td>\n",
       "      <td>None</td>\n",
       "      <td>None</td>\n",
       "      <td>2024-5</td>\n",
       "      <td>114</td>\n",
       "      <td>2</td>\n",
       "      <td>2</td>\n",
       "    </tr>\n",
       "    <tr>\n",
       "      <th>80</th>\n",
       "      <td>ICASK202405067282</td>\n",
       "      <td>A20续航</td>\n",
       "      <td>score: 0\\n类型:\\n产品参数\\n问题:\\nA20 air 的电池续航时间？\\n回复...</td>\n",
       "      <td>None</td>\n",
       "      <td>A20 air 的电池续航时间？</td>\n",
       "      <td>score: 0\\n类型:\\n产品参数\\n问题:\\nA20 air的电池续航时间\\n回复:\\...</td>\n",
       "      <td>None</td>\n",
       "      <td>A20 air的电池续航时间</td>\n",
       "      <td>None</td>\n",
       "      <td>苑倓姿</td>\n",
       "      <td>...</td>\n",
       "      <td>None</td>\n",
       "      <td>None</td>\n",
       "      <td>2024-05-06 00:00:00.000000</td>\n",
       "      <td>None</td>\n",
       "      <td>没有匹配答案</td>\n",
       "      <td>None</td>\n",
       "      <td>2024-5</td>\n",
       "      <td>570</td>\n",
       "      <td>1</td>\n",
       "      <td>2</td>\n",
       "    </tr>\n",
       "    <tr>\n",
       "      <th>81</th>\n",
       "      <td>ICASK202405167610</td>\n",
       "      <td>A20续航</td>\n",
       "      <td>score: 0\\n类型:\\n产品参数\\n问题:\\nA20 air 的电池续航时间？\\n回复...</td>\n",
       "      <td>None</td>\n",
       "      <td>A20 air 的电池续航时间？</td>\n",
       "      <td>score: 0\\n类型:\\n产品参数\\n问题:\\nA20 air的电池续航时间\\n回复:\\...</td>\n",
       "      <td>None</td>\n",
       "      <td>A20 air的电池续航时间</td>\n",
       "      <td>None</td>\n",
       "      <td>田翠萍</td>\n",
       "      <td>...</td>\n",
       "      <td>None</td>\n",
       "      <td>None</td>\n",
       "      <td>2024-05-16 00:00:00.000000</td>\n",
       "      <td>None</td>\n",
       "      <td>问题机型无法匹配问题编号</td>\n",
       "      <td>None</td>\n",
       "      <td>2024-5</td>\n",
       "      <td>243</td>\n",
       "      <td>2</td>\n",
       "      <td>2</td>\n",
       "    </tr>\n",
       "    <tr>\n",
       "      <th>82</th>\n",
       "      <td>ICASK202404276949</td>\n",
       "      <td>A20自清洁</td>\n",
       "      <td>score: 0\\n类型:\\n日常使用\\n问题:\\n怎样进行自清洁？\\n回复:\\n您好，将机...</td>\n",
       "      <td>None</td>\n",
       "      <td>怎样进行自清洁？</td>\n",
       "      <td>score: 0\\n类型:\\n日常使用\\n问题:\\n什么是智能自清洁\\n回复:\\n智能自清洁...</td>\n",
       "      <td>None</td>\n",
       "      <td>什么是智能自清洁</td>\n",
       "      <td>None</td>\n",
       "      <td>田翠萍</td>\n",
       "      <td>...</td>\n",
       "      <td>None</td>\n",
       "      <td>None</td>\n",
       "      <td>2024-04-27 00:00:00.000000</td>\n",
       "      <td>ICWIKI202401031509，ICWIKI202401031511，ICWIKI20...</td>\n",
       "      <td>问题模糊，匹配答案较多</td>\n",
       "      <td>None</td>\n",
       "      <td>2024-4</td>\n",
       "      <td>902</td>\n",
       "      <td>1</td>\n",
       "      <td>2</td>\n",
       "    </tr>\n",
       "    <tr>\n",
       "      <th>...</th>\n",
       "      <td>...</td>\n",
       "      <td>...</td>\n",
       "      <td>...</td>\n",
       "      <td>...</td>\n",
       "      <td>...</td>\n",
       "      <td>...</td>\n",
       "      <td>...</td>\n",
       "      <td>...</td>\n",
       "      <td>...</td>\n",
       "      <td>...</td>\n",
       "      <td>...</td>\n",
       "      <td>...</td>\n",
       "      <td>...</td>\n",
       "      <td>...</td>\n",
       "      <td>...</td>\n",
       "      <td>...</td>\n",
       "      <td>...</td>\n",
       "      <td>...</td>\n",
       "      <td>...</td>\n",
       "      <td>...</td>\n",
       "      <td>...</td>\n",
       "    </tr>\n",
       "    <tr>\n",
       "      <th>2547</th>\n",
       "      <td>ICASK202309081327</td>\n",
       "      <td>集尘电压异常</td>\n",
       "      <td>score: 0\\n类型:\\n故障问题\\n问题:\\n错误35-集尘电压异常\\n回复:\\n3....</td>\n",
       "      <td>img_v2_d77347d6-2b35-481e-9a7a-7284b5c5ba8g.jpg</td>\n",
       "      <td>错误35-集尘电压异常</td>\n",
       "      <td>score: 0.137186169624\\n类型:\\n日常使用\\n问题:\\n集尘时为什么会...</td>\n",
       "      <td>None</td>\n",
       "      <td>集尘时为什么会有异味？</td>\n",
       "      <td>已解决</td>\n",
       "      <td>田永强</td>\n",
       "      <td>...</td>\n",
       "      <td>None</td>\n",
       "      <td>None</td>\n",
       "      <td>2023-09-08 11:13:00.000000</td>\n",
       "      <td>ICWIKI202308220097</td>\n",
       "      <td>不确定机型</td>\n",
       "      <td>None</td>\n",
       "      <td>2023-9</td>\n",
       "      <td>2453</td>\n",
       "      <td>3</td>\n",
       "      <td>5</td>\n",
       "    </tr>\n",
       "    <tr>\n",
       "      <th>2548</th>\n",
       "      <td>ICASK202309221629</td>\n",
       "      <td>集尘电压异常</td>\n",
       "      <td>score: 0\\n类型:\\n故障问题\\n问题:\\n错误35-集尘电压异常\\n回复:\\n3....</td>\n",
       "      <td>img_v2_d77347d6-2b35-481e-9a7a-7284b5c5ba8g.jpg</td>\n",
       "      <td>错误35-集尘电压异常</td>\n",
       "      <td>score: 0.137169599533\\n类型:\\n故障问题\\n问题:\\n集尘效果差或集...</td>\n",
       "      <td>None</td>\n",
       "      <td>集尘效果差或集尘不干净</td>\n",
       "      <td>已解决</td>\n",
       "      <td>陈蕾</td>\n",
       "      <td>...</td>\n",
       "      <td>None</td>\n",
       "      <td>None</td>\n",
       "      <td>2023-09-22 19:07:00.000000</td>\n",
       "      <td>ICWIKI202308220097</td>\n",
       "      <td>不确定机型</td>\n",
       "      <td>None</td>\n",
       "      <td>2023-9</td>\n",
       "      <td>2412</td>\n",
       "      <td>4</td>\n",
       "      <td>5</td>\n",
       "    </tr>\n",
       "    <tr>\n",
       "      <th>2549</th>\n",
       "      <td>ICASK202312174374</td>\n",
       "      <td>集尘电压异常</td>\n",
       "      <td>score: 0\\n类型:\\n故障问题\\n问题:\\n错误35-集尘电压异常\\n回复:\\n3....</td>\n",
       "      <td>img_v2_d77347d6-2b35-481e-9a7a-7284b5c5ba8g.jpg</td>\n",
       "      <td>错误35-集尘电压异常</td>\n",
       "      <td>score: 0.137169599533\\n类型:\\n故障问题\\n问题:\\n集尘效果差或集...</td>\n",
       "      <td>None</td>\n",
       "      <td>集尘效果差或集尘不干净</td>\n",
       "      <td>None</td>\n",
       "      <td>李国亮</td>\n",
       "      <td>...</td>\n",
       "      <td>None</td>\n",
       "      <td>None</td>\n",
       "      <td>2023-12-17 00:00:00.000000</td>\n",
       "      <td>ICWIKI202308220097</td>\n",
       "      <td>不确定机型</td>\n",
       "      <td>None</td>\n",
       "      <td>2023-12</td>\n",
       "      <td>2170</td>\n",
       "      <td>5</td>\n",
       "      <td>5</td>\n",
       "    </tr>\n",
       "    <tr>\n",
       "      <th>2566</th>\n",
       "      <td>ICASK202403296048</td>\n",
       "      <td>风机异常</td>\n",
       "      <td>score: 0\\n类型:\\n故障问题\\n问题:\\n洗衣机故障代码E18，故障描述烘干再生风...</td>\n",
       "      <td>None</td>\n",
       "      <td>洗衣机故障代码E18，故障描述烘干再生风机异常</td>\n",
       "      <td>score: 0\\n类型:\\n故障问题\\n问题:\\n洗衣机故障代码E16，故障描述烘干循环风...</td>\n",
       "      <td>None</td>\n",
       "      <td>洗衣机故障代码E16，故障描述烘干循环风机异常</td>\n",
       "      <td>None</td>\n",
       "      <td>蒋盼盼</td>\n",
       "      <td>...</td>\n",
       "      <td>None</td>\n",
       "      <td>None</td>\n",
       "      <td>2024-03-29 00:00:00.000000</td>\n",
       "      <td>ICWIKI202307243866，ICWIKI202307243868，ICWIKI20...</td>\n",
       "      <td>不确定机型</td>\n",
       "      <td>None</td>\n",
       "      <td>2024-3</td>\n",
       "      <td>1802</td>\n",
       "      <td>1</td>\n",
       "      <td>2</td>\n",
       "    </tr>\n",
       "    <tr>\n",
       "      <th>2567</th>\n",
       "      <td>ICASK202405207689</td>\n",
       "      <td>风机异常</td>\n",
       "      <td>服务内部处理失败</td>\n",
       "      <td>None</td>\n",
       "      <td>None</td>\n",
       "      <td>None</td>\n",
       "      <td>None</td>\n",
       "      <td>None</td>\n",
       "      <td>None</td>\n",
       "      <td>陈克瑞</td>\n",
       "      <td>...</td>\n",
       "      <td>None</td>\n",
       "      <td>None</td>\n",
       "      <td>2024-05-20 00:00:00.000000</td>\n",
       "      <td>ICWIKI202307243866，ICWIKI202307243868，ICWIKI20...</td>\n",
       "      <td>None</td>\n",
       "      <td>None</td>\n",
       "      <td>2024-5</td>\n",
       "      <td>164</td>\n",
       "      <td>2</td>\n",
       "      <td>2</td>\n",
       "    </tr>\n",
       "  </tbody>\n",
       "</table>\n",
       "<p>1081 rows × 22 columns</p>\n",
       "</div>"
      ],
      "text/plain": [
       "                     编号         问题  \\\n",
       "70    ICASK202405227738  A20序列号位置？   \n",
       "71    ICASK202405227739  A20序列号位置？   \n",
       "80    ICASK202405067282      A20续航   \n",
       "81    ICASK202405167610      A20续航   \n",
       "82    ICASK202404276949     A20自清洁   \n",
       "...                 ...        ...   \n",
       "2547  ICASK202309081327     集尘电压异常   \n",
       "2548  ICASK202309221629     集尘电压异常   \n",
       "2549  ICASK202312174374     集尘电压异常   \n",
       "2566  ICASK202403296048       风机异常   \n",
       "2567  ICASK202405207689       风机异常   \n",
       "\n",
       "                                                    回复1  \\\n",
       "70    score: 0\\n类型:\\n常见问题\\n问题:\\nA20序列号位置？\\n回复:\\n1.机器...   \n",
       "71    score: 0\\n类型:\\n常见问题\\n问题:\\nA20序列号位置？\\n回复:\\n1.机器...   \n",
       "80    score: 0\\n类型:\\n产品参数\\n问题:\\nA20 air 的电池续航时间？\\n回复...   \n",
       "81    score: 0\\n类型:\\n产品参数\\n问题:\\nA20 air 的电池续航时间？\\n回复...   \n",
       "82    score: 0\\n类型:\\n日常使用\\n问题:\\n怎样进行自清洁？\\n回复:\\n您好，将机...   \n",
       "...                                                 ...   \n",
       "2547  score: 0\\n类型:\\n故障问题\\n问题:\\n错误35-集尘电压异常\\n回复:\\n3....   \n",
       "2548  score: 0\\n类型:\\n故障问题\\n问题:\\n错误35-集尘电压异常\\n回复:\\n3....   \n",
       "2549  score: 0\\n类型:\\n故障问题\\n问题:\\n错误35-集尘电压异常\\n回复:\\n3....   \n",
       "2566  score: 0\\n类型:\\n故障问题\\n问题:\\n洗衣机故障代码E18，故障描述烘干再生风...   \n",
       "2567                                           服务内部处理失败   \n",
       "\n",
       "                                                  回复1附件  \\\n",
       "70                                            image.png   \n",
       "71    img_v3_02b4_2d5ce0de-690c-4058-946c-29b9ca6b40...   \n",
       "80                                                 None   \n",
       "81                                                 None   \n",
       "82                                                 None   \n",
       "...                                                 ...   \n",
       "2547    img_v2_d77347d6-2b35-481e-9a7a-7284b5c5ba8g.jpg   \n",
       "2548    img_v2_d77347d6-2b35-481e-9a7a-7284b5c5ba8g.jpg   \n",
       "2549    img_v2_d77347d6-2b35-481e-9a7a-7284b5c5ba8g.jpg   \n",
       "2566                                               None   \n",
       "2567                                               None   \n",
       "\n",
       "                        回复1标题  \\\n",
       "70                  A20序列号位置？   \n",
       "71                  A20序列号位置？   \n",
       "80           A20 air 的电池续航时间？   \n",
       "81           A20 air 的电池续航时间？   \n",
       "82                   怎样进行自清洁？   \n",
       "...                       ...   \n",
       "2547              错误35-集尘电压异常   \n",
       "2548              错误35-集尘电压异常   \n",
       "2549              错误35-集尘电压异常   \n",
       "2566  洗衣机故障代码E18，故障描述烘干再生风机异常   \n",
       "2567                     None   \n",
       "\n",
       "                                                    回复2 回复2附件  \\\n",
       "70    score: 0.188311100006\\n类型:\\n日常使用\\n问题:\\n每个档位都可以...  None   \n",
       "71    score: 0.188311100006\\n类型:\\n日常使用\\n问题:\\n每个档位都可以...  None   \n",
       "80    score: 0\\n类型:\\n产品参数\\n问题:\\nA20 air的电池续航时间\\n回复:\\...  None   \n",
       "81    score: 0\\n类型:\\n产品参数\\n问题:\\nA20 air的电池续航时间\\n回复:\\...  None   \n",
       "82    score: 0\\n类型:\\n日常使用\\n问题:\\n什么是智能自清洁\\n回复:\\n智能自清洁...  None   \n",
       "...                                                 ...   ...   \n",
       "2547  score: 0.137186169624\\n类型:\\n日常使用\\n问题:\\n集尘时为什么会...  None   \n",
       "2548  score: 0.137169599533\\n类型:\\n故障问题\\n问题:\\n集尘效果差或集...  None   \n",
       "2549  score: 0.137169599533\\n类型:\\n故障问题\\n问题:\\n集尘效果差或集...  None   \n",
       "2566  score: 0\\n类型:\\n故障问题\\n问题:\\n洗衣机故障代码E16，故障描述烘干循环风...  None   \n",
       "2567                                               None  None   \n",
       "\n",
       "                        回复2标题  是否解决  提问者  ...    类型  正确回复  \\\n",
       "70            每个档位都可以智能检测脏污度？  None  衡晶晶  ...  None  None   \n",
       "71            每个档位都可以智能检测脏污度？  None  衡晶晶  ...  None  None   \n",
       "80             A20 air的电池续航时间  None  苑倓姿  ...  None  None   \n",
       "81             A20 air的电池续航时间  None  田翠萍  ...  None  None   \n",
       "82                   什么是智能自清洁  None  田翠萍  ...  None  None   \n",
       "...                       ...   ...  ...  ...   ...   ...   \n",
       "2547              集尘时为什么会有异味？   已解决  田永强  ...  None  None   \n",
       "2548              集尘效果差或集尘不干净   已解决   陈蕾  ...  None  None   \n",
       "2549              集尘效果差或集尘不干净  None  李国亮  ...  None  None   \n",
       "2566  洗衣机故障代码E16，故障描述烘干循环风机异常  None  蒋盼盼  ...  None  None   \n",
       "2567                     None  None  陈克瑞  ...  None  None   \n",
       "\n",
       "                      提问日期(供统计用)  \\\n",
       "70    2024-05-22 00:00:00.000000   \n",
       "71    2024-05-22 00:00:00.000000   \n",
       "80    2024-05-06 00:00:00.000000   \n",
       "81    2024-05-16 00:00:00.000000   \n",
       "82    2024-04-27 00:00:00.000000   \n",
       "...                          ...   \n",
       "2547  2023-09-08 11:13:00.000000   \n",
       "2548  2023-09-22 19:07:00.000000   \n",
       "2549  2023-12-17 00:00:00.000000   \n",
       "2566  2024-03-29 00:00:00.000000   \n",
       "2567  2024-05-20 00:00:00.000000   \n",
       "\n",
       "                                              匹配的标准问题编号            备注   父记录  \\\n",
       "70                                   ICWIKI202405222688          None  None   \n",
       "71                                   ICWIKI202405222688          None  None   \n",
       "80                                                 None        没有匹配答案  None   \n",
       "81                                                 None  问题机型无法匹配问题编号  None   \n",
       "82    ICWIKI202401031509，ICWIKI202401031511，ICWIKI20...   问题模糊，匹配答案较多  None   \n",
       "...                                                 ...           ...   ...   \n",
       "2547                                 ICWIKI202308220097         不确定机型  None   \n",
       "2548                                 ICWIKI202308220097         不确定机型  None   \n",
       "2549                                 ICWIKI202308220097         不确定机型  None   \n",
       "2566  ICWIKI202307243866，ICWIKI202307243868，ICWIKI20...         不确定机型  None   \n",
       "2567  ICWIKI202307243866，ICWIKI202307243868，ICWIKI20...          None  None   \n",
       "\n",
       "         date index count_no  count_unique  \n",
       "70     2024-5   115        1             2  \n",
       "71     2024-5   114        2             2  \n",
       "80     2024-5   570        1             2  \n",
       "81     2024-5   243        2             2  \n",
       "82     2024-4   902        1             2  \n",
       "...       ...   ...      ...           ...  \n",
       "2547   2023-9  2453        3             5  \n",
       "2548   2023-9  2412        4             5  \n",
       "2549  2023-12  2170        5             5  \n",
       "2566   2024-3  1802        1             2  \n",
       "2567   2024-5   164        2             2  \n",
       "\n",
       "[1081 rows x 22 columns]"
      ]
     },
     "execution_count": 23,
     "metadata": {},
     "output_type": "execute_result"
    }
   ],
   "source": [
    "df1[df1['count_unique']>1].sort_values([\"问题\", \"提问日期\"])"
   ]
  },
  {
   "cell_type": "code",
   "execution_count": 24,
   "id": "e8ddb390-6f59-4aa2-a656-88e0ade76a04",
   "metadata": {},
   "outputs": [],
   "source": [
    "df1 = df1[(df1['count_unique']==df1['count_no'])]"
   ]
  },
  {
   "cell_type": "code",
   "execution_count": 25,
   "id": "d69d04bc-dc35-47db-adda-ba67c8bdd6cb",
   "metadata": {},
   "outputs": [
    {
     "data": {
      "text/plain": [
       "(1733, 22)"
      ]
     },
     "execution_count": 25,
     "metadata": {},
     "output_type": "execute_result"
    }
   ],
   "source": [
    "df1.shape"
   ]
  },
  {
   "cell_type": "code",
   "execution_count": 26,
   "id": "251dd0bb-accf-44e9-85ad-e73359e1aac6",
   "metadata": {},
   "outputs": [
    {
     "data": {
      "text/plain": [
       "841"
      ]
     },
     "execution_count": 26,
     "metadata": {},
     "output_type": "execute_result"
    }
   ],
   "source": [
    "df[\"问题\"].duplicated().sum()"
   ]
  },
  {
   "cell_type": "code",
   "execution_count": 27,
   "id": "f73f92a7-03fe-4696-948d-26be6a68866a",
   "metadata": {},
   "outputs": [
    {
     "data": {
      "text/plain": [
       "(2574, 20)"
      ]
     },
     "execution_count": 27,
     "metadata": {},
     "output_type": "execute_result"
    }
   ],
   "source": [
    "df.shape"
   ]
  },
  {
   "cell_type": "code",
   "execution_count": 28,
   "id": "a9738b0e-478d-44c7-918e-c0f521871990",
   "metadata": {},
   "outputs": [
    {
     "data": {
      "text/plain": [
       "2574"
      ]
     },
     "execution_count": 28,
     "metadata": {},
     "output_type": "execute_result"
    }
   ],
   "source": [
    "1733+841"
   ]
  },
  {
   "cell_type": "code",
   "execution_count": 29,
   "id": "2207ffbe-014e-47e2-a4fc-2f46f5518e21",
   "metadata": {},
   "outputs": [],
   "source": [
    "df = df.set_index(\"index\").loc[df1[\"index\"].tolist()]"
   ]
  },
  {
   "cell_type": "code",
   "execution_count": 30,
   "id": "7bda7225-0585-443f-a08b-622be29688e3",
   "metadata": {},
   "outputs": [],
   "source": [
    "df[\"model_list\"] = df[\"问题\"].apply(lambda x: find_model_with_pos(x, all_model_list))"
   ]
  },
  {
   "cell_type": "code",
   "execution_count": 31,
   "id": "c7b686e8-8a71-44ff-8f71-33b876ad8519",
   "metadata": {},
   "outputs": [],
   "source": [
    "df[\"error_list\"] = df[\"问题\"].apply(lambda x: find_error_with_reason_with_pos(x))"
   ]
  },
  {
   "cell_type": "code",
   "execution_count": 32,
   "id": "73ca816e-292e-4a47-b00d-5db4e56ee308",
   "metadata": {},
   "outputs": [],
   "source": [
    "df[\"has_model\"] = df[\"model_list\"].apply(lambda x: len(x)>0)\n",
    "df[\"has_error\"] = df[\"error_list\"].apply(lambda x: len(x)>0)\n",
    "df[\"gt_isnull\"] = df[\"匹配的标准问题编号\"].isnull()\n",
    "df[\"gt_notnull\"] = df[\"匹配的标准问题编号\"].notnull()"
   ]
  },
  {
   "cell_type": "code",
   "execution_count": 33,
   "id": "75d5f6f3-0a4a-400f-9b56-b2ea7adc4bdb",
   "metadata": {},
   "outputs": [
    {
     "data": {
      "text/plain": [
       "has_error\n",
       "False    1601\n",
       "True      132\n",
       "Name: count, dtype: int64"
      ]
     },
     "execution_count": 33,
     "metadata": {},
     "output_type": "execute_result"
    }
   ],
   "source": [
    "df[\"has_error\"].value_counts()"
   ]
  },
  {
   "cell_type": "code",
   "execution_count": 34,
   "id": "6d5db805-62a3-44e6-8009-5ec13a846372",
   "metadata": {},
   "outputs": [
    {
     "data": {
      "text/plain": [
       "has_model\n",
       "False    952\n",
       "True     781\n",
       "Name: count, dtype: int64"
      ]
     },
     "execution_count": 34,
     "metadata": {},
     "output_type": "execute_result"
    }
   ],
   "source": [
    "df[\"has_model\"].value_counts()"
   ]
  },
  {
   "cell_type": "code",
   "execution_count": 35,
   "id": "8bf64de8-d944-4dbc-b527-9601d20512a1",
   "metadata": {},
   "outputs": [],
   "source": [
    "def split_answer(x):\n",
    "    if str(x) == \"nan\":\n",
    "        return np.nan\n",
    "    else:\n",
    "        candidate = x.split(\"，\")\n",
    "        if len(candidate)==1:\n",
    "            candidate = x.split(\",\")\n",
    "        candidate = [j.strip() for j in candidate]\n",
    "        return candidate\n",
    "\n",
    "def get_list_num(x):\n",
    "    if str(x) == \"nan\":\n",
    "        return np.nan\n",
    "    else:\n",
    "        return len(x)"
   ]
  },
  {
   "cell_type": "code",
   "execution_count": 36,
   "id": "47fc6d1b-e41d-486c-9638-b4e7ba4c8cc3",
   "metadata": {},
   "outputs": [],
   "source": [
    "df[\"gt_list\"] = df[\"匹配的标准问题编号\"].apply(lambda x: split_answer(x))\n",
    "df[\"gt_num\"] = df[\"gt_list\"].apply(lambda x: get_list_num(x))"
   ]
  },
  {
   "cell_type": "code",
   "execution_count": 37,
   "id": "add0de0d-91fe-43c8-b104-b820a13f0136",
   "metadata": {},
   "outputs": [],
   "source": [
    "uncertainty = [\"不太确定\",\n",
    "\"不确定\",\n",
    "\"不确定机型\",\n",
    "\"不确定机型，问题不明确\",\n",
    "\"不确定问题具体方向\",\n",
    "\"不确定问题意思及机型\",\n",
    "\"匹配度不高\",\n",
    "\"无法判断问题具体意思，匹配相似答案多个\",\n",
    "\"机型不明确，导致匹配到的标准问题有多个\",\n",
    "\"由于机型不明确，导致匹配到的标准问题有多个\",\n",
    "\"由于机型不明确，导致匹配答案过多\\n\\n\\n\\n\\n\\n\\n\\n\\n\",\n",
    "\"由于机型问题不明确，导致匹配到的标准问题有多个\",\n",
    "\"部确定机型\",\n",
    "\"问题不明确\",\n",
    "\"问题模糊，匹配答案较多\"]\n",
    "df[\"if_t\"] = 1\n",
    "for type_name in uncertainty:\n",
    "    if type_name == \"不确定机型\":\n",
    "        df.loc[(df[\"备注\"]==type_name)&(df[\"has_model\"]==False)&(df[\"has_error\"]==False)&(df[\"gt_num\"]>3), \"if_t\"] = 0\n",
    "    else:\n",
    "        df.loc[df[\"备注\"]==type_name, \"if_t\"] = 0"
   ]
  },
  {
   "cell_type": "code",
   "execution_count": 38,
   "id": "6be5350b-9c52-4816-ad19-97129df1f01e",
   "metadata": {},
   "outputs": [],
   "source": [
    "uncertainty = [\"不太确定\",\n",
    "\"不确定\",\n",
    "# \"不确定机型\",\n",
    "# \"不确定机型，问题不明确\",\n",
    "\"不确定问题具体方向\",\n",
    "# \"不确定问题意思及机型\",\n",
    "\"匹配度不高\",\n",
    "\"无法判断问题具体意思，匹配相似答案多个\",\n",
    "# \"机型不明确，导致匹配到的标准问题有多个\",\n",
    "# \"由于机型不明确，导致匹配到的标准问题有多个\",\n",
    "# \"由于机型不明确，导致匹配答案过多\\n\\n\\n\\n\\n\\n\\n\\n\\n\",\n",
    "# \"由于机型问题不明确，导致匹配到的标准问题有多个\",\n",
    "# \"部确定机型\",\n",
    "\"问题不明确\",\n",
    "\"问题模糊，匹配答案较多\"]\n",
    "df[\"if_t2\"] = 1\n",
    "for type_name in uncertainty:\n",
    "    df.loc[(df[\"备注\"]==type_name)&(~((df[\"has_model\"]==False)&(df[\"has_error\"]==False))), \"if_t2\"] = 0"
   ]
  },
  {
   "cell_type": "code",
   "execution_count": 39,
   "id": "3d3089b2-678c-484d-8e09-8c5c098f5893",
   "metadata": {},
   "outputs": [],
   "source": [
    "df[\"备注2\"] = df[\"备注\"]\n",
    "df.loc[df[\"备注\"].isnull(), \"备注2\"] = 'nan'"
   ]
  },
  {
   "cell_type": "code",
   "execution_count": 40,
   "id": "ec238f5e-7185-404b-944b-e006c3189bc4",
   "metadata": {},
   "outputs": [
    {
     "data": {
      "text/html": [
       "<div>\n",
       "<style scoped>\n",
       "    .dataframe tbody tr th:only-of-type {\n",
       "        vertical-align: middle;\n",
       "    }\n",
       "\n",
       "    .dataframe tbody tr th {\n",
       "        vertical-align: top;\n",
       "    }\n",
       "\n",
       "    .dataframe thead tr th {\n",
       "        text-align: left;\n",
       "    }\n",
       "\n",
       "    .dataframe thead tr:last-of-type th {\n",
       "        text-align: right;\n",
       "    }\n",
       "</style>\n",
       "<table border=\"1\" class=\"dataframe\">\n",
       "  <thead>\n",
       "    <tr>\n",
       "      <th></th>\n",
       "      <th></th>\n",
       "      <th></th>\n",
       "      <th colspan=\"2\" halign=\"left\">gt_isnull</th>\n",
       "      <th>gt_notnull</th>\n",
       "      <th colspan=\"2\" halign=\"left\">gt_num</th>\n",
       "    </tr>\n",
       "    <tr>\n",
       "      <th></th>\n",
       "      <th></th>\n",
       "      <th></th>\n",
       "      <th>sum</th>\n",
       "      <th>mean</th>\n",
       "      <th>sum</th>\n",
       "      <th>max</th>\n",
       "      <th>min</th>\n",
       "    </tr>\n",
       "    <tr>\n",
       "      <th>备注2</th>\n",
       "      <th>has_model</th>\n",
       "      <th>has_error</th>\n",
       "      <th></th>\n",
       "      <th></th>\n",
       "      <th></th>\n",
       "      <th></th>\n",
       "      <th></th>\n",
       "    </tr>\n",
       "  </thead>\n",
       "  <tbody>\n",
       "    <tr>\n",
       "      <th rowspan=\"4\" valign=\"top\">nan</th>\n",
       "      <th rowspan=\"2\" valign=\"top\">False</th>\n",
       "      <th>False</th>\n",
       "      <td>0</td>\n",
       "      <td>0.000000</td>\n",
       "      <td>75</td>\n",
       "      <td>11.0</td>\n",
       "      <td>1.0</td>\n",
       "    </tr>\n",
       "    <tr>\n",
       "      <th>True</th>\n",
       "      <td>0</td>\n",
       "      <td>0.000000</td>\n",
       "      <td>2</td>\n",
       "      <td>1.0</td>\n",
       "      <td>1.0</td>\n",
       "    </tr>\n",
       "    <tr>\n",
       "      <th rowspan=\"2\" valign=\"top\">True</th>\n",
       "      <th>False</th>\n",
       "      <td>0</td>\n",
       "      <td>0.000000</td>\n",
       "      <td>403</td>\n",
       "      <td>11.0</td>\n",
       "      <td>1.0</td>\n",
       "    </tr>\n",
       "    <tr>\n",
       "      <th>True</th>\n",
       "      <td>0</td>\n",
       "      <td>0.000000</td>\n",
       "      <td>50</td>\n",
       "      <td>2.0</td>\n",
       "      <td>1.0</td>\n",
       "    </tr>\n",
       "    <tr>\n",
       "      <th rowspan=\"2\" valign=\"top\">不太确定</th>\n",
       "      <th>False</th>\n",
       "      <th>False</th>\n",
       "      <td>0</td>\n",
       "      <td>0.000000</td>\n",
       "      <td>2</td>\n",
       "      <td>1.0</td>\n",
       "      <td>1.0</td>\n",
       "    </tr>\n",
       "    <tr>\n",
       "      <th>True</th>\n",
       "      <th>False</th>\n",
       "      <td>0</td>\n",
       "      <td>0.000000</td>\n",
       "      <td>4</td>\n",
       "      <td>1.0</td>\n",
       "      <td>1.0</td>\n",
       "    </tr>\n",
       "    <tr>\n",
       "      <th rowspan=\"2\" valign=\"top\">不确定</th>\n",
       "      <th>False</th>\n",
       "      <th>False</th>\n",
       "      <td>0</td>\n",
       "      <td>0.000000</td>\n",
       "      <td>25</td>\n",
       "      <td>10.0</td>\n",
       "      <td>1.0</td>\n",
       "    </tr>\n",
       "    <tr>\n",
       "      <th>True</th>\n",
       "      <th>False</th>\n",
       "      <td>0</td>\n",
       "      <td>0.000000</td>\n",
       "      <td>17</td>\n",
       "      <td>10.0</td>\n",
       "      <td>1.0</td>\n",
       "    </tr>\n",
       "    <tr>\n",
       "      <th rowspan=\"3\" valign=\"top\">不确定机型</th>\n",
       "      <th rowspan=\"2\" valign=\"top\">False</th>\n",
       "      <th>False</th>\n",
       "      <td>2</td>\n",
       "      <td>0.004706</td>\n",
       "      <td>423</td>\n",
       "      <td>11.0</td>\n",
       "      <td>1.0</td>\n",
       "    </tr>\n",
       "    <tr>\n",
       "      <th>True</th>\n",
       "      <td>0</td>\n",
       "      <td>0.000000</td>\n",
       "      <td>55</td>\n",
       "      <td>10.0</td>\n",
       "      <td>1.0</td>\n",
       "    </tr>\n",
       "    <tr>\n",
       "      <th>True</th>\n",
       "      <th>False</th>\n",
       "      <td>0</td>\n",
       "      <td>0.000000</td>\n",
       "      <td>3</td>\n",
       "      <td>5.0</td>\n",
       "      <td>1.0</td>\n",
       "    </tr>\n",
       "    <tr>\n",
       "      <th>不确定机型，问题不明确</th>\n",
       "      <th>False</th>\n",
       "      <th>False</th>\n",
       "      <td>0</td>\n",
       "      <td>0.000000</td>\n",
       "      <td>2</td>\n",
       "      <td>6.0</td>\n",
       "      <td>3.0</td>\n",
       "    </tr>\n",
       "    <tr>\n",
       "      <th>不确定问题具体方向</th>\n",
       "      <th>True</th>\n",
       "      <th>False</th>\n",
       "      <td>0</td>\n",
       "      <td>0.000000</td>\n",
       "      <td>2</td>\n",
       "      <td>2.0</td>\n",
       "      <td>2.0</td>\n",
       "    </tr>\n",
       "    <tr>\n",
       "      <th>不确定问题意思及机型</th>\n",
       "      <th>False</th>\n",
       "      <th>False</th>\n",
       "      <td>0</td>\n",
       "      <td>0.000000</td>\n",
       "      <td>1</td>\n",
       "      <td>7.0</td>\n",
       "      <td>7.0</td>\n",
       "    </tr>\n",
       "    <tr>\n",
       "      <th>匹配度不高</th>\n",
       "      <th>True</th>\n",
       "      <th>False</th>\n",
       "      <td>0</td>\n",
       "      <td>0.000000</td>\n",
       "      <td>1</td>\n",
       "      <td>1.0</td>\n",
       "      <td>1.0</td>\n",
       "    </tr>\n",
       "    <tr>\n",
       "      <th>无法判断问题具体意思，匹配相似答案多个</th>\n",
       "      <th>False</th>\n",
       "      <th>False</th>\n",
       "      <td>0</td>\n",
       "      <td>0.000000</td>\n",
       "      <td>2</td>\n",
       "      <td>6.0</td>\n",
       "      <td>3.0</td>\n",
       "    </tr>\n",
       "    <tr>\n",
       "      <th rowspan=\"4\" valign=\"top\">无法匹配答案</th>\n",
       "      <th rowspan=\"2\" valign=\"top\">False</th>\n",
       "      <th>False</th>\n",
       "      <td>5</td>\n",
       "      <td>1.000000</td>\n",
       "      <td>0</td>\n",
       "      <td>NaN</td>\n",
       "      <td>NaN</td>\n",
       "    </tr>\n",
       "    <tr>\n",
       "      <th>True</th>\n",
       "      <td>2</td>\n",
       "      <td>1.000000</td>\n",
       "      <td>0</td>\n",
       "      <td>NaN</td>\n",
       "      <td>NaN</td>\n",
       "    </tr>\n",
       "    <tr>\n",
       "      <th rowspan=\"2\" valign=\"top\">True</th>\n",
       "      <th>False</th>\n",
       "      <td>10</td>\n",
       "      <td>1.000000</td>\n",
       "      <td>0</td>\n",
       "      <td>NaN</td>\n",
       "      <td>NaN</td>\n",
       "    </tr>\n",
       "    <tr>\n",
       "      <th>True</th>\n",
       "      <td>3</td>\n",
       "      <td>1.000000</td>\n",
       "      <td>0</td>\n",
       "      <td>NaN</td>\n",
       "      <td>NaN</td>\n",
       "    </tr>\n",
       "    <tr>\n",
       "      <th>机型不明确，导致匹配到的标准问题有多个</th>\n",
       "      <th>False</th>\n",
       "      <th>False</th>\n",
       "      <td>2</td>\n",
       "      <td>1.000000</td>\n",
       "      <td>0</td>\n",
       "      <td>NaN</td>\n",
       "      <td>NaN</td>\n",
       "    </tr>\n",
       "    <tr>\n",
       "      <th rowspan=\"4\" valign=\"top\">没有匹配答案</th>\n",
       "      <th rowspan=\"2\" valign=\"top\">False</th>\n",
       "      <th>False</th>\n",
       "      <td>195</td>\n",
       "      <td>1.000000</td>\n",
       "      <td>0</td>\n",
       "      <td>NaN</td>\n",
       "      <td>NaN</td>\n",
       "    </tr>\n",
       "    <tr>\n",
       "      <th>True</th>\n",
       "      <td>15</td>\n",
       "      <td>1.000000</td>\n",
       "      <td>0</td>\n",
       "      <td>NaN</td>\n",
       "      <td>NaN</td>\n",
       "    </tr>\n",
       "    <tr>\n",
       "      <th rowspan=\"2\" valign=\"top\">True</th>\n",
       "      <th>False</th>\n",
       "      <td>251</td>\n",
       "      <td>1.000000</td>\n",
       "      <td>0</td>\n",
       "      <td>NaN</td>\n",
       "      <td>NaN</td>\n",
       "    </tr>\n",
       "    <tr>\n",
       "      <th>True</th>\n",
       "      <td>4</td>\n",
       "      <td>1.000000</td>\n",
       "      <td>0</td>\n",
       "      <td>NaN</td>\n",
       "      <td>NaN</td>\n",
       "    </tr>\n",
       "    <tr>\n",
       "      <th rowspan=\"2\" valign=\"top\">由于机型不明确，导致匹配到的标准问题有多个</th>\n",
       "      <th rowspan=\"2\" valign=\"top\">False</th>\n",
       "      <th>False</th>\n",
       "      <td>114</td>\n",
       "      <td>0.991304</td>\n",
       "      <td>1</td>\n",
       "      <td>7.0</td>\n",
       "      <td>7.0</td>\n",
       "    </tr>\n",
       "    <tr>\n",
       "      <th>True</th>\n",
       "      <td>1</td>\n",
       "      <td>1.000000</td>\n",
       "      <td>0</td>\n",
       "      <td>NaN</td>\n",
       "      <td>NaN</td>\n",
       "    </tr>\n",
       "    <tr>\n",
       "      <th>由于机型不明确，导致匹配答案过多\\n\\n\\n\\n\\n\\n\\n\\n\\n</th>\n",
       "      <th>False</th>\n",
       "      <th>False</th>\n",
       "      <td>2</td>\n",
       "      <td>1.000000</td>\n",
       "      <td>0</td>\n",
       "      <td>NaN</td>\n",
       "      <td>NaN</td>\n",
       "    </tr>\n",
       "    <tr>\n",
       "      <th>由于机型问题不明确，导致匹配到的标准问题有多个</th>\n",
       "      <th>False</th>\n",
       "      <th>False</th>\n",
       "      <td>5</td>\n",
       "      <td>1.000000</td>\n",
       "      <td>0</td>\n",
       "      <td>NaN</td>\n",
       "      <td>NaN</td>\n",
       "    </tr>\n",
       "    <tr>\n",
       "      <th rowspan=\"2\" valign=\"top\">由于问题不明确，导致匹配到的标准问题有多个</th>\n",
       "      <th>False</th>\n",
       "      <th>False</th>\n",
       "      <td>16</td>\n",
       "      <td>1.000000</td>\n",
       "      <td>0</td>\n",
       "      <td>NaN</td>\n",
       "      <td>NaN</td>\n",
       "    </tr>\n",
       "    <tr>\n",
       "      <th>True</th>\n",
       "      <th>False</th>\n",
       "      <td>13</td>\n",
       "      <td>1.000000</td>\n",
       "      <td>0</td>\n",
       "      <td>NaN</td>\n",
       "      <td>NaN</td>\n",
       "    </tr>\n",
       "    <tr>\n",
       "      <th rowspan=\"2\" valign=\"top\">由于问题不明确，导致匹配到的答案有多个</th>\n",
       "      <th>False</th>\n",
       "      <th>False</th>\n",
       "      <td>0</td>\n",
       "      <td>0.000000</td>\n",
       "      <td>1</td>\n",
       "      <td>1.0</td>\n",
       "      <td>1.0</td>\n",
       "    </tr>\n",
       "    <tr>\n",
       "      <th>True</th>\n",
       "      <th>False</th>\n",
       "      <td>2</td>\n",
       "      <td>1.000000</td>\n",
       "      <td>0</td>\n",
       "      <td>NaN</td>\n",
       "      <td>NaN</td>\n",
       "    </tr>\n",
       "    <tr>\n",
       "      <th>由于问题方向不明确，导致匹配到的答案有多个</th>\n",
       "      <th>True</th>\n",
       "      <th>False</th>\n",
       "      <td>0</td>\n",
       "      <td>0.000000</td>\n",
       "      <td>1</td>\n",
       "      <td>5.0</td>\n",
       "      <td>5.0</td>\n",
       "    </tr>\n",
       "    <tr>\n",
       "      <th>答案只能匹配部分问题</th>\n",
       "      <th>True</th>\n",
       "      <th>False</th>\n",
       "      <td>0</td>\n",
       "      <td>0.000000</td>\n",
       "      <td>1</td>\n",
       "      <td>1.0</td>\n",
       "      <td>1.0</td>\n",
       "    </tr>\n",
       "    <tr>\n",
       "      <th>答案部分匹配</th>\n",
       "      <th>True</th>\n",
       "      <th>False</th>\n",
       "      <td>0</td>\n",
       "      <td>0.000000</td>\n",
       "      <td>1</td>\n",
       "      <td>2.0</td>\n",
       "      <td>2.0</td>\n",
       "    </tr>\n",
       "    <tr>\n",
       "      <th>部确定机型</th>\n",
       "      <th>False</th>\n",
       "      <th>False</th>\n",
       "      <td>0</td>\n",
       "      <td>0.000000</td>\n",
       "      <td>1</td>\n",
       "      <td>11.0</td>\n",
       "      <td>11.0</td>\n",
       "    </tr>\n",
       "    <tr>\n",
       "      <th rowspan=\"2\" valign=\"top\">问题不明确</th>\n",
       "      <th>False</th>\n",
       "      <th>False</th>\n",
       "      <td>0</td>\n",
       "      <td>0.000000</td>\n",
       "      <td>2</td>\n",
       "      <td>1.0</td>\n",
       "      <td>1.0</td>\n",
       "    </tr>\n",
       "    <tr>\n",
       "      <th>True</th>\n",
       "      <th>False</th>\n",
       "      <td>0</td>\n",
       "      <td>0.000000</td>\n",
       "      <td>10</td>\n",
       "      <td>5.0</td>\n",
       "      <td>2.0</td>\n",
       "    </tr>\n",
       "    <tr>\n",
       "      <th>问题机型无法匹配问题编号</th>\n",
       "      <th>True</th>\n",
       "      <th>False</th>\n",
       "      <td>2</td>\n",
       "      <td>1.000000</td>\n",
       "      <td>0</td>\n",
       "      <td>NaN</td>\n",
       "      <td>NaN</td>\n",
       "    </tr>\n",
       "    <tr>\n",
       "      <th rowspan=\"2\" valign=\"top\">问题模糊，匹配答案较多</th>\n",
       "      <th>False</th>\n",
       "      <th>False</th>\n",
       "      <td>0</td>\n",
       "      <td>0.000000</td>\n",
       "      <td>1</td>\n",
       "      <td>11.0</td>\n",
       "      <td>11.0</td>\n",
       "    </tr>\n",
       "    <tr>\n",
       "      <th>True</th>\n",
       "      <th>False</th>\n",
       "      <td>0</td>\n",
       "      <td>0.000000</td>\n",
       "      <td>3</td>\n",
       "      <td>7.0</td>\n",
       "      <td>3.0</td>\n",
       "    </tr>\n",
       "  </tbody>\n",
       "</table>\n",
       "</div>"
      ],
      "text/plain": [
       "                                                       gt_isnull            \\\n",
       "                                                             sum      mean   \n",
       "备注2                                has_model has_error                       \n",
       "nan                                False     False             0  0.000000   \n",
       "                                             True              0  0.000000   \n",
       "                                   True      False             0  0.000000   \n",
       "                                             True              0  0.000000   \n",
       "不太确定                               False     False             0  0.000000   \n",
       "                                   True      False             0  0.000000   \n",
       "不确定                                False     False             0  0.000000   \n",
       "                                   True      False             0  0.000000   \n",
       "不确定机型                              False     False             2  0.004706   \n",
       "                                             True              0  0.000000   \n",
       "                                   True      False             0  0.000000   \n",
       "不确定机型，问题不明确                        False     False             0  0.000000   \n",
       "不确定问题具体方向                          True      False             0  0.000000   \n",
       "不确定问题意思及机型                         False     False             0  0.000000   \n",
       "匹配度不高                              True      False             0  0.000000   \n",
       "无法判断问题具体意思，匹配相似答案多个                False     False             0  0.000000   \n",
       "无法匹配答案                             False     False             5  1.000000   \n",
       "                                             True              2  1.000000   \n",
       "                                   True      False            10  1.000000   \n",
       "                                             True              3  1.000000   \n",
       "机型不明确，导致匹配到的标准问题有多个                False     False             2  1.000000   \n",
       "没有匹配答案                             False     False           195  1.000000   \n",
       "                                             True             15  1.000000   \n",
       "                                   True      False           251  1.000000   \n",
       "                                             True              4  1.000000   \n",
       "由于机型不明确，导致匹配到的标准问题有多个              False     False           114  0.991304   \n",
       "                                             True              1  1.000000   \n",
       "由于机型不明确，导致匹配答案过多\\n\\n\\n\\n\\n\\n\\n\\n\\n False     False             2  1.000000   \n",
       "由于机型问题不明确，导致匹配到的标准问题有多个            False     False             5  1.000000   \n",
       "由于问题不明确，导致匹配到的标准问题有多个              False     False            16  1.000000   \n",
       "                                   True      False            13  1.000000   \n",
       "由于问题不明确，导致匹配到的答案有多个                False     False             0  0.000000   \n",
       "                                   True      False             2  1.000000   \n",
       "由于问题方向不明确，导致匹配到的答案有多个              True      False             0  0.000000   \n",
       "答案只能匹配部分问题                         True      False             0  0.000000   \n",
       "答案部分匹配                             True      False             0  0.000000   \n",
       "部确定机型                              False     False             0  0.000000   \n",
       "问题不明确                              False     False             0  0.000000   \n",
       "                                   True      False             0  0.000000   \n",
       "问题机型无法匹配问题编号                       True      False             2  1.000000   \n",
       "问题模糊，匹配答案较多                        False     False             0  0.000000   \n",
       "                                   True      False             0  0.000000   \n",
       "\n",
       "                                                       gt_notnull gt_num        \n",
       "                                                              sum    max   min  \n",
       "备注2                                has_model has_error                          \n",
       "nan                                False     False             75   11.0   1.0  \n",
       "                                             True               2    1.0   1.0  \n",
       "                                   True      False            403   11.0   1.0  \n",
       "                                             True              50    2.0   1.0  \n",
       "不太确定                               False     False              2    1.0   1.0  \n",
       "                                   True      False              4    1.0   1.0  \n",
       "不确定                                False     False             25   10.0   1.0  \n",
       "                                   True      False             17   10.0   1.0  \n",
       "不确定机型                              False     False            423   11.0   1.0  \n",
       "                                             True              55   10.0   1.0  \n",
       "                                   True      False              3    5.0   1.0  \n",
       "不确定机型，问题不明确                        False     False              2    6.0   3.0  \n",
       "不确定问题具体方向                          True      False              2    2.0   2.0  \n",
       "不确定问题意思及机型                         False     False              1    7.0   7.0  \n",
       "匹配度不高                              True      False              1    1.0   1.0  \n",
       "无法判断问题具体意思，匹配相似答案多个                False     False              2    6.0   3.0  \n",
       "无法匹配答案                             False     False              0    NaN   NaN  \n",
       "                                             True               0    NaN   NaN  \n",
       "                                   True      False              0    NaN   NaN  \n",
       "                                             True               0    NaN   NaN  \n",
       "机型不明确，导致匹配到的标准问题有多个                False     False              0    NaN   NaN  \n",
       "没有匹配答案                             False     False              0    NaN   NaN  \n",
       "                                             True               0    NaN   NaN  \n",
       "                                   True      False              0    NaN   NaN  \n",
       "                                             True               0    NaN   NaN  \n",
       "由于机型不明确，导致匹配到的标准问题有多个              False     False              1    7.0   7.0  \n",
       "                                             True               0    NaN   NaN  \n",
       "由于机型不明确，导致匹配答案过多\\n\\n\\n\\n\\n\\n\\n\\n\\n False     False              0    NaN   NaN  \n",
       "由于机型问题不明确，导致匹配到的标准问题有多个            False     False              0    NaN   NaN  \n",
       "由于问题不明确，导致匹配到的标准问题有多个              False     False              0    NaN   NaN  \n",
       "                                   True      False              0    NaN   NaN  \n",
       "由于问题不明确，导致匹配到的答案有多个                False     False              1    1.0   1.0  \n",
       "                                   True      False              0    NaN   NaN  \n",
       "由于问题方向不明确，导致匹配到的答案有多个              True      False              1    5.0   5.0  \n",
       "答案只能匹配部分问题                         True      False              1    1.0   1.0  \n",
       "答案部分匹配                             True      False              1    2.0   2.0  \n",
       "部确定机型                              False     False              1   11.0  11.0  \n",
       "问题不明确                              False     False              2    1.0   1.0  \n",
       "                                   True      False             10    5.0   2.0  \n",
       "问题机型无法匹配问题编号                       True      False              0    NaN   NaN  \n",
       "问题模糊，匹配答案较多                        False     False              1   11.0  11.0  \n",
       "                                   True      False              3    7.0   3.0  "
      ]
     },
     "execution_count": 40,
     "metadata": {},
     "output_type": "execute_result"
    }
   ],
   "source": [
    "df.groupby([\"备注2\", \"has_model\", \"has_error\"]).agg({\"gt_isnull\": [\"sum\", \"mean\"], \"gt_notnull\": \"sum\", \"gt_num\": [\"max\", \"min\"]})"
   ]
  },
  {
   "cell_type": "code",
   "execution_count": 41,
   "id": "242a0070-51c6-4e88-9357-954c5ad642a8",
   "metadata": {},
   "outputs": [],
   "source": [
    "df[\"label\"] = 0\n",
    "df.loc[df[\"匹配的标准问题编号\"].isnull(), \"label\"] = 1"
   ]
  },
  {
   "cell_type": "code",
   "execution_count": 42,
   "id": "c7635873-6e12-47cc-a1ce-7d464ed3ed4b",
   "metadata": {},
   "outputs": [],
   "source": [
    "# hard_type = [\"由于机型不明确，导致匹配到的标准问题有多个\",\n",
    "#              \"机型不明确，导致匹配到的标准问题有多个\",\n",
    "#              \"由于机型不明确，导致匹配答案过多\\n\\n\\n\\n\\n\\n\\n\\n\\n\",\n",
    "#              \"由于机型问题不明确，导致匹配到的标准问题有多个\",\n",
    "#              \"问题机型无法匹配问题编号\",\n",
    "#              \"问题模糊，匹配答案较多\"]\n",
    "# for type_name in hard_type:\n",
    "#     df.loc[df[\"备注\"]==type_name, \"label\"] = 0"
   ]
  },
  {
   "cell_type": "code",
   "execution_count": 43,
   "id": "cd8352d6-7610-45db-92fb-c8e13e304674",
   "metadata": {},
   "outputs": [],
   "source": [
    "df[\"index\"] = range(df.shape[0])\n",
    "df[\"index\"] = df[\"index\"].astype(str)\n",
    "df[\"question\"] = df[\"问题\"].apply(lambda x: x.lower())"
   ]
  },
  {
   "cell_type": "code",
   "execution_count": 44,
   "id": "2e886036-a88a-49bf-b824-55da11297a8c",
   "metadata": {},
   "outputs": [],
   "source": [
    "train_all_df = df.copy()"
   ]
  },
  {
   "cell_type": "code",
   "execution_count": 45,
   "id": "9fe75cd5-f751-4465-a5ca-8599bfbb9f09",
   "metadata": {},
   "outputs": [
    {
     "data": {
      "text/plain": [
       "label\n",
       "0    1089\n",
       "1     644\n",
       "Name: count, dtype: int64"
      ]
     },
     "execution_count": 45,
     "metadata": {},
     "output_type": "execute_result"
    }
   ],
   "source": [
    "train_all_df[\"label\"].value_counts()"
   ]
  },
  {
   "cell_type": "code",
   "execution_count": 46,
   "id": "4d2f4754-6353-441b-8ecb-af8c19d8f7de",
   "metadata": {},
   "outputs": [
    {
     "data": {
      "text/plain": [
       "label\n",
       "0    0.62839\n",
       "1    0.37161\n",
       "Name: proportion, dtype: float64"
      ]
     },
     "execution_count": 46,
     "metadata": {},
     "output_type": "execute_result"
    }
   ],
   "source": [
    "train_all_df[\"label\"].value_counts(\"mean\")"
   ]
  },
  {
   "cell_type": "code",
   "execution_count": 47,
   "id": "103b6c16-6e07-4c57-afb2-ce5f09f54421",
   "metadata": {},
   "outputs": [],
   "source": [
    "#数据集分成N份,训练集DATAPARTS是1、2、3，评测样本为9\n",
    "KFOLD = 3\n",
    "y = \"label\"\n",
    "folds = StratifiedKFold(n_splits=KFOLD, shuffle=True, random_state=2020)\n",
    "ar = list(folds.split(train_all_df.index, \n",
    "                      train_all_df[y].values))\n",
    "dp = [train_all_df.index.values[i[1]] for i in ar]\n",
    "for i,j in enumerate(dp):\n",
    "    if i in [0, 1]:\n",
    "        train_all_df.loc[j, 'set']='1train'\n",
    "    elif i == 2:\n",
    "        train_all_df.loc[j, 'set']='2test'"
   ]
  },
  {
   "cell_type": "code",
   "execution_count": 48,
   "id": "c1d7b2a0-fcf3-4993-8d95-1284a999d718",
   "metadata": {},
   "outputs": [],
   "source": [
    "train_all_df[\"label2\"] = train_all_df[\"label\"]\n",
    "train_all_df.loc[train_all_df[\"if_t\"]==0, \"label2\"] = 1"
   ]
  },
  {
   "cell_type": "code",
   "execution_count": 49,
   "id": "48b8c0a1-41bb-49d9-8981-0f4ed7f45463",
   "metadata": {},
   "outputs": [],
   "source": [
    "train_all_df[\"label2_2\"] = train_all_df[\"label\"]\n",
    "train_all_df.loc[train_all_df[\"if_t2\"]==0, \"label2_2\"] = 1"
   ]
  },
  {
   "cell_type": "code",
   "execution_count": 50,
   "id": "5aaf360d-aab7-43df-acbc-55cadc25cf29",
   "metadata": {},
   "outputs": [
    {
     "data": {
      "text/html": [
       "<div>\n",
       "<style scoped>\n",
       "    .dataframe tbody tr th:only-of-type {\n",
       "        vertical-align: middle;\n",
       "    }\n",
       "\n",
       "    .dataframe tbody tr th {\n",
       "        vertical-align: top;\n",
       "    }\n",
       "\n",
       "    .dataframe thead tr th {\n",
       "        text-align: left;\n",
       "    }\n",
       "\n",
       "    .dataframe thead tr:last-of-type th {\n",
       "        text-align: right;\n",
       "    }\n",
       "</style>\n",
       "<table border=\"1\" class=\"dataframe\">\n",
       "  <thead>\n",
       "    <tr>\n",
       "      <th></th>\n",
       "      <th colspan=\"3\" halign=\"left\">label2</th>\n",
       "    </tr>\n",
       "    <tr>\n",
       "      <th></th>\n",
       "      <th>len</th>\n",
       "      <th>sum</th>\n",
       "      <th>mean</th>\n",
       "    </tr>\n",
       "    <tr>\n",
       "      <th>set</th>\n",
       "      <th></th>\n",
       "      <th></th>\n",
       "      <th></th>\n",
       "    </tr>\n",
       "  </thead>\n",
       "  <tbody>\n",
       "    <tr>\n",
       "      <th>1train</th>\n",
       "      <td>1156</td>\n",
       "      <td>608</td>\n",
       "      <td>0.525952</td>\n",
       "    </tr>\n",
       "    <tr>\n",
       "      <th>2test</th>\n",
       "      <td>577</td>\n",
       "      <td>298</td>\n",
       "      <td>0.516464</td>\n",
       "    </tr>\n",
       "  </tbody>\n",
       "</table>\n",
       "</div>"
      ],
      "text/plain": [
       "       label2               \n",
       "          len  sum      mean\n",
       "set                         \n",
       "1train   1156  608  0.525952\n",
       "2test     577  298  0.516464"
      ]
     },
     "execution_count": 50,
     "metadata": {},
     "output_type": "execute_result"
    }
   ],
   "source": [
    "train_all_df.groupby(\"set\").agg({\"label2\": [len, \"sum\",\"mean\"]})"
   ]
  },
  {
   "cell_type": "code",
   "execution_count": 51,
   "id": "3cefec85-5c5d-47c4-a732-701a689ebe61",
   "metadata": {},
   "outputs": [
    {
     "data": {
      "text/html": [
       "<div>\n",
       "<style scoped>\n",
       "    .dataframe tbody tr th:only-of-type {\n",
       "        vertical-align: middle;\n",
       "    }\n",
       "\n",
       "    .dataframe tbody tr th {\n",
       "        vertical-align: top;\n",
       "    }\n",
       "\n",
       "    .dataframe thead tr th {\n",
       "        text-align: left;\n",
       "    }\n",
       "\n",
       "    .dataframe thead tr:last-of-type th {\n",
       "        text-align: right;\n",
       "    }\n",
       "</style>\n",
       "<table border=\"1\" class=\"dataframe\">\n",
       "  <thead>\n",
       "    <tr>\n",
       "      <th></th>\n",
       "      <th colspan=\"3\" halign=\"left\">label2_2</th>\n",
       "    </tr>\n",
       "    <tr>\n",
       "      <th></th>\n",
       "      <th>len</th>\n",
       "      <th>sum</th>\n",
       "      <th>mean</th>\n",
       "    </tr>\n",
       "    <tr>\n",
       "      <th>set</th>\n",
       "      <th></th>\n",
       "      <th></th>\n",
       "      <th></th>\n",
       "    </tr>\n",
       "  </thead>\n",
       "  <tbody>\n",
       "    <tr>\n",
       "      <th>1train</th>\n",
       "      <td>1156</td>\n",
       "      <td>454</td>\n",
       "      <td>0.392734</td>\n",
       "    </tr>\n",
       "    <tr>\n",
       "      <th>2test</th>\n",
       "      <td>577</td>\n",
       "      <td>227</td>\n",
       "      <td>0.393414</td>\n",
       "    </tr>\n",
       "  </tbody>\n",
       "</table>\n",
       "</div>"
      ],
      "text/plain": [
       "       label2_2               \n",
       "            len  sum      mean\n",
       "set                           \n",
       "1train     1156  454  0.392734\n",
       "2test       577  227  0.393414"
      ]
     },
     "execution_count": 51,
     "metadata": {},
     "output_type": "execute_result"
    }
   ],
   "source": [
    "train_all_df.groupby(\"set\").agg({\"label2_2\": [len, \"sum\",\"mean\"]})"
   ]
  },
  {
   "cell_type": "code",
   "execution_count": 52,
   "id": "bfc44851-010d-4dce-99df-a21f2b5f5f9e",
   "metadata": {},
   "outputs": [
    {
     "data": {
      "text/html": [
       "<div>\n",
       "<style scoped>\n",
       "    .dataframe tbody tr th:only-of-type {\n",
       "        vertical-align: middle;\n",
       "    }\n",
       "\n",
       "    .dataframe tbody tr th {\n",
       "        vertical-align: top;\n",
       "    }\n",
       "\n",
       "    .dataframe thead tr th {\n",
       "        text-align: left;\n",
       "    }\n",
       "\n",
       "    .dataframe thead tr:last-of-type th {\n",
       "        text-align: right;\n",
       "    }\n",
       "</style>\n",
       "<table border=\"1\" class=\"dataframe\">\n",
       "  <thead>\n",
       "    <tr>\n",
       "      <th></th>\n",
       "      <th colspan=\"3\" halign=\"left\">label</th>\n",
       "    </tr>\n",
       "    <tr>\n",
       "      <th></th>\n",
       "      <th>len</th>\n",
       "      <th>sum</th>\n",
       "      <th>mean</th>\n",
       "    </tr>\n",
       "    <tr>\n",
       "      <th>set</th>\n",
       "      <th></th>\n",
       "      <th></th>\n",
       "      <th></th>\n",
       "    </tr>\n",
       "  </thead>\n",
       "  <tbody>\n",
       "    <tr>\n",
       "      <th>1train</th>\n",
       "      <td>1156</td>\n",
       "      <td>430</td>\n",
       "      <td>0.371972</td>\n",
       "    </tr>\n",
       "    <tr>\n",
       "      <th>2test</th>\n",
       "      <td>577</td>\n",
       "      <td>214</td>\n",
       "      <td>0.370884</td>\n",
       "    </tr>\n",
       "  </tbody>\n",
       "</table>\n",
       "</div>"
      ],
      "text/plain": [
       "       label               \n",
       "         len  sum      mean\n",
       "set                        \n",
       "1train  1156  430  0.371972\n",
       "2test    577  214  0.370884"
      ]
     },
     "execution_count": 52,
     "metadata": {},
     "output_type": "execute_result"
    }
   ],
   "source": [
    "train_all_df.groupby(\"set\").agg({y: [len, \"sum\",\"mean\"]})"
   ]
  },
  {
   "cell_type": "code",
   "execution_count": 53,
   "id": "266ab216-b5aa-4819-92cb-fb6be5d8c0b5",
   "metadata": {},
   "outputs": [],
   "source": [
    "features = Features({'sentence': Value(dtype='string'),\n",
    "                     'label': Value(dtype='int32'),\n",
    "                     \"set\": Value(dtype='string'),\n",
    "                     \"index\": Value(dtype='string'),\n",
    "                     \"if_t\": Value(dtype='int32')})\n",
    "\n",
    "raw_datasets = Dataset.from_pandas(train_all_df[[\"question\", \"label\", \"set\", \"index\", \"if_t\"]].rename(columns={\"question\": \"sentence\"}),\n",
    "                    features=features, preserve_index=False)"
   ]
  },
  {
   "cell_type": "code",
   "execution_count": 105,
   "id": "a30784a6-1819-4d15-90af-85344a8df902",
   "metadata": {},
   "outputs": [
    {
     "data": {
      "application/vnd.jupyter.widget-view+json": {
       "model_id": "04d4579bee4b46018a411b4a6ddc2631",
       "version_major": 2,
       "version_minor": 0
      },
      "text/plain": [
       "Saving the dataset (0/1 shards):   0%|          | 0/1733 [00:00<?, ? examples/s]"
      ]
     },
     "metadata": {},
     "output_type": "display_data"
    }
   ],
   "source": [
    "raw_datasets.save_to_disk(\"/data/dataset/kefu/router_dataset\")"
   ]
  },
  {
   "cell_type": "code",
   "execution_count": 106,
   "id": "cc16e631-47f9-48c2-bd7d-45810732080a",
   "metadata": {},
   "outputs": [],
   "source": [
    "# raw_datasets = load_from_disk(\"/data/dataset/kefu/router_dataset\")"
   ]
  },
  {
   "cell_type": "code",
   "execution_count": 54,
   "id": "35b600f9-e8b2-4249-997f-d4d2e9eaaae4",
   "metadata": {},
   "outputs": [
    {
     "data": {
      "application/vnd.jupyter.widget-view+json": {
       "model_id": "4071d2505afb45029224074a27902c5e",
       "version_major": 2,
       "version_minor": 0
      },
      "text/plain": [
       "Filter:   0%|          | 0/1733 [00:00<?, ? examples/s]"
      ]
     },
     "metadata": {},
     "output_type": "display_data"
    },
    {
     "data": {
      "application/vnd.jupyter.widget-view+json": {
       "model_id": "e3e1aac050594ac6b4ab5124a3296431",
       "version_major": 2,
       "version_minor": 0
      },
      "text/plain": [
       "Filter:   0%|          | 0/1733 [00:00<?, ? examples/s]"
      ]
     },
     "metadata": {},
     "output_type": "display_data"
    }
   ],
   "source": [
    "train_dataset = raw_datasets.filter(lambda example: (example['set'] == '1train'))\n",
    "test_dataset = raw_datasets.filter(lambda example: (example['set'] == '2test'))"
   ]
  },
  {
   "cell_type": "code",
   "execution_count": 55,
   "id": "af81b67a-d93e-45d3-9f72-f40c3678728b",
   "metadata": {},
   "outputs": [],
   "source": [
    "new_datasets = DatasetDict({\n",
    "    'train': train_dataset,  \n",
    "    'test': test_dataset    \n",
    "})"
   ]
  },
  {
   "cell_type": "code",
   "execution_count": 56,
   "id": "78129b64-7fa2-4e58-a017-09924cd92a7c",
   "metadata": {},
   "outputs": [],
   "source": [
    "# checkpoint = \"/data/dataset/huggingface/hub/bert-base-chinese/\"\n",
    "checkpoint = \"/workspace/data/private/zhuxiaohai/models/bert-finetuned-router/\"\n",
    "tokenizer = AutoTokenizer.from_pretrained(checkpoint)"
   ]
  },
  {
   "cell_type": "code",
   "execution_count": 57,
   "id": "2da3e804-5017-46d6-b5ff-e0334241c2f4",
   "metadata": {},
   "outputs": [
    {
     "data": {
      "application/vnd.jupyter.widget-view+json": {
       "model_id": "0961f233d9cc4c949685f9f4f5cbff56",
       "version_major": 2,
       "version_minor": 0
      },
      "text/plain": [
       "Map:   0%|          | 0/1156 [00:00<?, ? examples/s]"
      ]
     },
     "metadata": {},
     "output_type": "display_data"
    },
    {
     "data": {
      "application/vnd.jupyter.widget-view+json": {
       "model_id": "1c9a11e66f27467db16316937fb61411",
       "version_major": 2,
       "version_minor": 0
      },
      "text/plain": [
       "Map:   0%|          | 0/577 [00:00<?, ? examples/s]"
      ]
     },
     "metadata": {},
     "output_type": "display_data"
    }
   ],
   "source": [
    "def tokenize_function(example):\n",
    "    return tokenizer(example[\"sentence\"], truncation=True)\n",
    "\n",
    "tokenized_datasets = new_datasets.map(tokenize_function, batched=True)"
   ]
  },
  {
   "cell_type": "code",
   "execution_count": 58,
   "id": "07d9f4ad-c2aa-45bc-9dc3-97fc2ef5806c",
   "metadata": {},
   "outputs": [
    {
     "data": {
      "text/plain": [
       "DatasetDict({\n",
       "    train: Dataset({\n",
       "        features: ['sentence', 'label', 'set', 'index', 'if_t', 'input_ids', 'token_type_ids', 'attention_mask'],\n",
       "        num_rows: 1156\n",
       "    })\n",
       "    test: Dataset({\n",
       "        features: ['sentence', 'label', 'set', 'index', 'if_t', 'input_ids', 'token_type_ids', 'attention_mask'],\n",
       "        num_rows: 577\n",
       "    })\n",
       "})"
      ]
     },
     "execution_count": 58,
     "metadata": {},
     "output_type": "execute_result"
    }
   ],
   "source": [
    "tokenized_datasets"
   ]
  },
  {
   "cell_type": "code",
   "execution_count": 59,
   "id": "830ddd18-374d-4dc4-bb1e-f24e10bf2c7d",
   "metadata": {},
   "outputs": [
    {
     "data": {
      "application/vnd.jupyter.widget-view+json": {
       "model_id": "24b4efab407249e3b97c3a458e0b7988",
       "version_major": 2,
       "version_minor": 0
      },
      "text/plain": [
       "Map:   0%|          | 0/1733 [00:00<?, ? examples/s]"
      ]
     },
     "metadata": {},
     "output_type": "display_data"
    }
   ],
   "source": [
    "raw_tokenized_datasets = raw_datasets.map(tokenize_function, batched=True)"
   ]
  },
  {
   "cell_type": "code",
   "execution_count": 60,
   "id": "b649b799-bde3-4bc7-884d-01ef726f0025",
   "metadata": {},
   "outputs": [],
   "source": [
    "data_collator = DataCollatorWithPadding(tokenizer=tokenizer)"
   ]
  },
  {
   "cell_type": "code",
   "execution_count": 61,
   "id": "06ef085d-113f-4589-b2dd-b033781dd95d",
   "metadata": {},
   "outputs": [],
   "source": [
    "from transformers import AutoModelForSequenceClassification\n",
    "# checkpoint = \"/workspace/data/private/zhuxiaohai/models/bert-router/checkpoint-30\"\n",
    "model = AutoModelForSequenceClassification.from_pretrained(checkpoint, num_labels=2)"
   ]
  },
  {
   "cell_type": "code",
   "execution_count": 62,
   "id": "163f9840-bb74-4610-af33-47788ba80951",
   "metadata": {},
   "outputs": [],
   "source": [
    "from transformers import TrainingArguments"
   ]
  },
  {
   "cell_type": "code",
   "execution_count": 63,
   "id": "aaf3fb2f-87f2-4b44-8d17-043ce37c996c",
   "metadata": {},
   "outputs": [],
   "source": [
    "training_args = TrainingArguments(\n",
    "    \"/workspace/data/private/zhuxiaohai/models/bert-router2\",\n",
    "    evaluation_strategy=\"epoch\",\n",
    "    save_strategy=\"epoch\",\n",
    "    learning_rate=5e-5,\n",
    "    num_train_epochs=10,\n",
    "    weight_decay=0.01,\n",
    "    # lr_scheduler_type=\"cosine\",\n",
    "    per_device_train_batch_size=64,\n",
    "    push_to_hub=False,\n",
    ")"
   ]
  },
  {
   "cell_type": "code",
   "execution_count": 64,
   "id": "62ada1ba-b02a-44c2-8536-e21588d86999",
   "metadata": {},
   "outputs": [],
   "source": [
    "import evaluate\n",
    "from scipy.stats import ks_2samp"
   ]
  },
  {
   "cell_type": "code",
   "execution_count": 65,
   "id": "d7a9a56a-f10b-4f13-8ec7-5bb534df5949",
   "metadata": {},
   "outputs": [],
   "source": [
    "metric = evaluate.load(\"roc_auc\")"
   ]
  },
  {
   "cell_type": "code",
   "execution_count": 66,
   "id": "e8f1fde2-bf47-4ef2-b50c-fc1b789ddcc9",
   "metadata": {},
   "outputs": [],
   "source": [
    "def compute_metrics(eval_preds):\n",
    "    logits, labels = eval_preds\n",
    "    predictions = logits[:, 1]\n",
    "    result = metric.compute(prediction_scores=predictions, references=labels)\n",
    "    ks = ks_2samp(predictions[labels==1],predictions[labels==0]).statistic\n",
    "    result.update({\"ks\": ks})\n",
    "    return result"
   ]
  },
  {
   "cell_type": "code",
   "execution_count": 67,
   "id": "7030b812-55ae-4564-b1ae-a994ed44b9af",
   "metadata": {},
   "outputs": [],
   "source": [
    "from transformers import Trainer\n",
    "trainer = Trainer(\n",
    "    model,\n",
    "    training_args,\n",
    "    train_dataset=tokenized_datasets[\"train\"],\n",
    "    eval_dataset=tokenized_datasets[\"test\"],\n",
    "    data_collator=data_collator,\n",
    "    tokenizer=tokenizer,\n",
    "    compute_metrics=compute_metrics,\n",
    ")"
   ]
  },
  {
   "cell_type": "code",
   "execution_count": 56,
   "id": "59dbea28-cf92-4343-94f3-cc68d7ea0720",
   "metadata": {
    "scrolled": true
   },
   "outputs": [
    {
     "name": "stderr",
     "output_type": "stream",
     "text": [
      "/root/mambaforge/envs/python310_chatbot/lib/python3.10/site-packages/torch/nn/parallel/_functions.py:68: UserWarning: Was asked to gather along dimension 0, but all input tensors were scalars; will instead unsqueeze and return a vector.\n",
      "  warnings.warn('Was asked to gather along dimension 0, but all '\n"
     ]
    },
    {
     "data": {
      "text/html": [
       "\n",
       "    <div>\n",
       "      \n",
       "      <progress value='20' max='20' style='width:300px; height:20px; vertical-align: middle;'></progress>\n",
       "      [20/20 00:43, Epoch 10/10]\n",
       "    </div>\n",
       "    <table border=\"1\" class=\"dataframe\">\n",
       "  <thead>\n",
       " <tr style=\"text-align: left;\">\n",
       "      <th>Epoch</th>\n",
       "      <th>Training Loss</th>\n",
       "      <th>Validation Loss</th>\n",
       "      <th>Roc Auc</th>\n",
       "      <th>Ks</th>\n",
       "    </tr>\n",
       "  </thead>\n",
       "  <tbody>\n",
       "    <tr>\n",
       "      <td>1</td>\n",
       "      <td>No log</td>\n",
       "      <td>0.683267</td>\n",
       "      <td>0.509805</td>\n",
       "      <td>0.089420</td>\n",
       "    </tr>\n",
       "    <tr>\n",
       "      <td>2</td>\n",
       "      <td>No log</td>\n",
       "      <td>0.654957</td>\n",
       "      <td>0.553887</td>\n",
       "      <td>0.102521</td>\n",
       "    </tr>\n",
       "    <tr>\n",
       "      <td>3</td>\n",
       "      <td>No log</td>\n",
       "      <td>0.647329</td>\n",
       "      <td>0.619763</td>\n",
       "      <td>0.202324</td>\n",
       "    </tr>\n",
       "    <tr>\n",
       "      <td>4</td>\n",
       "      <td>No log</td>\n",
       "      <td>0.630108</td>\n",
       "      <td>0.659951</td>\n",
       "      <td>0.301322</td>\n",
       "    </tr>\n",
       "    <tr>\n",
       "      <td>5</td>\n",
       "      <td>No log</td>\n",
       "      <td>0.626844</td>\n",
       "      <td>0.671981</td>\n",
       "      <td>0.302558</td>\n",
       "    </tr>\n",
       "    <tr>\n",
       "      <td>6</td>\n",
       "      <td>No log</td>\n",
       "      <td>0.625573</td>\n",
       "      <td>0.674741</td>\n",
       "      <td>0.325547</td>\n",
       "    </tr>\n",
       "    <tr>\n",
       "      <td>7</td>\n",
       "      <td>No log</td>\n",
       "      <td>0.626143</td>\n",
       "      <td>0.676781</td>\n",
       "      <td>0.329873</td>\n",
       "    </tr>\n",
       "    <tr>\n",
       "      <td>8</td>\n",
       "      <td>No log</td>\n",
       "      <td>0.627241</td>\n",
       "      <td>0.680530</td>\n",
       "      <td>0.341367</td>\n",
       "    </tr>\n",
       "    <tr>\n",
       "      <td>9</td>\n",
       "      <td>No log</td>\n",
       "      <td>0.626315</td>\n",
       "      <td>0.684547</td>\n",
       "      <td>0.338462</td>\n",
       "    </tr>\n",
       "    <tr>\n",
       "      <td>10</td>\n",
       "      <td>No log</td>\n",
       "      <td>0.626681</td>\n",
       "      <td>0.683805</td>\n",
       "      <td>0.338462</td>\n",
       "    </tr>\n",
       "  </tbody>\n",
       "</table><p>"
      ],
      "text/plain": [
       "<IPython.core.display.HTML object>"
      ]
     },
     "metadata": {},
     "output_type": "display_data"
    },
    {
     "name": "stderr",
     "output_type": "stream",
     "text": [
      "/root/mambaforge/envs/python310_chatbot/lib/python3.10/site-packages/torch/nn/parallel/_functions.py:68: UserWarning: Was asked to gather along dimension 0, but all input tensors were scalars; will instead unsqueeze and return a vector.\n",
      "  warnings.warn('Was asked to gather along dimension 0, but all '\n",
      "/root/mambaforge/envs/python310_chatbot/lib/python3.10/site-packages/torch/nn/parallel/_functions.py:68: UserWarning: Was asked to gather along dimension 0, but all input tensors were scalars; will instead unsqueeze and return a vector.\n",
      "  warnings.warn('Was asked to gather along dimension 0, but all '\n",
      "/root/mambaforge/envs/python310_chatbot/lib/python3.10/site-packages/torch/nn/parallel/_functions.py:68: UserWarning: Was asked to gather along dimension 0, but all input tensors were scalars; will instead unsqueeze and return a vector.\n",
      "  warnings.warn('Was asked to gather along dimension 0, but all '\n",
      "/root/mambaforge/envs/python310_chatbot/lib/python3.10/site-packages/torch/nn/parallel/_functions.py:68: UserWarning: Was asked to gather along dimension 0, but all input tensors were scalars; will instead unsqueeze and return a vector.\n",
      "  warnings.warn('Was asked to gather along dimension 0, but all '\n",
      "/root/mambaforge/envs/python310_chatbot/lib/python3.10/site-packages/torch/nn/parallel/_functions.py:68: UserWarning: Was asked to gather along dimension 0, but all input tensors were scalars; will instead unsqueeze and return a vector.\n",
      "  warnings.warn('Was asked to gather along dimension 0, but all '\n",
      "/root/mambaforge/envs/python310_chatbot/lib/python3.10/site-packages/torch/nn/parallel/_functions.py:68: UserWarning: Was asked to gather along dimension 0, but all input tensors were scalars; will instead unsqueeze and return a vector.\n",
      "  warnings.warn('Was asked to gather along dimension 0, but all '\n",
      "/root/mambaforge/envs/python310_chatbot/lib/python3.10/site-packages/torch/nn/parallel/_functions.py:68: UserWarning: Was asked to gather along dimension 0, but all input tensors were scalars; will instead unsqueeze and return a vector.\n",
      "  warnings.warn('Was asked to gather along dimension 0, but all '\n",
      "/root/mambaforge/envs/python310_chatbot/lib/python3.10/site-packages/torch/nn/parallel/_functions.py:68: UserWarning: Was asked to gather along dimension 0, but all input tensors were scalars; will instead unsqueeze and return a vector.\n",
      "  warnings.warn('Was asked to gather along dimension 0, but all '\n",
      "/root/mambaforge/envs/python310_chatbot/lib/python3.10/site-packages/torch/nn/parallel/_functions.py:68: UserWarning: Was asked to gather along dimension 0, but all input tensors were scalars; will instead unsqueeze and return a vector.\n",
      "  warnings.warn('Was asked to gather along dimension 0, but all '\n"
     ]
    },
    {
     "data": {
      "text/plain": [
       "TrainOutput(global_step=20, training_loss=0.6002439498901367, metrics={'train_runtime': 47.8049, 'train_samples_per_second': 187.01, 'train_steps_per_second': 0.418, 'total_flos': 146782052231400.0, 'train_loss': 0.6002439498901367, 'epoch': 10.0})"
      ]
     },
     "execution_count": 56,
     "metadata": {},
     "output_type": "execute_result"
    }
   ],
   "source": [
    "trainer.train()"
   ]
  },
  {
   "cell_type": "code",
   "execution_count": 370,
   "id": "5917ca80-9385-47bb-8f52-ce22732be264",
   "metadata": {},
   "outputs": [
    {
     "data": {
      "text/html": [],
      "text/plain": [
       "<IPython.core.display.HTML object>"
      ]
     },
     "metadata": {},
     "output_type": "display_data"
    },
    {
     "data": {
      "text/plain": [
       "{'eval_loss': 0.6229077577590942,\n",
       " 'eval_roc_auc': 0.7131896707087871,\n",
       " 'eval_ks': 0.3146288715532556,\n",
       " 'eval_runtime': 1.0902,\n",
       " 'eval_samples_per_second': 529.248,\n",
       " 'eval_steps_per_second': 66.959}"
      ]
     },
     "execution_count": 370,
     "metadata": {},
     "output_type": "execute_result"
    }
   ],
   "source": [
    "trainer.evaluate(tokenized_datasets[\"test\"])"
   ]
  },
  {
   "cell_type": "code",
   "execution_count": 71,
   "id": "cca1e0ac-3cdd-438d-926e-13128b9af27c",
   "metadata": {},
   "outputs": [],
   "source": [
    "a = trainer.predict(raw_tokenized_datasets)"
   ]
  },
  {
   "cell_type": "code",
   "execution_count": 72,
   "id": "e555f680-d704-4e22-8623-1885dbde9efa",
   "metadata": {},
   "outputs": [],
   "source": [
    "train_all_df[\"pred\"] = a.predictions[:, 1]"
   ]
  },
  {
   "cell_type": "code",
   "execution_count": 73,
   "id": "80e4aa94-f3e6-4a1e-bddf-f543b42ab8cb",
   "metadata": {},
   "outputs": [
    {
     "data": {
      "text/plain": [
       "-0.36177596"
      ]
     },
     "execution_count": 73,
     "metadata": {},
     "output_type": "execute_result"
    }
   ],
   "source": [
    "train_all_df[\"pred\"].mean()"
   ]
  },
  {
   "cell_type": "code",
   "execution_count": 68,
   "id": "1e9e6f7e-e026-4740-98a2-0ba608149a65",
   "metadata": {},
   "outputs": [],
   "source": [
    "from find_keywords import LabellerByRules\n",
    "from recall import RecallBySearchEngine\n",
    "from search_engine import QASearchEngine, VectorSim\n",
    "import json"
   ]
  },
  {
   "cell_type": "code",
   "execution_count": 69,
   "id": "b6411c1d-8c1c-4913-b469-0772ba955661",
   "metadata": {},
   "outputs": [],
   "source": [
    "config_router = {\n",
    "    \"dim_df_path\": \"temp_dim.csv\",\n",
    "    \"model_col\": (\"model\", \"model\"),\n",
    "    \"cat_col\": (\"cat_name\", \"cat\"),\n",
    "    \"error_col\": (\"error\", \"error\"),\n",
    "}\n",
    "router = LabellerByRules(config_router)\n",
    "\n",
    "config = {\n",
    "    \"search_engine\": {\n",
    "        \"class\": QASearchEngine,\n",
    "        \"database_path\": \"temp_data.csv\",\n",
    "        \"id_col\": \"qa_id\",\n",
    "        \"index_columns\": [(\"model_list\", \"model\"), (\"cat_name\", \"cat\"), (\"error_list\", \"error\")],\n",
    "        \"score_model\": {\n",
    "            \"type\": \"vector\",\n",
    "            \"class\": VectorSim,\n",
    "            \"embedding_col\": \"question\",\n",
    "            \"embedding_model_path\": \"/workspace/data/private/zhuxiaohai/models/bge_finetune_emb\"\n",
    "        },\n",
    "    },\n",
    "    \"top_n\": 10,\n",
    "}\n",
    "top_n = config.pop(\"top_n\")\n",
    "vector_search = RecallBySearchEngine(config)"
   ]
  },
  {
   "cell_type": "code",
   "execution_count": 74,
   "id": "317a0bfd-7a46-4749-8136-62433cd8ec94",
   "metadata": {},
   "outputs": [],
   "source": [
    "test = train_all_df.copy()"
   ]
  },
  {
   "cell_type": "code",
   "execution_count": 75,
   "id": "414926e9-59eb-41ba-a0cc-a5fc5283fcbe",
   "metadata": {
    "scrolled": true
   },
   "outputs": [
    {
     "name": "stdout",
     "output_type": "stream",
     "text": [
      "0\n",
      "10\n",
      "20\n",
      "30\n",
      "40\n",
      "50\n",
      "60\n",
      "70\n",
      "80\n",
      "90\n",
      "100\n",
      "110\n",
      "120\n",
      "130\n",
      "140\n",
      "150\n",
      "160\n",
      "170\n",
      "180\n",
      "190\n",
      "200\n",
      "210\n",
      "220\n",
      "230\n",
      "240\n",
      "250\n",
      "260\n",
      "270\n",
      "280\n",
      "290\n",
      "300\n",
      "310\n",
      "320\n",
      "330\n",
      "340\n",
      "350\n",
      "360\n",
      "370\n",
      "380\n",
      "390\n",
      "400\n",
      "410\n",
      "420\n",
      "430\n",
      "440\n",
      "450\n",
      "460\n",
      "470\n",
      "480\n",
      "490\n",
      "500\n",
      "510\n",
      "520\n",
      "530\n",
      "540\n",
      "550\n",
      "560\n",
      "570\n",
      "580\n",
      "590\n",
      "600\n",
      "610\n",
      "620\n",
      "630\n",
      "640\n",
      "650\n",
      "660\n",
      "670\n",
      "680\n",
      "690\n",
      "700\n",
      "710\n",
      "720\n",
      "730\n",
      "740\n",
      "750\n",
      "760\n",
      "770\n",
      "780\n",
      "790\n",
      "800\n",
      "810\n",
      "820\n",
      "830\n",
      "840\n",
      "850\n",
      "860\n",
      "870\n",
      "880\n",
      "890\n",
      "900\n",
      "910\n",
      "920\n",
      "930\n",
      "940\n",
      "950\n",
      "960\n",
      "970\n",
      "980\n",
      "990\n",
      "1000\n",
      "1010\n",
      "1020\n",
      "1030\n",
      "1040\n",
      "1050\n",
      "1060\n",
      "1070\n",
      "1080\n",
      "1090\n",
      "1100\n",
      "1110\n",
      "1120\n",
      "1130\n",
      "1140\n",
      "1150\n",
      "1160\n",
      "1170\n",
      "1180\n",
      "1190\n",
      "1200\n",
      "1210\n",
      "1220\n",
      "1230\n",
      "1240\n",
      "1250\n",
      "1260\n",
      "1270\n",
      "1280\n",
      "1290\n",
      "1300\n",
      "1310\n",
      "1320\n",
      "1330\n",
      "1340\n",
      "1350\n",
      "1360\n",
      "1370\n",
      "1380\n",
      "1390\n",
      "1400\n",
      "1410\n",
      "1420\n",
      "1430\n",
      "1440\n",
      "1450\n",
      "1460\n",
      "1470\n",
      "1480\n",
      "1490\n",
      "1500\n",
      "1510\n",
      "1520\n",
      "1530\n",
      "1540\n",
      "1550\n",
      "1560\n",
      "1570\n",
      "1580\n",
      "1590\n",
      "1600\n",
      "1610\n",
      "1620\n",
      "1630\n",
      "1640\n",
      "1650\n",
      "1660\n",
      "1670\n",
      "1680\n",
      "1690\n",
      "1700\n",
      "1710\n",
      "1720\n",
      "1730\n"
     ]
    }
   ],
   "source": [
    "all = []\n",
    "for i in range(test.shape[0]):\n",
    "    if i%10==0:\n",
    "        print(i)\n",
    "    query = test[\"question\"].iloc[i]\n",
    "    query_body = router.extract_keywords(query)\n",
    "    query_cleaned = query_body[\"query_cleaned\"]\n",
    "    search_body = {\n",
    "        \"query\": query_cleaned,\n",
    "        \"top_n\": top_n,\n",
    "        \"labels\": query_body[\"labels\"]\n",
    "    }\n",
    "    results = vector_search.query_recalls(search_body)\n",
    "    all.append(results)"
   ]
  },
  {
   "cell_type": "code",
   "execution_count": 78,
   "id": "d84ad6ad-e81c-47a2-a9d4-21b8d3479061",
   "metadata": {},
   "outputs": [
    {
     "data": {
      "text/plain": [
       "1733"
      ]
     },
     "execution_count": 78,
     "metadata": {},
     "output_type": "execute_result"
    }
   ],
   "source": [
    "len(all)"
   ]
  },
  {
   "cell_type": "code",
   "execution_count": 79,
   "id": "96849dbd-a6c2-4b17-b0fb-20976634a6d7",
   "metadata": {},
   "outputs": [],
   "source": [
    "all = [json.dumps(all[i]) for i in range(len(all))]"
   ]
  },
  {
   "cell_type": "code",
   "execution_count": 81,
   "id": "92509450-ab2b-4fc5-a8c0-2068efc4942b",
   "metadata": {},
   "outputs": [],
   "source": [
    "train_all_df[\"recall\"] = all"
   ]
  },
  {
   "cell_type": "code",
   "execution_count": null,
   "id": "1afbc8ba-5b58-429d-a772-325c29d736e2",
   "metadata": {},
   "outputs": [],
   "source": [
    "train_all_df[[\"编号\", \"label\", \"pred\", \"set\", \"if_t\", \"label2\", \"label2_2\", \"if_t2\",\n",
    "              \"recall\"]].to_csv(\"validate3.csv\", index=None)"
   ]
  },
  {
   "cell_type": "code",
   "execution_count": 84,
   "id": "0965a6bd-3c2b-488e-b2ff-c341ab6948e3",
   "metadata": {},
   "outputs": [],
   "source": [
    "# 将DataFrame转换为Dataset\n",
    "new_field_dataset = Dataset.from_pandas(train_all_df[[\"pred\"]])\n",
    "\n",
    "# 将新字段添加到现有dataset中\n",
    "raw_tokenized_datasets = raw_tokenized_datasets.add_column('new_field_name', new_field_dataset['pred'])"
   ]
  },
  {
   "cell_type": "code",
   "execution_count": 85,
   "id": "f78f382b-9b95-4fdb-9975-ecbe97bf9a9d",
   "metadata": {},
   "outputs": [],
   "source": [
    "# 将DataFrame转换为Dataset\n",
    "new_field_dataset = Dataset.from_pandas(train_all_df[[\"label2\"]])\n",
    "\n",
    "# 将新字段添加到现有dataset中\n",
    "raw_tokenized_datasets = raw_tokenized_datasets.add_column('label2', new_field_dataset['label2'])"
   ]
  },
  {
   "cell_type": "code",
   "execution_count": 86,
   "id": "84ec5ad6-c278-4249-8656-cc654639d200",
   "metadata": {},
   "outputs": [],
   "source": [
    "# 将DataFrame转换为Dataset\n",
    "new_field_dataset = Dataset.from_pandas(train_all_df[[\"label2_2\"]])\n",
    "\n",
    "# 将新字段添加到现有dataset中\n",
    "raw_tokenized_datasets = raw_tokenized_datasets.add_column('label2_2', new_field_dataset['label2_2'])"
   ]
  },
  {
   "cell_type": "code",
   "execution_count": 87,
   "id": "27c4062a-23b1-422c-b699-da91537c1718",
   "metadata": {},
   "outputs": [
    {
     "data": {
      "application/vnd.jupyter.widget-view+json": {
       "model_id": "a5e429150c654efb8e090090f071f870",
       "version_major": 2,
       "version_minor": 0
      },
      "text/plain": [
       "Filter:   0%|          | 0/1733 [00:00<?, ? examples/s]"
      ]
     },
     "metadata": {},
     "output_type": "display_data"
    },
    {
     "data": {
      "application/vnd.jupyter.widget-view+json": {
       "model_id": "a27ae22122324c308e66d34324b219ce",
       "version_major": 2,
       "version_minor": 0
      },
      "text/plain": [
       "Filter:   0%|          | 0/1733 [00:00<?, ? examples/s]"
      ]
     },
     "metadata": {},
     "output_type": "display_data"
    }
   ],
   "source": [
    "train_dataset = raw_tokenized_datasets.filter(lambda example: (example['set'] == '1train')&(example['new_field_name']<=0.115))\n",
    "test_dataset = raw_tokenized_datasets.filter(lambda example: (example['set'] == '2test')&(example['new_field_name']<=0.115))"
   ]
  },
  {
   "cell_type": "code",
   "execution_count": 88,
   "id": "450220c8-f93a-4b0d-9e1a-a7ae8f7398af",
   "metadata": {},
   "outputs": [
    {
     "data": {
      "text/plain": [
       "Dataset({\n",
       "    features: ['sentence', 'label', 'set', 'index', 'if_t', 'input_ids', 'token_type_ids', 'attention_mask', 'new_field_name', 'label2', 'label2_2'],\n",
       "    num_rows: 780\n",
       "})"
      ]
     },
     "execution_count": 88,
     "metadata": {},
     "output_type": "execute_result"
    }
   ],
   "source": [
    "train_dataset"
   ]
  },
  {
   "cell_type": "code",
   "execution_count": 89,
   "id": "02054423-22ab-42f9-8041-f30c9562060b",
   "metadata": {},
   "outputs": [
    {
     "data": {
      "text/plain": [
       "Dataset({\n",
       "    features: ['sentence', 'label', 'set', 'index', 'if_t', 'input_ids', 'token_type_ids', 'attention_mask', 'new_field_name', 'label2', 'label2_2'],\n",
       "    num_rows: 420\n",
       "})"
      ]
     },
     "execution_count": 89,
     "metadata": {},
     "output_type": "execute_result"
    }
   ],
   "source": [
    "test_dataset"
   ]
  },
  {
   "cell_type": "code",
   "execution_count": 90,
   "id": "edf17079-52c2-403c-8501-ba20e45c975d",
   "metadata": {},
   "outputs": [],
   "source": [
    "# 去掉一个字段\n",
    "train_dataset = train_dataset.remove_columns('label')\n",
    "# 重命名一个字段\n",
    "train_dataset = train_dataset.rename_column('label2_2', 'label')\n",
    "# 去掉一个字段\n",
    "test_dataset = test_dataset.remove_columns('label')\n",
    "# 重命名一个字段\n",
    "test_dataset = test_dataset.rename_column('label2_2', 'label')"
   ]
  },
  {
   "cell_type": "code",
   "execution_count": 91,
   "id": "bdabbb78-775b-4ab2-bfe9-095cdc9fedb2",
   "metadata": {},
   "outputs": [
    {
     "data": {
      "text/plain": [
       "Dataset({\n",
       "    features: ['sentence', 'set', 'index', 'if_t', 'input_ids', 'token_type_ids', 'attention_mask', 'new_field_name', 'label2', 'label'],\n",
       "    num_rows: 780\n",
       "})"
      ]
     },
     "execution_count": 91,
     "metadata": {},
     "output_type": "execute_result"
    }
   ],
   "source": [
    "train_dataset"
   ]
  },
  {
   "cell_type": "code",
   "execution_count": 92,
   "id": "ba428e0e-adea-4b9f-949e-c0c4fa057d24",
   "metadata": {},
   "outputs": [
    {
     "data": {
      "text/plain": [
       "Dataset({\n",
       "    features: ['sentence', 'set', 'index', 'if_t', 'input_ids', 'token_type_ids', 'attention_mask', 'new_field_name', 'label2', 'label'],\n",
       "    num_rows: 420\n",
       "})"
      ]
     },
     "execution_count": 92,
     "metadata": {},
     "output_type": "execute_result"
    }
   ],
   "source": [
    "test_dataset"
   ]
  },
  {
   "cell_type": "code",
   "execution_count": 93,
   "id": "26ac6343-67ca-4fe6-bcb8-2d477c045fe8",
   "metadata": {},
   "outputs": [
    {
     "name": "stderr",
     "output_type": "stream",
     "text": [
      "Some weights of BertForSequenceClassification were not initialized from the model checkpoint at /data/dataset/huggingface/hub/bert-base-chinese/ and are newly initialized: ['classifier.bias', 'classifier.weight']\n",
      "You should probably TRAIN this model on a down-stream task to be able to use it for predictions and inference.\n"
     ]
    }
   ],
   "source": [
    "checkpoint = \"/data/dataset/huggingface/hub/bert-base-chinese/\"\n",
    "\n",
    "tokenizer = AutoTokenizer.from_pretrained(checkpoint)\n",
    "from transformers import AutoModelForSequenceClassification\n",
    "# checkpoint = \"/workspace/data/private/zhuxiaohai/models/bert-router2/checkpoint-39\"\n",
    "model = AutoModelForSequenceClassification.from_pretrained(checkpoint, num_labels=2)"
   ]
  },
  {
   "cell_type": "code",
   "execution_count": 94,
   "id": "d8a5846e-9e20-4c94-93f8-fae2146762c4",
   "metadata": {},
   "outputs": [],
   "source": [
    "data_collator = DataCollatorWithPadding(tokenizer=tokenizer)"
   ]
  },
  {
   "cell_type": "code",
   "execution_count": 95,
   "id": "66c6b6fd-0eb2-48c4-86de-7d92c8bf51ea",
   "metadata": {},
   "outputs": [],
   "source": [
    "new_datasets = DatasetDict({\n",
    "    'train': train_dataset,  \n",
    "    'test': test_dataset    \n",
    "})"
   ]
  },
  {
   "cell_type": "code",
   "execution_count": 96,
   "id": "d68c0f45-55ad-4989-acb5-65e92dedf013",
   "metadata": {},
   "outputs": [],
   "source": [
    "training_args = TrainingArguments(\n",
    "    \"/workspace/data/private/zhuxiaohai/models/bert-router3\",\n",
    "    evaluation_strategy=\"epoch\",\n",
    "    save_strategy=\"epoch\",\n",
    "    learning_rate=5e-5,\n",
    "    num_train_epochs=10,\n",
    "    weight_decay=0.01,\n",
    "    # lr_scheduler_type=\"cosine\",\n",
    "    per_device_train_batch_size=64,\n",
    "    push_to_hub=False,\n",
    ")"
   ]
  },
  {
   "cell_type": "code",
   "execution_count": 97,
   "id": "e6150f10-d9d5-4c37-97b7-f2ceb73f9251",
   "metadata": {},
   "outputs": [],
   "source": [
    "from transformers import Trainer\n",
    "trainer = Trainer(\n",
    "    model,\n",
    "    training_args,\n",
    "    train_dataset=new_datasets[\"train\"],\n",
    "    eval_dataset=new_datasets[\"test\"],\n",
    "    data_collator=data_collator,\n",
    "    tokenizer=tokenizer,\n",
    "    compute_metrics=compute_metrics,\n",
    ")"
   ]
  },
  {
   "cell_type": "code",
   "execution_count": 98,
   "id": "3df7d858-4f5d-4840-9356-95cba13d38a8",
   "metadata": {
    "scrolled": true
   },
   "outputs": [
    {
     "data": {
      "text/html": [
       "\n",
       "    <div>\n",
       "      \n",
       "      <progress value='130' max='130' style='width:300px; height:20px; vertical-align: middle;'></progress>\n",
       "      [130/130 00:54, Epoch 10/10]\n",
       "    </div>\n",
       "    <table border=\"1\" class=\"dataframe\">\n",
       "  <thead>\n",
       " <tr style=\"text-align: left;\">\n",
       "      <th>Epoch</th>\n",
       "      <th>Training Loss</th>\n",
       "      <th>Validation Loss</th>\n",
       "      <th>Roc Auc</th>\n",
       "      <th>Ks</th>\n",
       "    </tr>\n",
       "  </thead>\n",
       "  <tbody>\n",
       "    <tr>\n",
       "      <td>1</td>\n",
       "      <td>No log</td>\n",
       "      <td>0.639568</td>\n",
       "      <td>0.522549</td>\n",
       "      <td>0.095186</td>\n",
       "    </tr>\n",
       "    <tr>\n",
       "      <td>2</td>\n",
       "      <td>No log</td>\n",
       "      <td>0.712873</td>\n",
       "      <td>0.553464</td>\n",
       "      <td>0.102373</td>\n",
       "    </tr>\n",
       "    <tr>\n",
       "      <td>3</td>\n",
       "      <td>No log</td>\n",
       "      <td>0.750670</td>\n",
       "      <td>0.580176</td>\n",
       "      <td>0.162441</td>\n",
       "    </tr>\n",
       "    <tr>\n",
       "      <td>4</td>\n",
       "      <td>No log</td>\n",
       "      <td>0.780728</td>\n",
       "      <td>0.586305</td>\n",
       "      <td>0.149695</td>\n",
       "    </tr>\n",
       "    <tr>\n",
       "      <td>5</td>\n",
       "      <td>No log</td>\n",
       "      <td>0.914850</td>\n",
       "      <td>0.586658</td>\n",
       "      <td>0.163254</td>\n",
       "    </tr>\n",
       "    <tr>\n",
       "      <td>6</td>\n",
       "      <td>No log</td>\n",
       "      <td>0.914972</td>\n",
       "      <td>0.567051</td>\n",
       "      <td>0.103864</td>\n",
       "    </tr>\n",
       "    <tr>\n",
       "      <td>7</td>\n",
       "      <td>No log</td>\n",
       "      <td>0.975367</td>\n",
       "      <td>0.565288</td>\n",
       "      <td>0.135322</td>\n",
       "    </tr>\n",
       "    <tr>\n",
       "      <td>8</td>\n",
       "      <td>No log</td>\n",
       "      <td>1.014985</td>\n",
       "      <td>0.570658</td>\n",
       "      <td>0.119864</td>\n",
       "    </tr>\n",
       "    <tr>\n",
       "      <td>9</td>\n",
       "      <td>No log</td>\n",
       "      <td>1.085411</td>\n",
       "      <td>0.578793</td>\n",
       "      <td>0.137356</td>\n",
       "    </tr>\n",
       "    <tr>\n",
       "      <td>10</td>\n",
       "      <td>No log</td>\n",
       "      <td>1.085337</td>\n",
       "      <td>0.585817</td>\n",
       "      <td>0.153220</td>\n",
       "    </tr>\n",
       "  </tbody>\n",
       "</table><p>"
      ],
      "text/plain": [
       "<IPython.core.display.HTML object>"
      ]
     },
     "metadata": {},
     "output_type": "display_data"
    },
    {
     "name": "stderr",
     "output_type": "stream",
     "text": [
      "Checkpoint destination directory /workspace/data/private/zhuxiaohai/models/bert-router3/checkpoint-13 already exists and is non-empty.Saving will proceed but saved results may be invalid.\n",
      "Checkpoint destination directory /workspace/data/private/zhuxiaohai/models/bert-router3/checkpoint-26 already exists and is non-empty.Saving will proceed but saved results may be invalid.\n",
      "Checkpoint destination directory /workspace/data/private/zhuxiaohai/models/bert-router3/checkpoint-39 already exists and is non-empty.Saving will proceed but saved results may be invalid.\n",
      "Checkpoint destination directory /workspace/data/private/zhuxiaohai/models/bert-router3/checkpoint-52 already exists and is non-empty.Saving will proceed but saved results may be invalid.\n",
      "Checkpoint destination directory /workspace/data/private/zhuxiaohai/models/bert-router3/checkpoint-65 already exists and is non-empty.Saving will proceed but saved results may be invalid.\n",
      "Checkpoint destination directory /workspace/data/private/zhuxiaohai/models/bert-router3/checkpoint-78 already exists and is non-empty.Saving will proceed but saved results may be invalid.\n",
      "Checkpoint destination directory /workspace/data/private/zhuxiaohai/models/bert-router3/checkpoint-91 already exists and is non-empty.Saving will proceed but saved results may be invalid.\n",
      "Checkpoint destination directory /workspace/data/private/zhuxiaohai/models/bert-router3/checkpoint-104 already exists and is non-empty.Saving will proceed but saved results may be invalid.\n",
      "Checkpoint destination directory /workspace/data/private/zhuxiaohai/models/bert-router3/checkpoint-117 already exists and is non-empty.Saving will proceed but saved results may be invalid.\n",
      "Checkpoint destination directory /workspace/data/private/zhuxiaohai/models/bert-router3/checkpoint-130 already exists and is non-empty.Saving will proceed but saved results may be invalid.\n"
     ]
    },
    {
     "data": {
      "text/plain": [
       "TrainOutput(global_step=130, training_loss=0.26006642855130707, metrics={'train_runtime': 54.8728, 'train_samples_per_second': 142.147, 'train_steps_per_second': 2.369, 'total_flos': 87299425946400.0, 'train_loss': 0.26006642855130707, 'epoch': 10.0})"
      ]
     },
     "execution_count": 98,
     "metadata": {},
     "output_type": "execute_result"
    }
   ],
   "source": [
    "trainer.train()"
   ]
  },
  {
   "cell_type": "code",
   "execution_count": 99,
   "id": "c4eb55b3-3f67-4824-9cc6-cd45a6f2d373",
   "metadata": {},
   "outputs": [
    {
     "data": {
      "text/html": [
       "\n",
       "    <div>\n",
       "      \n",
       "      <progress value='53' max='53' style='width:300px; height:20px; vertical-align: middle;'></progress>\n",
       "      [53/53 00:00]\n",
       "    </div>\n",
       "    "
      ],
      "text/plain": [
       "<IPython.core.display.HTML object>"
      ]
     },
     "metadata": {},
     "output_type": "display_data"
    },
    {
     "data": {
      "text/plain": [
       "{'eval_loss': 1.0853369235992432,\n",
       " 'eval_roc_auc': 0.5858169491525423,\n",
       " 'eval_ks': 0.15322033898305085,\n",
       " 'eval_runtime': 0.7918,\n",
       " 'eval_samples_per_second': 530.407,\n",
       " 'eval_steps_per_second': 66.932,\n",
       " 'epoch': 10.0}"
      ]
     },
     "execution_count": 99,
     "metadata": {},
     "output_type": "execute_result"
    }
   ],
   "source": [
    "trainer.evaluate(new_datasets[\"test\"])"
   ]
  }
 ],
 "metadata": {
  "kernelspec": {
   "display_name": "Python 3 (ipykernel)",
   "language": "python",
   "name": "python3"
  },
  "language_info": {
   "codemirror_mode": {
    "name": "ipython",
    "version": 3
   },
   "file_extension": ".py",
   "mimetype": "text/x-python",
   "name": "python",
   "nbconvert_exporter": "python",
   "pygments_lexer": "ipython3",
   "version": "3.10.13"
  }
 },
 "nbformat": 4,
 "nbformat_minor": 5
}
